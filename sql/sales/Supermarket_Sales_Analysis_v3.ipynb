{
  "cells": [
    {
      "cell_type": "markdown",
      "metadata": {
        "application/vnd.databricks.v1+cell": {
          "cellMetadata": {},
          "inputWidgets": {},
          "nuid": "1a2b3c4d-5e6f-7g8h-9i0j-1k2l3m4n5o6p",
          "showTitle": false,
          "title": ""
        }
      },
      "source": [
        "# Sales Data Analysis - Key KPIs Dashboard\n",
        "\n",
        "This notebook analyzes sales data to identify key performance indicators (KPIs) and business insights.\n",
        "\n",
        "## Dataset Overview\n",
        "- **Source**: Sales transaction data\n",
        "- **Time Period**: January - March 2019\n",
        "- **Locations**: Yangon, Naypyitaw, Mandalay (Branches A, B, C)\n",
        "- **Product Categories**: Health & Beauty, Electronics, Home & Lifestyle, Food & Beverages, Fashion\n",
        "\n",
        "## Key Metrics We'll Analyze\n",
        "1. Total Revenue and Sales Volume\n",
        "2. Branch and City Performance\n",
        "3. Product Line Analysis\n",
        "4. Customer Segmentation\n",
        "5. Payment Method Preferences\n",
        "6. Temporal Sales Patterns\n",
        "7. Customer Satisfaction Metrics"
      ]
    },
    {
      "cell_type": "markdown",
      "metadata": {
        "application/vnd.databricks.v1+cell": {
          "cellMetadata": {},
          "inputWidgets": {},
          "nuid": "2b3c4d5e-6f7g-8h9i-0j1k-2l3m4n5o6p7q",
          "showTitle": false,
          "title": ""
        }
      },
      "source": [
        "## Step 1: Data Ingestion and Setup\n",
        "\n",
        "First, let's load our CSV data into a Delta table for analysis."
      ]
    },
    {
      "cell_type": "code",
      "execution_count": null,
      "metadata": {
        "application/vnd.databricks.v1+cell": {
          "cellMetadata": {
            "byteLimit": 2048000,
            "rowLimit": 10000
          },
          "inputWidgets": {},
          "nuid": "3c4d5e6f-7g8h-9i0j-1k2l-3m4n5o6p7q8r",
          "showTitle": false,
          "title": ""
        }
      },
      "outputs": [],
      "source": [
        "-- Create the sales table from CSV\n",
        "CREATE OR REPLACE TABLE sales_data (\n",
        "  Invoice_ID STRING,\n",
        "  Branch STRING,\n",
        "  City STRING,\n",
        "  Customer_Type STRING,\n",
        "  Gender STRING,\n",
        "  Product_Line STRING,\n",
        "  Unit_Price DECIMAL(10,2),\n",
        "  Quantity INT,\n",
        "  Tax_5_Percent DECIMAL(10,4),\n",
        "  Total DECIMAL(10,4),\n",
        "  Date DATE,\n",
        "  Time TIME,\n",
        "  Payment STRING,\n",
        "  COGS DECIMAL(10,2),\n",
        "  Gross_Margin_Percentage DECIMAL(12,9),\n",
        "  Gross_Income DECIMAL(10,4),\n",
        "  Rating DECIMAL(2,1)\n",
        ")\n",
        "USING CSV\n",
        "OPTIONS (\n",
        "  path '/FileStore/shared_uploads/sales-less-record.csv',\n",
        "  header 'true',\n",
        "  inferSchema 'true'\n",
        ")"
      ]
    },
    {
      "cell_type": "code",
      "execution_count": null,
      "metadata": {
        "application/vnd.databricks.v1+cell": {
          "cellMetadata": {
            "byteLimit": 2048000,
            "rowLimit": 10000
          },
          "inputWidgets": {},
          "nuid": "4d5e6f7g-8h9i-0j1k-2l3m-4n5o6p7q8r9s",
          "showTitle": false,
          "title": ""
        }
      },
      "outputs": [],
      "source": [
        "-- Data Quality Check: Overview of our dataset\n",
        "SELECT \n",
        "  COUNT(*) as total_records,\n",
        "  COUNT(DISTINCT Invoice_ID) as unique_invoices,\n",
        "  COUNT(DISTINCT Branch) as branches,\n",
        "  COUNT(DISTINCT City) as cities,\n",
        "  COUNT(DISTINCT Product_Line) as product_lines,\n",
        "  MIN(Date) as earliest_date,\n",
        "  MAX(Date) as latest_date\n",
        "FROM sales_data"
      ]
    },
    {
      "cell_type": "markdown",
      "metadata": {
        "application/vnd.databricks.v1+cell": {
          "cellMetadata": {},
          "inputWidgets": {},
          "nuid": "5e6f7g8h-9i0j-1k2l-3m4n-5o6p7q8r9s0t",
          "showTitle": false,
          "title": ""
        }
      },
      "source": [
        "## KPI 1: Overall Business Performance\n",
        "\n",
        "Let's start with the most critical business metrics."
      ]
    },
    {
      "cell_type": "code",
      "execution_count": null,
      "metadata": {
        "application/vnd.databricks.v1+cell": {
          "cellMetadata": {
            "byteLimit": 2048000,
            "rowLimit": 10000
          },
          "inputWidgets": {},
          "nuid": "6f7g8h9i-0j1k-2l3m-4n5o-6p7q8r9s0t1u",
          "showTitle": false,
          "title": ""
        }
      },
      "outputs": [],
      "source": [
        "-- Overall Business KPIs\n",
        "SELECT \n",
        "  ROUND(SUM(Total), 2) as total_revenue,\n",
        "  ROUND(SUM(Gross_Income), 2) as total_gross_income,\n",
        "  ROUND(SUM(COGS), 2) as total_cogs,\n",
        "  COUNT(*) as total_transactions,\n",
        "  SUM(Quantity) as total_items_sold,\n",
        "  ROUND(AVG(Total), 2) as avg_transaction_value,\n",
        "  ROUND(AVG(Rating), 2) as avg_customer_rating,\n",
        "  ROUND(AVG(Gross_Margin_Percentage), 2) as avg_gross_margin_pct\n",
        "FROM sales_data"
      ]
    },
    {
      "cell_type": "markdown",
      "metadata": {
        "application/vnd.databricks.v1+cell": {
          "cellMetadata": {},
          "inputWidgets": {},
          "nuid": "7g8h9i0j-1k2l-3m4n-5o6p-7q8r9s0t1u2v",
          "showTitle": false,
          "title": ""
        }
      },
      "source": [
        "## KPI 2: Branch and Location Performance\n",
        "\n",
        "Understanding which locations drive the most revenue and profit."
      ]
    },
    {
      "cell_type": "code",
      "execution_count": null,
      "metadata": {
        "application/vnd.databricks.v1+cell": {
          "cellMetadata": {
            "byteLimit": 2048000,
            "rowLimit": 10000
          },
          "inputWidgets": {},
          "nuid": "8h9i0j1k-2l3m-4n5o-6p7q-8r9s0t1u2v3w",
          "showTitle": false,
          "title": ""
        }
      },
      "outputs": [],
      "source": [
        "-- Performance by Branch and City\n",
        "SELECT \n",
        "  Branch,\n",
        "  City,\n",
        "  COUNT(*) as transactions,\n",
        "  ROUND(SUM(Total), 2) as total_revenue,\n",
        "  ROUND(SUM(Gross_Income), 2) as total_profit,\n",
        "  ROUND(AVG(Total), 2) as avg_transaction_value,\n",
        "  ROUND(AVG(Rating), 2) as avg_rating,\n",
        "  SUM(Quantity) as total_items_sold\n",
        "FROM sales_data\n",
        "GROUP BY Branch, City\n",
        "ORDER BY total_revenue DESC"
      ]
    },
    {
      "cell_type": "code",
      "execution_count": null,
      "metadata": {
        "application/vnd.databricks.v1+cell": {
          "cellMetadata": {
            "byteLimit": 2048000,
            "rowLimit": 10000
          },
          "inputWidgets": {},
          "nuid": "9i0j1k2l-3m4n-5o6p-7q8r-9s0t1u2v3w4x",
          "showTitle": false,
          "title": ""
        }
      },
      "outputs": [],
      "source": [
        "-- Revenue contribution by location\n",
        "SELECT \n",
        "  City,\n",
        "  ROUND(SUM(Total), 2) as revenue,\n",
        "  ROUND(SUM(Total) * 100.0 / (SELECT SUM(Total) FROM sales_data), 2) as revenue_percentage\n",
        "FROM sales_data\n",
        "GROUP BY City\n",
        "ORDER BY revenue DESC"
      ]
    },
    {
      "cell_type": "markdown",
      "metadata": {
        "application/vnd.databricks.v1+cell": {
          "cellMetadata": {},
          "inputWidgets": {},
          "nuid": "0j1k2l3m-4n5o-6p7q-8r9s-0t1u2v3w4x5y",
          "showTitle": false,
          "title": ""
        }
      },
      "source": [
        "## KPI 3: Product Line Analysis\n",
        "\n",
        "Identifying top-performing product categories and their profitability."
      ]
    },
    {
      "cell_type": "code",
      "execution_count": null,
      "metadata": {
        "application/vnd.databricks.v1+cell": {
          "cellMetadata": {
            "byteLimit": 2048000,
            "rowLimit": 10000
          },
          "inputWidgets": {},
          "nuid": "1k2l3m4n-5o6p-7q8r-9s0t-1u2v3w4x5y6z",
          "showTitle": false,
          "title": ""
        }
      },
      "outputs": [],
      "source": [
        "-- Product Line Performance\n",
        "SELECT \n",
        "  Product_Line,\n",
        "  COUNT(*) as transactions,\n",
        "  ROUND(SUM(Total), 2) as total_revenue,\n",
        "  ROUND(SUM(Gross_Income), 2) as total_profit,\n",
        "  ROUND(AVG(Total), 2) as avg_transaction_value,\n",
        "  ROUND(AVG(Unit_Price), 2) as avg_unit_price,\n",
        "  ROUND(AVG(Rating), 2) as avg_rating,\n",
        "  SUM(Quantity) as total_quantity_sold,\n",
        "  ROUND(SUM(Total) * 100.0 / (SELECT SUM(Total) FROM sales_data), 2) as revenue_share_pct\n",
        "FROM sales_data\n",
        "GROUP BY Product_Line\n",
        "ORDER BY total_revenue DESC"
      ]
    },
    {
      "cell_type": "code",
      "execution_count": null,
      "metadata": {
        "application/vnd.databricks.v1+cell": {
          "cellMetadata": {
            "byteLimit": 2048000,
            "rowLimit": 10000
          },
          "inputWidgets": {},
          "nuid": "2l3m4n5o-6p7q-8r9s-0t1u-2v3w4x5y6z7a",
          "showTitle": false,
          "title": ""
        }
      },
      "outputs": [],
      "source": [
        "-- Product Line Performance by City\n",
        "SELECT \n",
        "  City,\n",
        "  Product_Line,\n",
        "  COUNT(*) as transactions,\n",
        "  ROUND(SUM(Total), 2) as revenue,\n",
        "  ROUND(AVG(Rating), 2) as avg_rating\n",
        "FROM sales_data\n",
        "GROUP BY City, Product_Line\n",
        "ORDER BY City, revenue DESC"
      ]
    },
    {
      "cell_type": "markdown",
      "metadata": {
        "application/vnd.databricks.v1+cell": {
          "cellMetadata": {},
          "inputWidgets": {},
          "nuid": "3m4n5o6p-7q8r-9s0t-1u2v-3w4x5y6z7a8b",
          "showTitle": false,
          "title": ""
        }
      },
      "source": [
        "## KPI 4: Customer Segmentation Analysis\n",
        "\n",
        "Understanding customer behavior patterns and member vs normal customer performance."
      ]
    },
    {
      "cell_type": "code",
      "execution_count": null,
      "metadata": {
        "application/vnd.databricks.v1+cell": {
          "cellMetadata": {
            "byteLimit": 2048000,
            "rowLimit": 10000
          },
          "inputWidgets": {},
          "nuid": "4n5o6p7q-8r9s-0t1u-2v3w-4x5y6z7a8b9c",
          "showTitle": false,
          "title": ""
        }
      },
      "outputs": [],
      "source": [
        "-- Customer Type Analysis\n",
        "SELECT \n",
        "  Customer_Type,\n",
        "  COUNT(*) as transactions,\n",
        "  ROUND(SUM(Total), 2) as total_revenue,\n",
        "  ROUND(AVG(Total), 2) as avg_transaction_value,\n",
        "  ROUND(AVG(Rating), 2) as avg_rating,\n",
        "  ROUND(SUM(Total) * 100.0 / (SELECT SUM(Total) FROM sales_data), 2) as revenue_share_pct\n",
        "FROM sales_data\n",
        "GROUP BY Customer_Type\n",
        "ORDER BY total_revenue DESC"
      ]
    },
    {
      "cell_type": "code",
      "execution_count": null,
      "metadata": {
        "application/vnd.databricks.v1+cell": {
          "cellMetadata": {
            "byteLimit": 2048000,
            "rowLimit": 10000
          },
          "inputWidgets": {},
          "nuid": "5o6p7q8r-9s0t-1u2v-3w4x-5y6z7a8b9c0d",
          "showTitle": false,
          "title": ""
        }
      },
      "outputs": [],
      "source": [
        "-- Gender-based Analysis\n",
        "SELECT \n",
        "  Gender,\n",
        "  Customer_Type,\n",
        "  COUNT(*) as transactions,\n",
        "  ROUND(SUM(Total), 2) as total_revenue,\n",
        "  ROUND(AVG(Total), 2) as avg_transaction_value,\n",
        "  ROUND(AVG(Rating), 2) as avg_rating\n",
        "FROM sales_data\n",
        "GROUP BY Gender, Customer_Type\n",
        "ORDER BY total_revenue DESC"
      ]
    },
    {
      "cell_type": "code",
      "execution_count": null,
      "metadata": {
        "application/vnd.databricks.v1+cell": {
          "cellMetadata": {
            "byteLimit": 2048000,
            "rowLimit": 10000
          },
          "inputWidgets": {},
          "nuid": "6p7q8r9s-0t1u-2v3w-4x5y-6z7a8b9c0d1e",
          "showTitle": false,
          "title": ""
        }
      },
      "outputs": [],
      "source": [
        "-- Product preference by customer segment\n",
        "SELECT \n",
        "  Customer_Type,\n",
        "  Product_Line,\n",
        "  COUNT(*) as purchases,\n",
        "  ROUND(SUM(Total), 2) as revenue,\n",
        "  ROUND(AVG(Rating), 2) as avg_rating\n",
        "FROM sales_data\n",
        "GROUP BY Customer_Type, Product_Line\n",
        "ORDER BY Customer_Type, revenue DESC"
      ]
    },
    {
      "cell_type": "markdown",
      "metadata": {
        "application/vnd.databricks.v1+cell": {
          "cellMetadata": {},
          "inputWidgets": {},
          "nuid": "7q8r9s0t-1u2v-3w4x-5y6z-7a8b9c0d1e2f",
          "showTitle": false,
          "title": ""
        }
      },
      "source": [
        "## KPI 5: Payment Method Preferences\n",
        "\n",
        "Understanding customer payment behavior and its impact on business."
      ]
    },
    {
      "cell_type": "code",
      "execution_count": null,
      "metadata": {
        "application/vnd.databricks.v1+cell": {
          "cellMetadata": {
            "byteLimit": 2048000,
            "rowLimit": 10000
          },
          "inputWidgets": {},
          "nuid": "8r9s0t1u-2v3w-4x5y-6z7a-8b9c0d1e2f3g",
          "showTitle": false,
          "title": ""
        }
      },
      "outputs": [],
      "source": [
        "-- Payment Method Analysis\n",
        "SELECT \n",
        "  Payment,\n",
        "  COUNT(*) as transactions,\n",
        "  ROUND(SUM(Total), 2) as total_revenue,\n",
        "  ROUND(AVG(Total), 2) as avg_transaction_value,\n",
        "  ROUND(AVG(Rating), 2) as avg_rating,\n",
        "  ROUND(COUNT(*) * 100.0 / (SELECT COUNT(*) FROM sales_data), 2) as usage_percentage\n",
        "FROM sales_data\n",
        "GROUP BY Payment\n",
        "ORDER BY transactions DESC"
      ]
    },
    {
      "cell_type": "code",
      "execution_count": null,
      "metadata": {
        "application/vnd.databricks.v1+cell": {
          "cellMetadata": {
            "byteLimit": 2048000,
            "rowLimit": 10000
          },
          "inputWidgets": {},
          "nuid": "9s0t1u2v-3w4x-5y6z-7a8b-9c0d1e2f3g4h",
          "showTitle": false,
          "title": ""
        }
      },
      "outputs": [],
      "source": [
        "-- Payment preference by customer type and location\n",
        "SELECT \n",
        "  City,\n",
        "  Customer_Type,\n",
        "  Payment,\n",
        "  COUNT(*) as transactions,\n",
        "  ROUND(SUM(Total), 2) as revenue\n",
        "FROM sales_data\n",
        "GROUP BY City, Customer_Type, Payment\n",
        "ORDER BY City, Customer_Type, transactions DESC"
      ]
    },
    {
      "cell_type": "markdown",
      "metadata": {
        "application/vnd.databricks.v1+cell": {
          "cellMetadata": {},
          "inputWidgets": {},
          "nuid": "0t1u2v3w-4x5y-6z7a-8b9c-0d1e2f3g4h5i",
          "showTitle": false,
          "title": ""
        }
      },
      "source": [
        "## KPI 6: Time-Based Analysis\n",
        "\n",
        "Understanding sales patterns over time and identifying peak periods."
      ]
    },
    {
      "cell_type": "code",
      "execution_count": null,
      "metadata": {
        "application/vnd.databricks.v1+cell": {
          "cellMetadata": {
            "byteLimit": 2048000,
            "rowLimit": 10000
          },
          "inputWidgets": {},
          "nuid": "1u2v3w4x-5y6z-7a8b-9c0d-1e2f3g4h5i6j",
          "showTitle": false,
          "title": ""
        }
      },
      "outputs": [],
      "source": [
        "-- Monthly Sales Trends\n",
        "SELECT \n",
        "  DATE_FORMAT(Date, 'yyyy-MM') as month,\n",
        "  COUNT(*) as transactions,\n",
        "  ROUND(SUM(Total), 2) as total_revenue,\n",
        "  ROUND(SUM(Gross_Income), 2) as total_profit,\n",
        "  ROUND(AVG(Total), 2) as avg_transaction_value,\n",
        "  ROUND(AVG(Rating), 2) as avg_rating\n",
        "FROM sales_data\n",
        "GROUP BY DATE_FORMAT(Date, 'yyyy-MM')\n",
        "ORDER BY month"
      ]
    },
    {
      "cell_type": "code",
      "execution_count": null,
      "metadata": {
        "application/vnd.databricks.v1+cell": {
          "cellMetadata": {
            "byteLimit": 2048000,
            "rowLimit": 10000
          },
          "inputWidgets": {},
          "nuid": "2v3w4x5y-6z7a-8b9c-0d1e-2f3g4h5i6j7k",
          "showTitle": false,
          "title": ""
        }
      },
      "outputs": [],
      "source": [
        "-- Daily Sales Pattern (Day of Week)\n",
        "SELECT \n",
        "  DAYOFWEEK(Date) as day_of_week,\n",
        "  CASE \n",
        "    WHEN DAYOFWEEK(Date) = 1 THEN 'Sunday'\n",
        "    WHEN DAYOFWEEK(Date) = 2 THEN 'Monday'\n",
        "    WHEN DAYOFWEEK(Date) = 3 THEN 'Tuesday'\n",
        "    WHEN DAYOFWEEK(Date) = 4 THEN 'Wednesday'\n",
        "    WHEN DAYOFWEEK(Date) = 5 THEN 'Thursday'\n",
        "    WHEN DAYOFWEEK(Date) = 6 THEN 'Friday'\n",
        "    WHEN DAYOFWEEK(Date) = 7 THEN 'Saturday'\n",
        "  END as day_name,\n",
        "  COUNT(*) as transactions,\n",
        "  ROUND(SUM(Total), 2) as total_revenue,\n",
        "  ROUND(AVG(Total), 2) as avg_transaction_value\n",
        "FROM sales_data\n",
        "GROUP BY DAYOFWEEK(Date)\n",
        "ORDER BY day_of_week"
      ]
    },
    {
      "cell_type": "code",
      "execution_count": null,
      "metadata": {
        "application/vnd.databricks.v1+cell": {
          "cellMetadata": {
            "byteLimit": 2048000,
            "rowLimit": 10000
          },
          "inputWidgets": {},
          "nuid": "3w4x5y6z-7a8b-9c0d-1e2f-3g4h5i6j7k8l",
          "showTitle": false,
          "title": ""
        }
      },
      "outputs": [],
      "source": [
        "-- Hourly Sales Pattern\n",
        "SELECT \n",
        "  HOUR(Time) as hour_of_day,\n",
        "  COUNT(*) as transactions,\n",
        "  ROUND(SUM(Total), 2) as total_revenue,\n",
        "  ROUND(AVG(Total), 2) as avg_transaction_value\n",
        "FROM sales_data\n",
        "GROUP BY HOUR(Time)\n",
        "ORDER BY hour_of_day"
      ]
    },
    {
      "cell_type": "markdown",
      "metadata": {
        "application/vnd.databricks.v1+cell": {
          "cellMetadata": {},
          "inputWidgets": {},
          "nuid": "4x5y6z7a-8b9c-0d1e-2f3g-4h5i6j7k8l9m",
          "showTitle": false,
          "title": ""
        }
      },
      "source": [
        "## KPI 7: Customer Satisfaction & Quality Metrics\n",
        "\n",
        "Analyzing customer ratings and satisfaction across different dimensions."
      ]
    },
    {
      "cell_type": "code",
      "execution_count": null,
      "metadata": {
        "application/vnd.databricks.v1+cell": {
          "cellMetadata": {
            "byteLimit": 2048000,
            "rowLimit": 10000
          },
          "inputWidgets": {},
          "nuid": "5y6z7a8b-9c0d-1e2f-3g4h-5i6j7k8l9m0n",
          "showTitle": false,
          "title": ""
        }
      },
      "outputs": [],
      "source": [
        "-- Rating Distribution Analysis\n",
        "SELECT \n",
        "  CASE \n",
        "    WHEN Rating >= 9.0 THEN 'Excellent (9.0+)'\n",
        "    WHEN Rating >= 8.0 THEN 'Very Good (8.0-8.9)'\n",
        "    WHEN Rating >= 7.0 THEN 'Good (7.0-7.9)'\n",
        "    WHEN Rating >= 6.0 THEN 'Fair (6.0-6.9)'\n",
        "    ELSE 'Poor (<6.0)'\n",
        "  END as rating_category,\n",
        "  COUNT(*) as transactions,\n",
        "  ROUND(COUNT(*) * 100.0 / (SELECT COUNT(*) FROM sales_data), 2) as percentage,\n",
        "  ROUND(SUM(Total), 2) as total_revenue\n",
        "FROM sales_data\n",
        "GROUP BY \n",
        "  CASE \n",
        "    WHEN Rating >= 9.0 THEN 'Excellent (9.0+)'\n",
        "    WHEN Rating >= 8.0 THEN 'Very Good (8.0-8.9)'\n",
        "    WHEN Rating >= 7.0 THEN 'Good (7.0-7.9)'\n",
        "    WHEN Rating >= 6.0 THEN 'Fair (6.0-6.9)'\n",
        "    ELSE 'Poor (<6.0)'\n",
        "  END\n",
        "ORDER BY \n",
        "  CASE \n",
        "    WHEN Rating >= 9.0 THEN 1\n",
        "    WHEN Rating >= 8.0 THEN 2\n",
        "    WHEN Rating >= 7.0 THEN 3\n",
        "    WHEN Rating >= 6.0 THEN 4\n",
        "    ELSE 5\n",
        "  END"
      ]
    },
    {
      "cell_type": "code",
      "execution_count": null,
      "metadata": {
        "application/vnd.databricks.v1+cell": {
          "cellMetadata": {
            "byteLimit": 2048000,
            "rowLimit": 10000
          },
          "inputWidgets": {},
          "nuid": "6z7a8b9c-0d1e-2f3g-4h5i-6j7k8l9m0n1o",
          "showTitle": false,
          "title": ""
        }
      },
      "outputs": [],
      "source": [
        "-- Rating correlation with revenue\n",
        "SELECT \n",
        "  City,\n",
        "  Product_Line,\n",
        "  ROUND(AVG(Rating), 2) as avg_rating,\n",
        "  COUNT(*) as transactions,\n",
        "  ROUND(SUM(Total), 2) as total_revenue,\n",
        "  ROUND(AVG(Total), 2) as avg_transaction_value\n",
        "FROM sales_data\n",
        "GROUP BY City, Product_Line\n",
        "ORDER BY avg_rating DESC, total_revenue DESC"
      ]
    },
    {
      "cell_type": "markdown",
      "metadata": {
        "application/vnd.databricks.v1+cell": {
          "cellMetadata": {},
          "inputWidgets": {},
          "nuid": "7a8b9c0d-1e2f-3g4h-5i6j-7k8l9m0n1o2p",
          "showTitle": false,
          "title": ""
        }
      },
      "source": [
        "## KPI 8: Profitability Analysis\n",
        "\n",
        "Deep dive into profit margins and cost analysis."
      ]
    },
    {
      "cell_type": "code",
      "execution_count": null,
      "metadata": {
        "application/vnd.databricks.v1+cell": {
          "cellMetadata": {
            "byteLimit": 2048000,
            "rowLimit": 10000
          },
          "inputWidgets": {},
          "nuid": "8b9c0d1e-2f3g-4h5i-6j7k-8l9m0n1o2p3q",
          "showTitle": false,
          "title": ""
        }
      },
      "outputs": [],
      "source": [
        "-- Profitability by Product Line\n",
        "SELECT \n",
        "  Product_Line,\n",
        "  COUNT(*) as transactions,\n",
        "  ROUND(SUM(Total), 2) as total_revenue,\n",
        "  ROUND(SUM(COGS), 2) as total_costs,\n",
        "  ROUND(SUM(Gross_Income), 2) as total_profit,\n",
        "  ROUND(AVG(Gross_Margin_Percentage), 2) as avg_margin_pct,\n",
        "  ROUND((SUM(Gross_Income) / SUM(Total)) * 100, 2) as actual_margin_pct\n",
        "FROM sales_data\n",
        "GROUP BY Product_Line\n",
        "ORDER BY total_profit DESC"
      ]
    },
    {
      "cell_type": "code",
      "execution_count": null,
      "metadata": {
        "application/vnd.databricks.v1+cell": {
          "cellMetadata": {
            "byteLimit": 2048000,
            "rowLimit": 10000
          },
          "inputWidgets": {},
          "nuid": "9c0d1e2f-3g4h-5i6j-7k8l-9m0n1o2p3q4r",
          "showTitle": false,
          "title": ""
        }
      },
      "outputs": [],
      "source": [
        "-- High-value transaction analysis\n",
        "SELECT \n",
        "  'High Value (>500)' as transaction_type,\n",
        "  COUNT(*) as transactions,\n",
        "  ROUND(SUM(Total), 2) as total_revenue,\n",
        "  ROUND(AVG(Total), 2) as avg_transaction_value,\n",
        "  ROUND(AVG(Rating), 2) as avg_rating\n",
        "FROM sales_data\n",
        "WHERE Total > 500\n",
        "\n",
        "UNION ALL\n",
        "\n",
        "SELECT \n",
        "  'Medium Value (100-500)' as transaction_type,\n",
        "  COUNT(*) as transactions,\n",
        "  ROUND(SUM(Total), 2) as total_revenue,\n",
        "  ROUND(AVG(Total), 2) as avg_transaction_value,\n",
        "  ROUND(AVG(Rating), 2) as avg_rating\n",
        "FROM sales_data\n",
        "WHERE Total BETWEEN 100 AND 500\n",
        "\n",
        "UNION ALL\n",
        "\n",
        "SELECT \n",
        "  'Low Value (<100)' as transaction_type,\n",
        "  COUNT(*) as transactions,\n",
        "  ROUND(SUM(Total), 2) as total_revenue,\n",
        "  ROUND(AVG(Total), 2) as avg_transaction_value,\n",
        "  ROUND(AVG(Rating), 2) as avg_rating\n",
        "FROM sales_data\n",
        "WHERE Total < 100\n",
        "\n",
        "ORDER BY avg_transaction_value DESC"
      ]
    },
    {
      "cell_type": "markdown",
      "metadata": {
        "application/vnd.databricks.v1+cell": {
          "cellMetadata": {},
          "inputWidgets": {},
          "nuid": "0d1e2f3g-4h5i-6j7k-8l9m-0n1o2p3q4r5s",
          "showTitle": false,
          "title": ""
        }
      },
      "source": [
        "## KPI 9: Executive Summary & Key Insights\n",
        "\n",
        "Final summary with actionable business insights."
      ]
    },
    {
      "cell_type": "code",
      "execution_count": null,
      "metadata": {
        "application/vnd.databricks.v1+cell": {
          "cellMetadata": {
            "byteLimit": 2048000,
            "rowLimit": 10000
          },
          "inputWidgets": {},
          "nuid": "1e2f3g4h-5i6j-7k8l-9m0n-1o2p3q4r5s6t",
          "showTitle": false,
          "title": ""
        }
      },
      "outputs": [],
      "source": [
        "-- Top performing combinations for strategic focus\n",
        "SELECT \n",
        "  City,\n",
        "  Product_Line,\n",
        "  Customer_Type,\n",
        "  COUNT(*) as transactions,\n",
        "  ROUND(SUM(Total), 2) as revenue,\n",
        "  ROUND(AVG(Total), 2) as avg_order_value,\n",
        "  ROUND(AVG(Rating), 2) as avg_rating,\n",
        "  ROUND(SUM(Gross_Income), 2) as profit\n",
        "FROM sales_data\n",
        "GROUP BY City, Product_Line, Customer_Type\n",
        "HAVING COUNT(*) >= 5  -- Filter for significant combinations\n",
        "ORDER BY revenue DESC\n",
        "LIMIT 15"
      ]
    },
    {
      "cell_type": "code",
      "execution_count": null,
      "metadata": {
        "application/vnd.databricks.v1+cell": {
          "cellMetadata": {
            "byteLimit": 2048000,
            "rowLimit": 10000
          },
          "inputWidgets": {},
          "nuid": "2f3g4h5i-6j7k-8l9m-0n1o-2p3q4r5s6t7u",
          "showTitle": false,
          "title": ""
        }
      },
      "outputs": [],
      "source": [
        "-- Performance benchmarks and targets\n",
        "WITH stats AS (\n",
        "  SELECT \n",
        "    AVG(Total) as avg_transaction,\n",
        "    PERCENTILE_CONT(0.5) WITHIN GROUP (ORDER BY Total) as median_transaction,\n",
        "    PERCENTILE_CONT(0.75) WITHIN GROUP (ORDER BY Total) as p75_transaction,\n",
        "    PERCENTILE_CONT(0.90) WITHIN GROUP (ORDER BY Total) as p90_transaction,\n",
        "    AVG(Rating) as avg_rating,\n",
        "    MIN(Rating) as min_rating,\n",
        "    MAX(Rating) as max_rating\n",
        "  FROM sales_data\n",
        ")\n",
        "SELECT \n",
        "  'Transaction Value Benchmarks' as metric_type,\n",
        "  ROUND(avg_transaction, 2) as average,\n",
        "  ROUND(median_transaction, 2) as median,\n",
        "  ROUND(p75_transaction, 2) as top_25_percent,\n",
        "  ROUND(p90_transaction, 2) as top_10_percent,\n",
        "  NULL as rating_avg,\n",
        "  NULL as rating_range\n",
        "FROM stats\n",
        "\n",
        "UNION ALL\n",
        "\n",
        "SELECT \n",
        "  'Customer Rating Benchmarks' as metric_type,\n",
        "  NULL as average,\n",
        "  NULL as median,\n",
        "  NULL as top_25_percent,\n",
        "  NULL as top_10_percent,\n",
        "  ROUND(avg_rating, 2) as rating_avg,\n",
        "  CONCAT(ROUND(min_rating, 1), ' - ', ROUND(max_rating, 1)) as rating_range\n",
        "FROM stats"
      ]
    },
    {
      "cell_type": "markdown",
      "metadata": {
        "application/vnd.databricks.v1+cell": {
          "cellMetadata": {},
          "inputWidgets": {},
          "nuid": "3g4h5i6j-7k8l-9m0n-1o2p-3q4r5s6t7u8v",
          "showTitle": false,
          "title": ""
        }
      },
      "source": [
        "## Key Business Insights & Recommendations\n",
        "\n",
        "Based on the analysis above, here are the critical insights:\n",
        "\n",
        "### 🏆 Top Performers\n",
        "- **Best performing city/branch combination**: Check the location performance results\n",
        "- **Most profitable product line**: Review product line analysis\n",
        "- **Highest-value customer segment**: Member vs Normal customer comparison\n",
        "\n",
        "### 📊 Key Metrics Summary\n",
        "1. **Revenue Concentration**: Identify which locations drive most sales\n",
        "2. **Product Mix**: Understand which categories perform best\n",
        "3. **Customer Loyalty**: Member vs Normal customer behavior patterns\n",
        "4. **Payment Preferences**: Customer payment method adoption\n",
        "5. **Time Patterns**: Peak selling hours and days\n",
        "6. **Satisfaction Levels**: Rating distribution and correlation with sales\n",
        "\n",
        "### 🎯 Strategic Recommendations\n",
        "1. **Focus on high-performing locations** for expansion or increased investment\n",
        "2. **Optimize product mix** based on profitability and customer ratings\n",
        "3. **Develop member retention programs** if members show higher value\n",
        "4. **Improve payment infrastructure** for preferred methods\n",
        "5. **Staff optimization** during peak hours identified in time analysis\n",
        "6. **Quality improvement** for low-rated product categories\n",
        "\n",
        "### 📈 Growth Opportunities\n",
        "- Product lines with high ratings but low volume\n",
        "- Underperforming locations with improvement potential\n",
        "- Customer segments with growth opportunity\n",
        "- Time slots with capacity for increased sales\n",
        "\n",
        "---\n",
        "*This analysis provides a comprehensive view of business performance across multiple dimensions. Use these insights to drive data-informed decision making and strategic planning.*"
      ]
    }
  ],
  "metadata": {
    "application/vnd.databricks.v1+notebook": {
      "dashboards": [],
      "language": "sql",
      "notebookMetadata": {
        "pythonIndentUnit": 2
      },
      "notebookName": "Sales_Analysis_Notebook",
      "widgets": {}
    },
    "kernelspec": {
      "display_name": "Python 3",
      "language": "python",
      "name": "python3"
    },
    "language_info": {
      "codemirror_mode": {
        "name": "ipython",
        "version": 3
      },
      "file_extension": ".py",
      "mimetype": "text/x-python",
      "name": "python",
      "nbconvert_exporter": "python",
      "pygments_lexer": "ipython3",
      "version": "3.8.10"
    }
  },
  "nbformat": 4,
  "nbformat_minor": 4
}