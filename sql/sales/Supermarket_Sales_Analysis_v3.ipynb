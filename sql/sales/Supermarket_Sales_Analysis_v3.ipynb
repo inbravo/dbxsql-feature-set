{
 "cells": [
  {
   "cell_type": "markdown",
   "metadata": {
    "application/vnd.databricks.v1+cell": {
     "cellMetadata": {},
     "inputWidgets": {},
     "nuid": "1a2b3c4d-5e6f-7g8h-9i0j-1k2l3m4n5o6p",
     "showTitle": false,
     "tableResultSettingsMap": {},
     "title": ""
    }
   },
   "source": [
    "# Sales Data Analysis - Key KPIs Dashboard\n",
    "\n",
    "This notebook analyzes sales data to identify key performance indicators (KPIs) and business insights.\n",
    "\n",
    "## Dataset Overview\n",
    "- **Source**: Sales transaction data\n",
    "- **Time Period**: January - March 2019\n",
    "- **Locations**: Yangon, Naypyitaw, Mandalay (Branches A, B, C)\n",
    "- **Product Categories**: Health & Beauty, Electronics, Home & Lifestyle, Food & Beverages, Fashion\n",
    "\n",
    "## Key Metrics We'll Analyze\n",
    "1. Total Revenue and Sales Volume\n",
    "2. Branch and City Performance\n",
    "3. Product Line Analysis\n",
    "4. Customer Segmentation\n",
    "5. Payment Method Preferences\n",
    "6. Temporal Sales Patterns\n",
    "7. Customer Satisfaction Metrics"
   ]
  },
  {
   "cell_type": "code",
   "execution_count": 0,
   "metadata": {
    "application/vnd.databricks.v1+cell": {
     "cellMetadata": {
      "byteLimit": 2048000,
      "implicitDf": true,
      "rowLimit": 10000
     },
     "inputWidgets": {},
     "nuid": "4d5e6f7g-8h9i-0j1k-2l3m-4n5o6p7q8r9s",
     "showTitle": false,
     "tableResultSettingsMap": {},
     "title": ""
    }
   },
   "outputs": [
    {
     "output_type": "display_data",
     "data": {
      "text/html": [
       "<style scoped>\n",
       "  .table-result-container {\n",
       "    max-height: 300px;\n",
       "    overflow: auto;\n",
       "  }\n",
       "  table, th, td {\n",
       "    border: 1px solid black;\n",
       "    border-collapse: collapse;\n",
       "  }\n",
       "  th, td {\n",
       "    padding: 5px;\n",
       "  }\n",
       "  th {\n",
       "    text-align: left;\n",
       "  }\n",
       "</style><div class='table-result-container'><table class='table-result'><thead style='background-color: white'><tr><th>total_records</th><th>unique_invoices</th><th>branches</th><th>cities</th><th>product_lines</th><th>earliest_date</th><th>latest_date</th></tr></thead><tbody><tr><td>1000</td><td>1000</td><td>3</td><td>3</td><td>6</td><td>2019-01-01</td><td>2019-03-30</td></tr></tbody></table></div>"
      ]
     },
     "metadata": {
      "application/vnd.databricks.v1+output": {
       "addedWidgets": {},
       "aggData": [],
       "aggError": "",
       "aggOverflow": false,
       "aggSchema": [],
       "aggSeriesLimitReached": false,
       "aggType": "",
       "arguments": {},
       "columnCustomDisplayInfos": {},
       "data": [
        [
         1000,
         1000,
         3,
         3,
         6,
         "2019-01-01",
         "2019-03-30"
        ]
       ],
       "datasetInfos": [
        {
         "name": "_sqldf",
         "schema": {
          "fields": [
           {
            "metadata": {},
            "name": "total_records",
            "nullable": false,
            "type": "long"
           },
           {
            "metadata": {},
            "name": "unique_invoices",
            "nullable": false,
            "type": "long"
           },
           {
            "metadata": {},
            "name": "branches",
            "nullable": false,
            "type": "long"
           },
           {
            "metadata": {},
            "name": "cities",
            "nullable": false,
            "type": "long"
           },
           {
            "metadata": {},
            "name": "product_lines",
            "nullable": false,
            "type": "long"
           },
           {
            "metadata": {},
            "name": "earliest_date",
            "nullable": true,
            "type": "date"
           },
           {
            "metadata": {},
            "name": "latest_date",
            "nullable": true,
            "type": "date"
           }
          ],
          "type": "struct"
         },
         "tableIdentifier": null,
         "typeStr": "pyspark.sql.connect.dataframe.DataFrame"
        }
       ],
       "dbfsResultPath": null,
       "isJsonSchema": true,
       "metadata": {
        "createTempViewForImplicitDf": true,
        "dataframeName": "_sqldf",
        "executionCount": 4
       },
       "overflow": false,
       "plotOptions": {
        "customPlotOptions": {},
        "displayType": "table",
        "pivotAggregation": null,
        "pivotColumns": null,
        "xColumns": null,
        "yColumns": null
       },
       "removedWidgets": [],
       "schema": [
        {
         "metadata": "{}",
         "name": "total_records",
         "type": "\"long\""
        },
        {
         "metadata": "{}",
         "name": "unique_invoices",
         "type": "\"long\""
        },
        {
         "metadata": "{}",
         "name": "branches",
         "type": "\"long\""
        },
        {
         "metadata": "{}",
         "name": "cities",
         "type": "\"long\""
        },
        {
         "metadata": "{}",
         "name": "product_lines",
         "type": "\"long\""
        },
        {
         "metadata": "{}",
         "name": "earliest_date",
         "type": "\"date\""
        },
        {
         "metadata": "{}",
         "name": "latest_date",
         "type": "\"date\""
        }
       ],
       "type": "table"
      }
     },
     "output_type": "display_data"
    }
   ],
   "source": [
    "%sql\n",
    "-- Data Quality Check: Overview of our dataset\n",
    "SELECT \n",
    "  COUNT(*) as total_records,\n",
    "  COUNT(DISTINCT Invoice_ID) as unique_invoices,\n",
    "  COUNT(DISTINCT Branch) as branches,\n",
    "  COUNT(DISTINCT City) as cities,\n",
    "  COUNT(DISTINCT Product_Line) as product_lines,\n",
    "  MIN(Date) as earliest_date,\n",
    "  MAX(Date) as latest_date\n",
    "FROM `supermarket_sales`.`sales_silver`.`cleansed_sales_data`;"
   ]
  },
  {
   "cell_type": "markdown",
   "metadata": {
    "application/vnd.databricks.v1+cell": {
     "cellMetadata": {},
     "inputWidgets": {},
     "nuid": "5e6f7g8h-9i0j-1k2l-3m4n-5o6p7q8r9s0t",
     "showTitle": false,
     "tableResultSettingsMap": {},
     "title": ""
    }
   },
   "source": [
    "## KPI 1: Overall Business Performance\n",
    "\n",
    "Let's start with the most critical business metrics."
   ]
  },
  {
   "cell_type": "code",
   "execution_count": 0,
   "metadata": {
    "application/vnd.databricks.v1+cell": {
     "cellMetadata": {
      "byteLimit": 2048000,
      "implicitDf": true,
      "rowLimit": 10000
     },
     "inputWidgets": {},
     "nuid": "6f7g8h9i-0j1k-2l3m-4n5o-6p7q8r9s0t1u",
     "showTitle": false,
     "tableResultSettingsMap": {},
     "title": ""
    }
   },
   "outputs": [
    {
     "output_type": "display_data",
     "data": {
      "text/html": [
       "<style scoped>\n",
       "  .table-result-container {\n",
       "    max-height: 300px;\n",
       "    overflow: auto;\n",
       "  }\n",
       "  table, th, td {\n",
       "    border: 1px solid black;\n",
       "    border-collapse: collapse;\n",
       "  }\n",
       "  th, td {\n",
       "    padding: 5px;\n",
       "  }\n",
       "  th {\n",
       "    text-align: left;\n",
       "  }\n",
       "</style><div class='table-result-container'><table class='table-result'><thead style='background-color: white'><tr><th>total_revenue</th><th>total_gross_income</th><th>total_cogs</th><th>total_transactions</th><th>total_items_sold</th><th>avg_transaction_value</th><th>avg_customer_rating</th><th>avg_gross_margin_pct</th></tr></thead><tbody><tr><td>322966.75</td><td>15379.37</td><td>307587.38</td><td>1000</td><td>5510</td><td>322.97</td><td>6.97</td><td>4.76</td></tr></tbody></table></div>"
      ]
     },
     "metadata": {
      "application/vnd.databricks.v1+output": {
       "addedWidgets": {},
       "aggData": [],
       "aggError": "",
       "aggOverflow": false,
       "aggSchema": [],
       "aggSeriesLimitReached": false,
       "aggType": "",
       "arguments": {},
       "columnCustomDisplayInfos": {},
       "data": [
        [
         322966.75,
         15379.37,
         307587.38,
         1000,
         5510,
         322.97,
         6.97,
         4.76
        ]
       ],
       "datasetInfos": [
        {
         "name": "_sqldf",
         "schema": {
          "fields": [
           {
            "metadata": {},
            "name": "total_revenue",
            "nullable": true,
            "type": "double"
           },
           {
            "metadata": {},
            "name": "total_gross_income",
            "nullable": true,
            "type": "double"
           },
           {
            "metadata": {},
            "name": "total_cogs",
            "nullable": true,
            "type": "double"
           },
           {
            "metadata": {},
            "name": "total_transactions",
            "nullable": false,
            "type": "long"
           },
           {
            "metadata": {},
            "name": "total_items_sold",
            "nullable": true,
            "type": "long"
           },
           {
            "metadata": {},
            "name": "avg_transaction_value",
            "nullable": true,
            "type": "double"
           },
           {
            "metadata": {},
            "name": "avg_customer_rating",
            "nullable": true,
            "type": "double"
           },
           {
            "metadata": {},
            "name": "avg_gross_margin_pct",
            "nullable": true,
            "type": "double"
           }
          ],
          "type": "struct"
         },
         "tableIdentifier": null,
         "typeStr": "pyspark.sql.connect.dataframe.DataFrame"
        }
       ],
       "dbfsResultPath": null,
       "isJsonSchema": true,
       "metadata": {
        "createTempViewForImplicitDf": true,
        "dataframeName": "_sqldf",
        "executionCount": 5
       },
       "overflow": false,
       "plotOptions": {
        "customPlotOptions": {},
        "displayType": "table",
        "pivotAggregation": null,
        "pivotColumns": null,
        "xColumns": null,
        "yColumns": null
       },
       "removedWidgets": [],
       "schema": [
        {
         "metadata": "{}",
         "name": "total_revenue",
         "type": "\"double\""
        },
        {
         "metadata": "{}",
         "name": "total_gross_income",
         "type": "\"double\""
        },
        {
         "metadata": "{}",
         "name": "total_cogs",
         "type": "\"double\""
        },
        {
         "metadata": "{}",
         "name": "total_transactions",
         "type": "\"long\""
        },
        {
         "metadata": "{}",
         "name": "total_items_sold",
         "type": "\"long\""
        },
        {
         "metadata": "{}",
         "name": "avg_transaction_value",
         "type": "\"double\""
        },
        {
         "metadata": "{}",
         "name": "avg_customer_rating",
         "type": "\"double\""
        },
        {
         "metadata": "{}",
         "name": "avg_gross_margin_pct",
         "type": "\"double\""
        }
       ],
       "type": "table"
      }
     },
     "output_type": "display_data"
    }
   ],
   "source": [
    "%sql\n",
    "-- Overall Business KPIs\n",
    "SELECT \n",
    "  ROUND(SUM(Total), 2) as total_revenue,\n",
    "  ROUND(SUM(Gross_Income), 2) as total_gross_income,\n",
    "  ROUND(SUM(COGS), 2) as total_cogs,\n",
    "  COUNT(*) as total_transactions,\n",
    "  SUM(Quantity) as total_items_sold,\n",
    "  ROUND(AVG(Total), 2) as avg_transaction_value,\n",
    "  ROUND(AVG(Rating), 2) as avg_customer_rating,\n",
    "  ROUND(AVG(Gross_Margin_Percentage), 2) as avg_gross_margin_pct\n",
    "FROM `supermarket_sales`.`sales_silver`.`cleansed_sales_data`;"
   ]
  },
  {
   "cell_type": "markdown",
   "metadata": {
    "application/vnd.databricks.v1+cell": {
     "cellMetadata": {},
     "inputWidgets": {},
     "nuid": "7g8h9i0j-1k2l-3m4n-5o6p-7q8r9s0t1u2v",
     "showTitle": false,
     "tableResultSettingsMap": {},
     "title": ""
    }
   },
   "source": [
    "## KPI 2: Branch and Location Performance\n",
    "\n",
    "Understanding which locations drive the most revenue and profit."
   ]
  },
  {
   "cell_type": "code",
   "execution_count": 0,
   "metadata": {
    "application/vnd.databricks.v1+cell": {
     "cellMetadata": {
      "byteLimit": 2048000,
      "implicitDf": true,
      "rowLimit": 10000
     },
     "inputWidgets": {},
     "nuid": "8h9i0j1k-2l3m-4n5o-6p7q-8r9s0t1u2v3w",
     "showTitle": false,
     "tableResultSettingsMap": {},
     "title": ""
    }
   },
   "outputs": [
    {
     "output_type": "display_data",
     "data": {
      "text/html": [
       "<style scoped>\n",
       "  .table-result-container {\n",
       "    max-height: 300px;\n",
       "    overflow: auto;\n",
       "  }\n",
       "  table, th, td {\n",
       "    border: 1px solid black;\n",
       "    border-collapse: collapse;\n",
       "  }\n",
       "  th, td {\n",
       "    padding: 5px;\n",
       "  }\n",
       "  th {\n",
       "    text-align: left;\n",
       "  }\n",
       "</style><div class='table-result-container'><table class='table-result'><thead style='background-color: white'><tr><th>Branch</th><th>City</th><th>transactions</th><th>total_revenue</th><th>total_profit</th><th>avg_transaction_value</th><th>avg_rating</th><th>total_items_sold</th></tr></thead><tbody><tr><td>C</td><td>NAYPYITAW</td><td>328</td><td>110568.71</td><td>5265.18</td><td>337.1</td><td>7.07</td><td>1831</td></tr><tr><td>A</td><td>YANGON</td><td>340</td><td>106200.37</td><td>5057.16</td><td>312.35</td><td>7.03</td><td>1859</td></tr><tr><td>B</td><td>MANDALAY</td><td>332</td><td>106197.67</td><td>5057.03</td><td>319.87</td><td>6.82</td><td>1820</td></tr></tbody></table></div>"
      ]
     },
     "metadata": {
      "application/vnd.databricks.v1+output": {
       "addedWidgets": {},
       "aggData": [],
       "aggError": "",
       "aggOverflow": false,
       "aggSchema": [],
       "aggSeriesLimitReached": false,
       "aggType": "",
       "arguments": {},
       "columnCustomDisplayInfos": {},
       "data": [
        [
         "C",
         "NAYPYITAW",
         328,
         110568.71,
         5265.18,
         337.1,
         7.07,
         1831
        ],
        [
         "A",
         "YANGON",
         340,
         106200.37,
         5057.16,
         312.35,
         7.03,
         1859
        ],
        [
         "B",
         "MANDALAY",
         332,
         106197.67,
         5057.03,
         319.87,
         6.82,
         1820
        ]
       ],
       "datasetInfos": [
        {
         "name": "_sqldf",
         "schema": {
          "fields": [
           {
            "metadata": {},
            "name": "Branch",
            "nullable": true,
            "type": "string"
           },
           {
            "metadata": {},
            "name": "City",
            "nullable": true,
            "type": "string"
           },
           {
            "metadata": {},
            "name": "transactions",
            "nullable": false,
            "type": "long"
           },
           {
            "metadata": {},
            "name": "total_revenue",
            "nullable": true,
            "type": "double"
           },
           {
            "metadata": {},
            "name": "total_profit",
            "nullable": true,
            "type": "double"
           },
           {
            "metadata": {},
            "name": "avg_transaction_value",
            "nullable": true,
            "type": "double"
           },
           {
            "metadata": {},
            "name": "avg_rating",
            "nullable": true,
            "type": "double"
           },
           {
            "metadata": {},
            "name": "total_items_sold",
            "nullable": true,
            "type": "long"
           }
          ],
          "type": "struct"
         },
         "tableIdentifier": null,
         "typeStr": "pyspark.sql.connect.dataframe.DataFrame"
        }
       ],
       "dbfsResultPath": null,
       "isJsonSchema": true,
       "metadata": {
        "createTempViewForImplicitDf": true,
        "dataframeName": "_sqldf",
        "executionCount": 3
       },
       "overflow": false,
       "plotOptions": {
        "customPlotOptions": {},
        "displayType": "table",
        "pivotAggregation": null,
        "pivotColumns": null,
        "xColumns": null,
        "yColumns": null
       },
       "removedWidgets": [],
       "schema": [
        {
         "metadata": "{}",
         "name": "Branch",
         "type": "\"string\""
        },
        {
         "metadata": "{}",
         "name": "City",
         "type": "\"string\""
        },
        {
         "metadata": "{}",
         "name": "transactions",
         "type": "\"long\""
        },
        {
         "metadata": "{}",
         "name": "total_revenue",
         "type": "\"double\""
        },
        {
         "metadata": "{}",
         "name": "total_profit",
         "type": "\"double\""
        },
        {
         "metadata": "{}",
         "name": "avg_transaction_value",
         "type": "\"double\""
        },
        {
         "metadata": "{}",
         "name": "avg_rating",
         "type": "\"double\""
        },
        {
         "metadata": "{}",
         "name": "total_items_sold",
         "type": "\"long\""
        }
       ],
       "type": "table"
      }
     },
     "output_type": "display_data"
    }
   ],
   "source": [
    "%sql\n",
    "-- Performance by Branch and City\n",
    "SELECT \n",
    "  Branch,\n",
    "  City,\n",
    "  COUNT(*) as transactions,\n",
    "  ROUND(SUM(Total), 2) as total_revenue,\n",
    "  ROUND(SUM(Gross_Income), 2) as total_profit,\n",
    "  ROUND(AVG(Total), 2) as avg_transaction_value,\n",
    "  ROUND(AVG(Rating), 2) as avg_rating,\n",
    "  SUM(Quantity) as total_items_sold\n",
    "FROM `supermarket_sales`.`sales_silver`.`cleansed_sales_data`\n",
    "GROUP BY Branch, City\n",
    "ORDER BY total_revenue DESC"
   ]
  },
  {
   "cell_type": "code",
   "execution_count": 0,
   "metadata": {
    "application/vnd.databricks.v1+cell": {
     "cellMetadata": {
      "byteLimit": 2048000,
      "implicitDf": true,
      "rowLimit": 10000
     },
     "inputWidgets": {},
     "nuid": "9i0j1k2l-3m4n-5o6p-7q8r-9s0t1u2v3w4x",
     "showTitle": false,
     "tableResultSettingsMap": {},
     "title": ""
    }
   },
   "outputs": [
    {
     "output_type": "display_data",
     "data": {
      "text/html": [
       "<style scoped>\n",
       "  .table-result-container {\n",
       "    max-height: 300px;\n",
       "    overflow: auto;\n",
       "  }\n",
       "  table, th, td {\n",
       "    border: 1px solid black;\n",
       "    border-collapse: collapse;\n",
       "  }\n",
       "  th, td {\n",
       "    padding: 5px;\n",
       "  }\n",
       "  th {\n",
       "    text-align: left;\n",
       "  }\n",
       "</style><div class='table-result-container'><table class='table-result'><thead style='background-color: white'><tr><th>City</th><th>revenue</th><th>revenue_percentage</th></tr></thead><tbody><tr><td>NAYPYITAW</td><td>110568.71</td><td>34.24</td></tr><tr><td>YANGON</td><td>106200.37</td><td>32.88</td></tr><tr><td>MANDALAY</td><td>106197.67</td><td>32.88</td></tr></tbody></table></div>"
      ]
     },
     "metadata": {
      "application/vnd.databricks.v1+output": {
       "addedWidgets": {},
       "aggData": [],
       "aggError": "",
       "aggOverflow": false,
       "aggSchema": [],
       "aggSeriesLimitReached": false,
       "aggType": "",
       "arguments": {},
       "columnCustomDisplayInfos": {},
       "data": [
        [
         "NAYPYITAW",
         110568.71,
         34.24
        ],
        [
         "YANGON",
         106200.37,
         32.88
        ],
        [
         "MANDALAY",
         106197.67,
         32.88
        ]
       ],
       "datasetInfos": [
        {
         "name": "_sqldf",
         "schema": {
          "fields": [
           {
            "metadata": {},
            "name": "City",
            "nullable": true,
            "type": "string"
           },
           {
            "metadata": {},
            "name": "revenue",
            "nullable": true,
            "type": "double"
           },
           {
            "metadata": {},
            "name": "revenue_percentage",
            "nullable": true,
            "type": "double"
           }
          ],
          "type": "struct"
         },
         "tableIdentifier": null,
         "typeStr": "pyspark.sql.connect.dataframe.DataFrame"
        }
       ],
       "dbfsResultPath": null,
       "isJsonSchema": true,
       "metadata": {
        "createTempViewForImplicitDf": true,
        "dataframeName": "_sqldf",
        "executionCount": 39
       },
       "overflow": false,
       "plotOptions": {
        "customPlotOptions": {},
        "displayType": "table",
        "pivotAggregation": null,
        "pivotColumns": null,
        "xColumns": null,
        "yColumns": null
       },
       "removedWidgets": [],
       "schema": [
        {
         "metadata": "{}",
         "name": "City",
         "type": "\"string\""
        },
        {
         "metadata": "{}",
         "name": "revenue",
         "type": "\"double\""
        },
        {
         "metadata": "{}",
         "name": "revenue_percentage",
         "type": "\"double\""
        }
       ],
       "type": "table"
      }
     },
     "output_type": "display_data"
    }
   ],
   "source": [
    "%sql\n",
    "-- Revenue contribution by location\n",
    "SELECT \n",
    "  City,\n",
    "  ROUND(SUM(Total), 2) as revenue,\n",
    "  ROUND(SUM(Total) * 100.0 / (SELECT SUM(Total) FROM `supermarket_sales`.`sales_silver`.`cleansed_sales_data`), 2) as revenue_percentage\n",
    "FROM `supermarket_sales`.`sales_silver`.`cleansed_sales_data`\n",
    "GROUP BY City\n",
    "ORDER BY revenue DESC"
   ]
  },
  {
   "cell_type": "markdown",
   "metadata": {
    "application/vnd.databricks.v1+cell": {
     "cellMetadata": {},
     "inputWidgets": {},
     "nuid": "0j1k2l3m-4n5o-6p7q-8r9s-0t1u2v3w4x5y",
     "showTitle": false,
     "tableResultSettingsMap": {},
     "title": ""
    }
   },
   "source": [
    "## KPI 3: Product Line Analysis\n",
    "\n",
    "Identifying top-performing product categories and their profitability."
   ]
  },
  {
   "cell_type": "code",
   "execution_count": 0,
   "metadata": {
    "application/vnd.databricks.v1+cell": {
     "cellMetadata": {
      "byteLimit": 2048000,
      "implicitDf": true,
      "rowLimit": 10000
     },
     "inputWidgets": {},
     "nuid": "1k2l3m4n-5o6p-7q8r-9s0t-1u2v3w4x5y6z",
     "showTitle": false,
     "tableResultSettingsMap": {},
     "title": ""
    }
   },
   "outputs": [
    {
     "output_type": "display_data",
     "data": {
      "text/html": [
       "<style scoped>\n",
       "  .table-result-container {\n",
       "    max-height: 300px;\n",
       "    overflow: auto;\n",
       "  }\n",
       "  table, th, td {\n",
       "    border: 1px solid black;\n",
       "    border-collapse: collapse;\n",
       "  }\n",
       "  th, td {\n",
       "    padding: 5px;\n",
       "  }\n",
       "  th {\n",
       "    text-align: left;\n",
       "  }\n",
       "</style><div class='table-result-container'><table class='table-result'><thead style='background-color: white'><tr><th>Product_Line</th><th>transactions</th><th>total_revenue</th><th>total_profit</th><th>avg_transaction_value</th><th>avg_unit_price</th><th>avg_rating</th><th>total_quantity_sold</th><th>revenue_share_pct</th></tr></thead><tbody><tr><td>Food and beverages</td><td>174</td><td>56144.84</td><td>2673.56</td><td>322.67</td><td>56.01</td><td>7.11</td><td>952</td><td>17.38</td></tr><tr><td>Sports and travel</td><td>166</td><td>55122.83</td><td>2624.9</td><td>332.07</td><td>56.99</td><td>6.92</td><td>920</td><td>17.07</td></tr><tr><td>Electronic accessories</td><td>170</td><td>54337.53</td><td>2587.5</td><td>319.63</td><td>53.55</td><td>6.92</td><td>971</td><td>16.82</td></tr><tr><td>Fashion accessories</td><td>178</td><td>54305.9</td><td>2586.0</td><td>305.09</td><td>57.15</td><td>7.03</td><td>902</td><td>16.81</td></tr><tr><td>Home and lifestyle</td><td>160</td><td>53861.91</td><td>2564.85</td><td>336.64</td><td>55.32</td><td>6.84</td><td>911</td><td>16.68</td></tr><tr><td>Health and beauty</td><td>152</td><td>49193.74</td><td>2342.56</td><td>323.64</td><td>54.85</td><td>7.0</td><td>854</td><td>15.23</td></tr></tbody></table></div>"
      ]
     },
     "metadata": {
      "application/vnd.databricks.v1+output": {
       "addedWidgets": {},
       "aggData": [],
       "aggError": "",
       "aggOverflow": false,
       "aggSchema": [],
       "aggSeriesLimitReached": false,
       "aggType": "",
       "arguments": {},
       "columnCustomDisplayInfos": {},
       "data": [
        [
         "Food and beverages",
         174,
         56144.84,
         2673.56,
         322.67,
         56.01,
         7.11,
         952,
         17.38
        ],
        [
         "Sports and travel",
         166,
         55122.83,
         2624.9,
         332.07,
         56.99,
         6.92,
         920,
         17.07
        ],
        [
         "Electronic accessories",
         170,
         54337.53,
         2587.5,
         319.63,
         53.55,
         6.92,
         971,
         16.82
        ],
        [
         "Fashion accessories",
         178,
         54305.9,
         2586.0,
         305.09,
         57.15,
         7.03,
         902,
         16.81
        ],
        [
         "Home and lifestyle",
         160,
         53861.91,
         2564.85,
         336.64,
         55.32,
         6.84,
         911,
         16.68
        ],
        [
         "Health and beauty",
         152,
         49193.74,
         2342.56,
         323.64,
         54.85,
         7.0,
         854,
         15.23
        ]
       ],
       "datasetInfos": [
        {
         "name": "_sqldf",
         "schema": {
          "fields": [
           {
            "metadata": {},
            "name": "Product_Line",
            "nullable": true,
            "type": "string"
           },
           {
            "metadata": {},
            "name": "transactions",
            "nullable": false,
            "type": "long"
           },
           {
            "metadata": {},
            "name": "total_revenue",
            "nullable": true,
            "type": "double"
           },
           {
            "metadata": {},
            "name": "total_profit",
            "nullable": true,
            "type": "double"
           },
           {
            "metadata": {},
            "name": "avg_transaction_value",
            "nullable": true,
            "type": "double"
           },
           {
            "metadata": {},
            "name": "avg_unit_price",
            "nullable": true,
            "type": "double"
           },
           {
            "metadata": {},
            "name": "avg_rating",
            "nullable": true,
            "type": "double"
           },
           {
            "metadata": {},
            "name": "total_quantity_sold",
            "nullable": true,
            "type": "long"
           },
           {
            "metadata": {},
            "name": "revenue_share_pct",
            "nullable": true,
            "type": "double"
           }
          ],
          "type": "struct"
         },
         "tableIdentifier": null,
         "typeStr": "pyspark.sql.connect.dataframe.DataFrame"
        }
       ],
       "dbfsResultPath": null,
       "isJsonSchema": true,
       "metadata": {
        "createTempViewForImplicitDf": true,
        "dataframeName": "_sqldf",
        "executionCount": 37
       },
       "overflow": false,
       "plotOptions": {
        "customPlotOptions": {},
        "displayType": "table",
        "pivotAggregation": null,
        "pivotColumns": null,
        "xColumns": null,
        "yColumns": null
       },
       "removedWidgets": [],
       "schema": [
        {
         "metadata": "{}",
         "name": "Product_Line",
         "type": "\"string\""
        },
        {
         "metadata": "{}",
         "name": "transactions",
         "type": "\"long\""
        },
        {
         "metadata": "{}",
         "name": "total_revenue",
         "type": "\"double\""
        },
        {
         "metadata": "{}",
         "name": "total_profit",
         "type": "\"double\""
        },
        {
         "metadata": "{}",
         "name": "avg_transaction_value",
         "type": "\"double\""
        },
        {
         "metadata": "{}",
         "name": "avg_unit_price",
         "type": "\"double\""
        },
        {
         "metadata": "{}",
         "name": "avg_rating",
         "type": "\"double\""
        },
        {
         "metadata": "{}",
         "name": "total_quantity_sold",
         "type": "\"long\""
        },
        {
         "metadata": "{}",
         "name": "revenue_share_pct",
         "type": "\"double\""
        }
       ],
       "type": "table"
      }
     },
     "output_type": "display_data"
    }
   ],
   "source": [
    "%sql\n",
    "-- Product Line Performance\n",
    "SELECT \n",
    "  Product_Line,\n",
    "  COUNT(*) as transactions,\n",
    "  ROUND(SUM(Total), 2) as total_revenue,\n",
    "  ROUND(SUM(Gross_Income), 2) as total_profit,\n",
    "  ROUND(AVG(Total), 2) as avg_transaction_value,\n",
    "  ROUND(AVG(Unit_Price), 2) as avg_unit_price,\n",
    "  ROUND(AVG(Rating), 2) as avg_rating,\n",
    "  SUM(Quantity) as total_quantity_sold,\n",
    "  ROUND(SUM(Total) * 100.0 / (SELECT SUM(Total) FROM `supermarket_sales`.`sales_silver`.`cleansed_sales_data`), 2) as revenue_share_pct\n",
    "FROM `supermarket_sales`.`sales_silver`.`cleansed_sales_data`\n",
    "GROUP BY Product_Line\n",
    "ORDER BY total_revenue DESC"
   ]
  },
  {
   "cell_type": "code",
   "execution_count": 0,
   "metadata": {
    "application/vnd.databricks.v1+cell": {
     "cellMetadata": {
      "byteLimit": 2048000,
      "implicitDf": true,
      "rowLimit": 10000
     },
     "inputWidgets": {},
     "nuid": "2l3m4n5o-6p7q-8r9s-0t1u-2v3w4x5y6z7a",
     "showTitle": false,
     "tableResultSettingsMap": {},
     "title": ""
    }
   },
   "outputs": [
    {
     "output_type": "display_data",
     "data": {
      "text/html": [
       "<style scoped>\n",
       "  .table-result-container {\n",
       "    max-height: 300px;\n",
       "    overflow: auto;\n",
       "  }\n",
       "  table, th, td {\n",
       "    border: 1px solid black;\n",
       "    border-collapse: collapse;\n",
       "  }\n",
       "  th, td {\n",
       "    padding: 5px;\n",
       "  }\n",
       "  th {\n",
       "    text-align: left;\n",
       "  }\n",
       "</style><div class='table-result-container'><table class='table-result'><thead style='background-color: white'><tr><th>City</th><th>Product_Line</th><th>transactions</th><th>revenue</th><th>avg_rating</th></tr></thead><tbody><tr><td>MANDALAY</td><td>Sports and travel</td><td>62</td><td>19988.2</td><td>6.51</td></tr><tr><td>MANDALAY</td><td>Health and beauty</td><td>53</td><td>19980.66</td><td>7.1</td></tr><tr><td>MANDALAY</td><td>Home and lifestyle</td><td>50</td><td>17549.16</td><td>6.52</td></tr><tr><td>MANDALAY</td><td>Electronic accessories</td><td>55</td><td>17051.44</td><td>7.12</td></tr><tr><td>MANDALAY</td><td>Fashion accessories</td><td>62</td><td>16413.32</td><td>6.72</td></tr><tr><td>MANDALAY</td><td>Food and beverages</td><td>50</td><td>15214.89</td><td>6.99</td></tr><tr><td>NAYPYITAW</td><td>Food and beverages</td><td>66</td><td>23766.85</td><td>7.08</td></tr><tr><td>NAYPYITAW</td><td>Fashion accessories</td><td>65</td><td>21560.07</td><td>7.44</td></tr><tr><td>NAYPYITAW</td><td>Electronic accessories</td><td>55</td><td>18968.97</td><td>6.75</td></tr><tr><td>NAYPYITAW</td><td>Health and beauty</td><td>52</td><td>16615.33</td><td>7.0</td></tr><tr><td>NAYPYITAW</td><td>Sports and travel</td><td>45</td><td>15761.93</td><td>7.03</td></tr><tr><td>NAYPYITAW</td><td>Home and lifestyle</td><td>45</td><td>13895.55</td><td>7.06</td></tr><tr><td>YANGON</td><td>Home and lifestyle</td><td>65</td><td>22417.2</td><td>6.93</td></tr><tr><td>YANGON</td><td>Sports and travel</td><td>59</td><td>19372.7</td><td>7.26</td></tr><tr><td>YANGON</td><td>Electronic accessories</td><td>60</td><td>18317.11</td><td>6.91</td></tr><tr><td>YANGON</td><td>Food and beverages</td><td>58</td><td>17163.1</td><td>7.25</td></tr><tr><td>YANGON</td><td>Fashion accessories</td><td>51</td><td>16332.51</td><td>6.88</td></tr><tr><td>YANGON</td><td>Health and beauty</td><td>47</td><td>12597.75</td><td>6.9</td></tr></tbody></table></div>"
      ]
     },
     "metadata": {
      "application/vnd.databricks.v1+output": {
       "addedWidgets": {},
       "aggData": [],
       "aggError": "",
       "aggOverflow": false,
       "aggSchema": [],
       "aggSeriesLimitReached": false,
       "aggType": "",
       "arguments": {},
       "columnCustomDisplayInfos": {},
       "data": [
        [
         "MANDALAY",
         "Sports and travel",
         62,
         19988.2,
         6.51
        ],
        [
         "MANDALAY",
         "Health and beauty",
         53,
         19980.66,
         7.1
        ],
        [
         "MANDALAY",
         "Home and lifestyle",
         50,
         17549.16,
         6.52
        ],
        [
         "MANDALAY",
         "Electronic accessories",
         55,
         17051.44,
         7.12
        ],
        [
         "MANDALAY",
         "Fashion accessories",
         62,
         16413.32,
         6.72
        ],
        [
         "MANDALAY",
         "Food and beverages",
         50,
         15214.89,
         6.99
        ],
        [
         "NAYPYITAW",
         "Food and beverages",
         66,
         23766.85,
         7.08
        ],
        [
         "NAYPYITAW",
         "Fashion accessories",
         65,
         21560.07,
         7.44
        ],
        [
         "NAYPYITAW",
         "Electronic accessories",
         55,
         18968.97,
         6.75
        ],
        [
         "NAYPYITAW",
         "Health and beauty",
         52,
         16615.33,
         7.0
        ],
        [
         "NAYPYITAW",
         "Sports and travel",
         45,
         15761.93,
         7.03
        ],
        [
         "NAYPYITAW",
         "Home and lifestyle",
         45,
         13895.55,
         7.06
        ],
        [
         "YANGON",
         "Home and lifestyle",
         65,
         22417.2,
         6.93
        ],
        [
         "YANGON",
         "Sports and travel",
         59,
         19372.7,
         7.26
        ],
        [
         "YANGON",
         "Electronic accessories",
         60,
         18317.11,
         6.91
        ],
        [
         "YANGON",
         "Food and beverages",
         58,
         17163.1,
         7.25
        ],
        [
         "YANGON",
         "Fashion accessories",
         51,
         16332.51,
         6.88
        ],
        [
         "YANGON",
         "Health and beauty",
         47,
         12597.75,
         6.9
        ]
       ],
       "datasetInfos": [
        {
         "name": "_sqldf",
         "schema": {
          "fields": [
           {
            "metadata": {},
            "name": "City",
            "nullable": true,
            "type": "string"
           },
           {
            "metadata": {},
            "name": "Product_Line",
            "nullable": true,
            "type": "string"
           },
           {
            "metadata": {},
            "name": "transactions",
            "nullable": false,
            "type": "long"
           },
           {
            "metadata": {},
            "name": "revenue",
            "nullable": true,
            "type": "double"
           },
           {
            "metadata": {},
            "name": "avg_rating",
            "nullable": true,
            "type": "double"
           }
          ],
          "type": "struct"
         },
         "tableIdentifier": null,
         "typeStr": "pyspark.sql.connect.dataframe.DataFrame"
        }
       ],
       "dbfsResultPath": null,
       "isJsonSchema": true,
       "metadata": {
        "createTempViewForImplicitDf": true,
        "dataframeName": "_sqldf",
        "executionCount": 35
       },
       "overflow": false,
       "plotOptions": {
        "customPlotOptions": {},
        "displayType": "table",
        "pivotAggregation": null,
        "pivotColumns": null,
        "xColumns": null,
        "yColumns": null
       },
       "removedWidgets": [],
       "schema": [
        {
         "metadata": "{}",
         "name": "City",
         "type": "\"string\""
        },
        {
         "metadata": "{}",
         "name": "Product_Line",
         "type": "\"string\""
        },
        {
         "metadata": "{}",
         "name": "transactions",
         "type": "\"long\""
        },
        {
         "metadata": "{}",
         "name": "revenue",
         "type": "\"double\""
        },
        {
         "metadata": "{}",
         "name": "avg_rating",
         "type": "\"double\""
        }
       ],
       "type": "table"
      }
     },
     "output_type": "display_data"
    }
   ],
   "source": [
    "%sql\n",
    "-- Product Line Performance by City\n",
    "SELECT \n",
    "  City,\n",
    "  Product_Line,\n",
    "  COUNT(*) as transactions,\n",
    "  ROUND(SUM(Total), 2) as revenue,\n",
    "  ROUND(AVG(Rating), 2) as avg_rating\n",
    "FROM `supermarket_sales`.`sales_silver`.`cleansed_sales_data`\n",
    "GROUP BY City, Product_Line\n",
    "ORDER BY City, revenue DESC"
   ]
  },
  {
   "cell_type": "markdown",
   "metadata": {
    "application/vnd.databricks.v1+cell": {
     "cellMetadata": {},
     "inputWidgets": {},
     "nuid": "3m4n5o6p-7q8r-9s0t-1u2v-3w4x5y6z7a8b",
     "showTitle": false,
     "tableResultSettingsMap": {},
     "title": ""
    }
   },
   "source": [
    "## KPI 4: Customer Segmentation Analysis\n",
    "\n",
    "Understanding customer behavior patterns and member vs normal customer performance."
   ]
  },
  {
   "cell_type": "code",
   "execution_count": 0,
   "metadata": {
    "application/vnd.databricks.v1+cell": {
     "cellMetadata": {
      "byteLimit": 2048000,
      "implicitDf": true,
      "rowLimit": 10000
     },
     "inputWidgets": {},
     "nuid": "4n5o6p7q-8r9s-0t1u-2v3w-4x5y6z7a8b9c",
     "showTitle": false,
     "tableResultSettingsMap": {},
     "title": ""
    }
   },
   "outputs": [
    {
     "output_type": "display_data",
     "data": {
      "text/html": [
       "<style scoped>\n",
       "  .table-result-container {\n",
       "    max-height: 300px;\n",
       "    overflow: auto;\n",
       "  }\n",
       "  table, th, td {\n",
       "    border: 1px solid black;\n",
       "    border-collapse: collapse;\n",
       "  }\n",
       "  th, td {\n",
       "    padding: 5px;\n",
       "  }\n",
       "  th {\n",
       "    text-align: left;\n",
       "  }\n",
       "</style><div class='table-result-container'><table class='table-result'><thead style='background-color: white'><tr><th>Customer_Type</th><th>transactions</th><th>total_revenue</th><th>avg_transaction_value</th><th>avg_rating</th><th>revenue_share_pct</th></tr></thead><tbody><tr><td>Member</td><td>501</td><td>164223.44</td><td>327.79</td><td>6.94</td><td>50.85</td></tr><tr><td>Normal</td><td>499</td><td>158743.31</td><td>318.12</td><td>7.01</td><td>49.15</td></tr></tbody></table></div>"
      ]
     },
     "metadata": {
      "application/vnd.databricks.v1+output": {
       "addedWidgets": {},
       "aggData": [],
       "aggError": "",
       "aggOverflow": false,
       "aggSchema": [],
       "aggSeriesLimitReached": false,
       "aggType": "",
       "arguments": {},
       "columnCustomDisplayInfos": {},
       "data": [
        [
         "Member",
         501,
         164223.44,
         327.79,
         6.94,
         50.85
        ],
        [
         "Normal",
         499,
         158743.31,
         318.12,
         7.01,
         49.15
        ]
       ],
       "datasetInfos": [
        {
         "name": "_sqldf",
         "schema": {
          "fields": [
           {
            "metadata": {},
            "name": "Customer_Type",
            "nullable": true,
            "type": "string"
           },
           {
            "metadata": {},
            "name": "transactions",
            "nullable": false,
            "type": "long"
           },
           {
            "metadata": {},
            "name": "total_revenue",
            "nullable": true,
            "type": "double"
           },
           {
            "metadata": {},
            "name": "avg_transaction_value",
            "nullable": true,
            "type": "double"
           },
           {
            "metadata": {},
            "name": "avg_rating",
            "nullable": true,
            "type": "double"
           },
           {
            "metadata": {},
            "name": "revenue_share_pct",
            "nullable": true,
            "type": "double"
           }
          ],
          "type": "struct"
         },
         "tableIdentifier": null,
         "typeStr": "pyspark.sql.connect.dataframe.DataFrame"
        }
       ],
       "dbfsResultPath": null,
       "isJsonSchema": true,
       "metadata": {
        "createTempViewForImplicitDf": true,
        "dataframeName": "_sqldf",
        "executionCount": 36
       },
       "overflow": false,
       "plotOptions": {
        "customPlotOptions": {},
        "displayType": "table",
        "pivotAggregation": null,
        "pivotColumns": null,
        "xColumns": null,
        "yColumns": null
       },
       "removedWidgets": [],
       "schema": [
        {
         "metadata": "{}",
         "name": "Customer_Type",
         "type": "\"string\""
        },
        {
         "metadata": "{}",
         "name": "transactions",
         "type": "\"long\""
        },
        {
         "metadata": "{}",
         "name": "total_revenue",
         "type": "\"double\""
        },
        {
         "metadata": "{}",
         "name": "avg_transaction_value",
         "type": "\"double\""
        },
        {
         "metadata": "{}",
         "name": "avg_rating",
         "type": "\"double\""
        },
        {
         "metadata": "{}",
         "name": "revenue_share_pct",
         "type": "\"double\""
        }
       ],
       "type": "table"
      }
     },
     "output_type": "display_data"
    }
   ],
   "source": [
    "%sql\n",
    "-- Customer Type Analysis\n",
    "SELECT \n",
    "  Customer_Type,\n",
    "  COUNT(*) as transactions,\n",
    "  ROUND(SUM(Total), 2) as total_revenue,\n",
    "  ROUND(AVG(Total), 2) as avg_transaction_value,\n",
    "  ROUND(AVG(Rating), 2) as avg_rating,\n",
    "  ROUND(SUM(Total) * 100.0 / (SELECT SUM(Total) FROM `supermarket_sales`.`sales_silver`.`cleansed_sales_data`), 2) as revenue_share_pct\n",
    "FROM `supermarket_sales`.`sales_silver`.`cleansed_sales_data`\n",
    "GROUP BY Customer_Type\n",
    "ORDER BY total_revenue DESC"
   ]
  },
  {
   "cell_type": "code",
   "execution_count": 0,
   "metadata": {
    "application/vnd.databricks.v1+cell": {
     "cellMetadata": {
      "byteLimit": 2048000,
      "implicitDf": true,
      "rowLimit": 10000
     },
     "inputWidgets": {},
     "nuid": "5o6p7q8r-9s0t-1u2v-3w4x-5y6z7a8b9c0d",
     "showTitle": false,
     "tableResultSettingsMap": {},
     "title": ""
    }
   },
   "outputs": [
    {
     "output_type": "display_data",
     "data": {
      "text/html": [
       "<style scoped>\n",
       "  .table-result-container {\n",
       "    max-height: 300px;\n",
       "    overflow: auto;\n",
       "  }\n",
       "  table, th, td {\n",
       "    border: 1px solid black;\n",
       "    border-collapse: collapse;\n",
       "  }\n",
       "  th, td {\n",
       "    padding: 5px;\n",
       "  }\n",
       "  th {\n",
       "    text-align: left;\n",
       "  }\n",
       "</style><div class='table-result-container'><table class='table-result'><thead style='background-color: white'><tr><th>Gender</th><th>Customer_Type</th><th>transactions</th><th>total_revenue</th><th>avg_transaction_value</th><th>avg_rating</th></tr></thead><tbody><tr><td>Female</td><td>Member</td><td>261</td><td>88146.94</td><td>337.73</td><td>6.94</td></tr><tr><td>Female</td><td>Normal</td><td>240</td><td>79735.98</td><td>332.23</td><td>6.99</td></tr><tr><td>Male</td><td>Normal</td><td>259</td><td>79007.32</td><td>305.05</td><td>7.02</td></tr><tr><td>Male</td><td>Member</td><td>240</td><td>76076.5</td><td>316.99</td><td>6.94</td></tr></tbody></table></div>"
      ]
     },
     "metadata": {
      "application/vnd.databricks.v1+output": {
       "addedWidgets": {},
       "aggData": [],
       "aggError": "",
       "aggOverflow": false,
       "aggSchema": [],
       "aggSeriesLimitReached": false,
       "aggType": "",
       "arguments": {},
       "columnCustomDisplayInfos": {},
       "data": [
        [
         "Female",
         "Member",
         261,
         88146.94,
         337.73,
         6.94
        ],
        [
         "Female",
         "Normal",
         240,
         79735.98,
         332.23,
         6.99
        ],
        [
         "Male",
         "Normal",
         259,
         79007.32,
         305.05,
         7.02
        ],
        [
         "Male",
         "Member",
         240,
         76076.5,
         316.99,
         6.94
        ]
       ],
       "datasetInfos": [
        {
         "name": "_sqldf",
         "schema": {
          "fields": [
           {
            "metadata": {},
            "name": "Gender",
            "nullable": true,
            "type": "string"
           },
           {
            "metadata": {},
            "name": "Customer_Type",
            "nullable": true,
            "type": "string"
           },
           {
            "metadata": {},
            "name": "transactions",
            "nullable": false,
            "type": "long"
           },
           {
            "metadata": {},
            "name": "total_revenue",
            "nullable": true,
            "type": "double"
           },
           {
            "metadata": {},
            "name": "avg_transaction_value",
            "nullable": true,
            "type": "double"
           },
           {
            "metadata": {},
            "name": "avg_rating",
            "nullable": true,
            "type": "double"
           }
          ],
          "type": "struct"
         },
         "tableIdentifier": null,
         "typeStr": "pyspark.sql.connect.dataframe.DataFrame"
        }
       ],
       "dbfsResultPath": null,
       "isJsonSchema": true,
       "metadata": {
        "createTempViewForImplicitDf": true,
        "dataframeName": "_sqldf",
        "executionCount": 33
       },
       "overflow": false,
       "plotOptions": {
        "customPlotOptions": {},
        "displayType": "table",
        "pivotAggregation": null,
        "pivotColumns": null,
        "xColumns": null,
        "yColumns": null
       },
       "removedWidgets": [],
       "schema": [
        {
         "metadata": "{}",
         "name": "Gender",
         "type": "\"string\""
        },
        {
         "metadata": "{}",
         "name": "Customer_Type",
         "type": "\"string\""
        },
        {
         "metadata": "{}",
         "name": "transactions",
         "type": "\"long\""
        },
        {
         "metadata": "{}",
         "name": "total_revenue",
         "type": "\"double\""
        },
        {
         "metadata": "{}",
         "name": "avg_transaction_value",
         "type": "\"double\""
        },
        {
         "metadata": "{}",
         "name": "avg_rating",
         "type": "\"double\""
        }
       ],
       "type": "table"
      }
     },
     "output_type": "display_data"
    }
   ],
   "source": [
    "%sql\n",
    "-- Gender-based Analysis\n",
    "SELECT \n",
    "  Gender,\n",
    "  Customer_Type,\n",
    "  COUNT(*) as transactions,\n",
    "  ROUND(SUM(Total), 2) as total_revenue,\n",
    "  ROUND(AVG(Total), 2) as avg_transaction_value,\n",
    "  ROUND(AVG(Rating), 2) as avg_rating\n",
    "FROM `supermarket_sales`.`sales_silver`.`cleansed_sales_data`\n",
    "GROUP BY Gender, Customer_Type\n",
    "ORDER BY total_revenue DESC"
   ]
  },
  {
   "cell_type": "code",
   "execution_count": 0,
   "metadata": {
    "application/vnd.databricks.v1+cell": {
     "cellMetadata": {
      "byteLimit": 2048000,
      "implicitDf": true,
      "rowLimit": 10000
     },
     "inputWidgets": {},
     "nuid": "6p7q8r9s-0t1u-2v3w-4x5y-6z7a8b9c0d1e",
     "showTitle": false,
     "tableResultSettingsMap": {},
     "title": ""
    }
   },
   "outputs": [
    {
     "output_type": "display_data",
     "data": {
      "text/html": [
       "<style scoped>\n",
       "  .table-result-container {\n",
       "    max-height: 300px;\n",
       "    overflow: auto;\n",
       "  }\n",
       "  table, th, td {\n",
       "    border: 1px solid black;\n",
       "    border-collapse: collapse;\n",
       "  }\n",
       "  th, td {\n",
       "    padding: 5px;\n",
       "  }\n",
       "  th {\n",
       "    text-align: left;\n",
       "  }\n",
       "</style><div class='table-result-container'><table class='table-result'><thead style='background-color: white'><tr><th>Customer_Type</th><th>Product_Line</th><th>purchases</th><th>revenue</th><th>avg_rating</th></tr></thead><tbody><tr><td>Member</td><td>Food and beverages</td><td>94</td><td>31357.62</td><td>7.0</td></tr><tr><td>Member</td><td>Sports and travel</td><td>87</td><td>28234.3</td><td>6.82</td></tr><tr><td>Member</td><td>Home and lifestyle</td><td>83</td><td>27978.03</td><td>6.87</td></tr><tr><td>Member</td><td>Fashion accessories</td><td>86</td><td>26323.96</td><td>6.95</td></tr><tr><td>Member</td><td>Health and beauty</td><td>73</td><td>25831.04</td><td>7.08</td></tr><tr><td>Member</td><td>Electronic accessories</td><td>78</td><td>24498.49</td><td>6.95</td></tr><tr><td>Normal</td><td>Electronic accessories</td><td>92</td><td>29839.04</td><td>6.9</td></tr><tr><td>Normal</td><td>Fashion accessories</td><td>92</td><td>27981.93</td><td>7.11</td></tr><tr><td>Normal</td><td>Sports and travel</td><td>79</td><td>26888.53</td><td>7.03</td></tr><tr><td>Normal</td><td>Home and lifestyle</td><td>77</td><td>25883.89</td><td>6.8</td></tr><tr><td>Normal</td><td>Food and beverages</td><td>80</td><td>24787.22</td><td>7.25</td></tr><tr><td>Normal</td><td>Health and beauty</td><td>79</td><td>23362.7</td><td>6.93</td></tr></tbody></table></div>"
      ]
     },
     "metadata": {
      "application/vnd.databricks.v1+output": {
       "addedWidgets": {},
       "aggData": [],
       "aggError": "",
       "aggOverflow": false,
       "aggSchema": [],
       "aggSeriesLimitReached": false,
       "aggType": "",
       "arguments": {},
       "columnCustomDisplayInfos": {},
       "data": [
        [
         "Member",
         "Food and beverages",
         94,
         31357.62,
         7.0
        ],
        [
         "Member",
         "Sports and travel",
         87,
         28234.3,
         6.82
        ],
        [
         "Member",
         "Home and lifestyle",
         83,
         27978.03,
         6.87
        ],
        [
         "Member",
         "Fashion accessories",
         86,
         26323.96,
         6.95
        ],
        [
         "Member",
         "Health and beauty",
         73,
         25831.04,
         7.08
        ],
        [
         "Member",
         "Electronic accessories",
         78,
         24498.49,
         6.95
        ],
        [
         "Normal",
         "Electronic accessories",
         92,
         29839.04,
         6.9
        ],
        [
         "Normal",
         "Fashion accessories",
         92,
         27981.93,
         7.11
        ],
        [
         "Normal",
         "Sports and travel",
         79,
         26888.53,
         7.03
        ],
        [
         "Normal",
         "Home and lifestyle",
         77,
         25883.89,
         6.8
        ],
        [
         "Normal",
         "Food and beverages",
         80,
         24787.22,
         7.25
        ],
        [
         "Normal",
         "Health and beauty",
         79,
         23362.7,
         6.93
        ]
       ],
       "datasetInfos": [
        {
         "name": "_sqldf",
         "schema": {
          "fields": [
           {
            "metadata": {},
            "name": "Customer_Type",
            "nullable": true,
            "type": "string"
           },
           {
            "metadata": {},
            "name": "Product_Line",
            "nullable": true,
            "type": "string"
           },
           {
            "metadata": {},
            "name": "purchases",
            "nullable": false,
            "type": "long"
           },
           {
            "metadata": {},
            "name": "revenue",
            "nullable": true,
            "type": "double"
           },
           {
            "metadata": {},
            "name": "avg_rating",
            "nullable": true,
            "type": "double"
           }
          ],
          "type": "struct"
         },
         "tableIdentifier": null,
         "typeStr": "pyspark.sql.connect.dataframe.DataFrame"
        }
       ],
       "dbfsResultPath": null,
       "isJsonSchema": true,
       "metadata": {
        "createTempViewForImplicitDf": true,
        "dataframeName": "_sqldf",
        "executionCount": 32
       },
       "overflow": false,
       "plotOptions": {
        "customPlotOptions": {},
        "displayType": "table",
        "pivotAggregation": null,
        "pivotColumns": null,
        "xColumns": null,
        "yColumns": null
       },
       "removedWidgets": [],
       "schema": [
        {
         "metadata": "{}",
         "name": "Customer_Type",
         "type": "\"string\""
        },
        {
         "metadata": "{}",
         "name": "Product_Line",
         "type": "\"string\""
        },
        {
         "metadata": "{}",
         "name": "purchases",
         "type": "\"long\""
        },
        {
         "metadata": "{}",
         "name": "revenue",
         "type": "\"double\""
        },
        {
         "metadata": "{}",
         "name": "avg_rating",
         "type": "\"double\""
        }
       ],
       "type": "table"
      }
     },
     "output_type": "display_data"
    }
   ],
   "source": [
    "%sql\n",
    "-- Product preference by customer segment\n",
    "SELECT \n",
    "  Customer_Type,\n",
    "  Product_Line,\n",
    "  COUNT(*) as purchases,\n",
    "  ROUND(SUM(Total), 2) as revenue,\n",
    "  ROUND(AVG(Rating), 2) as avg_rating\n",
    "FROM `supermarket_sales`.`sales_silver`.`cleansed_sales_data`\n",
    "GROUP BY Customer_Type, Product_Line\n",
    "ORDER BY Customer_Type, revenue DESC"
   ]
  },
  {
   "cell_type": "markdown",
   "metadata": {
    "application/vnd.databricks.v1+cell": {
     "cellMetadata": {},
     "inputWidgets": {},
     "nuid": "7q8r9s0t-1u2v-3w4x-5y6z-7a8b9c0d1e2f",
     "showTitle": false,
     "tableResultSettingsMap": {},
     "title": ""
    }
   },
   "source": [
    "## KPI 5: Payment Method Preferences\n",
    "\n",
    "Understanding customer payment behavior and its impact on business."
   ]
  },
  {
   "cell_type": "code",
   "execution_count": 0,
   "metadata": {
    "application/vnd.databricks.v1+cell": {
     "cellMetadata": {
      "byteLimit": 2048000,
      "implicitDf": true,
      "rowLimit": 10000
     },
     "inputWidgets": {},
     "nuid": "8r9s0t1u-2v3w-4x5y-6z7a-8b9c0d1e2f3g",
     "showTitle": false,
     "tableResultSettingsMap": {},
     "title": ""
    }
   },
   "outputs": [
    {
     "output_type": "display_data",
     "data": {
      "text/html": [
       "<style scoped>\n",
       "  .table-result-container {\n",
       "    max-height: 300px;\n",
       "    overflow: auto;\n",
       "  }\n",
       "  table, th, td {\n",
       "    border: 1px solid black;\n",
       "    border-collapse: collapse;\n",
       "  }\n",
       "  th, td {\n",
       "    padding: 5px;\n",
       "  }\n",
       "  th {\n",
       "    text-align: left;\n",
       "  }\n",
       "</style><div class='table-result-container'><table class='table-result'><thead style='background-color: white'><tr><th>Payment</th><th>transactions</th><th>total_revenue</th><th>avg_transaction_value</th><th>avg_rating</th><th>usage_percentage</th></tr></thead><tbody><tr><td>Ewallet</td><td>345</td><td>109993.11</td><td>318.82</td><td>6.95</td><td>34.50</td></tr><tr><td>Cash</td><td>344</td><td>112206.57</td><td>326.18</td><td>6.97</td><td>34.40</td></tr><tr><td>Credit card</td><td>311</td><td>100767.07</td><td>324.01</td><td>7.0</td><td>31.10</td></tr></tbody></table></div>"
      ]
     },
     "metadata": {
      "application/vnd.databricks.v1+output": {
       "addedWidgets": {},
       "aggData": [],
       "aggError": "",
       "aggOverflow": false,
       "aggSchema": [],
       "aggSeriesLimitReached": false,
       "aggType": "",
       "arguments": {},
       "columnCustomDisplayInfos": {},
       "data": [
        [
         "Ewallet",
         345,
         109993.11,
         318.82,
         6.95,
         "34.50"
        ],
        [
         "Cash",
         344,
         112206.57,
         326.18,
         6.97,
         "34.40"
        ],
        [
         "Credit card",
         311,
         100767.07,
         324.01,
         7.0,
         "31.10"
        ]
       ],
       "datasetInfos": [
        {
         "name": "_sqldf",
         "schema": {
          "fields": [
           {
            "metadata": {},
            "name": "Payment",
            "nullable": true,
            "type": "string"
           },
           {
            "metadata": {},
            "name": "transactions",
            "nullable": false,
            "type": "long"
           },
           {
            "metadata": {},
            "name": "total_revenue",
            "nullable": true,
            "type": "double"
           },
           {
            "metadata": {},
            "name": "avg_transaction_value",
            "nullable": true,
            "type": "double"
           },
           {
            "metadata": {},
            "name": "avg_rating",
            "nullable": true,
            "type": "double"
           },
           {
            "metadata": {},
            "name": "usage_percentage",
            "nullable": true,
            "type": "decimal(27,2)"
           }
          ],
          "type": "struct"
         },
         "tableIdentifier": null,
         "typeStr": "pyspark.sql.connect.dataframe.DataFrame"
        }
       ],
       "dbfsResultPath": null,
       "isJsonSchema": true,
       "metadata": {
        "createTempViewForImplicitDf": true,
        "dataframeName": "_sqldf",
        "executionCount": 31
       },
       "overflow": false,
       "plotOptions": {
        "customPlotOptions": {},
        "displayType": "table",
        "pivotAggregation": null,
        "pivotColumns": null,
        "xColumns": null,
        "yColumns": null
       },
       "removedWidgets": [],
       "schema": [
        {
         "metadata": "{}",
         "name": "Payment",
         "type": "\"string\""
        },
        {
         "metadata": "{}",
         "name": "transactions",
         "type": "\"long\""
        },
        {
         "metadata": "{}",
         "name": "total_revenue",
         "type": "\"double\""
        },
        {
         "metadata": "{}",
         "name": "avg_transaction_value",
         "type": "\"double\""
        },
        {
         "metadata": "{}",
         "name": "avg_rating",
         "type": "\"double\""
        },
        {
         "metadata": "{}",
         "name": "usage_percentage",
         "type": "\"decimal(27,2)\""
        }
       ],
       "type": "table"
      }
     },
     "output_type": "display_data"
    }
   ],
   "source": [
    "%sql\n",
    "-- Payment Method Analysis\n",
    "SELECT \n",
    "  Payment,\n",
    "  COUNT(*) as transactions,\n",
    "  ROUND(SUM(Total), 2) as total_revenue,\n",
    "  ROUND(AVG(Total), 2) as avg_transaction_value,\n",
    "  ROUND(AVG(Rating), 2) as avg_rating,\n",
    "  ROUND(COUNT(*) * 100.0 / (SELECT COUNT(*) FROM `supermarket_sales`.`sales_silver`.`cleansed_sales_data`), 2) as usage_percentage\n",
    "FROM `supermarket_sales`.`sales_silver`.`cleansed_sales_data`\n",
    "GROUP BY Payment\n",
    "ORDER BY transactions DESC"
   ]
  },
  {
   "cell_type": "code",
   "execution_count": 0,
   "metadata": {
    "application/vnd.databricks.v1+cell": {
     "cellMetadata": {
      "byteLimit": 2048000,
      "implicitDf": true,
      "rowLimit": 10000
     },
     "inputWidgets": {},
     "nuid": "9s0t1u2v-3w4x-5y6z-7a8b-9c0d1e2f3g4h",
     "showTitle": false,
     "tableResultSettingsMap": {},
     "title": ""
    }
   },
   "outputs": [
    {
     "output_type": "display_data",
     "data": {
      "text/html": [
       "<style scoped>\n",
       "  .table-result-container {\n",
       "    max-height: 300px;\n",
       "    overflow: auto;\n",
       "  }\n",
       "  table, th, td {\n",
       "    border: 1px solid black;\n",
       "    border-collapse: collapse;\n",
       "  }\n",
       "  th, td {\n",
       "    padding: 5px;\n",
       "  }\n",
       "  th {\n",
       "    text-align: left;\n",
       "  }\n",
       "</style><div class='table-result-container'><table class='table-result'><thead style='background-color: white'><tr><th>City</th><th>Customer_Type</th><th>Payment</th><th>transactions</th><th>revenue</th></tr></thead><tbody><tr><td>MANDALAY</td><td>Member</td><td>Credit card</td><td>63</td><td>22607.97</td></tr><tr><td>MANDALAY</td><td>Member</td><td>Cash</td><td>53</td><td>16914.48</td></tr><tr><td>MANDALAY</td><td>Member</td><td>Ewallet</td><td>49</td><td>14182.23</td></tr><tr><td>MANDALAY</td><td>Normal</td><td>Ewallet</td><td>64</td><td>19331.12</td></tr><tr><td>MANDALAY</td><td>Normal</td><td>Cash</td><td>57</td><td>18424.98</td></tr><tr><td>MANDALAY</td><td>Normal</td><td>Credit card</td><td>46</td><td>14736.89</td></tr><tr><td>NAYPYITAW</td><td>Member</td><td>Credit card</td><td>60</td><td>19962.27</td></tr><tr><td>NAYPYITAW</td><td>Member</td><td>Cash</td><td>59</td><td>20063.84</td></tr><tr><td>NAYPYITAW</td><td>Member</td><td>Ewallet</td><td>50</td><td>16855.17</td></tr><tr><td>NAYPYITAW</td><td>Normal</td><td>Cash</td><td>65</td><td>23022.02</td></tr><tr><td>NAYPYITAW</td><td>Normal</td><td>Ewallet</td><td>56</td><td>20300.22</td></tr><tr><td>NAYPYITAW</td><td>Normal</td><td>Credit card</td><td>38</td><td>10365.19</td></tr><tr><td>YANGON</td><td>Member</td><td>Ewallet</td><td>62</td><td>20753.55</td></tr><tr><td>YANGON</td><td>Member</td><td>Cash</td><td>56</td><td>17682.69</td></tr><tr><td>YANGON</td><td>Member</td><td>Credit card</td><td>49</td><td>15201.23</td></tr><tr><td>YANGON</td><td>Normal</td><td>Ewallet</td><td>64</td><td>18570.81</td></tr><tr><td>YANGON</td><td>Normal</td><td>Credit card</td><td>55</td><td>17893.52</td></tr><tr><td>YANGON</td><td>Normal</td><td>Cash</td><td>54</td><td>16098.56</td></tr></tbody></table></div>"
      ]
     },
     "metadata": {
      "application/vnd.databricks.v1+output": {
       "addedWidgets": {},
       "aggData": [],
       "aggError": "",
       "aggOverflow": false,
       "aggSchema": [],
       "aggSeriesLimitReached": false,
       "aggType": "",
       "arguments": {},
       "columnCustomDisplayInfos": {},
       "data": [
        [
         "MANDALAY",
         "Member",
         "Credit card",
         63,
         22607.97
        ],
        [
         "MANDALAY",
         "Member",
         "Cash",
         53,
         16914.48
        ],
        [
         "MANDALAY",
         "Member",
         "Ewallet",
         49,
         14182.23
        ],
        [
         "MANDALAY",
         "Normal",
         "Ewallet",
         64,
         19331.12
        ],
        [
         "MANDALAY",
         "Normal",
         "Cash",
         57,
         18424.98
        ],
        [
         "MANDALAY",
         "Normal",
         "Credit card",
         46,
         14736.89
        ],
        [
         "NAYPYITAW",
         "Member",
         "Credit card",
         60,
         19962.27
        ],
        [
         "NAYPYITAW",
         "Member",
         "Cash",
         59,
         20063.84
        ],
        [
         "NAYPYITAW",
         "Member",
         "Ewallet",
         50,
         16855.17
        ],
        [
         "NAYPYITAW",
         "Normal",
         "Cash",
         65,
         23022.02
        ],
        [
         "NAYPYITAW",
         "Normal",
         "Ewallet",
         56,
         20300.22
        ],
        [
         "NAYPYITAW",
         "Normal",
         "Credit card",
         38,
         10365.19
        ],
        [
         "YANGON",
         "Member",
         "Ewallet",
         62,
         20753.55
        ],
        [
         "YANGON",
         "Member",
         "Cash",
         56,
         17682.69
        ],
        [
         "YANGON",
         "Member",
         "Credit card",
         49,
         15201.23
        ],
        [
         "YANGON",
         "Normal",
         "Ewallet",
         64,
         18570.81
        ],
        [
         "YANGON",
         "Normal",
         "Credit card",
         55,
         17893.52
        ],
        [
         "YANGON",
         "Normal",
         "Cash",
         54,
         16098.56
        ]
       ],
       "datasetInfos": [
        {
         "name": "_sqldf",
         "schema": {
          "fields": [
           {
            "metadata": {},
            "name": "City",
            "nullable": true,
            "type": "string"
           },
           {
            "metadata": {},
            "name": "Customer_Type",
            "nullable": true,
            "type": "string"
           },
           {
            "metadata": {},
            "name": "Payment",
            "nullable": true,
            "type": "string"
           },
           {
            "metadata": {},
            "name": "transactions",
            "nullable": false,
            "type": "long"
           },
           {
            "metadata": {},
            "name": "revenue",
            "nullable": true,
            "type": "double"
           }
          ],
          "type": "struct"
         },
         "tableIdentifier": null,
         "typeStr": "pyspark.sql.connect.dataframe.DataFrame"
        }
       ],
       "dbfsResultPath": null,
       "isJsonSchema": true,
       "metadata": {
        "createTempViewForImplicitDf": true,
        "dataframeName": "_sqldf",
        "executionCount": 29
       },
       "overflow": false,
       "plotOptions": {
        "customPlotOptions": {},
        "displayType": "table",
        "pivotAggregation": null,
        "pivotColumns": null,
        "xColumns": null,
        "yColumns": null
       },
       "removedWidgets": [],
       "schema": [
        {
         "metadata": "{}",
         "name": "City",
         "type": "\"string\""
        },
        {
         "metadata": "{}",
         "name": "Customer_Type",
         "type": "\"string\""
        },
        {
         "metadata": "{}",
         "name": "Payment",
         "type": "\"string\""
        },
        {
         "metadata": "{}",
         "name": "transactions",
         "type": "\"long\""
        },
        {
         "metadata": "{}",
         "name": "revenue",
         "type": "\"double\""
        }
       ],
       "type": "table"
      }
     },
     "output_type": "display_data"
    }
   ],
   "source": [
    "%sql\n",
    "-- Payment preference by customer type and location\n",
    "SELECT \n",
    "  City,\n",
    "  Customer_Type,\n",
    "  Payment,\n",
    "  COUNT(*) as transactions,\n",
    "  ROUND(SUM(Total), 2) as revenue\n",
    "FROM `supermarket_sales`.`sales_silver`.`cleansed_sales_data`\n",
    "GROUP BY City, Customer_Type, Payment\n",
    "ORDER BY City, Customer_Type, transactions DESC"
   ]
  },
  {
   "cell_type": "markdown",
   "metadata": {
    "application/vnd.databricks.v1+cell": {
     "cellMetadata": {},
     "inputWidgets": {},
     "nuid": "0t1u2v3w-4x5y-6z7a-8b9c-0d1e2f3g4h5i",
     "showTitle": false,
     "tableResultSettingsMap": {},
     "title": ""
    }
   },
   "source": [
    "## KPI 6: Time-Based Analysis\n",
    "\n",
    "Understanding sales patterns over time and identifying peak periods."
   ]
  },
  {
   "cell_type": "code",
   "execution_count": 0,
   "metadata": {
    "application/vnd.databricks.v1+cell": {
     "cellMetadata": {
      "byteLimit": 2048000,
      "implicitDf": true,
      "rowLimit": 10000
     },
     "inputWidgets": {},
     "nuid": "1u2v3w4x-5y6z-7a8b-9c0d-1e2f3g4h5i6j",
     "showTitle": false,
     "tableResultSettingsMap": {},
     "title": ""
    }
   },
   "outputs": [
    {
     "output_type": "display_data",
     "data": {
      "text/html": [
       "<style scoped>\n",
       "  .table-result-container {\n",
       "    max-height: 300px;\n",
       "    overflow: auto;\n",
       "  }\n",
       "  table, th, td {\n",
       "    border: 1px solid black;\n",
       "    border-collapse: collapse;\n",
       "  }\n",
       "  th, td {\n",
       "    padding: 5px;\n",
       "  }\n",
       "  th {\n",
       "    text-align: left;\n",
       "  }\n",
       "</style><div class='table-result-container'><table class='table-result'><thead style='background-color: white'><tr><th>month</th><th>transactions</th><th>total_revenue</th><th>total_profit</th><th>avg_transaction_value</th><th>avg_rating</th></tr></thead><tbody><tr><td>2019-01</td><td>352</td><td>116291.87</td><td>5537.71</td><td>330.37</td><td>7.02</td></tr><tr><td>2019-02</td><td>303</td><td>97219.37</td><td>4629.49</td><td>320.86</td><td>7.07</td></tr><tr><td>2019-03</td><td>345</td><td>109455.51</td><td>5212.17</td><td>317.26</td><td>6.84</td></tr></tbody></table></div>"
      ]
     },
     "metadata": {
      "application/vnd.databricks.v1+output": {
       "addedWidgets": {},
       "aggData": [],
       "aggError": "",
       "aggOverflow": false,
       "aggSchema": [],
       "aggSeriesLimitReached": false,
       "aggType": "",
       "arguments": {},
       "columnCustomDisplayInfos": {},
       "data": [
        [
         "2019-01",
         352,
         116291.87,
         5537.71,
         330.37,
         7.02
        ],
        [
         "2019-02",
         303,
         97219.37,
         4629.49,
         320.86,
         7.07
        ],
        [
         "2019-03",
         345,
         109455.51,
         5212.17,
         317.26,
         6.84
        ]
       ],
       "datasetInfos": [
        {
         "name": "_sqldf",
         "schema": {
          "fields": [
           {
            "metadata": {},
            "name": "month",
            "nullable": true,
            "type": "string"
           },
           {
            "metadata": {},
            "name": "transactions",
            "nullable": false,
            "type": "long"
           },
           {
            "metadata": {},
            "name": "total_revenue",
            "nullable": true,
            "type": "double"
           },
           {
            "metadata": {},
            "name": "total_profit",
            "nullable": true,
            "type": "double"
           },
           {
            "metadata": {},
            "name": "avg_transaction_value",
            "nullable": true,
            "type": "double"
           },
           {
            "metadata": {},
            "name": "avg_rating",
            "nullable": true,
            "type": "double"
           }
          ],
          "type": "struct"
         },
         "tableIdentifier": null,
         "typeStr": "pyspark.sql.connect.dataframe.DataFrame"
        }
       ],
       "dbfsResultPath": null,
       "isJsonSchema": true,
       "metadata": {
        "createTempViewForImplicitDf": true,
        "dataframeName": "_sqldf",
        "executionCount": 28
       },
       "overflow": false,
       "plotOptions": {
        "customPlotOptions": {},
        "displayType": "table",
        "pivotAggregation": null,
        "pivotColumns": null,
        "xColumns": null,
        "yColumns": null
       },
       "removedWidgets": [],
       "schema": [
        {
         "metadata": "{}",
         "name": "month",
         "type": "\"string\""
        },
        {
         "metadata": "{}",
         "name": "transactions",
         "type": "\"long\""
        },
        {
         "metadata": "{}",
         "name": "total_revenue",
         "type": "\"double\""
        },
        {
         "metadata": "{}",
         "name": "total_profit",
         "type": "\"double\""
        },
        {
         "metadata": "{}",
         "name": "avg_transaction_value",
         "type": "\"double\""
        },
        {
         "metadata": "{}",
         "name": "avg_rating",
         "type": "\"double\""
        }
       ],
       "type": "table"
      }
     },
     "output_type": "display_data"
    }
   ],
   "source": [
    "%sql\n",
    "-- Monthly Sales Trends\n",
    "SELECT \n",
    "  DATE_FORMAT(Date, 'yyyy-MM') as month,\n",
    "  COUNT(*) as transactions,\n",
    "  ROUND(SUM(Total), 2) as total_revenue,\n",
    "  ROUND(SUM(Gross_Income), 2) as total_profit,\n",
    "  ROUND(AVG(Total), 2) as avg_transaction_value,\n",
    "  ROUND(AVG(Rating), 2) as avg_rating\n",
    "FROM `supermarket_sales`.`sales_silver`.`cleansed_sales_data`\n",
    "GROUP BY DATE_FORMAT(Date, 'yyyy-MM')\n",
    "ORDER BY month"
   ]
  },
  {
   "cell_type": "code",
   "execution_count": 0,
   "metadata": {
    "application/vnd.databricks.v1+cell": {
     "cellMetadata": {
      "byteLimit": 2048000,
      "implicitDf": true,
      "rowLimit": 10000
     },
     "inputWidgets": {},
     "nuid": "2v3w4x5y-6z7a-8b9c-0d1e-2f3g4h5i6j7k",
     "showTitle": false,
     "tableResultSettingsMap": {},
     "title": ""
    }
   },
   "outputs": [
    {
     "output_type": "display_data",
     "data": {
      "text/html": [
       "<style scoped>\n",
       "  .table-result-container {\n",
       "    max-height: 300px;\n",
       "    overflow: auto;\n",
       "  }\n",
       "  table, th, td {\n",
       "    border: 1px solid black;\n",
       "    border-collapse: collapse;\n",
       "  }\n",
       "  th, td {\n",
       "    padding: 5px;\n",
       "  }\n",
       "  th {\n",
       "    text-align: left;\n",
       "  }\n",
       "</style><div class='table-result-container'><table class='table-result'><thead style='background-color: white'><tr><th>day_of_week</th><th>day_name</th><th>transactions</th><th>total_revenue</th><th>avg_transaction_value</th></tr></thead><tbody><tr><td>1</td><td>Sunday</td><td>133</td><td>44457.89</td><td>334.27</td></tr><tr><td>2</td><td>Monday</td><td>125</td><td>37899.08</td><td>303.19</td></tr><tr><td>3</td><td>Tuesday</td><td>158</td><td>51482.25</td><td>325.84</td></tr><tr><td>4</td><td>Wednesday</td><td>143</td><td>43731.14</td><td>305.81</td></tr><tr><td>5</td><td>Thursday</td><td>138</td><td>45349.25</td><td>328.62</td></tr><tr><td>6</td><td>Friday</td><td>139</td><td>43926.34</td><td>316.02</td></tr><tr><td>7</td><td>Saturday</td><td>164</td><td>56120.81</td><td>342.2</td></tr></tbody></table></div>"
      ]
     },
     "metadata": {
      "application/vnd.databricks.v1+output": {
       "addedWidgets": {},
       "aggData": [],
       "aggError": "",
       "aggOverflow": false,
       "aggSchema": [],
       "aggSeriesLimitReached": false,
       "aggType": "",
       "arguments": {},
       "columnCustomDisplayInfos": {},
       "data": [
        [
         1,
         "Sunday",
         133,
         44457.89,
         334.27
        ],
        [
         2,
         "Monday",
         125,
         37899.08,
         303.19
        ],
        [
         3,
         "Tuesday",
         158,
         51482.25,
         325.84
        ],
        [
         4,
         "Wednesday",
         143,
         43731.14,
         305.81
        ],
        [
         5,
         "Thursday",
         138,
         45349.25,
         328.62
        ],
        [
         6,
         "Friday",
         139,
         43926.34,
         316.02
        ],
        [
         7,
         "Saturday",
         164,
         56120.81,
         342.2
        ]
       ],
       "datasetInfos": [
        {
         "name": "_sqldf",
         "schema": {
          "fields": [
           {
            "metadata": {},
            "name": "day_of_week",
            "nullable": true,
            "type": "integer"
           },
           {
            "metadata": {},
            "name": "day_name",
            "nullable": true,
            "type": "string"
           },
           {
            "metadata": {},
            "name": "transactions",
            "nullable": false,
            "type": "long"
           },
           {
            "metadata": {},
            "name": "total_revenue",
            "nullable": true,
            "type": "double"
           },
           {
            "metadata": {},
            "name": "avg_transaction_value",
            "nullable": true,
            "type": "double"
           }
          ],
          "type": "struct"
         },
         "tableIdentifier": null,
         "typeStr": "pyspark.sql.connect.dataframe.DataFrame"
        }
       ],
       "dbfsResultPath": null,
       "isJsonSchema": true,
       "metadata": {
        "createTempViewForImplicitDf": true,
        "dataframeName": "_sqldf",
        "executionCount": 27
       },
       "overflow": false,
       "plotOptions": {
        "customPlotOptions": {},
        "displayType": "table",
        "pivotAggregation": null,
        "pivotColumns": null,
        "xColumns": null,
        "yColumns": null
       },
       "removedWidgets": [],
       "schema": [
        {
         "metadata": "{}",
         "name": "day_of_week",
         "type": "\"integer\""
        },
        {
         "metadata": "{}",
         "name": "day_name",
         "type": "\"string\""
        },
        {
         "metadata": "{}",
         "name": "transactions",
         "type": "\"long\""
        },
        {
         "metadata": "{}",
         "name": "total_revenue",
         "type": "\"double\""
        },
        {
         "metadata": "{}",
         "name": "avg_transaction_value",
         "type": "\"double\""
        }
       ],
       "type": "table"
      }
     },
     "output_type": "display_data"
    }
   ],
   "source": [
    "%sql\n",
    "-- Daily Sales Pattern (Day of Week)\n",
    "SELECT \n",
    "  DAYOFWEEK(Date) as day_of_week,\n",
    "  CASE \n",
    "    WHEN DAYOFWEEK(Date) = 1 THEN 'Sunday'\n",
    "    WHEN DAYOFWEEK(Date) = 2 THEN 'Monday'\n",
    "    WHEN DAYOFWEEK(Date) = 3 THEN 'Tuesday'\n",
    "    WHEN DAYOFWEEK(Date) = 4 THEN 'Wednesday'\n",
    "    WHEN DAYOFWEEK(Date) = 5 THEN 'Thursday'\n",
    "    WHEN DAYOFWEEK(Date) = 6 THEN 'Friday'\n",
    "    WHEN DAYOFWEEK(Date) = 7 THEN 'Saturday'\n",
    "  END as day_name,\n",
    "  COUNT(*) as transactions,\n",
    "  ROUND(SUM(Total), 2) as total_revenue,\n",
    "  ROUND(AVG(Total), 2) as avg_transaction_value\n",
    "FROM `supermarket_sales`.`sales_silver`.`cleansed_sales_data`\n",
    "GROUP BY DAYOFWEEK(Date)\n",
    "ORDER BY day_of_week"
   ]
  },
  {
   "cell_type": "code",
   "execution_count": 0,
   "metadata": {
    "application/vnd.databricks.v1+cell": {
     "cellMetadata": {
      "byteLimit": 2048000,
      "implicitDf": true,
      "rowLimit": 10000
     },
     "inputWidgets": {},
     "nuid": "3w4x5y6z-7a8b-9c0d-1e2f-3g4h5i6j7k8l",
     "showTitle": false,
     "tableResultSettingsMap": {},
     "title": ""
    }
   },
   "outputs": [
    {
     "output_type": "display_data",
     "data": {
      "text/html": [
       "<style scoped>\n",
       "  .table-result-container {\n",
       "    max-height: 300px;\n",
       "    overflow: auto;\n",
       "  }\n",
       "  table, th, td {\n",
       "    border: 1px solid black;\n",
       "    border-collapse: collapse;\n",
       "  }\n",
       "  th, td {\n",
       "    padding: 5px;\n",
       "  }\n",
       "  th {\n",
       "    text-align: left;\n",
       "  }\n",
       "</style><div class='table-result-container'><table class='table-result'><thead style='background-color: white'><tr><th>hour_of_day</th><th>transactions</th><th>total_revenue</th><th>avg_transaction_value</th></tr></thead><tbody><tr><td>10</td><td>101</td><td>31421.48</td><td>311.1</td></tr><tr><td>11</td><td>90</td><td>30377.33</td><td>337.53</td></tr><tr><td>12</td><td>89</td><td>26065.88</td><td>292.88</td></tr><tr><td>13</td><td>103</td><td>34723.23</td><td>337.12</td></tr><tr><td>14</td><td>83</td><td>30828.4</td><td>371.43</td></tr><tr><td>15</td><td>102</td><td>31179.51</td><td>305.68</td></tr><tr><td>16</td><td>77</td><td>25226.32</td><td>327.61</td></tr><tr><td>17</td><td>74</td><td>24445.22</td><td>330.34</td></tr><tr><td>18</td><td>93</td><td>26030.34</td><td>279.9</td></tr><tr><td>19</td><td>113</td><td>39699.51</td><td>351.32</td></tr><tr><td>20</td><td>75</td><td>22969.53</td><td>306.26</td></tr></tbody></table></div>"
      ]
     },
     "metadata": {
      "application/vnd.databricks.v1+output": {
       "addedWidgets": {},
       "aggData": [],
       "aggError": "",
       "aggOverflow": false,
       "aggSchema": [],
       "aggSeriesLimitReached": false,
       "aggType": "",
       "arguments": {},
       "columnCustomDisplayInfos": {},
       "data": [
        [
         10,
         101,
         31421.48,
         311.1
        ],
        [
         11,
         90,
         30377.33,
         337.53
        ],
        [
         12,
         89,
         26065.88,
         292.88
        ],
        [
         13,
         103,
         34723.23,
         337.12
        ],
        [
         14,
         83,
         30828.4,
         371.43
        ],
        [
         15,
         102,
         31179.51,
         305.68
        ],
        [
         16,
         77,
         25226.32,
         327.61
        ],
        [
         17,
         74,
         24445.22,
         330.34
        ],
        [
         18,
         93,
         26030.34,
         279.9
        ],
        [
         19,
         113,
         39699.51,
         351.32
        ],
        [
         20,
         75,
         22969.53,
         306.26
        ]
       ],
       "datasetInfos": [
        {
         "name": "_sqldf",
         "schema": {
          "fields": [
           {
            "metadata": {},
            "name": "hour_of_day",
            "nullable": true,
            "type": "integer"
           },
           {
            "metadata": {},
            "name": "transactions",
            "nullable": false,
            "type": "long"
           },
           {
            "metadata": {},
            "name": "total_revenue",
            "nullable": true,
            "type": "double"
           },
           {
            "metadata": {},
            "name": "avg_transaction_value",
            "nullable": true,
            "type": "double"
           }
          ],
          "type": "struct"
         },
         "tableIdentifier": null,
         "typeStr": "pyspark.sql.connect.dataframe.DataFrame"
        }
       ],
       "dbfsResultPath": null,
       "isJsonSchema": true,
       "metadata": {
        "createTempViewForImplicitDf": true,
        "dataframeName": "_sqldf",
        "executionCount": 26
       },
       "overflow": false,
       "plotOptions": {
        "customPlotOptions": {},
        "displayType": "table",
        "pivotAggregation": null,
        "pivotColumns": null,
        "xColumns": null,
        "yColumns": null
       },
       "removedWidgets": [],
       "schema": [
        {
         "metadata": "{}",
         "name": "hour_of_day",
         "type": "\"integer\""
        },
        {
         "metadata": "{}",
         "name": "transactions",
         "type": "\"long\""
        },
        {
         "metadata": "{}",
         "name": "total_revenue",
         "type": "\"double\""
        },
        {
         "metadata": "{}",
         "name": "avg_transaction_value",
         "type": "\"double\""
        }
       ],
       "type": "table"
      }
     },
     "output_type": "display_data"
    }
   ],
   "source": [
    "%sql\n",
    "-- Hourly Sales Pattern\n",
    "SELECT \n",
    "  HOUR(Time) as hour_of_day,\n",
    "  COUNT(*) as transactions,\n",
    "  ROUND(SUM(Total), 2) as total_revenue,\n",
    "  ROUND(AVG(Total), 2) as avg_transaction_value\n",
    "FROM `supermarket_sales`.`sales_silver`.`cleansed_sales_data`\n",
    "GROUP BY HOUR(Time)\n",
    "ORDER BY hour_of_day"
   ]
  },
  {
   "cell_type": "markdown",
   "metadata": {
    "application/vnd.databricks.v1+cell": {
     "cellMetadata": {},
     "inputWidgets": {},
     "nuid": "4x5y6z7a-8b9c-0d1e-2f3g-4h5i6j7k8l9m",
     "showTitle": false,
     "tableResultSettingsMap": {},
     "title": ""
    }
   },
   "source": [
    "## KPI 7: Customer Satisfaction & Quality Metrics\n",
    "\n",
    "Analyzing customer ratings and satisfaction across different dimensions."
   ]
  },
  {
   "cell_type": "code",
   "execution_count": 0,
   "metadata": {
    "application/vnd.databricks.v1+cell": {
     "cellMetadata": {
      "byteLimit": 2048000,
      "implicitDf": true,
      "rowLimit": 10000
     },
     "inputWidgets": {},
     "nuid": "5y6z7a8b-9c0d-1e2f-3g4h-5i6j7k8l9m0n",
     "showTitle": false,
     "tableResultSettingsMap": {},
     "title": ""
    }
   },
   "outputs": [
    {
     "output_type": "display_data",
     "data": {
      "text/html": [
       "<style scoped>\n",
       "  .table-result-container {\n",
       "    max-height: 300px;\n",
       "    overflow: auto;\n",
       "  }\n",
       "  table, th, td {\n",
       "    border: 1px solid black;\n",
       "    border-collapse: collapse;\n",
       "  }\n",
       "  th, td {\n",
       "    padding: 5px;\n",
       "  }\n",
       "  th {\n",
       "    text-align: left;\n",
       "  }\n",
       "</style><div class='table-result-container'><table class='table-result'><thead style='background-color: white'><tr><th>rating_category</th><th>transactions</th><th>percentage</th><th>total_revenue</th></tr></thead><tbody><tr><td>Very Good (8.0-8.9)</td><td>163</td><td>16.30</td><td>53519.5</td></tr><tr><td>Good (7.0-7.9)</td><td>172</td><td>17.20</td><td>53379.15</td></tr><tr><td>Excellent (9.0+)</td><td>166</td><td>16.60</td><td>52840.08</td></tr><tr><td>Poor (<6.0)</td><td>315</td><td>31.50</td><td>107280.17</td></tr><tr><td>Fair (6.0-6.9)</td><td>184</td><td>18.40</td><td>55947.84</td></tr></tbody></table></div>"
      ]
     },
     "metadata": {
      "application/vnd.databricks.v1+output": {
       "addedWidgets": {},
       "aggData": [],
       "aggError": "",
       "aggOverflow": false,
       "aggSchema": [],
       "aggSeriesLimitReached": false,
       "aggType": "",
       "arguments": {},
       "columnCustomDisplayInfos": {},
       "data": [
        [
         "Very Good (8.0-8.9)",
         163,
         "16.30",
         53519.5
        ],
        [
         "Good (7.0-7.9)",
         172,
         "17.20",
         53379.15
        ],
        [
         "Excellent (9.0+)",
         166,
         "16.60",
         52840.08
        ],
        [
         "Poor (<6.0)",
         315,
         "31.50",
         107280.17
        ],
        [
         "Fair (6.0-6.9)",
         184,
         "18.40",
         55947.84
        ]
       ],
       "datasetInfos": [
        {
         "name": "_sqldf",
         "schema": {
          "fields": [
           {
            "metadata": {},
            "name": "rating_category",
            "nullable": false,
            "type": "string"
           },
           {
            "metadata": {},
            "name": "transactions",
            "nullable": false,
            "type": "long"
           },
           {
            "metadata": {},
            "name": "percentage",
            "nullable": true,
            "type": "decimal(27,2)"
           },
           {
            "metadata": {},
            "name": "total_revenue",
            "nullable": true,
            "type": "double"
           }
          ],
          "type": "struct"
         },
         "tableIdentifier": null,
         "typeStr": "pyspark.sql.connect.dataframe.DataFrame"
        }
       ],
       "dbfsResultPath": null,
       "isJsonSchema": true,
       "metadata": {
        "createTempViewForImplicitDf": true,
        "dataframeName": "_sqldf",
        "executionCount": 25
       },
       "overflow": false,
       "plotOptions": {
        "customPlotOptions": {},
        "displayType": "table",
        "pivotAggregation": null,
        "pivotColumns": null,
        "xColumns": null,
        "yColumns": null
       },
       "removedWidgets": [],
       "schema": [
        {
         "metadata": "{}",
         "name": "rating_category",
         "type": "\"string\""
        },
        {
         "metadata": "{}",
         "name": "transactions",
         "type": "\"long\""
        },
        {
         "metadata": "{}",
         "name": "percentage",
         "type": "\"decimal(27,2)\""
        },
        {
         "metadata": "{}",
         "name": "total_revenue",
         "type": "\"double\""
        }
       ],
       "type": "table"
      }
     },
     "output_type": "display_data"
    }
   ],
   "source": [
    "%sql\n",
    "-- Rating Distribution Analysis\n",
    "SELECT \n",
    "  CASE \n",
    "    WHEN Rating >= 9.0 THEN 'Excellent (9.0+)'\n",
    "    WHEN Rating >= 8.0 THEN 'Very Good (8.0-8.9)'\n",
    "    WHEN Rating >= 7.0 THEN 'Good (7.0-7.9)'\n",
    "    WHEN Rating >= 6.0 THEN 'Fair (6.0-6.9)'\n",
    "    ELSE 'Poor (<6.0)'\n",
    "  END as rating_category,\n",
    "  COUNT(*) as transactions,\n",
    "  ROUND(COUNT(*) * 100.0 / (SELECT COUNT(*) FROM `supermarket_sales`.`sales_silver`.`cleansed_sales_data`), 2) as percentage,\n",
    "  ROUND(SUM(Total), 2) as total_revenue\n",
    "FROM `supermarket_sales`.`sales_silver`.`cleansed_sales_data`\n",
    "GROUP BY \n",
    "  CASE \n",
    "    WHEN Rating >= 9.0 THEN 'Excellent (9.0+)'\n",
    "    WHEN Rating >= 8.0 THEN 'Very Good (8.0-8.9)'\n",
    "    WHEN Rating >= 7.0 THEN 'Good (7.0-7.9)'\n",
    "    WHEN Rating >= 6.0 THEN 'Fair (6.0-6.9)'\n",
    "    ELSE 'Poor (<6.0)'\n",
    "  END\n"
   ]
  },
  {
   "cell_type": "code",
   "execution_count": 0,
   "metadata": {
    "application/vnd.databricks.v1+cell": {
     "cellMetadata": {
      "byteLimit": 2048000,
      "implicitDf": true,
      "rowLimit": 10000
     },
     "inputWidgets": {},
     "nuid": "6z7a8b9c-0d1e-2f3g-4h5i-6j7k8l9m0n1o",
     "showTitle": false,
     "tableResultSettingsMap": {},
     "title": ""
    }
   },
   "outputs": [
    {
     "output_type": "display_data",
     "data": {
      "text/html": [
       "<style scoped>\n",
       "  .table-result-container {\n",
       "    max-height: 300px;\n",
       "    overflow: auto;\n",
       "  }\n",
       "  table, th, td {\n",
       "    border: 1px solid black;\n",
       "    border-collapse: collapse;\n",
       "  }\n",
       "  th, td {\n",
       "    padding: 5px;\n",
       "  }\n",
       "  th {\n",
       "    text-align: left;\n",
       "  }\n",
       "</style><div class='table-result-container'><table class='table-result'><thead style='background-color: white'><tr><th>City</th><th>Product_Line</th><th>avg_rating</th><th>transactions</th><th>total_revenue</th><th>avg_transaction_value</th></tr></thead><tbody><tr><td>NAYPYITAW</td><td>Fashion accessories</td><td>7.44</td><td>65</td><td>21560.07</td><td>331.69</td></tr><tr><td>YANGON</td><td>Sports and travel</td><td>7.26</td><td>59</td><td>19372.7</td><td>328.35</td></tr><tr><td>YANGON</td><td>Food and beverages</td><td>7.25</td><td>58</td><td>17163.1</td><td>295.92</td></tr><tr><td>MANDALAY</td><td>Electronic accessories</td><td>7.12</td><td>55</td><td>17051.44</td><td>310.03</td></tr><tr><td>MANDALAY</td><td>Health and beauty</td><td>7.1</td><td>53</td><td>19980.66</td><td>376.99</td></tr><tr><td>NAYPYITAW</td><td>Food and beverages</td><td>7.08</td><td>66</td><td>23766.85</td><td>360.1</td></tr><tr><td>NAYPYITAW</td><td>Home and lifestyle</td><td>7.06</td><td>45</td><td>13895.55</td><td>308.79</td></tr><tr><td>NAYPYITAW</td><td>Sports and travel</td><td>7.03</td><td>45</td><td>15761.93</td><td>350.27</td></tr><tr><td>NAYPYITAW</td><td>Health and beauty</td><td>7.0</td><td>52</td><td>16615.33</td><td>319.53</td></tr><tr><td>MANDALAY</td><td>Food and beverages</td><td>6.99</td><td>50</td><td>15214.89</td><td>304.3</td></tr><tr><td>YANGON</td><td>Home and lifestyle</td><td>6.93</td><td>65</td><td>22417.2</td><td>344.88</td></tr><tr><td>YANGON</td><td>Electronic accessories</td><td>6.91</td><td>60</td><td>18317.11</td><td>305.29</td></tr><tr><td>YANGON</td><td>Health and beauty</td><td>6.9</td><td>47</td><td>12597.75</td><td>268.04</td></tr><tr><td>YANGON</td><td>Fashion accessories</td><td>6.88</td><td>51</td><td>16332.51</td><td>320.25</td></tr><tr><td>NAYPYITAW</td><td>Electronic accessories</td><td>6.75</td><td>55</td><td>18968.97</td><td>344.89</td></tr><tr><td>MANDALAY</td><td>Fashion accessories</td><td>6.72</td><td>62</td><td>16413.32</td><td>264.73</td></tr><tr><td>MANDALAY</td><td>Home and lifestyle</td><td>6.52</td><td>50</td><td>17549.16</td><td>350.98</td></tr><tr><td>MANDALAY</td><td>Sports and travel</td><td>6.51</td><td>62</td><td>19988.2</td><td>322.39</td></tr></tbody></table></div>"
      ]
     },
     "metadata": {
      "application/vnd.databricks.v1+output": {
       "addedWidgets": {},
       "aggData": [],
       "aggError": "",
       "aggOverflow": false,
       "aggSchema": [],
       "aggSeriesLimitReached": false,
       "aggType": "",
       "arguments": {},
       "columnCustomDisplayInfos": {},
       "data": [
        [
         "NAYPYITAW",
         "Fashion accessories",
         7.44,
         65,
         21560.07,
         331.69
        ],
        [
         "YANGON",
         "Sports and travel",
         7.26,
         59,
         19372.7,
         328.35
        ],
        [
         "YANGON",
         "Food and beverages",
         7.25,
         58,
         17163.1,
         295.92
        ],
        [
         "MANDALAY",
         "Electronic accessories",
         7.12,
         55,
         17051.44,
         310.03
        ],
        [
         "MANDALAY",
         "Health and beauty",
         7.1,
         53,
         19980.66,
         376.99
        ],
        [
         "NAYPYITAW",
         "Food and beverages",
         7.08,
         66,
         23766.85,
         360.1
        ],
        [
         "NAYPYITAW",
         "Home and lifestyle",
         7.06,
         45,
         13895.55,
         308.79
        ],
        [
         "NAYPYITAW",
         "Sports and travel",
         7.03,
         45,
         15761.93,
         350.27
        ],
        [
         "NAYPYITAW",
         "Health and beauty",
         7.0,
         52,
         16615.33,
         319.53
        ],
        [
         "MANDALAY",
         "Food and beverages",
         6.99,
         50,
         15214.89,
         304.3
        ],
        [
         "YANGON",
         "Home and lifestyle",
         6.93,
         65,
         22417.2,
         344.88
        ],
        [
         "YANGON",
         "Electronic accessories",
         6.91,
         60,
         18317.11,
         305.29
        ],
        [
         "YANGON",
         "Health and beauty",
         6.9,
         47,
         12597.75,
         268.04
        ],
        [
         "YANGON",
         "Fashion accessories",
         6.88,
         51,
         16332.51,
         320.25
        ],
        [
         "NAYPYITAW",
         "Electronic accessories",
         6.75,
         55,
         18968.97,
         344.89
        ],
        [
         "MANDALAY",
         "Fashion accessories",
         6.72,
         62,
         16413.32,
         264.73
        ],
        [
         "MANDALAY",
         "Home and lifestyle",
         6.52,
         50,
         17549.16,
         350.98
        ],
        [
         "MANDALAY",
         "Sports and travel",
         6.51,
         62,
         19988.2,
         322.39
        ]
       ],
       "datasetInfos": [
        {
         "name": "_sqldf",
         "schema": {
          "fields": [
           {
            "metadata": {},
            "name": "City",
            "nullable": true,
            "type": "string"
           },
           {
            "metadata": {},
            "name": "Product_Line",
            "nullable": true,
            "type": "string"
           },
           {
            "metadata": {},
            "name": "avg_rating",
            "nullable": true,
            "type": "double"
           },
           {
            "metadata": {},
            "name": "transactions",
            "nullable": false,
            "type": "long"
           },
           {
            "metadata": {},
            "name": "total_revenue",
            "nullable": true,
            "type": "double"
           },
           {
            "metadata": {},
            "name": "avg_transaction_value",
            "nullable": true,
            "type": "double"
           }
          ],
          "type": "struct"
         },
         "tableIdentifier": null,
         "typeStr": "pyspark.sql.connect.dataframe.DataFrame"
        }
       ],
       "dbfsResultPath": null,
       "isJsonSchema": true,
       "metadata": {
        "createTempViewForImplicitDf": true,
        "dataframeName": "_sqldf",
        "executionCount": 22
       },
       "overflow": false,
       "plotOptions": {
        "customPlotOptions": {},
        "displayType": "table",
        "pivotAggregation": null,
        "pivotColumns": null,
        "xColumns": null,
        "yColumns": null
       },
       "removedWidgets": [],
       "schema": [
        {
         "metadata": "{}",
         "name": "City",
         "type": "\"string\""
        },
        {
         "metadata": "{}",
         "name": "Product_Line",
         "type": "\"string\""
        },
        {
         "metadata": "{}",
         "name": "avg_rating",
         "type": "\"double\""
        },
        {
         "metadata": "{}",
         "name": "transactions",
         "type": "\"long\""
        },
        {
         "metadata": "{}",
         "name": "total_revenue",
         "type": "\"double\""
        },
        {
         "metadata": "{}",
         "name": "avg_transaction_value",
         "type": "\"double\""
        }
       ],
       "type": "table"
      }
     },
     "output_type": "display_data"
    }
   ],
   "source": [
    "%sql\n",
    "-- Rating correlation with revenue\n",
    "SELECT \n",
    "  City,\n",
    "  Product_Line,\n",
    "  ROUND(AVG(Rating), 2) as avg_rating,\n",
    "  COUNT(*) as transactions,\n",
    "  ROUND(SUM(Total), 2) as total_revenue,\n",
    "  ROUND(AVG(Total), 2) as avg_transaction_value\n",
    "FROM `supermarket_sales`.`sales_silver`.`cleansed_sales_data`\n",
    "GROUP BY City, Product_Line\n",
    "ORDER BY avg_rating DESC, total_revenue DESC"
   ]
  },
  {
   "cell_type": "markdown",
   "metadata": {
    "application/vnd.databricks.v1+cell": {
     "cellMetadata": {},
     "inputWidgets": {},
     "nuid": "7a8b9c0d-1e2f-3g4h-5i6j-7k8l9m0n1o2p",
     "showTitle": false,
     "tableResultSettingsMap": {},
     "title": ""
    }
   },
   "source": [
    "## KPI 8: Profitability Analysis\n",
    "\n",
    "Deep dive into profit margins and cost analysis."
   ]
  },
  {
   "cell_type": "code",
   "execution_count": 0,
   "metadata": {
    "application/vnd.databricks.v1+cell": {
     "cellMetadata": {
      "byteLimit": 2048000,
      "implicitDf": true,
      "rowLimit": 10000
     },
     "inputWidgets": {},
     "nuid": "8b9c0d1e-2f3g-4h5i-6j7k-8l9m0n1o2p3q",
     "showTitle": false,
     "tableResultSettingsMap": {},
     "title": ""
    }
   },
   "outputs": [
    {
     "output_type": "display_data",
     "data": {
      "text/html": [
       "<style scoped>\n",
       "  .table-result-container {\n",
       "    max-height: 300px;\n",
       "    overflow: auto;\n",
       "  }\n",
       "  table, th, td {\n",
       "    border: 1px solid black;\n",
       "    border-collapse: collapse;\n",
       "  }\n",
       "  th, td {\n",
       "    padding: 5px;\n",
       "  }\n",
       "  th {\n",
       "    text-align: left;\n",
       "  }\n",
       "</style><div class='table-result-container'><table class='table-result'><thead style='background-color: white'><tr><th>Product_Line</th><th>transactions</th><th>total_revenue</th><th>total_costs</th><th>total_profit</th><th>avg_margin_pct</th><th>actual_margin_pct</th></tr></thead><tbody><tr><td>Food and beverages</td><td>174</td><td>56144.84</td><td>53471.28</td><td>2673.56</td><td>4.76</td><td>4.76</td></tr><tr><td>Sports and travel</td><td>166</td><td>55122.83</td><td>52497.93</td><td>2624.9</td><td>4.76</td><td>4.76</td></tr><tr><td>Electronic accessories</td><td>170</td><td>54337.53</td><td>51750.03</td><td>2587.5</td><td>4.76</td><td>4.76</td></tr><tr><td>Fashion accessories</td><td>178</td><td>54305.9</td><td>51719.9</td><td>2586.0</td><td>4.76</td><td>4.76</td></tr><tr><td>Home and lifestyle</td><td>160</td><td>53861.91</td><td>51297.06</td><td>2564.85</td><td>4.76</td><td>4.76</td></tr><tr><td>Health and beauty</td><td>152</td><td>49193.74</td><td>46851.18</td><td>2342.56</td><td>4.76</td><td>4.76</td></tr></tbody></table></div>"
      ]
     },
     "metadata": {
      "application/vnd.databricks.v1+output": {
       "addedWidgets": {},
       "aggData": [],
       "aggError": "",
       "aggOverflow": false,
       "aggSchema": [],
       "aggSeriesLimitReached": false,
       "aggType": "",
       "arguments": {},
       "columnCustomDisplayInfos": {},
       "data": [
        [
         "Food and beverages",
         174,
         56144.84,
         53471.28,
         2673.56,
         4.76,
         4.76
        ],
        [
         "Sports and travel",
         166,
         55122.83,
         52497.93,
         2624.9,
         4.76,
         4.76
        ],
        [
         "Electronic accessories",
         170,
         54337.53,
         51750.03,
         2587.5,
         4.76,
         4.76
        ],
        [
         "Fashion accessories",
         178,
         54305.9,
         51719.9,
         2586.0,
         4.76,
         4.76
        ],
        [
         "Home and lifestyle",
         160,
         53861.91,
         51297.06,
         2564.85,
         4.76,
         4.76
        ],
        [
         "Health and beauty",
         152,
         49193.74,
         46851.18,
         2342.56,
         4.76,
         4.76
        ]
       ],
       "datasetInfos": [
        {
         "name": "_sqldf",
         "schema": {
          "fields": [
           {
            "metadata": {},
            "name": "Product_Line",
            "nullable": true,
            "type": "string"
           },
           {
            "metadata": {},
            "name": "transactions",
            "nullable": false,
            "type": "long"
           },
           {
            "metadata": {},
            "name": "total_revenue",
            "nullable": true,
            "type": "double"
           },
           {
            "metadata": {},
            "name": "total_costs",
            "nullable": true,
            "type": "double"
           },
           {
            "metadata": {},
            "name": "total_profit",
            "nullable": true,
            "type": "double"
           },
           {
            "metadata": {},
            "name": "avg_margin_pct",
            "nullable": true,
            "type": "double"
           },
           {
            "metadata": {},
            "name": "actual_margin_pct",
            "nullable": true,
            "type": "double"
           }
          ],
          "type": "struct"
         },
         "tableIdentifier": null,
         "typeStr": "pyspark.sql.connect.dataframe.DataFrame"
        }
       ],
       "dbfsResultPath": null,
       "isJsonSchema": true,
       "metadata": {
        "createTempViewForImplicitDf": true,
        "dataframeName": "_sqldf",
        "executionCount": 12
       },
       "overflow": false,
       "plotOptions": {
        "customPlotOptions": {},
        "displayType": "table",
        "pivotAggregation": null,
        "pivotColumns": null,
        "xColumns": null,
        "yColumns": null
       },
       "removedWidgets": [],
       "schema": [
        {
         "metadata": "{}",
         "name": "Product_Line",
         "type": "\"string\""
        },
        {
         "metadata": "{}",
         "name": "transactions",
         "type": "\"long\""
        },
        {
         "metadata": "{}",
         "name": "total_revenue",
         "type": "\"double\""
        },
        {
         "metadata": "{}",
         "name": "total_costs",
         "type": "\"double\""
        },
        {
         "metadata": "{}",
         "name": "total_profit",
         "type": "\"double\""
        },
        {
         "metadata": "{}",
         "name": "avg_margin_pct",
         "type": "\"double\""
        },
        {
         "metadata": "{}",
         "name": "actual_margin_pct",
         "type": "\"double\""
        }
       ],
       "type": "table"
      }
     },
     "output_type": "display_data"
    }
   ],
   "source": [
    "%sql\n",
    "-- Profitability by Product Line\n",
    "SELECT \n",
    "  Product_Line,\n",
    "  COUNT(*) as transactions,\n",
    "  ROUND(SUM(Total), 2) as total_revenue,\n",
    "  ROUND(SUM(COGS), 2) as total_costs,\n",
    "  ROUND(SUM(Gross_Income), 2) as total_profit,\n",
    "  ROUND(AVG(Gross_Margin_Percentage), 2) as avg_margin_pct,\n",
    "  ROUND((SUM(Gross_Income) / SUM(Total)) * 100, 2) as actual_margin_pct\n",
    "FROM `supermarket_sales`.`sales_silver`.`cleansed_sales_data`\n",
    "GROUP BY Product_Line\n",
    "ORDER BY total_profit DESC"
   ]
  },
  {
   "cell_type": "code",
   "execution_count": 0,
   "metadata": {
    "application/vnd.databricks.v1+cell": {
     "cellMetadata": {
      "byteLimit": 2048000,
      "implicitDf": true,
      "rowLimit": 10000
     },
     "inputWidgets": {},
     "nuid": "9c0d1e2f-3g4h-5i6j-7k8l-9m0n1o2p3q4r",
     "showTitle": false,
     "tableResultSettingsMap": {},
     "title": ""
    }
   },
   "outputs": [
    {
     "output_type": "display_data",
     "data": {
      "text/html": [
       "<style scoped>\n",
       "  .table-result-container {\n",
       "    max-height: 300px;\n",
       "    overflow: auto;\n",
       "  }\n",
       "  table, th, td {\n",
       "    border: 1px solid black;\n",
       "    border-collapse: collapse;\n",
       "  }\n",
       "  th, td {\n",
       "    padding: 5px;\n",
       "  }\n",
       "  th {\n",
       "    text-align: left;\n",
       "  }\n",
       "</style><div class='table-result-container'><table class='table-result'><thead style='background-color: white'><tr><th>transaction_type</th><th>transactions</th><th>total_revenue</th><th>avg_transaction_value</th><th>avg_rating</th></tr></thead><tbody><tr><td>High Value (>500)</td><td>227</td><td>159554.63</td><td>702.88</td><td>6.86</td></tr><tr><td>Medium Value (100-500)</td><td>565</td><td>150299.87</td><td>266.02</td><td>7.08</td></tr><tr><td>Low Value (<100)</td><td>208</td><td>13112.25</td><td>63.04</td><td>6.8</td></tr></tbody></table></div>"
      ]
     },
     "metadata": {
      "application/vnd.databricks.v1+output": {
       "addedWidgets": {},
       "aggData": [],
       "aggError": "",
       "aggOverflow": false,
       "aggSchema": [],
       "aggSeriesLimitReached": false,
       "aggType": "",
       "arguments": {},
       "columnCustomDisplayInfos": {},
       "data": [
        [
         "High Value (>500)",
         227,
         159554.63,
         702.88,
         6.86
        ],
        [
         "Medium Value (100-500)",
         565,
         150299.87,
         266.02,
         7.08
        ],
        [
         "Low Value (<100)",
         208,
         13112.25,
         63.04,
         6.8
        ]
       ],
       "datasetInfos": [
        {
         "name": "_sqldf",
         "schema": {
          "fields": [
           {
            "metadata": {},
            "name": "transaction_type",
            "nullable": false,
            "type": "string"
           },
           {
            "metadata": {},
            "name": "transactions",
            "nullable": false,
            "type": "long"
           },
           {
            "metadata": {},
            "name": "total_revenue",
            "nullable": true,
            "type": "double"
           },
           {
            "metadata": {},
            "name": "avg_transaction_value",
            "nullable": true,
            "type": "double"
           },
           {
            "metadata": {},
            "name": "avg_rating",
            "nullable": true,
            "type": "double"
           }
          ],
          "type": "struct"
         },
         "tableIdentifier": null,
         "typeStr": "pyspark.sql.connect.dataframe.DataFrame"
        }
       ],
       "dbfsResultPath": null,
       "isJsonSchema": true,
       "metadata": {
        "createTempViewForImplicitDf": true,
        "dataframeName": "_sqldf",
        "executionCount": 10
       },
       "overflow": false,
       "plotOptions": {
        "customPlotOptions": {},
        "displayType": "table",
        "pivotAggregation": null,
        "pivotColumns": null,
        "xColumns": null,
        "yColumns": null
       },
       "removedWidgets": [],
       "schema": [
        {
         "metadata": "{}",
         "name": "transaction_type",
         "type": "\"string\""
        },
        {
         "metadata": "{}",
         "name": "transactions",
         "type": "\"long\""
        },
        {
         "metadata": "{}",
         "name": "total_revenue",
         "type": "\"double\""
        },
        {
         "metadata": "{}",
         "name": "avg_transaction_value",
         "type": "\"double\""
        },
        {
         "metadata": "{}",
         "name": "avg_rating",
         "type": "\"double\""
        }
       ],
       "type": "table"
      }
     },
     "output_type": "display_data"
    }
   ],
   "source": [
    "%sql\n",
    "-- High-value transaction analysis\n",
    "SELECT \n",
    "  'High Value (>500)' as transaction_type,\n",
    "  COUNT(*) as transactions,\n",
    "  ROUND(SUM(Total), 2) as total_revenue,\n",
    "  ROUND(AVG(Total), 2) as avg_transaction_value,\n",
    "  ROUND(AVG(Rating), 2) as avg_rating\n",
    "FROM `supermarket_sales`.`sales_silver`.`cleansed_sales_data`\n",
    "WHERE Total > 500\n",
    "\n",
    "UNION ALL\n",
    "\n",
    "SELECT \n",
    "  'Medium Value (100-500)' as transaction_type,\n",
    "  COUNT(*) as transactions,\n",
    "  ROUND(SUM(Total), 2) as total_revenue,\n",
    "  ROUND(AVG(Total), 2) as avg_transaction_value,\n",
    "  ROUND(AVG(Rating), 2) as avg_rating\n",
    "FROM `supermarket_sales`.`sales_silver`.`cleansed_sales_data`\n",
    "WHERE Total BETWEEN 100 AND 500\n",
    "\n",
    "UNION ALL\n",
    "\n",
    "SELECT \n",
    "  'Low Value (<100)' as transaction_type,\n",
    "  COUNT(*) as transactions,\n",
    "  ROUND(SUM(Total), 2) as total_revenue,\n",
    "  ROUND(AVG(Total), 2) as avg_transaction_value,\n",
    "  ROUND(AVG(Rating), 2) as avg_rating\n",
    "FROM `supermarket_sales`.`sales_silver`.`cleansed_sales_data`\n",
    "WHERE Total < 100\n",
    "\n",
    "ORDER BY avg_transaction_value DESC"
   ]
  },
  {
   "cell_type": "markdown",
   "metadata": {
    "application/vnd.databricks.v1+cell": {
     "cellMetadata": {},
     "inputWidgets": {},
     "nuid": "0d1e2f3g-4h5i-6j7k-8l9m-0n1o2p3q4r5s",
     "showTitle": false,
     "tableResultSettingsMap": {},
     "title": ""
    }
   },
   "source": [
    "## KPI 9: Executive Summary & Key Insights\n",
    "\n",
    "Final summary with actionable business insights."
   ]
  },
  {
   "cell_type": "code",
   "execution_count": 0,
   "metadata": {
    "application/vnd.databricks.v1+cell": {
     "cellMetadata": {
      "byteLimit": 2048000,
      "implicitDf": true,
      "rowLimit": 10000
     },
     "inputWidgets": {},
     "nuid": "1e2f3g4h-5i6j-7k8l-9m0n-1o2p3q4r5s6t",
     "showTitle": false,
     "tableResultSettingsMap": {},
     "title": ""
    }
   },
   "outputs": [
    {
     "output_type": "display_data",
     "data": {
      "text/html": [
       "<style scoped>\n",
       "  .table-result-container {\n",
       "    max-height: 300px;\n",
       "    overflow: auto;\n",
       "  }\n",
       "  table, th, td {\n",
       "    border: 1px solid black;\n",
       "    border-collapse: collapse;\n",
       "  }\n",
       "  th, td {\n",
       "    padding: 5px;\n",
       "  }\n",
       "  th {\n",
       "    text-align: left;\n",
       "  }\n",
       "</style><div class='table-result-container'><table class='table-result'><thead style='background-color: white'><tr><th>City</th><th>Product_Line</th><th>Customer_Type</th><th>transactions</th><th>revenue</th><th>avg_order_value</th><th>avg_rating</th><th>profit</th></tr></thead><tbody><tr><td>NAYPYITAW</td><td>Food and beverages</td><td>Member</td><td>36</td><td>13057.44</td><td>362.71</td><td>6.95</td><td>621.78</td></tr><tr><td>YANGON</td><td>Home and lifestyle</td><td>Member</td><td>34</td><td>12556.3</td><td>369.3</td><td>6.8</td><td>597.92</td></tr><tr><td>NAYPYITAW</td><td>Fashion accessories</td><td>Member</td><td>32</td><td>12041.85</td><td>376.31</td><td>7.64</td><td>573.42</td></tr><tr><td>MANDALAY</td><td>Health and beauty</td><td>Member</td><td>26</td><td>11327.82</td><td>435.69</td><td>7.18</td><td>539.42</td></tr><tr><td>NAYPYITAW</td><td>Electronic accessories</td><td>Normal</td><td>35</td><td>11041.02</td><td>315.46</td><td>6.95</td><td>525.76</td></tr><tr><td>NAYPYITAW</td><td>Food and beverages</td><td>Normal</td><td>30</td><td>10709.41</td><td>356.98</td><td>7.24</td><td>509.97</td></tr><tr><td>MANDALAY</td><td>Sports and travel</td><td>Member</td><td>30</td><td>10420.05</td><td>347.34</td><td>6.16</td><td>496.19</td></tr><tr><td>YANGON</td><td>Home and lifestyle</td><td>Normal</td><td>31</td><td>9860.9</td><td>318.09</td><td>7.07</td><td>469.57</td></tr><tr><td>MANDALAY</td><td>Home and lifestyle</td><td>Normal</td><td>29</td><td>9779.86</td><td>337.24</td><td>6.34</td><td>465.71</td></tr><tr><td>YANGON</td><td>Sports and travel</td><td>Normal</td><td>30</td><td>9695.74</td><td>323.19</td><td>7.18</td><td>461.7</td></tr><tr><td>YANGON</td><td>Sports and travel</td><td>Member</td><td>29</td><td>9676.96</td><td>333.69</td><td>7.34</td><td>460.81</td></tr><tr><td>MANDALAY</td><td>Electronic accessories</td><td>Normal</td><td>28</td><td>9626.59</td><td>343.81</td><td>7.06</td><td>458.41</td></tr><tr><td>MANDALAY</td><td>Sports and travel</td><td>Normal</td><td>32</td><td>9568.15</td><td>299.0</td><td>6.84</td><td>455.63</td></tr><tr><td>NAYPYITAW</td><td>Fashion accessories</td><td>Normal</td><td>33</td><td>9518.22</td><td>288.43</td><td>7.25</td><td>453.25</td></tr><tr><td>MANDALAY</td><td>Food and beverages</td><td>Member</td><td>29</td><td>9423.12</td><td>324.94</td><td>7.02</td><td>448.72</td></tr></tbody></table></div>"
      ]
     },
     "metadata": {
      "application/vnd.databricks.v1+output": {
       "addedWidgets": {},
       "aggData": [],
       "aggError": "",
       "aggOverflow": false,
       "aggSchema": [],
       "aggSeriesLimitReached": false,
       "aggType": "",
       "arguments": {},
       "columnCustomDisplayInfos": {},
       "data": [
        [
         "NAYPYITAW",
         "Food and beverages",
         "Member",
         36,
         13057.44,
         362.71,
         6.95,
         621.78
        ],
        [
         "YANGON",
         "Home and lifestyle",
         "Member",
         34,
         12556.3,
         369.3,
         6.8,
         597.92
        ],
        [
         "NAYPYITAW",
         "Fashion accessories",
         "Member",
         32,
         12041.85,
         376.31,
         7.64,
         573.42
        ],
        [
         "MANDALAY",
         "Health and beauty",
         "Member",
         26,
         11327.82,
         435.69,
         7.18,
         539.42
        ],
        [
         "NAYPYITAW",
         "Electronic accessories",
         "Normal",
         35,
         11041.02,
         315.46,
         6.95,
         525.76
        ],
        [
         "NAYPYITAW",
         "Food and beverages",
         "Normal",
         30,
         10709.41,
         356.98,
         7.24,
         509.97
        ],
        [
         "MANDALAY",
         "Sports and travel",
         "Member",
         30,
         10420.05,
         347.34,
         6.16,
         496.19
        ],
        [
         "YANGON",
         "Home and lifestyle",
         "Normal",
         31,
         9860.9,
         318.09,
         7.07,
         469.57
        ],
        [
         "MANDALAY",
         "Home and lifestyle",
         "Normal",
         29,
         9779.86,
         337.24,
         6.34,
         465.71
        ],
        [
         "YANGON",
         "Sports and travel",
         "Normal",
         30,
         9695.74,
         323.19,
         7.18,
         461.7
        ],
        [
         "YANGON",
         "Sports and travel",
         "Member",
         29,
         9676.96,
         333.69,
         7.34,
         460.81
        ],
        [
         "MANDALAY",
         "Electronic accessories",
         "Normal",
         28,
         9626.59,
         343.81,
         7.06,
         458.41
        ],
        [
         "MANDALAY",
         "Sports and travel",
         "Normal",
         32,
         9568.15,
         299.0,
         6.84,
         455.63
        ],
        [
         "NAYPYITAW",
         "Fashion accessories",
         "Normal",
         33,
         9518.22,
         288.43,
         7.25,
         453.25
        ],
        [
         "MANDALAY",
         "Food and beverages",
         "Member",
         29,
         9423.12,
         324.94,
         7.02,
         448.72
        ]
       ],
       "datasetInfos": [
        {
         "name": "_sqldf",
         "schema": {
          "fields": [
           {
            "metadata": {},
            "name": "City",
            "nullable": true,
            "type": "string"
           },
           {
            "metadata": {},
            "name": "Product_Line",
            "nullable": true,
            "type": "string"
           },
           {
            "metadata": {},
            "name": "Customer_Type",
            "nullable": true,
            "type": "string"
           },
           {
            "metadata": {},
            "name": "transactions",
            "nullable": false,
            "type": "long"
           },
           {
            "metadata": {},
            "name": "revenue",
            "nullable": true,
            "type": "double"
           },
           {
            "metadata": {},
            "name": "avg_order_value",
            "nullable": true,
            "type": "double"
           },
           {
            "metadata": {},
            "name": "avg_rating",
            "nullable": true,
            "type": "double"
           },
           {
            "metadata": {},
            "name": "profit",
            "nullable": true,
            "type": "double"
           }
          ],
          "type": "struct"
         },
         "tableIdentifier": null,
         "typeStr": "pyspark.sql.connect.dataframe.DataFrame"
        }
       ],
       "dbfsResultPath": null,
       "isJsonSchema": true,
       "metadata": {
        "createTempViewForImplicitDf": true,
        "dataframeName": "_sqldf",
        "executionCount": 9
       },
       "overflow": false,
       "plotOptions": {
        "customPlotOptions": {},
        "displayType": "table",
        "pivotAggregation": null,
        "pivotColumns": null,
        "xColumns": null,
        "yColumns": null
       },
       "removedWidgets": [],
       "schema": [
        {
         "metadata": "{}",
         "name": "City",
         "type": "\"string\""
        },
        {
         "metadata": "{}",
         "name": "Product_Line",
         "type": "\"string\""
        },
        {
         "metadata": "{}",
         "name": "Customer_Type",
         "type": "\"string\""
        },
        {
         "metadata": "{}",
         "name": "transactions",
         "type": "\"long\""
        },
        {
         "metadata": "{}",
         "name": "revenue",
         "type": "\"double\""
        },
        {
         "metadata": "{}",
         "name": "avg_order_value",
         "type": "\"double\""
        },
        {
         "metadata": "{}",
         "name": "avg_rating",
         "type": "\"double\""
        },
        {
         "metadata": "{}",
         "name": "profit",
         "type": "\"double\""
        }
       ],
       "type": "table"
      }
     },
     "output_type": "display_data"
    }
   ],
   "source": [
    "%sql\n",
    "-- Top performing combinations for strategic focus\n",
    "SELECT \n",
    "  City,\n",
    "  Product_Line,\n",
    "  Customer_Type,\n",
    "  COUNT(*) as transactions,\n",
    "  ROUND(SUM(Total), 2) as revenue,\n",
    "  ROUND(AVG(Total), 2) as avg_order_value,\n",
    "  ROUND(AVG(Rating), 2) as avg_rating,\n",
    "  ROUND(SUM(Gross_Income), 2) as profit\n",
    "FROM `supermarket_sales`.`sales_silver`.`cleansed_sales_data`\n",
    "GROUP BY City, Product_Line, Customer_Type\n",
    "HAVING COUNT(*) >= 5  -- Filter for significant combinations\n",
    "ORDER BY revenue DESC\n",
    "LIMIT 15"
   ]
  },
  {
   "cell_type": "code",
   "execution_count": 0,
   "metadata": {
    "application/vnd.databricks.v1+cell": {
     "cellMetadata": {
      "byteLimit": 2048000,
      "implicitDf": true,
      "rowLimit": 10000
     },
     "inputWidgets": {},
     "nuid": "2f3g4h5i-6j7k-8l9m-0n1o-2p3q4r5s6t7u",
     "showTitle": false,
     "tableResultSettingsMap": {},
     "title": ""
    }
   },
   "outputs": [
    {
     "output_type": "display_data",
     "data": {
      "text/html": [
       "<style scoped>\n",
       "  .table-result-container {\n",
       "    max-height: 300px;\n",
       "    overflow: auto;\n",
       "  }\n",
       "  table, th, td {\n",
       "    border: 1px solid black;\n",
       "    border-collapse: collapse;\n",
       "  }\n",
       "  th, td {\n",
       "    padding: 5px;\n",
       "  }\n",
       "  th {\n",
       "    text-align: left;\n",
       "  }\n",
       "</style><div class='table-result-container'><table class='table-result'><thead style='background-color: white'><tr><th>metric_type</th><th>average</th><th>median</th><th>top_25_percent</th><th>top_10_percent</th><th>rating_avg</th><th>rating_range</th></tr></thead><tbody><tr><td>Transaction Value Benchmarks</td><td>322.97</td><td>253.85</td><td>471.35</td><td>718.91</td><td>null</td><td>null</td></tr><tr><td>Customer Rating Benchmarks</td><td>null</td><td>null</td><td>null</td><td>null</td><td>6.97</td><td>4.0 - 10.0</td></tr></tbody></table></div>"
      ]
     },
     "metadata": {
      "application/vnd.databricks.v1+output": {
       "addedWidgets": {},
       "aggData": [],
       "aggError": "",
       "aggOverflow": false,
       "aggSchema": [],
       "aggSeriesLimitReached": false,
       "aggType": "",
       "arguments": {},
       "columnCustomDisplayInfos": {},
       "data": [
        [
         "Transaction Value Benchmarks",
         322.97,
         253.85,
         471.35,
         718.91,
         null,
         null
        ],
        [
         "Customer Rating Benchmarks",
         null,
         null,
         null,
         null,
         6.97,
         "4.0 - 10.0"
        ]
       ],
       "datasetInfos": [
        {
         "name": "_sqldf",
         "schema": {
          "fields": [
           {
            "metadata": {},
            "name": "metric_type",
            "nullable": false,
            "type": "string"
           },
           {
            "metadata": {},
            "name": "average",
            "nullable": true,
            "type": "double"
           },
           {
            "metadata": {},
            "name": "median",
            "nullable": true,
            "type": "double"
           },
           {
            "metadata": {},
            "name": "top_25_percent",
            "nullable": true,
            "type": "double"
           },
           {
            "metadata": {},
            "name": "top_10_percent",
            "nullable": true,
            "type": "double"
           },
           {
            "metadata": {},
            "name": "rating_avg",
            "nullable": true,
            "type": "double"
           },
           {
            "metadata": {},
            "name": "rating_range",
            "nullable": true,
            "type": "string"
           }
          ],
          "type": "struct"
         },
         "tableIdentifier": null,
         "typeStr": "pyspark.sql.connect.dataframe.DataFrame"
        }
       ],
       "dbfsResultPath": null,
       "isJsonSchema": true,
       "metadata": {
        "createTempViewForImplicitDf": true,
        "dataframeName": "_sqldf",
        "executionCount": 8
       },
       "overflow": false,
       "plotOptions": {
        "customPlotOptions": {},
        "displayType": "table",
        "pivotAggregation": null,
        "pivotColumns": null,
        "xColumns": null,
        "yColumns": null
       },
       "removedWidgets": [],
       "schema": [
        {
         "metadata": "{}",
         "name": "metric_type",
         "type": "\"string\""
        },
        {
         "metadata": "{}",
         "name": "average",
         "type": "\"double\""
        },
        {
         "metadata": "{}",
         "name": "median",
         "type": "\"double\""
        },
        {
         "metadata": "{}",
         "name": "top_25_percent",
         "type": "\"double\""
        },
        {
         "metadata": "{}",
         "name": "top_10_percent",
         "type": "\"double\""
        },
        {
         "metadata": "{}",
         "name": "rating_avg",
         "type": "\"double\""
        },
        {
         "metadata": "{}",
         "name": "rating_range",
         "type": "\"string\""
        }
       ],
       "type": "table"
      }
     },
     "output_type": "display_data"
    }
   ],
   "source": [
    "%sql\n",
    "-- Performance benchmarks and targets\n",
    "WITH stats AS (\n",
    "  SELECT \n",
    "    AVG(Total) as avg_transaction,\n",
    "    PERCENTILE_CONT(0.5) WITHIN GROUP (ORDER BY Total) as median_transaction,\n",
    "    PERCENTILE_CONT(0.75) WITHIN GROUP (ORDER BY Total) as p75_transaction,\n",
    "    PERCENTILE_CONT(0.90) WITHIN GROUP (ORDER BY Total) as p90_transaction,\n",
    "    AVG(Rating) as avg_rating,\n",
    "    MIN(Rating) as min_rating,\n",
    "    MAX(Rating) as max_rating\n",
    "  FROM `supermarket_sales`.`sales_silver`.`cleansed_sales_data`\n",
    ")\n",
    "SELECT \n",
    "  'Transaction Value Benchmarks' as metric_type,\n",
    "  ROUND(avg_transaction, 2) as average,\n",
    "  ROUND(median_transaction, 2) as median,\n",
    "  ROUND(p75_transaction, 2) as top_25_percent,\n",
    "  ROUND(p90_transaction, 2) as top_10_percent,\n",
    "  NULL as rating_avg,\n",
    "  NULL as rating_range\n",
    "FROM stats\n",
    "\n",
    "UNION ALL\n",
    "\n",
    "SELECT \n",
    "  'Customer Rating Benchmarks' as metric_type,\n",
    "  NULL as average,\n",
    "  NULL as median,\n",
    "  NULL as top_25_percent,\n",
    "  NULL as top_10_percent,\n",
    "  ROUND(avg_rating, 2) as rating_avg,\n",
    "  CONCAT(ROUND(min_rating, 1), ' - ', ROUND(max_rating, 1)) as rating_range\n",
    "FROM stats"
   ]
  },
  {
   "cell_type": "markdown",
   "metadata": {
    "application/vnd.databricks.v1+cell": {
     "cellMetadata": {},
     "inputWidgets": {},
     "nuid": "3g4h5i6j-7k8l-9m0n-1o2p-3q4r5s6t7u8v",
     "showTitle": false,
     "tableResultSettingsMap": {},
     "title": ""
    }
   },
   "source": [
    "## Key Business Insights & Recommendations\n",
    "\n",
    "Based on the analysis above, here are the critical insights:\n",
    "\n",
    "### 🏆 Top Performers\n",
    "- **Best performing city/branch combination**: Check the location performance results\n",
    "- **Most profitable product line**: Review product line analysis\n",
    "- **Highest-value customer segment**: Member vs Normal customer comparison\n",
    "\n",
    "### 📊 Key Metrics Summary\n",
    "1. **Revenue Concentration**: Identify which locations drive most sales\n",
    "2. **Product Mix**: Understand which categories perform best\n",
    "3. **Customer Loyalty**: Member vs Normal customer behavior patterns\n",
    "4. **Payment Preferences**: Customer payment method adoption\n",
    "5. **Time Patterns**: Peak selling hours and days\n",
    "6. **Satisfaction Levels**: Rating distribution and correlation with sales\n",
    "\n",
    "### 🎯 Strategic Recommendations\n",
    "1. **Focus on high-performing locations** for expansion or increased investment\n",
    "2. **Optimize product mix** based on profitability and customer ratings\n",
    "3. **Develop member retention programs** if members show higher value\n",
    "4. **Improve payment infrastructure** for preferred methods\n",
    "5. **Staff optimization** during peak hours identified in time analysis\n",
    "6. **Quality improvement** for low-rated product categories\n",
    "\n",
    "### 📈 Growth Opportunities\n",
    "- Product lines with high ratings but low volume\n",
    "- Underperforming locations with improvement potential\n",
    "- Customer segments with growth opportunity\n",
    "- Time slots with capacity for increased sales\n",
    "\n",
    "---\n",
    "*This analysis provides a comprehensive view of business performance across multiple dimensions. Use these insights to drive data-informed decision making and strategic planning.*"
   ]
  }
 ],
 "metadata": {
  "application/vnd.databricks.v1+notebook": {
   "computePreferences": null,
   "dashboards": [],
   "environmentMetadata": null,
   "inputWidgetPreferences": null,
   "language": "python",
   "notebookMetadata": {
    "mostRecentlyExecutedCommandWithImplicitDF": {
     "commandId": 5752308110035344,
     "dataframes": [
      "_sqldf"
     ]
    },
    "pythonIndentUnit": 4
   },
   "notebookName": "Supermarket_Sales_Analysis_v3",
   "widgets": {}
  },
  "kernelspec": {
   "display_name": "Python 3",
   "language": "python",
   "name": "python3"
  },
  "language_info": {
   "name": "python"
  }
 },
 "nbformat": 4,
 "nbformat_minor": 0
}
