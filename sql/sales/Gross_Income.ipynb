{
 "cells": [
  {
   "cell_type": "code",
   "execution_count": null,
   "metadata": {
    "vscode": {
     "languageId": "plaintext"
    }
   },
   "outputs": [],
   "source": [
    "SELECT Product_Line, AVG(Gross_Income) AS Average_Gross_Income\n",
    "FROM `random`.`default`.`sales`\n",
    "GROUP BY Product_Line;"
   ]
  }
 ],
 "metadata": {
  "language_info": {
   "name": "python"
  }
 },
 "nbformat": 4,
 "nbformat_minor": 2
}
