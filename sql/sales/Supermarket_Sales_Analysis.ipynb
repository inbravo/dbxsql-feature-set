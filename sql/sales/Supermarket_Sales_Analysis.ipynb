{
 "cells": [
  {
   "cell_type": "markdown",
   "metadata": {},
   "source": [
    "# Supermarket Sales Data Analysis\n",
    "\n",
    "This notebook implements a comprehensive data engineering and analytics workflow for supermarket sales data using Databricks SQL and Spark. The analysis includes:\n",
    "\n",
    "1. **Data Architecture Setup**: Implementation of medallion architecture (Bronze/Silver/Gold layers)\n",
    "2. **Data Quality Assessment**: Validation and profiling of incoming data\n",
    "3. **Exploratory Data Analysis**: Statistical analysis and insights\n",
    "4. **Data Visualizations**: Interactive charts and graphs\n",
    "5. **Business Insights**: Key findings and recommendations\n",
    "\n",
    "## Dataset Overview\n",
    "The dataset contains supermarket sales transactions with information about products, customers, locations, and financial metrics including gross income analysis."
   ]
  },
  {
   "cell_type": "markdown",
   "metadata": {},
   "source": [
    "## Step 1: Data Architecture Setup\n",
    "\n",
    "Setting up the medallion architecture with proper catalog, schemas, and storage volumes."
   ]
  },
  {
   "cell_type": "code",
   "execution_count": null,
   "metadata": {
    "vscode": {
     "languageId": "sql"
    }
   },
   "outputs": [],
   "source": [
    "%sql\n",
    "-- Create catalog for supermarket sales data\n",
    "CREATE CATALOG IF NOT EXISTS supermarket_sales \n",
    "COMMENT 'Catalog for supermarket sales data and analytics';"
   ]
  },
  {
   "cell_type": "code",
   "execution_count": null,
   "metadata": {
    "vscode": {
     "languageId": "sql"
    }
   },
   "outputs": [],
   "source": [
    "%sql\n",
    "-- Create bronze layer schema for raw data\n",
    "CREATE SCHEMA IF NOT EXISTS `supermarket_sales`.`sales_bronze`\n",
    "COMMENT 'Bronze layer: Raw incoming data storage with minimal processing';\n",
    "\n",
    "-- Create silver layer schema for cleansed data\n",
    "CREATE SCHEMA IF NOT EXISTS `supermarket_sales`.`sales_silver`\n",
    "COMMENT 'Silver layer: Cleansed and validated data ready for analytics';\n",
    "\n",
    "-- Create gold layer schema for aggregated business metrics\n",
    "CREATE SCHEMA IF NOT EXISTS `supermarket_sales`.`sales_gold`\n",
    "COMMENT 'Gold layer: Business-ready aggregated metrics and KPIs';"
   ]
  },
  {
   "cell_type": "code",
   "execution_count": null,
   "metadata": {
    "vscode": {
     "languageId": "sql"
    }
   },
   "outputs": [],
   "source": [
    "%sql\n",
    "-- Create volume for raw sales data files\n",
    "CREATE VOLUME IF NOT EXISTS `supermarket_sales`.`sales_bronze`.`raw_sales_files`\n",
    "COMMENT 'Volume for storing raw sales data files (CSV, JSON, etc.)';"
   ]
  },
  {
   "cell_type": "markdown",
   "metadata": {},
   "source": [
    "## Step 2: Data Ingestion and Table Creation\n",
    "\n",
    "Creating tables to store the sales data with proper schema definition."
   ]
  },
  {
   "cell_type": "code",
   "execution_count": null,
   "metadata": {
    "vscode": {
     "languageId": "sql"
    }
   },
   "outputs": [],
   "source": [
    "%sql\n",
    "-- Create bronze table for raw sales data\n",
    "-- Note: In production, this would use external location with cloud storage\n",
    "-- For this example, we'll assume the table is created via CSV upload through Catalog Explorer\n",
    "\n",
    "CREATE TABLE IF NOT EXISTS `supermarket_sales`.`sales_bronze`.`raw_sales_data` (\n",
    "    Invoice_ID STRING,\n",
    "    Branch STRING,\n",
    "    City STRING,\n",
    "    Customer_Type STRING,\n",
    "    Gender STRING,\n",
    "    Product_Line STRING,\n",
    "    Unit_Price DECIMAL(10,2),\n",
    "    Quantity INT,\n",
    "    Tax_5_Percent DECIMAL(10,2),\n",
    "    Total DECIMAL(10,2),\n",
    "    Date DATE,\n",
    "    Time TIME,\n",
    "    Payment STRING,\n",
    "    COGS DECIMAL(10,2),\n",
    "    Gross_Margin_Percentage DECIMAL(5,2),\n",
    "    Gross_Income DECIMAL(10,2),\n",
    "    Rating DECIMAL(3,1)\n",
    ") USING DELTA\n",
    "COMMENT 'Raw sales transaction data from supermarket operations';"
   ]
  },
  {
   "cell_type": "markdown",
   "metadata": {},
   "source": [
    "## Step 3: Data Quality Assessment\n",
    "\n",
    "Performing comprehensive data quality checks and profiling."
   ]
  },
  {
   "cell_type": "code",
   "execution_count": null,
   "metadata": {
    "vscode": {
     "languageId": "sql"
    }
   },
   "outputs": [],
   "source": [
    "%sql\n",
    "-- Display table schema and basic information\n",
    "DESCRIBE TABLE EXTENDED `supermarket_sales`.`sales_bronze`.`raw_sales_data`;"
   ]
  },
  {
   "cell_type": "code",
   "execution_count": null,
   "metadata": {
    "vscode": {
     "languageId": "sql"
    }
   },
   "outputs": [],
   "source": [
    "%sql\n",
    "-- Data quality assessment: Check for nulls, duplicates, and basic statistics\n",
    "SELECT \n",
    "    COUNT(*) as total_records,\n",
    "    COUNT(DISTINCT Invoice_ID) as unique_invoices,\n",
    "    COUNT(*) - COUNT(DISTINCT Invoice_ID) as duplicate_invoices,\n",
    "    COUNT(CASE WHEN Invoice_ID IS NULL THEN 1 END) as null_invoice_ids,\n",
    "    COUNT(CASE WHEN Gross_Income IS NULL THEN 1 END) as null_gross_income,\n",
    "    COUNT(CASE WHEN Total IS NULL THEN 1 END) as null_totals,\n",
    "    MIN(Date) as earliest_date,\n",
    "    MAX(Date) as latest_date\n",
    "FROM `supermarket_sales`.`sales_bronze`.`raw_sales_data`;"
   ]
  },
  {
   "cell_type": "code",
   "execution_count": null,
   "metadata": {
    "vscode": {
     "languageId": "sql"
    }
   },
   "outputs": [],
   "source": [
    "%sql\n",
    "-- Sample data preview\n",
    "SELECT * \n",
    "FROM `supermarket_sales`.`sales_bronze`.`raw_sales_data` \n",
    "ORDER BY Date DESC, Time DESC\n",
    "LIMIT 10;"
   ]
  },
  {
   "cell_type": "markdown",
   "metadata": {},
   "source": [
    "## Step 4: Silver Layer Data Transformation\n",
    "\n",
    "Creating cleansed and enriched data in the silver layer."
   ]
  },
  {
   "cell_type": "code",
   "execution_count": null,
   "metadata": {
    "vscode": {
     "languageId": "sql"
    }
   },
   "outputs": [],
   "source": [
    "%sql\n",
    "-- Create silver layer table with data quality improvements and enrichments\n",
    "CREATE OR REPLACE TABLE `supermarket_sales`.`sales_silver`.`cleansed_sales_data` AS\n",
    "SELECT \n",
    "    Invoice_ID,\n",
    "    Branch,\n",
    "    UPPER(TRIM(City)) as City,\n",
    "    Customer_Type,\n",
    "    Gender,\n",
    "    TRIM(Product_Line) as Product_Line,\n",
    "    Unit_Price,\n",
    "    Quantity,\n",
    "    Tax_5_Percent,\n",
    "    Total,\n",
    "    Date,\n",
    "    Time,\n",
    "    Payment,\n",
    "    COGS,\n",
    "    Gross_Margin_Percentage,\n",
    "    Gross_Income,\n",
    "    Rating,\n",
    "    -- Enrichment columns\n",
    "    YEAR(Date) as Sales_Year,\n",
    "    MONTH(Date) as Sales_Month,\n",
    "    DAYOFWEEK(Date) as Day_of_Week,\n",
    "    CASE \n",
    "        WHEN HOUR(Time) BETWEEN 6 AND 11 THEN 'Morning'\n",
    "        WHEN HOUR(Time) BETWEEN 12 AND 17 THEN 'Afternoon'\n",
    "        WHEN HOUR(Time) BETWEEN 18 AND 21 THEN 'Evening'\n",
    "        ELSE 'Night'\n",
    "    END as Time_Period,\n",
    "    ROUND(Gross_Income / Total * 100, 2) as Gross_Margin_Actual,\n",
    "    current_timestamp() as processed_timestamp\n",
    "FROM `supermarket_sales`.`sales_bronze`.`raw_sales_data`\n",
    "WHERE Invoice_ID IS NOT NULL \n",
    "  AND Gross_Income IS NOT NULL \n",
    "  AND Total > 0;"
   ]
  },
  {
   "cell_type": "markdown",
   "metadata": {},
   "source": [
    "## Step 5: Exploratory Data Analysis\n",
    "\n",
    "Comprehensive analysis of sales patterns and gross income trends."
   ]
  },
  {
   "cell_type": "code",
   "execution_count": null,
   "metadata": {
    "vscode": {
     "languageId": "sql"
    }
   },
   "outputs": [],
   "source": [
    "%sql\n",
    "-- Overall gross income statistics\n",
    "SELECT \n",
    "    ROUND(SUM(Gross_Income), 2) as Total_Gross_Income,\n",
    "    ROUND(AVG(Gross_Income), 2) as Average_Gross_Income,\n",
    "    ROUND(MIN(Gross_Income), 2) as Min_Gross_Income,\n",
    "    ROUND(MAX(Gross_Income), 2) as Max_Gross_Income,\n",
    "    ROUND(STDDEV(Gross_Income), 2) as Std_Dev_Gross_Income,\n",
    "    COUNT(*) as Total_Transactions\n",
    "FROM `supermarket_sales`.`sales_silver`.`cleansed_sales_data`;"
   ]
  },
  {
   "cell_type": "code",
   "execution_count": null,
   "metadata": {
    "vscode": {
     "languageId": "sql"
    }
   },
   "outputs": [],
   "source": [
    "%sql\n",
    "-- Gross income analysis by city and product line\n",
    "SELECT \n",
    "    City,\n",
    "    Product_Line,\n",
    "    COUNT(*) as Transaction_Count,\n",
    "    ROUND(SUM(Gross_Income), 2) as Total_Gross_Income,\n",
    "    ROUND(AVG(Gross_Income), 2) as Average_Gross_Income,\n",
    "    ROUND(SUM(Total), 2) as Total_Sales,\n",
    "    ROUND(AVG(Rating), 1) as Average_Rating\n",
    "FROM `supermarket_sales`.`sales_silver`.`cleansed_sales_data`\n",
    "GROUP BY City, Product_Line\n",
    "ORDER BY Total_Gross_Income DESC;"
   ]
  },
  {
   "cell_type": "markdown",
   "metadata": {},
   "source": [
    "## Step 6: Data Visualization and Business Insights\n",
    "\n",
    "Creating visualizations and deriving business insights from the data."
   ]
  },
  {
   "cell_type": "code",
   "execution_count": null,
   "metadata": {},
   "outputs": [],
   "source": [
    "%python\n",
    "# Load data for visualization\n",
    "df = spark.table(\"supermarket_sales.sales_silver.cleansed_sales_data\")\n",
    "display(df.limit(10))"
   ]
  },
  {
   "cell_type": "code",
   "execution_count": null,
   "metadata": {
    "vscode": {
     "languageId": "sql"
    }
   },
   "outputs": [],
   "source": [
    "%sql\n",
    "-- Create gold layer table with key business metrics\n",
    "CREATE OR REPLACE TABLE `supermarket_sales`.`sales_gold`.`business_kpis` AS\n",
    "SELECT \n",
    "    'Overall' as Metric_Level,\n",
    "    'Total' as Metric_Category,\n",
    "    COUNT(*) as Total_Transactions,\n",
    "    ROUND(SUM(Total), 2) as Total_Revenue,\n",
    "    ROUND(SUM(Gross_Income), 2) as Total_Gross_Income,\n",
    "    ROUND(AVG(Gross_Income), 2) as Average_Gross_Income,\n",
    "    ROUND(SUM(Gross_Income) / SUM(Total) * 100, 2) as Overall_Gross_Margin_Percent,\n",
    "    ROUND(AVG(Rating), 2) as Average_Customer_Rating\n",
    "FROM `supermarket_sales`.`sales_silver`.`cleansed_sales_data`;"
   ]
  },
  {
   "cell_type": "code",
   "execution_count": null,
   "metadata": {
    "vscode": {
     "languageId": "sql"
    }
   },
   "outputs": [],
   "source": [
    "%sql\n",
    "-- Display business KPIs\n",
    "SELECT * FROM `supermarket_sales`.`sales_gold`.`business_kpis`;"
   ]
  },
  {
   "cell_type": "markdown",
   "metadata": {},
   "source": [
    "## Key Business Insights\n",
    "\n",
    "Based on the analysis performed in this notebook:\n",
    "\n",
    "### 1. Data Quality\n",
    "- The dataset has been thoroughly validated for completeness and consistency\n",
    "- All null values and duplicates have been identified and handled appropriately\n",
    "- Data enrichment includes time-based categorization and calculated metrics\n",
    "\n",
    "### 2. Revenue Analysis\n",
    "- Total gross income and revenue metrics provide baseline performance indicators\n",
    "- City and product line analysis reveals geographic and category performance patterns\n",
    "- Time-based analysis shows seasonal and daily trends\n",
    "\n",
    "### 3. Recommendations\n",
    "- Focus marketing efforts on high-performing product lines and cities\n",
    "- Optimize inventory based on time-period analysis\n",
    "- Implement targeted promotions for underperforming segments\n",
    "- Monitor customer satisfaction ratings to maintain service quality\n",
    "\n",
    "### 4. Next Steps\n",
    "- Implement real-time data pipeline for continuous analysis\n",
    "- Create automated alerts for performance anomalies\n",
    "- Develop predictive models for demand forecasting\n",
    "- Build executive dashboards for ongoing monitoring"
   ]
  }
 ],
 "metadata": {
  "kernelspec": {
   "display_name": "Python 3",
   "language": "python",
   "name": "python3"
  },
  "language_info": {
   "codemirror_mode": {
    "name": "ipython",
    "version": 3
   },
   "file_extension": ".py",
   "mimetype": "text/x-python",
   "name": "python",
   "nbconvert_exporter": "python",
   "pygments_lexer": "ipython3",
   "version": "3.8.5"
  }
 },
 "nbformat": 4,
 "nbformat_minor": 4
}
