{
 "cells": [
  {
   "cell_type": "markdown",
   "metadata": {
    "application/vnd.databricks.v1+cell": {
     "cellMetadata": {},
     "inputWidgets": {},
     "nuid": "6f296d54-45b8-414b-a7c2-0e34ea69ecdb",
     "showTitle": false,
     "tableResultSettingsMap": {},
     "title": ""
    }
   },
   "source": [
    "# Supermarket Sales Data Analysis\n",
    "\n",
    "This notebook implements a comprehensive data engineering and analytics workflow for supermarket sales data using Databricks SQL and Spark. The analysis includes:\n",
    "\n",
    "1. **Data Architecture Setup**: Implementation of medallion architecture (Bronze/Silver/Gold layers)\n",
    "2. **Data Quality Assessment**: Validation and profiling of incoming data\n",
    "3. **Exploratory Data Analysis**: Statistical analysis and insights\n",
    "4. **Data Visualizations**: Interactive charts and graphs\n",
    "5. **Business Insights**: Key findings and recommendations\n",
    "\n",
    "## Dataset Overview\n",
    "The dataset contains supermarket sales transactions with information about products, customers, locations, and financial metrics including gross income analysis."
   ]
  },
  {
   "cell_type": "markdown",
   "metadata": {
    "application/vnd.databricks.v1+cell": {
     "cellMetadata": {},
     "inputWidgets": {},
     "nuid": "8d44e01f-eb92-4f35-bda2-afbaaf15fd87",
     "showTitle": false,
     "tableResultSettingsMap": {},
     "title": ""
    }
   },
   "source": [
    "## Step 1: Data Architecture Setup\n",
    "\n",
    "Setting up the medallion architecture with proper catalog, schemas, and storage volumes."
   ]
  },
  {
   "cell_type": "code",
   "execution_count": 0,
   "metadata": {
    "application/vnd.databricks.v1+cell": {
     "cellMetadata": {
      "byteLimit": 2048000,
      "implicitDf": true,
      "rowLimit": 10000
     },
     "inputWidgets": {},
     "nuid": "d544d2a4-2954-4e33-8467-316651a0f0e4",
     "showTitle": false,
     "tableResultSettingsMap": {},
     "title": ""
    },
    "vscode": {
     "languageId": "sql"
    }
   },
   "outputs": [],
   "source": [
    "%sql\n",
    "-- Create catalog for supermarket sales data\n",
    "CREATE CATALOG IF NOT EXISTS supermarket_sales \n",
    "COMMENT 'Catalog for supermarket sales data and analytics';"
   ]
  },
  {
   "cell_type": "code",
   "execution_count": 0,
   "metadata": {
    "application/vnd.databricks.v1+cell": {
     "cellMetadata": {
      "byteLimit": 2048000,
      "implicitDf": true,
      "rowLimit": 10000
     },
     "inputWidgets": {},
     "nuid": "e0abf1bd-329b-4441-80e6-cd79df12a51a",
     "showTitle": false,
     "tableResultSettingsMap": {},
     "title": ""
    },
    "vscode": {
     "languageId": "sql"
    }
   },
   "outputs": [],
   "source": [
    "%sql\n",
    "-- Create bronze layer schema for raw data\n",
    "CREATE SCHEMA IF NOT EXISTS `supermarket_sales`.`sales_bronze`\n",
    "COMMENT 'Bronze layer: Raw incoming data storage with minimal processing';\n",
    "\n",
    "-- Create silver layer schema for cleansed data\n",
    "CREATE SCHEMA IF NOT EXISTS `supermarket_sales`.`sales_silver`\n",
    "COMMENT 'Silver layer: Cleansed and validated data ready for analytics';\n",
    "\n",
    "-- Create gold layer schema for aggregated business metrics\n",
    "CREATE SCHEMA IF NOT EXISTS `supermarket_sales`.`sales_gold`\n",
    "COMMENT 'Gold layer: Business-ready aggregated metrics and KPIs';"
   ]
  },
  {
   "cell_type": "code",
   "execution_count": 0,
   "metadata": {
    "application/vnd.databricks.v1+cell": {
     "cellMetadata": {
      "byteLimit": 2048000,
      "implicitDf": true,
      "rowLimit": 10000
     },
     "inputWidgets": {},
     "nuid": "10491a20-46b2-4b08-9c39-263fca369c39",
     "showTitle": false,
     "tableResultSettingsMap": {},
     "title": ""
    },
    "vscode": {
     "languageId": "sql"
    }
   },
   "outputs": [],
   "source": [
    "%sql\n",
    "-- Create volume for raw sales data files\n",
    "CREATE VOLUME IF NOT EXISTS `supermarket_sales`.`sales_bronze`.`incoming_sales_data`\n",
    "COMMENT 'Volume for storing raw sales data files (CSV, JSON, etc.)';"
   ]
  },
  {
   "cell_type": "markdown",
   "metadata": {
    "application/vnd.databricks.v1+cell": {
     "cellMetadata": {},
     "inputWidgets": {},
     "nuid": "b13e8338-3c14-4988-a9f3-513389521bb5",
     "showTitle": false,
     "tableResultSettingsMap": {},
     "title": ""
    }
   },
   "source": [
    "## Step 2: Data Ingestion and Table Creation\n",
    "\n",
    "Creating tables to store the sales data with proper schema definition."
   ]
  },
  {
   "cell_type": "code",
   "execution_count": 0,
   "metadata": {
    "application/vnd.databricks.v1+cell": {
     "cellMetadata": {
      "byteLimit": 2048000,
      "implicitDf": true,
      "rowLimit": 10000
     },
     "inputWidgets": {},
     "nuid": "1dce41ca-3e2e-490e-92d2-1fb1a9bcaaa1",
     "showTitle": false,
     "tableResultSettingsMap": {},
     "title": ""
    },
    "vscode": {
     "languageId": "sql"
    }
   },
   "outputs": [],
   "source": [
    "%sql\n",
    "-- Create bronze table for raw sales data\n",
    "-- Note: In production, this would use external location with cloud storage\n",
    "-- For this example, we'll assume the table is created via CSV upload through Catalog Explorer\n",
    "\n",
    "CREATE TABLE IF NOT EXISTS `supermarket_sales`.`sales_bronze`.`raw_sales_data` (\n",
    "    Invoice_ID STRING,\n",
    "    Branch STRING,\n",
    "    City STRING,\n",
    "    Customer_Type STRING,\n",
    "    Gender STRING,\n",
    "    Product_Line STRING,\n",
    "    Unit_Price DECIMAL(10,2),\n",
    "    Quantity INT,\n",
    "    Tax_5_Percent DECIMAL(10,2),\n",
    "    Total DECIMAL(10,2),\n",
    "    Date DATE,\n",
    "    Time STRING,\n",
    "    Payment STRING,\n",
    "    COGS DECIMAL(10,2),\n",
    "    Gross_Margin_Percentage DECIMAL(5,2),\n",
    "    Gross_Income DECIMAL(10,2),\n",
    "    Rating DECIMAL(3,1)\n",
    ") USING DELTA\n",
    "COMMENT 'Raw sales transaction data from supermarket operations';"
   ]
  },
  {
   "cell_type": "markdown",
   "metadata": {
    "application/vnd.databricks.v1+cell": {
     "cellMetadata": {},
     "inputWidgets": {},
     "nuid": "a86e80f4-a1da-49f9-b012-244e685d50f3",
     "showTitle": false,
     "tableResultSettingsMap": {},
     "title": ""
    }
   },
   "source": [
    "## Step 3: Data Quality Assessment\n",
    "\n",
    "Performing comprehensive data quality checks and profiling."
   ]
  },
  {
   "cell_type": "code",
   "execution_count": 0,
   "metadata": {
    "application/vnd.databricks.v1+cell": {
     "cellMetadata": {
      "byteLimit": 2048000,
      "implicitDf": true,
      "rowLimit": 10000
     },
     "inputWidgets": {},
     "nuid": "b342774f-1b33-4521-b382-6f80b338873c",
     "showTitle": false,
     "tableResultSettingsMap": {},
     "title": ""
    },
    "vscode": {
     "languageId": "sql"
    }
   },
   "outputs": [
    {
     "output_type": "display_data",
     "data": {
      "text/html": [
       "<style scoped>\n",
       "  .table-result-container {\n",
       "    max-height: 300px;\n",
       "    overflow: auto;\n",
       "  }\n",
       "  table, th, td {\n",
       "    border: 1px solid black;\n",
       "    border-collapse: collapse;\n",
       "  }\n",
       "  th, td {\n",
       "    padding: 5px;\n",
       "  }\n",
       "  th {\n",
       "    text-align: left;\n",
       "  }\n",
       "</style><div class='table-result-container'><table class='table-result'><thead style='background-color: white'><tr><th>col_name</th><th>data_type</th><th>comment</th></tr></thead><tbody><tr><td>Invoice_ID</td><td>string</td><td>null</td></tr><tr><td>Branch</td><td>string</td><td>null</td></tr><tr><td>City</td><td>string</td><td>null</td></tr><tr><td>Customer_Type</td><td>string</td><td>null</td></tr><tr><td>Gender</td><td>string</td><td>null</td></tr><tr><td>Product_Line</td><td>string</td><td>null</td></tr><tr><td>Unit_Price</td><td>decimal(10,2)</td><td>null</td></tr><tr><td>Quantity</td><td>int</td><td>null</td></tr><tr><td>Tax_5_Percent</td><td>decimal(10,2)</td><td>null</td></tr><tr><td>Total</td><td>decimal(10,2)</td><td>null</td></tr><tr><td>Date</td><td>date</td><td>null</td></tr><tr><td>Time</td><td>string</td><td>null</td></tr><tr><td>Payment</td><td>string</td><td>null</td></tr><tr><td>COGS</td><td>decimal(10,2)</td><td>null</td></tr><tr><td>Gross_Margin_Percentage</td><td>decimal(5,2)</td><td>null</td></tr><tr><td>Gross_Income</td><td>decimal(10,2)</td><td>null</td></tr><tr><td>Rating</td><td>decimal(3,1)</td><td>null</td></tr><tr><td></td><td></td><td></td></tr><tr><td># Detailed Table Information</td><td></td><td></td></tr><tr><td>Catalog</td><td>supermarket_sales</td><td></td></tr><tr><td>Database</td><td>sales_bronze</td><td></td></tr><tr><td>Table</td><td>raw_sales_data</td><td></td></tr><tr><td>Created Time</td><td>Wed Aug 06 18:39:55 UTC 2025</td><td></td></tr><tr><td>Last Access</td><td>UNKNOWN</td><td></td></tr><tr><td>Created By</td><td>Spark </td><td></td></tr><tr><td>Type</td><td>MANAGED</td><td></td></tr><tr><td>Comment</td><td>Raw sales transaction data from supermarket operations</td><td></td></tr><tr><td>Location</td><td></td><td></td></tr><tr><td>Provider</td><td>delta</td><td></td></tr><tr><td>Owner</td><td>amit.dixit@impetus.com</td><td></td></tr><tr><td>Is_managed_location</td><td>true</td><td></td></tr><tr><td>Predictive Optimization</td><td>ENABLE (inherited from METASTORE metastore_aws_eu_west_1)</td><td></td></tr><tr><td>Table Properties</td><td>[delta.enableDeletionVectors=true,delta.feature.appendOnly=supported,delta.feature.deletionVectors=supported,delta.feature.invariants=supported,delta.minReaderVersion=3,delta.minWriterVersion=7]</td><td></td></tr></tbody></table></div>"
      ]
     },
     "metadata": {
      "application/vnd.databricks.v1+output": {
       "addedWidgets": {},
       "aggData": [],
       "aggError": "",
       "aggOverflow": false,
       "aggSchema": [],
       "aggSeriesLimitReached": false,
       "aggType": "",
       "arguments": {},
       "columnCustomDisplayInfos": {},
       "data": [
        [
         "Invoice_ID",
         "string",
         null
        ],
        [
         "Branch",
         "string",
         null
        ],
        [
         "City",
         "string",
         null
        ],
        [
         "Customer_Type",
         "string",
         null
        ],
        [
         "Gender",
         "string",
         null
        ],
        [
         "Product_Line",
         "string",
         null
        ],
        [
         "Unit_Price",
         "decimal(10,2)",
         null
        ],
        [
         "Quantity",
         "int",
         null
        ],
        [
         "Tax_5_Percent",
         "decimal(10,2)",
         null
        ],
        [
         "Total",
         "decimal(10,2)",
         null
        ],
        [
         "Date",
         "date",
         null
        ],
        [
         "Time",
         "string",
         null
        ],
        [
         "Payment",
         "string",
         null
        ],
        [
         "COGS",
         "decimal(10,2)",
         null
        ],
        [
         "Gross_Margin_Percentage",
         "decimal(5,2)",
         null
        ],
        [
         "Gross_Income",
         "decimal(10,2)",
         null
        ],
        [
         "Rating",
         "decimal(3,1)",
         null
        ],
        [
         "",
         "",
         ""
        ],
        [
         "# Detailed Table Information",
         "",
         ""
        ],
        [
         "Catalog",
         "supermarket_sales",
         ""
        ],
        [
         "Database",
         "sales_bronze",
         ""
        ],
        [
         "Table",
         "raw_sales_data",
         ""
        ],
        [
         "Created Time",
         "Wed Aug 06 18:39:55 UTC 2025",
         ""
        ],
        [
         "Last Access",
         "UNKNOWN",
         ""
        ],
        [
         "Created By",
         "Spark ",
         ""
        ],
        [
         "Type",
         "MANAGED",
         ""
        ],
        [
         "Comment",
         "Raw sales transaction data from supermarket operations",
         ""
        ],
        [
         "Location",
         "",
         ""
        ],
        [
         "Provider",
         "delta",
         ""
        ],
        [
         "Owner",
         "amit.dixit@impetus.com",
         ""
        ],
        [
         "Is_managed_location",
         "true",
         ""
        ],
        [
         "Predictive Optimization",
         "ENABLE (inherited from METASTORE metastore_aws_eu_west_1)",
         ""
        ],
        [
         "Table Properties",
         "[delta.enableDeletionVectors=true,delta.feature.appendOnly=supported,delta.feature.deletionVectors=supported,delta.feature.invariants=supported,delta.minReaderVersion=3,delta.minWriterVersion=7]",
         ""
        ]
       ],
       "datasetInfos": [
        {
         "name": "_sqldf",
         "schema": {
          "fields": [
           {
            "metadata": {},
            "name": "col_name",
            "nullable": false,
            "type": "string"
           },
           {
            "metadata": {},
            "name": "data_type",
            "nullable": false,
            "type": "string"
           },
           {
            "metadata": {},
            "name": "comment",
            "nullable": true,
            "type": "string"
           }
          ],
          "type": "struct"
         },
         "tableIdentifier": null,
         "typeStr": "pyspark.sql.connect.dataframe.DataFrame"
        }
       ],
       "dbfsResultPath": null,
       "isJsonSchema": true,
       "metadata": {
        "createTempViewForImplicitDf": true,
        "dataframeName": "_sqldf",
        "executionCount": 17
       },
       "overflow": false,
       "plotOptions": {
        "customPlotOptions": {},
        "displayType": "table",
        "pivotAggregation": null,
        "pivotColumns": null,
        "xColumns": null,
        "yColumns": null
       },
       "removedWidgets": [],
       "schema": [
        {
         "metadata": "{}",
         "name": "col_name",
         "type": "\"string\""
        },
        {
         "metadata": "{}",
         "name": "data_type",
         "type": "\"string\""
        },
        {
         "metadata": "{}",
         "name": "comment",
         "type": "\"string\""
        }
       ],
       "type": "table"
      }
     },
     "output_type": "display_data"
    }
   ],
   "source": [
    "%sql\n",
    "-- Display table schema and basic information\n",
    "DESCRIBE TABLE EXTENDED `supermarket_sales`.`sales_bronze`.`raw_sales_data`;"
   ]
  },
  {
   "cell_type": "code",
   "execution_count": 0,
   "metadata": {
    "application/vnd.databricks.v1+cell": {
     "cellMetadata": {
      "byteLimit": 2048000,
      "implicitDf": true,
      "rowLimit": 10000
     },
     "inputWidgets": {},
     "nuid": "fc27f8bd-183e-4463-8ba1-f39bfcff12e3",
     "showTitle": false,
     "tableResultSettingsMap": {},
     "title": ""
    },
    "vscode": {
     "languageId": "sql"
    }
   },
   "outputs": [
    {
     "output_type": "display_data",
     "data": {
      "text/html": [
       "<style scoped>\n",
       "  .table-result-container {\n",
       "    max-height: 300px;\n",
       "    overflow: auto;\n",
       "  }\n",
       "  table, th, td {\n",
       "    border: 1px solid black;\n",
       "    border-collapse: collapse;\n",
       "  }\n",
       "  th, td {\n",
       "    padding: 5px;\n",
       "  }\n",
       "  th {\n",
       "    text-align: left;\n",
       "  }\n",
       "</style><div class='table-result-container'><table class='table-result'><thead style='background-color: white'><tr><th>total_records</th><th>unique_invoices</th><th>duplicate_invoices</th><th>null_invoice_ids</th><th>null_gross_income</th><th>null_totals</th><th>earliest_date</th><th>latest_date</th></tr></thead><tbody><tr><td>1000</td><td>1000</td><td>0</td><td>0</td><td>0</td><td>0</td><td>2019-01-01</td><td>2019-03-30</td></tr></tbody></table></div>"
      ]
     },
     "metadata": {
      "application/vnd.databricks.v1+output": {
       "addedWidgets": {},
       "aggData": [],
       "aggError": "",
       "aggOverflow": false,
       "aggSchema": [],
       "aggSeriesLimitReached": false,
       "aggType": "",
       "arguments": {},
       "columnCustomDisplayInfos": {},
       "data": [
        [
         1000,
         1000,
         0,
         0,
         0,
         0,
         "2019-01-01",
         "2019-03-30"
        ]
       ],
       "datasetInfos": [
        {
         "name": "_sqldf",
         "schema": {
          "fields": [
           {
            "metadata": {},
            "name": "total_records",
            "nullable": false,
            "type": "long"
           },
           {
            "metadata": {},
            "name": "unique_invoices",
            "nullable": false,
            "type": "long"
           },
           {
            "metadata": {},
            "name": "duplicate_invoices",
            "nullable": false,
            "type": "long"
           },
           {
            "metadata": {},
            "name": "null_invoice_ids",
            "nullable": false,
            "type": "long"
           },
           {
            "metadata": {},
            "name": "null_gross_income",
            "nullable": false,
            "type": "long"
           },
           {
            "metadata": {},
            "name": "null_totals",
            "nullable": false,
            "type": "long"
           },
           {
            "metadata": {},
            "name": "earliest_date",
            "nullable": true,
            "type": "date"
           },
           {
            "metadata": {},
            "name": "latest_date",
            "nullable": true,
            "type": "date"
           }
          ],
          "type": "struct"
         },
         "tableIdentifier": null,
         "typeStr": "pyspark.sql.connect.dataframe.DataFrame"
        }
       ],
       "dbfsResultPath": null,
       "isJsonSchema": true,
       "metadata": {
        "createTempViewForImplicitDf": true,
        "dataframeName": "_sqldf",
        "executionCount": 20
       },
       "overflow": false,
       "plotOptions": {
        "customPlotOptions": {},
        "displayType": "table",
        "pivotAggregation": null,
        "pivotColumns": null,
        "xColumns": null,
        "yColumns": null
       },
       "removedWidgets": [],
       "schema": [
        {
         "metadata": "{}",
         "name": "total_records",
         "type": "\"long\""
        },
        {
         "metadata": "{}",
         "name": "unique_invoices",
         "type": "\"long\""
        },
        {
         "metadata": "{}",
         "name": "duplicate_invoices",
         "type": "\"long\""
        },
        {
         "metadata": "{}",
         "name": "null_invoice_ids",
         "type": "\"long\""
        },
        {
         "metadata": "{}",
         "name": "null_gross_income",
         "type": "\"long\""
        },
        {
         "metadata": "{}",
         "name": "null_totals",
         "type": "\"long\""
        },
        {
         "metadata": "{}",
         "name": "earliest_date",
         "type": "\"date\""
        },
        {
         "metadata": "{}",
         "name": "latest_date",
         "type": "\"date\""
        }
       ],
       "type": "table"
      }
     },
     "output_type": "display_data"
    }
   ],
   "source": [
    "%sql\n",
    "-- Data quality assessment: Check for nulls, duplicates, and basic statistics\n",
    "SELECT \n",
    "    COUNT(*) as total_records,\n",
    "    COUNT(DISTINCT Invoice_ID) as unique_invoices,\n",
    "    COUNT(*) - COUNT(DISTINCT Invoice_ID) as duplicate_invoices,\n",
    "    COUNT(CASE WHEN Invoice_ID IS NULL THEN 1 END) as null_invoice_ids,\n",
    "    COUNT(CASE WHEN Gross_Income IS NULL THEN 1 END) as null_gross_income,\n",
    "    COUNT(CASE WHEN Total IS NULL THEN 1 END) as null_totals,\n",
    "    MIN(Date) as earliest_date,\n",
    "    MAX(Date) as latest_date\n",
    "FROM `supermarket_sales`.`sales_bronze`.`raw_sales_data`;"
   ]
  },
  {
   "cell_type": "code",
   "execution_count": 0,
   "metadata": {
    "application/vnd.databricks.v1+cell": {
     "cellMetadata": {
      "byteLimit": 2048000,
      "implicitDf": true,
      "rowLimit": 10000
     },
     "inputWidgets": {},
     "nuid": "2fe7945d-f0ad-45da-af58-211234f3792d",
     "showTitle": false,
     "tableResultSettingsMap": {},
     "title": ""
    },
    "vscode": {
     "languageId": "sql"
    }
   },
   "outputs": [
    {
     "output_type": "display_data",
     "data": {
      "text/html": [
       "<style scoped>\n",
       "  .table-result-container {\n",
       "    max-height: 300px;\n",
       "    overflow: auto;\n",
       "  }\n",
       "  table, th, td {\n",
       "    border: 1px solid black;\n",
       "    border-collapse: collapse;\n",
       "  }\n",
       "  th, td {\n",
       "    padding: 5px;\n",
       "  }\n",
       "  th {\n",
       "    text-align: left;\n",
       "  }\n",
       "</style><div class='table-result-container'><table class='table-result'><thead style='background-color: white'><tr><th>Invoice_ID</th><th>Branch</th><th>City</th><th>Customer_Type</th><th>Gender</th><th>Product_Line</th><th>Unit_Price</th><th>Quantity</th><th>Tax_5_Percentage</th><th>Total</th><th>Date</th><th>Time</th><th>Payment</th><th>COGS</th><th>Gross_Margin_Percentage</th><th>Gross_Income</th><th>Rating</th></tr></thead><tbody><tr><td>364-34-2972</td><td>C</td><td>Naypyitaw</td><td>Member</td><td>Male</td><td>Electronic accessories</td><td>96.82</td><td>3</td><td>14.523</td><td>304.983</td><td>2019-03-30</td><td>2025-08-06T20:37:00.000Z</td><td>Cash</td><td>290.46</td><td>4.761904762</td><td>14.523</td><td>6.7</td></tr><tr><td>131-15-8856</td><td>C</td><td>Naypyitaw</td><td>Member</td><td>Female</td><td>Food and beverages</td><td>72.52</td><td>8</td><td>29.008</td><td>609.168</td><td>2019-03-30</td><td>2025-08-06T19:26:00.000Z</td><td>Credit card</td><td>580.16</td><td>4.761904762</td><td>29.008</td><td>4.0</td></tr><tr><td>731-59-7531</td><td>B</td><td>Mandalay</td><td>Member</td><td>Male</td><td>Health and beauty</td><td>72.57</td><td>8</td><td>29.028</td><td>609.588</td><td>2019-03-30</td><td>2025-08-06T17:58:00.000Z</td><td>Cash</td><td>580.56</td><td>4.761904762</td><td>29.028</td><td>4.6</td></tr><tr><td>676-39-6028</td><td>A</td><td>Yangon</td><td>Member</td><td>Female</td><td>Electronic accessories</td><td>64.44</td><td>5</td><td>16.11</td><td>338.31</td><td>2019-03-30</td><td>2025-08-06T17:04:00.000Z</td><td>Cash</td><td>322.2</td><td>4.761904762</td><td>16.11</td><td>6.6</td></tr><tr><td>642-61-4706</td><td>B</td><td>Mandalay</td><td>Member</td><td>Male</td><td>Food and beverages</td><td>93.4</td><td>2</td><td>9.34</td><td>196.14</td><td>2019-03-30</td><td>2025-08-06T16:34:00.000Z</td><td>Cash</td><td>186.8</td><td>4.761904762</td><td>9.34</td><td>5.5</td></tr><tr><td>778-89-7974</td><td>C</td><td>Naypyitaw</td><td>Normal</td><td>Male</td><td>Health and beauty</td><td>70.21</td><td>6</td><td>21.063</td><td>442.323</td><td>2019-03-30</td><td>2025-08-06T14:58:00.000Z</td><td>Cash</td><td>421.26</td><td>4.761904762</td><td>21.063</td><td>7.4</td></tr><tr><td>743-04-1105</td><td>B</td><td>Mandalay</td><td>Member</td><td>Male</td><td>Health and beauty</td><td>97.22</td><td>9</td><td>43.749</td><td>918.729</td><td>2019-03-30</td><td>2025-08-06T14:43:00.000Z</td><td>Ewallet</td><td>874.98</td><td>4.761904762</td><td>43.749</td><td>6.0</td></tr><tr><td>286-01-5402</td><td>A</td><td>Yangon</td><td>Normal</td><td>Female</td><td>Sports and travel</td><td>40.23</td><td>7</td><td>14.0805</td><td>295.6905</td><td>2019-03-30</td><td>2025-08-06T13:22:00.000Z</td><td>Cash</td><td>281.61</td><td>4.761904762</td><td>14.0805</td><td>9.6</td></tr><tr><td>115-38-7388</td><td>C</td><td>Naypyitaw</td><td>Member</td><td>Female</td><td>Fashion accessories</td><td>10.18</td><td>8</td><td>4.072</td><td>85.512</td><td>2019-03-30</td><td>2025-08-06T12:51:00.000Z</td><td>Credit card</td><td>81.44</td><td>4.761904762</td><td>4.072</td><td>9.5</td></tr><tr><td>291-55-6563</td><td>A</td><td>Yangon</td><td>Member</td><td>Female</td><td>Home and lifestyle</td><td>34.42</td><td>6</td><td>10.326</td><td>216.846</td><td>2019-03-30</td><td>2025-08-06T12:45:00.000Z</td><td>Ewallet</td><td>206.52</td><td>4.761904762</td><td>10.326</td><td>7.5</td></tr></tbody></table></div>"
      ]
     },
     "metadata": {
      "application/vnd.databricks.v1+output": {
       "addedWidgets": {},
       "aggData": [],
       "aggError": "",
       "aggOverflow": false,
       "aggSchema": [],
       "aggSeriesLimitReached": false,
       "aggType": "",
       "arguments": {},
       "columnCustomDisplayInfos": {},
       "data": [
        [
         "364-34-2972",
         "C",
         "Naypyitaw",
         "Member",
         "Male",
         "Electronic accessories",
         96.82,
         3,
         14.523,
         304.983,
         "2019-03-30",
         "2025-08-06T20:37:00.000Z",
         "Cash",
         290.46,
         4.761904762,
         14.523,
         6.7
        ],
        [
         "131-15-8856",
         "C",
         "Naypyitaw",
         "Member",
         "Female",
         "Food and beverages",
         72.52,
         8,
         29.008,
         609.168,
         "2019-03-30",
         "2025-08-06T19:26:00.000Z",
         "Credit card",
         580.16,
         4.761904762,
         29.008,
         4.0
        ],
        [
         "731-59-7531",
         "B",
         "Mandalay",
         "Member",
         "Male",
         "Health and beauty",
         72.57,
         8,
         29.028,
         609.588,
         "2019-03-30",
         "2025-08-06T17:58:00.000Z",
         "Cash",
         580.56,
         4.761904762,
         29.028,
         4.6
        ],
        [
         "676-39-6028",
         "A",
         "Yangon",
         "Member",
         "Female",
         "Electronic accessories",
         64.44,
         5,
         16.11,
         338.31,
         "2019-03-30",
         "2025-08-06T17:04:00.000Z",
         "Cash",
         322.2,
         4.761904762,
         16.11,
         6.6
        ],
        [
         "642-61-4706",
         "B",
         "Mandalay",
         "Member",
         "Male",
         "Food and beverages",
         93.4,
         2,
         9.34,
         196.14,
         "2019-03-30",
         "2025-08-06T16:34:00.000Z",
         "Cash",
         186.8,
         4.761904762,
         9.34,
         5.5
        ],
        [
         "778-89-7974",
         "C",
         "Naypyitaw",
         "Normal",
         "Male",
         "Health and beauty",
         70.21,
         6,
         21.063,
         442.323,
         "2019-03-30",
         "2025-08-06T14:58:00.000Z",
         "Cash",
         421.26,
         4.761904762,
         21.063,
         7.4
        ],
        [
         "743-04-1105",
         "B",
         "Mandalay",
         "Member",
         "Male",
         "Health and beauty",
         97.22,
         9,
         43.749,
         918.729,
         "2019-03-30",
         "2025-08-06T14:43:00.000Z",
         "Ewallet",
         874.98,
         4.761904762,
         43.749,
         6.0
        ],
        [
         "286-01-5402",
         "A",
         "Yangon",
         "Normal",
         "Female",
         "Sports and travel",
         40.23,
         7,
         14.0805,
         295.6905,
         "2019-03-30",
         "2025-08-06T13:22:00.000Z",
         "Cash",
         281.61,
         4.761904762,
         14.0805,
         9.6
        ],
        [
         "115-38-7388",
         "C",
         "Naypyitaw",
         "Member",
         "Female",
         "Fashion accessories",
         10.18,
         8,
         4.072,
         85.512,
         "2019-03-30",
         "2025-08-06T12:51:00.000Z",
         "Credit card",
         81.44,
         4.761904762,
         4.072,
         9.5
        ],
        [
         "291-55-6563",
         "A",
         "Yangon",
         "Member",
         "Female",
         "Home and lifestyle",
         34.42,
         6,
         10.326,
         216.846,
         "2019-03-30",
         "2025-08-06T12:45:00.000Z",
         "Ewallet",
         206.52,
         4.761904762,
         10.326,
         7.5
        ]
       ],
       "datasetInfos": [
        {
         "name": "_sqldf",
         "schema": {
          "fields": [
           {
            "metadata": {},
            "name": "Invoice_ID",
            "nullable": true,
            "type": "string"
           },
           {
            "metadata": {},
            "name": "Branch",
            "nullable": true,
            "type": "string"
           },
           {
            "metadata": {},
            "name": "City",
            "nullable": true,
            "type": "string"
           },
           {
            "metadata": {},
            "name": "Customer_Type",
            "nullable": true,
            "type": "string"
           },
           {
            "metadata": {},
            "name": "Gender",
            "nullable": true,
            "type": "string"
           },
           {
            "metadata": {},
            "name": "Product_Line",
            "nullable": true,
            "type": "string"
           },
           {
            "metadata": {},
            "name": "Unit_Price",
            "nullable": true,
            "type": "double"
           },
           {
            "metadata": {},
            "name": "Quantity",
            "nullable": true,
            "type": "long"
           },
           {
            "metadata": {},
            "name": "Tax_5_Percentage",
            "nullable": true,
            "type": "double"
           },
           {
            "metadata": {},
            "name": "Total",
            "nullable": true,
            "type": "double"
           },
           {
            "metadata": {
             "__detected_date_formats": "M/d/yyyy"
            },
            "name": "Date",
            "nullable": true,
            "type": "date"
           },
           {
            "metadata": {},
            "name": "Time",
            "nullable": true,
            "type": "timestamp"
           },
           {
            "metadata": {},
            "name": "Payment",
            "nullable": true,
            "type": "string"
           },
           {
            "metadata": {},
            "name": "COGS",
            "nullable": true,
            "type": "double"
           },
           {
            "metadata": {},
            "name": "Gross_Margin_Percentage",
            "nullable": true,
            "type": "double"
           },
           {
            "metadata": {},
            "name": "Gross_Income",
            "nullable": true,
            "type": "double"
           },
           {
            "metadata": {},
            "name": "Rating",
            "nullable": true,
            "type": "double"
           }
          ],
          "type": "struct"
         },
         "tableIdentifier": null,
         "typeStr": "pyspark.sql.connect.dataframe.DataFrame"
        }
       ],
       "dbfsResultPath": null,
       "isJsonSchema": true,
       "metadata": {
        "createTempViewForImplicitDf": true,
        "dataframeName": "_sqldf",
        "executionCount": 21
       },
       "overflow": false,
       "plotOptions": {
        "customPlotOptions": {},
        "displayType": "table",
        "pivotAggregation": null,
        "pivotColumns": null,
        "xColumns": null,
        "yColumns": null
       },
       "removedWidgets": [],
       "schema": [
        {
         "metadata": "{}",
         "name": "Invoice_ID",
         "type": "\"string\""
        },
        {
         "metadata": "{}",
         "name": "Branch",
         "type": "\"string\""
        },
        {
         "metadata": "{}",
         "name": "City",
         "type": "\"string\""
        },
        {
         "metadata": "{}",
         "name": "Customer_Type",
         "type": "\"string\""
        },
        {
         "metadata": "{}",
         "name": "Gender",
         "type": "\"string\""
        },
        {
         "metadata": "{}",
         "name": "Product_Line",
         "type": "\"string\""
        },
        {
         "metadata": "{}",
         "name": "Unit_Price",
         "type": "\"double\""
        },
        {
         "metadata": "{}",
         "name": "Quantity",
         "type": "\"long\""
        },
        {
         "metadata": "{}",
         "name": "Tax_5_Percentage",
         "type": "\"double\""
        },
        {
         "metadata": "{}",
         "name": "Total",
         "type": "\"double\""
        },
        {
         "metadata": "{\"__detected_date_formats\": \"M/d/yyyy\"}",
         "name": "Date",
         "type": "\"date\""
        },
        {
         "metadata": "{}",
         "name": "Time",
         "type": "\"timestamp\""
        },
        {
         "metadata": "{}",
         "name": "Payment",
         "type": "\"string\""
        },
        {
         "metadata": "{}",
         "name": "COGS",
         "type": "\"double\""
        },
        {
         "metadata": "{}",
         "name": "Gross_Margin_Percentage",
         "type": "\"double\""
        },
        {
         "metadata": "{}",
         "name": "Gross_Income",
         "type": "\"double\""
        },
        {
         "metadata": "{}",
         "name": "Rating",
         "type": "\"double\""
        }
       ],
       "type": "table"
      }
     },
     "output_type": "display_data"
    }
   ],
   "source": [
    "%sql\n",
    "-- Sample data preview\n",
    "SELECT * \n",
    "FROM `supermarket_sales`.`sales_bronze`.`raw_sales_data` \n",
    "ORDER BY Date DESC, Time DESC\n",
    "LIMIT 10;"
   ]
  },
  {
   "cell_type": "markdown",
   "metadata": {
    "application/vnd.databricks.v1+cell": {
     "cellMetadata": {},
     "inputWidgets": {},
     "nuid": "340945cd-2f48-4517-910f-10891909b89c",
     "showTitle": false,
     "tableResultSettingsMap": {},
     "title": ""
    }
   },
   "source": [
    "## Step 4: Silver Layer Data Transformation\n",
    "\n",
    "Creating cleansed and enriched data in the silver layer."
   ]
  },
  {
   "cell_type": "code",
   "execution_count": 0,
   "metadata": {
    "application/vnd.databricks.v1+cell": {
     "cellMetadata": {
      "byteLimit": 2048000,
      "implicitDf": true,
      "rowLimit": 10000
     },
     "inputWidgets": {},
     "nuid": "6e6bbb00-163a-4b34-835c-e3d88a5d7deb",
     "showTitle": false,
     "tableResultSettingsMap": {},
     "title": ""
    },
    "vscode": {
     "languageId": "sql"
    }
   },
   "outputs": [
    {
     "output_type": "display_data",
     "data": {
      "text/html": [
       "<style scoped>\n",
       "  .table-result-container {\n",
       "    max-height: 300px;\n",
       "    overflow: auto;\n",
       "  }\n",
       "  table, th, td {\n",
       "    border: 1px solid black;\n",
       "    border-collapse: collapse;\n",
       "  }\n",
       "  th, td {\n",
       "    padding: 5px;\n",
       "  }\n",
       "  th {\n",
       "    text-align: left;\n",
       "  }\n",
       "</style><div class='table-result-container'><table class='table-result'><thead style='background-color: white'><tr><th>num_affected_rows</th><th>num_inserted_rows</th></tr></thead><tbody></tbody></table></div>"
      ]
     },
     "metadata": {
      "application/vnd.databricks.v1+output": {
       "addedWidgets": {},
       "aggData": [],
       "aggError": "",
       "aggOverflow": false,
       "aggSchema": [],
       "aggSeriesLimitReached": false,
       "aggType": "",
       "arguments": {},
       "columnCustomDisplayInfos": {},
       "data": [],
       "datasetInfos": [
        {
         "name": "_sqldf",
         "schema": {
          "fields": [
           {
            "metadata": {},
            "name": "num_affected_rows",
            "nullable": true,
            "type": "long"
           },
           {
            "metadata": {},
            "name": "num_inserted_rows",
            "nullable": true,
            "type": "long"
           }
          ],
          "type": "struct"
         },
         "tableIdentifier": null,
         "typeStr": "pyspark.sql.connect.dataframe.DataFrame"
        }
       ],
       "dbfsResultPath": null,
       "isJsonSchema": true,
       "metadata": {
        "createTempViewForImplicitDf": true,
        "dataframeName": "_sqldf",
        "executionCount": 22
       },
       "overflow": false,
       "plotOptions": {
        "customPlotOptions": {},
        "displayType": "table",
        "pivotAggregation": null,
        "pivotColumns": null,
        "xColumns": null,
        "yColumns": null
       },
       "removedWidgets": [],
       "schema": [
        {
         "metadata": "{}",
         "name": "num_affected_rows",
         "type": "\"long\""
        },
        {
         "metadata": "{}",
         "name": "num_inserted_rows",
         "type": "\"long\""
        }
       ],
       "type": "table"
      }
     },
     "output_type": "display_data"
    }
   ],
   "source": [
    "%sql\n",
    "-- Create silver layer table with data quality improvements and enrichments\n",
    "CREATE OR REPLACE TABLE `supermarket_sales`.`sales_silver`.`cleansed_sales_data` AS\n",
    "SELECT \n",
    "    Invoice_ID,\n",
    "    Branch,\n",
    "    UPPER(TRIM(City)) as City,\n",
    "    Customer_Type,\n",
    "    Gender,\n",
    "    TRIM(Product_Line) as Product_Line,\n",
    "    Unit_Price,\n",
    "    Quantity,\n",
    "    Tax_5_Percentage,\n",
    "    Total,\n",
    "    Date,\n",
    "    Time,\n",
    "    Payment,\n",
    "    COGS,\n",
    "    Gross_Margin_Percentage,\n",
    "    Gross_Income,\n",
    "    Rating,\n",
    "    -- Enrichment columns\n",
    "    YEAR(Date) as Sales_Year,\n",
    "    MONTH(Date) as Sales_Month,\n",
    "    DAYOFWEEK(Date) as Day_of_Week,\n",
    "    CASE \n",
    "        WHEN HOUR(Time) BETWEEN 6 AND 11 THEN 'Morning'\n",
    "        WHEN HOUR(Time) BETWEEN 12 AND 17 THEN 'Afternoon'\n",
    "        WHEN HOUR(Time) BETWEEN 18 AND 21 THEN 'Evening'\n",
    "        ELSE 'Night'\n",
    "    END as Time_Period,\n",
    "    ROUND(Gross_Income / Total * 100, 2) as Gross_Margin_Actual,\n",
    "    current_timestamp() as processed_timestamp\n",
    "FROM `supermarket_sales`.`sales_bronze`.`raw_sales_data`\n",
    "WHERE Invoice_ID IS NOT NULL \n",
    "  AND Gross_Income IS NOT NULL \n",
    "  AND Total > 0;"
   ]
  },
  {
   "cell_type": "markdown",
   "metadata": {
    "application/vnd.databricks.v1+cell": {
     "cellMetadata": {},
     "inputWidgets": {},
     "nuid": "5566d25b-5240-4d6c-b8c4-b938a1750325",
     "showTitle": false,
     "tableResultSettingsMap": {},
     "title": ""
    }
   },
   "source": [
    "## Step 5: Exploratory Data Analysis\n",
    "\n",
    "Comprehensive analysis of sales patterns and gross income trends."
   ]
  },
  {
   "cell_type": "code",
   "execution_count": 0,
   "metadata": {
    "application/vnd.databricks.v1+cell": {
     "cellMetadata": {
      "byteLimit": 2048000,
      "implicitDf": true,
      "rowLimit": 10000
     },
     "inputWidgets": {},
     "nuid": "40f3d8c7-36db-4cc0-b5a9-5fecf120f5d8",
     "showTitle": false,
     "tableResultSettingsMap": {},
     "title": ""
    },
    "vscode": {
     "languageId": "sql"
    }
   },
   "outputs": [
    {
     "output_type": "display_data",
     "data": {
      "text/html": [
       "<style scoped>\n",
       "  .table-result-container {\n",
       "    max-height: 300px;\n",
       "    overflow: auto;\n",
       "  }\n",
       "  table, th, td {\n",
       "    border: 1px solid black;\n",
       "    border-collapse: collapse;\n",
       "  }\n",
       "  th, td {\n",
       "    padding: 5px;\n",
       "  }\n",
       "  th {\n",
       "    text-align: left;\n",
       "  }\n",
       "</style><div class='table-result-container'><table class='table-result'><thead style='background-color: white'><tr><th>Total_Gross_Income</th><th>Average_Gross_Income</th><th>Min_Gross_Income</th><th>Max_Gross_Income</th><th>Std_Dev_Gross_Income</th><th>Total_Transactions</th></tr></thead><tbody><tr><td>15379.37</td><td>15.38</td><td>0.51</td><td>49.65</td><td>11.71</td><td>1000</td></tr></tbody></table></div>"
      ]
     },
     "metadata": {
      "application/vnd.databricks.v1+output": {
       "addedWidgets": {},
       "aggData": [],
       "aggError": "",
       "aggOverflow": false,
       "aggSchema": [],
       "aggSeriesLimitReached": false,
       "aggType": "",
       "arguments": {},
       "columnCustomDisplayInfos": {},
       "data": [
        [
         15379.37,
         15.38,
         0.51,
         49.65,
         11.71,
         1000
        ]
       ],
       "datasetInfos": [
        {
         "name": "_sqldf",
         "schema": {
          "fields": [
           {
            "metadata": {},
            "name": "Total_Gross_Income",
            "nullable": true,
            "type": "double"
           },
           {
            "metadata": {},
            "name": "Average_Gross_Income",
            "nullable": true,
            "type": "double"
           },
           {
            "metadata": {},
            "name": "Min_Gross_Income",
            "nullable": true,
            "type": "double"
           },
           {
            "metadata": {},
            "name": "Max_Gross_Income",
            "nullable": true,
            "type": "double"
           },
           {
            "metadata": {},
            "name": "Std_Dev_Gross_Income",
            "nullable": true,
            "type": "double"
           },
           {
            "metadata": {},
            "name": "Total_Transactions",
            "nullable": false,
            "type": "long"
           }
          ],
          "type": "struct"
         },
         "tableIdentifier": null,
         "typeStr": "pyspark.sql.connect.dataframe.DataFrame"
        }
       ],
       "dbfsResultPath": null,
       "isJsonSchema": true,
       "metadata": {
        "createTempViewForImplicitDf": true,
        "dataframeName": "_sqldf",
        "executionCount": 36
       },
       "overflow": false,
       "plotOptions": {
        "customPlotOptions": {},
        "displayType": "table",
        "pivotAggregation": null,
        "pivotColumns": null,
        "xColumns": null,
        "yColumns": null
       },
       "removedWidgets": [],
       "schema": [
        {
         "metadata": "{}",
         "name": "Total_Gross_Income",
         "type": "\"double\""
        },
        {
         "metadata": "{}",
         "name": "Average_Gross_Income",
         "type": "\"double\""
        },
        {
         "metadata": "{}",
         "name": "Min_Gross_Income",
         "type": "\"double\""
        },
        {
         "metadata": "{}",
         "name": "Max_Gross_Income",
         "type": "\"double\""
        },
        {
         "metadata": "{}",
         "name": "Std_Dev_Gross_Income",
         "type": "\"double\""
        },
        {
         "metadata": "{}",
         "name": "Total_Transactions",
         "type": "\"long\""
        }
       ],
       "type": "table"
      }
     },
     "output_type": "display_data"
    }
   ],
   "source": [
    "%sql\n",
    "-- Overall gross income statistics\n",
    "SELECT \n",
    "    ROUND(SUM(Gross_Income), 2) as Total_Gross_Income,\n",
    "    ROUND(AVG(Gross_Income), 2) as Average_Gross_Income,\n",
    "    ROUND(MIN(Gross_Income), 2) as Min_Gross_Income,\n",
    "    ROUND(MAX(Gross_Income), 2) as Max_Gross_Income,\n",
    "    ROUND(STDDEV(Gross_Income), 2) as Std_Dev_Gross_Income,\n",
    "    COUNT(*) as Total_Transactions\n",
    "FROM `supermarket_sales`.`sales_silver`.`cleansed_sales_data`;"
   ]
  },
  {
   "cell_type": "code",
   "execution_count": 0,
   "metadata": {
    "application/vnd.databricks.v1+cell": {
     "cellMetadata": {
      "byteLimit": 2048000,
      "implicitDf": true,
      "rowLimit": 10000
     },
     "inputWidgets": {},
     "nuid": "b2c8c12b-82d9-4a6a-89e5-c2b4dd626da1",
     "showTitle": false,
     "tableResultSettingsMap": {},
     "title": ""
    },
    "vscode": {
     "languageId": "sql"
    }
   },
   "outputs": [
    {
     "output_type": "display_data",
     "data": {
      "text/html": [
       "<style scoped>\n",
       "  .table-result-container {\n",
       "    max-height: 300px;\n",
       "    overflow: auto;\n",
       "  }\n",
       "  table, th, td {\n",
       "    border: 1px solid black;\n",
       "    border-collapse: collapse;\n",
       "  }\n",
       "  th, td {\n",
       "    padding: 5px;\n",
       "  }\n",
       "  th {\n",
       "    text-align: left;\n",
       "  }\n",
       "</style><div class='table-result-container'><table class='table-result'><thead style='background-color: white'><tr><th>City</th><th>Product_Line</th><th>Transaction_Count</th><th>Total_Gross_Income</th><th>Average_Gross_Income</th><th>Total_Sales</th><th>Average_Rating</th></tr></thead><tbody><tr><td>NAYPYITAW</td><td>Food and beverages</td><td>66</td><td>1131.75</td><td>17.15</td><td>23766.85</td><td>7.1</td></tr><tr><td>YANGON</td><td>Home and lifestyle</td><td>65</td><td>1067.49</td><td>16.42</td><td>22417.2</td><td>6.9</td></tr><tr><td>NAYPYITAW</td><td>Fashion accessories</td><td>65</td><td>1026.67</td><td>15.79</td><td>21560.07</td><td>7.4</td></tr><tr><td>MANDALAY</td><td>Sports and travel</td><td>62</td><td>951.82</td><td>15.35</td><td>19988.2</td><td>6.5</td></tr><tr><td>MANDALAY</td><td>Health and beauty</td><td>53</td><td>951.46</td><td>17.95</td><td>19980.66</td><td>7.1</td></tr><tr><td>YANGON</td><td>Sports and travel</td><td>59</td><td>922.51</td><td>15.64</td><td>19372.7</td><td>7.3</td></tr><tr><td>NAYPYITAW</td><td>Electronic accessories</td><td>55</td><td>903.28</td><td>16.42</td><td>18968.97</td><td>6.7</td></tr><tr><td>YANGON</td><td>Electronic accessories</td><td>60</td><td>872.24</td><td>14.54</td><td>18317.11</td><td>6.9</td></tr><tr><td>MANDALAY</td><td>Home and lifestyle</td><td>50</td><td>835.67</td><td>16.71</td><td>17549.16</td><td>6.5</td></tr><tr><td>YANGON</td><td>Food and beverages</td><td>58</td><td>817.29</td><td>14.09</td><td>17163.1</td><td>7.3</td></tr><tr><td>MANDALAY</td><td>Electronic accessories</td><td>55</td><td>811.97</td><td>14.76</td><td>17051.44</td><td>7.1</td></tr><tr><td>NAYPYITAW</td><td>Health and beauty</td><td>52</td><td>791.21</td><td>15.22</td><td>16615.33</td><td>7.0</td></tr><tr><td>MANDALAY</td><td>Fashion accessories</td><td>62</td><td>781.59</td><td>12.61</td><td>16413.32</td><td>6.7</td></tr><tr><td>YANGON</td><td>Fashion accessories</td><td>51</td><td>777.74</td><td>15.25</td><td>16332.51</td><td>6.9</td></tr><tr><td>NAYPYITAW</td><td>Sports and travel</td><td>45</td><td>750.57</td><td>16.68</td><td>15761.93</td><td>7.0</td></tr><tr><td>MANDALAY</td><td>Food and beverages</td><td>50</td><td>724.52</td><td>14.49</td><td>15214.89</td><td>7.0</td></tr><tr><td>NAYPYITAW</td><td>Home and lifestyle</td><td>45</td><td>661.69</td><td>14.7</td><td>13895.55</td><td>7.1</td></tr><tr><td>YANGON</td><td>Health and beauty</td><td>47</td><td>599.89</td><td>12.76</td><td>12597.75</td><td>6.9</td></tr></tbody></table></div>"
      ]
     },
     "metadata": {
      "application/vnd.databricks.v1+output": {
       "addedWidgets": {},
       "aggData": [],
       "aggError": "",
       "aggOverflow": false,
       "aggSchema": [],
       "aggSeriesLimitReached": false,
       "aggType": "",
       "arguments": {},
       "columnCustomDisplayInfos": {},
       "data": [
        [
         "NAYPYITAW",
         "Food and beverages",
         66,
         1131.75,
         17.15,
         23766.85,
         7.1
        ],
        [
         "YANGON",
         "Home and lifestyle",
         65,
         1067.49,
         16.42,
         22417.2,
         6.9
        ],
        [
         "NAYPYITAW",
         "Fashion accessories",
         65,
         1026.67,
         15.79,
         21560.07,
         7.4
        ],
        [
         "MANDALAY",
         "Sports and travel",
         62,
         951.82,
         15.35,
         19988.2,
         6.5
        ],
        [
         "MANDALAY",
         "Health and beauty",
         53,
         951.46,
         17.95,
         19980.66,
         7.1
        ],
        [
         "YANGON",
         "Sports and travel",
         59,
         922.51,
         15.64,
         19372.7,
         7.3
        ],
        [
         "NAYPYITAW",
         "Electronic accessories",
         55,
         903.28,
         16.42,
         18968.97,
         6.7
        ],
        [
         "YANGON",
         "Electronic accessories",
         60,
         872.24,
         14.54,
         18317.11,
         6.9
        ],
        [
         "MANDALAY",
         "Home and lifestyle",
         50,
         835.67,
         16.71,
         17549.16,
         6.5
        ],
        [
         "YANGON",
         "Food and beverages",
         58,
         817.29,
         14.09,
         17163.1,
         7.3
        ],
        [
         "MANDALAY",
         "Electronic accessories",
         55,
         811.97,
         14.76,
         17051.44,
         7.1
        ],
        [
         "NAYPYITAW",
         "Health and beauty",
         52,
         791.21,
         15.22,
         16615.33,
         7.0
        ],
        [
         "MANDALAY",
         "Fashion accessories",
         62,
         781.59,
         12.61,
         16413.32,
         6.7
        ],
        [
         "YANGON",
         "Fashion accessories",
         51,
         777.74,
         15.25,
         16332.51,
         6.9
        ],
        [
         "NAYPYITAW",
         "Sports and travel",
         45,
         750.57,
         16.68,
         15761.93,
         7.0
        ],
        [
         "MANDALAY",
         "Food and beverages",
         50,
         724.52,
         14.49,
         15214.89,
         7.0
        ],
        [
         "NAYPYITAW",
         "Home and lifestyle",
         45,
         661.69,
         14.7,
         13895.55,
         7.1
        ],
        [
         "YANGON",
         "Health and beauty",
         47,
         599.89,
         12.76,
         12597.75,
         6.9
        ]
       ],
       "datasetInfos": [
        {
         "name": "_sqldf",
         "schema": {
          "fields": [
           {
            "metadata": {},
            "name": "City",
            "nullable": true,
            "type": "string"
           },
           {
            "metadata": {},
            "name": "Product_Line",
            "nullable": true,
            "type": "string"
           },
           {
            "metadata": {},
            "name": "Transaction_Count",
            "nullable": false,
            "type": "long"
           },
           {
            "metadata": {},
            "name": "Total_Gross_Income",
            "nullable": true,
            "type": "double"
           },
           {
            "metadata": {},
            "name": "Average_Gross_Income",
            "nullable": true,
            "type": "double"
           },
           {
            "metadata": {},
            "name": "Total_Sales",
            "nullable": true,
            "type": "double"
           },
           {
            "metadata": {},
            "name": "Average_Rating",
            "nullable": true,
            "type": "double"
           }
          ],
          "type": "struct"
         },
         "tableIdentifier": null,
         "typeStr": "pyspark.sql.connect.dataframe.DataFrame"
        }
       ],
       "dbfsResultPath": null,
       "isJsonSchema": true,
       "metadata": {
        "createTempViewForImplicitDf": true,
        "dataframeName": "_sqldf",
        "executionCount": 37
       },
       "overflow": false,
       "plotOptions": {
        "customPlotOptions": {},
        "displayType": "table",
        "pivotAggregation": null,
        "pivotColumns": null,
        "xColumns": null,
        "yColumns": null
       },
       "removedWidgets": [],
       "schema": [
        {
         "metadata": "{}",
         "name": "City",
         "type": "\"string\""
        },
        {
         "metadata": "{}",
         "name": "Product_Line",
         "type": "\"string\""
        },
        {
         "metadata": "{}",
         "name": "Transaction_Count",
         "type": "\"long\""
        },
        {
         "metadata": "{}",
         "name": "Total_Gross_Income",
         "type": "\"double\""
        },
        {
         "metadata": "{}",
         "name": "Average_Gross_Income",
         "type": "\"double\""
        },
        {
         "metadata": "{}",
         "name": "Total_Sales",
         "type": "\"double\""
        },
        {
         "metadata": "{}",
         "name": "Average_Rating",
         "type": "\"double\""
        }
       ],
       "type": "table"
      }
     },
     "output_type": "display_data"
    }
   ],
   "source": [
    "%sql\n",
    "-- Gross income analysis by city and product line\n",
    "SELECT \n",
    "    City,\n",
    "    Product_Line,\n",
    "    COUNT(*) as Transaction_Count,\n",
    "    ROUND(SUM(Gross_Income), 2) as Total_Gross_Income,\n",
    "    ROUND(AVG(Gross_Income), 2) as Average_Gross_Income,\n",
    "    ROUND(SUM(Total), 2) as Total_Sales,\n",
    "    ROUND(AVG(Rating), 1) as Average_Rating\n",
    "FROM `supermarket_sales`.`sales_silver`.`cleansed_sales_data`\n",
    "GROUP BY City, Product_Line\n",
    "ORDER BY Total_Gross_Income DESC;"
   ]
  },
  {
   "cell_type": "markdown",
   "metadata": {
    "application/vnd.databricks.v1+cell": {
     "cellMetadata": {},
     "inputWidgets": {},
     "nuid": "39e44f24-3525-4b85-bcd6-84e0808fb68e",
     "showTitle": false,
     "tableResultSettingsMap": {},
     "title": ""
    }
   },
   "source": [
    "## Step 6: Data Visualization and Business Insights\n",
    "\n",
    "Creating visualizations and deriving business insights from the data."
   ]
  },
  {
   "cell_type": "code",
   "execution_count": 0,
   "metadata": {
    "application/vnd.databricks.v1+cell": {
     "cellMetadata": {
      "byteLimit": 2048000,
      "rowLimit": 10000
     },
     "inputWidgets": {},
     "nuid": "75579f0d-eb7e-4d70-8cca-d3541fb3b306",
     "showTitle": false,
     "tableResultSettingsMap": {},
     "title": ""
    }
   },
   "outputs": [
    {
     "output_type": "display_data",
     "data": {
      "text/html": [
       "<style scoped>\n",
       "  .table-result-container {\n",
       "    max-height: 300px;\n",
       "    overflow: auto;\n",
       "  }\n",
       "  table, th, td {\n",
       "    border: 1px solid black;\n",
       "    border-collapse: collapse;\n",
       "  }\n",
       "  th, td {\n",
       "    padding: 5px;\n",
       "  }\n",
       "  th {\n",
       "    text-align: left;\n",
       "  }\n",
       "</style><div class='table-result-container'><table class='table-result'><thead style='background-color: white'><tr><th>Invoice_ID</th><th>Branch</th><th>City</th><th>Customer_Type</th><th>Gender</th><th>Product_Line</th><th>Unit_Price</th><th>Quantity</th><th>Tax_5_Percentage</th><th>Total</th><th>Date</th><th>Time</th><th>Payment</th><th>COGS</th><th>Gross_Margin_Percentage</th><th>Gross_Income</th><th>Rating</th><th>Sales_Year</th><th>Sales_Month</th><th>Day_of_Week</th><th>Time_Period</th><th>Gross_Margin_Actual</th><th>processed_timestamp</th></tr></thead><tbody><tr><td>750-67-8428</td><td>A</td><td>YANGON</td><td>Member</td><td>Female</td><td>Health and beauty</td><td>74.69</td><td>7</td><td>26.1415</td><td>548.9715</td><td>2019-01-05</td><td>2025-08-06T13:08:00.000Z</td><td>Ewallet</td><td>522.83</td><td>4.761904762</td><td>26.1415</td><td>9.1</td><td>2019</td><td>1</td><td>7</td><td>Afternoon</td><td>4.76</td><td>2025-08-06T18:56:17.184Z</td></tr><tr><td>226-31-3081</td><td>C</td><td>NAYPYITAW</td><td>Normal</td><td>Female</td><td>Electronic accessories</td><td>15.28</td><td>5</td><td>3.82</td><td>80.22</td><td>2019-03-08</td><td>2025-08-06T10:29:00.000Z</td><td>Cash</td><td>76.4</td><td>4.761904762</td><td>3.82</td><td>9.6</td><td>2019</td><td>3</td><td>6</td><td>Morning</td><td>4.76</td><td>2025-08-06T18:56:17.184Z</td></tr><tr><td>631-41-3108</td><td>A</td><td>YANGON</td><td>Normal</td><td>Male</td><td>Home and lifestyle</td><td>46.33</td><td>7</td><td>16.2155</td><td>340.5255</td><td>2019-03-03</td><td>2025-08-06T13:23:00.000Z</td><td>Credit card</td><td>324.31</td><td>4.761904762</td><td>16.2155</td><td>7.4</td><td>2019</td><td>3</td><td>1</td><td>Afternoon</td><td>4.76</td><td>2025-08-06T18:56:17.184Z</td></tr><tr><td>123-19-1176</td><td>A</td><td>YANGON</td><td>Member</td><td>Male</td><td>Health and beauty</td><td>58.22</td><td>8</td><td>23.288</td><td>489.048</td><td>2019-01-27</td><td>2025-08-06T20:33:00.000Z</td><td>Ewallet</td><td>465.76</td><td>4.761904762</td><td>23.288</td><td>8.4</td><td>2019</td><td>1</td><td>1</td><td>Evening</td><td>4.76</td><td>2025-08-06T18:56:17.184Z</td></tr><tr><td>373-73-7910</td><td>A</td><td>YANGON</td><td>Normal</td><td>Male</td><td>Sports and travel</td><td>86.31</td><td>7</td><td>30.2085</td><td>634.3785</td><td>2019-02-08</td><td>2025-08-06T10:37:00.000Z</td><td>Ewallet</td><td>604.17</td><td>4.761904762</td><td>30.2085</td><td>5.3</td><td>2019</td><td>2</td><td>6</td><td>Morning</td><td>4.76</td><td>2025-08-06T18:56:17.184Z</td></tr><tr><td>699-14-3026</td><td>C</td><td>NAYPYITAW</td><td>Normal</td><td>Male</td><td>Electronic accessories</td><td>85.39</td><td>7</td><td>29.8865</td><td>627.6165</td><td>2019-03-25</td><td>2025-08-06T18:30:00.000Z</td><td>Ewallet</td><td>597.73</td><td>4.761904762</td><td>29.8865</td><td>4.1</td><td>2019</td><td>3</td><td>2</td><td>Evening</td><td>4.76</td><td>2025-08-06T18:56:17.184Z</td></tr><tr><td>355-53-5943</td><td>A</td><td>YANGON</td><td>Member</td><td>Female</td><td>Electronic accessories</td><td>68.84</td><td>6</td><td>20.652</td><td>433.692</td><td>2019-02-25</td><td>2025-08-06T14:36:00.000Z</td><td>Ewallet</td><td>413.04</td><td>4.761904762</td><td>20.652</td><td>5.8</td><td>2019</td><td>2</td><td>2</td><td>Afternoon</td><td>4.76</td><td>2025-08-06T18:56:17.184Z</td></tr><tr><td>315-22-5665</td><td>C</td><td>NAYPYITAW</td><td>Normal</td><td>Female</td><td>Home and lifestyle</td><td>73.56</td><td>10</td><td>36.78</td><td>772.38</td><td>2019-02-24</td><td>2025-08-06T11:38:00.000Z</td><td>Ewallet</td><td>735.6</td><td>4.761904762</td><td>36.78</td><td>8.0</td><td>2019</td><td>2</td><td>1</td><td>Morning</td><td>4.76</td><td>2025-08-06T18:56:17.184Z</td></tr><tr><td>665-32-9167</td><td>A</td><td>YANGON</td><td>Member</td><td>Female</td><td>Health and beauty</td><td>36.26</td><td>2</td><td>3.626</td><td>76.146</td><td>2019-01-10</td><td>2025-08-06T17:15:00.000Z</td><td>Credit card</td><td>72.52</td><td>4.761904762</td><td>3.626</td><td>7.2</td><td>2019</td><td>1</td><td>5</td><td>Afternoon</td><td>4.76</td><td>2025-08-06T18:56:17.184Z</td></tr><tr><td>692-92-5582</td><td>B</td><td>MANDALAY</td><td>Member</td><td>Female</td><td>Food and beverages</td><td>54.84</td><td>3</td><td>8.226</td><td>172.746</td><td>2019-02-20</td><td>2025-08-06T13:27:00.000Z</td><td>Credit card</td><td>164.52</td><td>4.761904762</td><td>8.226</td><td>5.9</td><td>2019</td><td>2</td><td>4</td><td>Afternoon</td><td>4.76</td><td>2025-08-06T18:56:17.184Z</td></tr></tbody></table></div>"
      ]
     },
     "metadata": {
      "application/vnd.databricks.v1+output": {
       "addedWidgets": {},
       "aggData": [],
       "aggError": "",
       "aggOverflow": false,
       "aggSchema": [],
       "aggSeriesLimitReached": false,
       "aggType": "",
       "arguments": {},
       "columnCustomDisplayInfos": {},
       "data": [
        [
         "750-67-8428",
         "A",
         "YANGON",
         "Member",
         "Female",
         "Health and beauty",
         74.69,
         7,
         26.1415,
         548.9715,
         "2019-01-05",
         "2025-08-06T13:08:00.000Z",
         "Ewallet",
         522.83,
         4.761904762,
         26.1415,
         9.1,
         2019,
         1,
         7,
         "Afternoon",
         4.76,
         "2025-08-06T18:56:17.184Z"
        ],
        [
         "226-31-3081",
         "C",
         "NAYPYITAW",
         "Normal",
         "Female",
         "Electronic accessories",
         15.28,
         5,
         3.82,
         80.22,
         "2019-03-08",
         "2025-08-06T10:29:00.000Z",
         "Cash",
         76.4,
         4.761904762,
         3.82,
         9.6,
         2019,
         3,
         6,
         "Morning",
         4.76,
         "2025-08-06T18:56:17.184Z"
        ],
        [
         "631-41-3108",
         "A",
         "YANGON",
         "Normal",
         "Male",
         "Home and lifestyle",
         46.33,
         7,
         16.2155,
         340.5255,
         "2019-03-03",
         "2025-08-06T13:23:00.000Z",
         "Credit card",
         324.31,
         4.761904762,
         16.2155,
         7.4,
         2019,
         3,
         1,
         "Afternoon",
         4.76,
         "2025-08-06T18:56:17.184Z"
        ],
        [
         "123-19-1176",
         "A",
         "YANGON",
         "Member",
         "Male",
         "Health and beauty",
         58.22,
         8,
         23.288,
         489.048,
         "2019-01-27",
         "2025-08-06T20:33:00.000Z",
         "Ewallet",
         465.76,
         4.761904762,
         23.288,
         8.4,
         2019,
         1,
         1,
         "Evening",
         4.76,
         "2025-08-06T18:56:17.184Z"
        ],
        [
         "373-73-7910",
         "A",
         "YANGON",
         "Normal",
         "Male",
         "Sports and travel",
         86.31,
         7,
         30.2085,
         634.3785,
         "2019-02-08",
         "2025-08-06T10:37:00.000Z",
         "Ewallet",
         604.17,
         4.761904762,
         30.2085,
         5.3,
         2019,
         2,
         6,
         "Morning",
         4.76,
         "2025-08-06T18:56:17.184Z"
        ],
        [
         "699-14-3026",
         "C",
         "NAYPYITAW",
         "Normal",
         "Male",
         "Electronic accessories",
         85.39,
         7,
         29.8865,
         627.6165,
         "2019-03-25",
         "2025-08-06T18:30:00.000Z",
         "Ewallet",
         597.73,
         4.761904762,
         29.8865,
         4.1,
         2019,
         3,
         2,
         "Evening",
         4.76,
         "2025-08-06T18:56:17.184Z"
        ],
        [
         "355-53-5943",
         "A",
         "YANGON",
         "Member",
         "Female",
         "Electronic accessories",
         68.84,
         6,
         20.652,
         433.692,
         "2019-02-25",
         "2025-08-06T14:36:00.000Z",
         "Ewallet",
         413.04,
         4.761904762,
         20.652,
         5.8,
         2019,
         2,
         2,
         "Afternoon",
         4.76,
         "2025-08-06T18:56:17.184Z"
        ],
        [
         "315-22-5665",
         "C",
         "NAYPYITAW",
         "Normal",
         "Female",
         "Home and lifestyle",
         73.56,
         10,
         36.78,
         772.38,
         "2019-02-24",
         "2025-08-06T11:38:00.000Z",
         "Ewallet",
         735.6,
         4.761904762,
         36.78,
         8.0,
         2019,
         2,
         1,
         "Morning",
         4.76,
         "2025-08-06T18:56:17.184Z"
        ],
        [
         "665-32-9167",
         "A",
         "YANGON",
         "Member",
         "Female",
         "Health and beauty",
         36.26,
         2,
         3.626,
         76.146,
         "2019-01-10",
         "2025-08-06T17:15:00.000Z",
         "Credit card",
         72.52,
         4.761904762,
         3.626,
         7.2,
         2019,
         1,
         5,
         "Afternoon",
         4.76,
         "2025-08-06T18:56:17.184Z"
        ],
        [
         "692-92-5582",
         "B",
         "MANDALAY",
         "Member",
         "Female",
         "Food and beverages",
         54.84,
         3,
         8.226,
         172.746,
         "2019-02-20",
         "2025-08-06T13:27:00.000Z",
         "Credit card",
         164.52,
         4.761904762,
         8.226,
         5.9,
         2019,
         2,
         4,
         "Afternoon",
         4.76,
         "2025-08-06T18:56:17.184Z"
        ]
       ],
       "datasetInfos": [],
       "dbfsResultPath": null,
       "isJsonSchema": true,
       "metadata": {},
       "overflow": false,
       "plotOptions": {
        "customPlotOptions": {},
        "displayType": "table",
        "pivotAggregation": null,
        "pivotColumns": null,
        "xColumns": null,
        "yColumns": null
       },
       "removedWidgets": [],
       "schema": [
        {
         "metadata": "{}",
         "name": "Invoice_ID",
         "type": "\"string\""
        },
        {
         "metadata": "{}",
         "name": "Branch",
         "type": "\"string\""
        },
        {
         "metadata": "{}",
         "name": "City",
         "type": "\"string\""
        },
        {
         "metadata": "{}",
         "name": "Customer_Type",
         "type": "\"string\""
        },
        {
         "metadata": "{}",
         "name": "Gender",
         "type": "\"string\""
        },
        {
         "metadata": "{}",
         "name": "Product_Line",
         "type": "\"string\""
        },
        {
         "metadata": "{}",
         "name": "Unit_Price",
         "type": "\"double\""
        },
        {
         "metadata": "{}",
         "name": "Quantity",
         "type": "\"long\""
        },
        {
         "metadata": "{}",
         "name": "Tax_5_Percentage",
         "type": "\"double\""
        },
        {
         "metadata": "{}",
         "name": "Total",
         "type": "\"double\""
        },
        {
         "metadata": "{\"__detected_date_formats\": \"M/d/yyyy\"}",
         "name": "Date",
         "type": "\"date\""
        },
        {
         "metadata": "{}",
         "name": "Time",
         "type": "\"timestamp\""
        },
        {
         "metadata": "{}",
         "name": "Payment",
         "type": "\"string\""
        },
        {
         "metadata": "{}",
         "name": "COGS",
         "type": "\"double\""
        },
        {
         "metadata": "{}",
         "name": "Gross_Margin_Percentage",
         "type": "\"double\""
        },
        {
         "metadata": "{}",
         "name": "Gross_Income",
         "type": "\"double\""
        },
        {
         "metadata": "{}",
         "name": "Rating",
         "type": "\"double\""
        },
        {
         "metadata": "{}",
         "name": "Sales_Year",
         "type": "\"integer\""
        },
        {
         "metadata": "{}",
         "name": "Sales_Month",
         "type": "\"integer\""
        },
        {
         "metadata": "{}",
         "name": "Day_of_Week",
         "type": "\"integer\""
        },
        {
         "metadata": "{}",
         "name": "Time_Period",
         "type": "\"string\""
        },
        {
         "metadata": "{}",
         "name": "Gross_Margin_Actual",
         "type": "\"double\""
        },
        {
         "metadata": "{}",
         "name": "processed_timestamp",
         "type": "\"timestamp\""
        }
       ],
       "type": "table"
      }
     },
     "output_type": "display_data"
    },
    {
     "output_type": "display_data",
     "data": {
      "text/plain": [
       "Databricks visualization. Run in Databricks to view."
      ]
     },
     "metadata": {
      "application/vnd.databricks.v1.subcommand+json": {
       "baseErrorDetails": null,
       "bindings": {},
       "collapsed": false,
       "command": "%python\n__backend_agg_display_orig = display\n__backend_agg_dfs = []\ndef __backend_agg_display_new(df):\n    __backend_agg_df_modules = [\"pandas.core.frame\", \"databricks.koalas.frame\", \"pyspark.sql.dataframe\", \"pyspark.pandas.frame\", \"pyspark.sql.connect.dataframe\"]\n    if (type(df).__module__ in __backend_agg_df_modules and type(df).__name__ == 'DataFrame') or isinstance(df, list):\n        __backend_agg_dfs.append(df)\n\ndisplay = __backend_agg_display_new\n\ndef __backend_agg_user_code_fn():\n    import base64\n    exec(base64.standard_b64decode(\"IyBMb2FkIGRhdGEgZm9yIHZpc3VhbGl6YXRpb24KZGYgPSBzcGFyay50YWJsZSgic3VwZXJtYXJrZXRfc2FsZXMuc2FsZXNfc2lsdmVyLmNsZWFuc2VkX3NhbGVzX2RhdGEiKQpkaXNwbGF5KGRmLmxpbWl0KDEwKSk=\").decode())\n\ntry:\n    # run user code\n    __backend_agg_user_code_fn()\n\n    #reset display function\n    display = __backend_agg_display_orig\n\n    if len(__backend_agg_dfs) > 0:\n        # create a temp view\n        if type(__backend_agg_dfs[0]).__module__ == \"databricks.koalas.frame\":\n            # koalas dataframe\n            __backend_agg_dfs[0].to_spark().createOrReplaceTempView(\"DatabricksView5fc7f8d\")\n        elif type(__backend_agg_dfs[0]).__module__ == \"pandas.core.frame\" or isinstance(__backend_agg_dfs[0], list):\n            # pandas dataframe\n            spark.createDataFrame(__backend_agg_dfs[0]).createOrReplaceTempView(\"DatabricksView5fc7f8d\")\n        else:\n            __backend_agg_dfs[0].createOrReplaceTempView(\"DatabricksView5fc7f8d\")\n        #run backend agg\n        display(spark.sql(\"\"\"WITH q AS (select * from DatabricksView5fc7f8d) SELECT `Product_Line`,SUM(`Total`) `column_c233cfff496`,`City` FROM q GROUP BY `City`,`Product_Line`\"\"\"))\n    else:\n        displayHTML(\"dataframe no longer exists. If you're using dataframe.display(), use display(dataframe) instead.\")\n\n\nfinally:\n    spark.sql(\"drop view if exists DatabricksView5fc7f8d\")\n    display = __backend_agg_display_orig\n    del __backend_agg_display_new\n    del __backend_agg_display_orig\n    del __backend_agg_dfs\n    del __backend_agg_user_code_fn\n\n",
       "commandTitle": "Visualization 1",
       "commandType": "auto",
       "commandVersion": 0,
       "commentThread": [],
       "commentsVisible": false,
       "contentSha256Hex": null,
       "customPlotOptions": {
        "redashChart": [
         {
          "key": "type",
          "value": "CHART"
         },
         {
          "key": "options",
          "value": {
           "alignYAxesAtZero": true,
           "coefficient": 1,
           "columnConfigurationMap": {
            "series": {
             "column": "City",
             "id": "column_c233cfff494"
            },
            "x": {
             "column": "Product_Line",
             "id": "column_c233cfff493"
            },
            "y": [
             {
              "column": "Total",
              "id": "column_c233cfff496",
              "transform": "SUM"
             }
            ]
           },
           "dateTimeFormat": "DD/MM/YYYY HH:mm",
           "direction": {
            "type": "counterclockwise"
           },
           "error_y": {
            "type": "data",
            "visible": true
           },
           "globalSeriesType": "column",
           "isAggregationOn": true,
           "legend": {
            "traceorder": "normal"
           },
           "missingValuesAsZero": true,
           "numberFormat": "0,0.[00000]",
           "percentFormat": "0[.]00%",
           "series": {
            "error_y": {
             "type": "data",
             "visible": true
            },
            "stacking": null
           },
           "seriesOptions": {
            "column_c233cfff496": {
             "type": "column",
             "yAxis": 0
            }
           },
           "showDataLabels": false,
           "sizemode": "diameter",
           "sortX": true,
           "sortY": true,
           "swappedAxes": false,
           "textFormat": "",
           "useAggregationsUi": true,
           "valuesOptions": {},
           "version": 2,
           "xAxis": {
            "labels": {
             "enabled": true
            },
            "type": "-"
           },
           "yAxis": [
            {
             "type": "-"
            },
            {
             "opposite": true,
             "type": "-"
            }
           ]
          }
         }
        ]
       },
       "datasetPreviewNameToCmdIdMap": {},
       "diffDeletes": [],
       "diffInserts": [],
       "displayType": "redashChart",
       "error": null,
       "errorDetails": null,
       "errorSummary": null,
       "errorTraceType": null,
       "finishTime": 0,
       "globalVars": {},
       "guid": "",
       "height": "auto",
       "hideCommandCode": false,
       "hideCommandResult": false,
       "iPythonMetadata": null,
       "inputWidgets": {},
       "isLockedInExamMode": false,
       "latestUser": "a user",
       "latestUserId": null,
       "listResultMetadata": null,
       "metadata": {},
       "nuid": "5310c320-b221-4408-bb83-b33cf72bce38",
       "origId": 0,
       "parentHierarchy": [],
       "pivotAggregation": null,
       "pivotColumns": null,
       "position": 19.0,
       "resultDbfsErrorMessage": null,
       "resultDbfsStatus": "INLINED_IN_TREE",
       "results": null,
       "showCommandTitle": false,
       "startTime": 0,
       "state": "input",
       "streamStates": {},
       "subcommandOptions": {
        "queryPlan": {
         "groups": [
          {
           "column": "Product_Line",
           "type": "column"
          },
          {
           "column": "City",
           "type": "column"
          }
         ],
         "selects": [
          {
           "column": "Product_Line",
           "type": "column"
          },
          {
           "alias": "column_c233cfff496",
           "args": [
            {
             "column": "Total",
             "type": "column"
            }
           ],
           "function": "SUM",
           "type": "function"
          },
          {
           "column": "City",
           "type": "column"
          }
         ]
        }
       },
       "submitTime": 0,
       "subtype": "tableResultSubCmd.visualization",
       "tableResultIndex": 0,
       "tableResultSettingsMap": {},
       "useConsistentColors": false,
       "version": "CommandV1",
       "width": "auto",
       "workflows": [],
       "xColumns": null,
       "yColumns": null
      }
     },
     "output_type": "display_data"
    }
   ],
   "source": [
    "%python\n",
    "# Load data for visualization\n",
    "df = spark.table(\"supermarket_sales.sales_silver.cleansed_sales_data\")\n",
    "display(df.limit(10))"
   ]
  },
  {
   "cell_type": "code",
   "execution_count": 0,
   "metadata": {
    "application/vnd.databricks.v1+cell": {
     "cellMetadata": {
      "byteLimit": 2048000,
      "implicitDf": true,
      "rowLimit": 10000
     },
     "inputWidgets": {},
     "nuid": "23c4e65a-7f66-4a13-80d9-7a6934df9479",
     "showTitle": false,
     "tableResultSettingsMap": {},
     "title": ""
    },
    "vscode": {
     "languageId": "sql"
    }
   },
   "outputs": [
    {
     "output_type": "display_data",
     "data": {
      "text/html": [
       "<style scoped>\n",
       "  .table-result-container {\n",
       "    max-height: 300px;\n",
       "    overflow: auto;\n",
       "  }\n",
       "  table, th, td {\n",
       "    border: 1px solid black;\n",
       "    border-collapse: collapse;\n",
       "  }\n",
       "  th, td {\n",
       "    padding: 5px;\n",
       "  }\n",
       "  th {\n",
       "    text-align: left;\n",
       "  }\n",
       "</style><div class='table-result-container'><table class='table-result'><thead style='background-color: white'><tr><th>num_affected_rows</th><th>num_inserted_rows</th></tr></thead><tbody></tbody></table></div>"
      ]
     },
     "metadata": {
      "application/vnd.databricks.v1+output": {
       "addedWidgets": {},
       "aggData": [],
       "aggError": "",
       "aggOverflow": false,
       "aggSchema": [],
       "aggSeriesLimitReached": false,
       "aggType": "",
       "arguments": {},
       "columnCustomDisplayInfos": {},
       "data": [],
       "datasetInfos": [
        {
         "name": "_sqldf",
         "schema": {
          "fields": [
           {
            "metadata": {},
            "name": "num_affected_rows",
            "nullable": true,
            "type": "long"
           },
           {
            "metadata": {},
            "name": "num_inserted_rows",
            "nullable": true,
            "type": "long"
           }
          ],
          "type": "struct"
         },
         "tableIdentifier": null,
         "typeStr": "pyspark.sql.connect.dataframe.DataFrame"
        }
       ],
       "dbfsResultPath": null,
       "isJsonSchema": true,
       "metadata": {
        "createTempViewForImplicitDf": true,
        "dataframeName": "_sqldf",
        "executionCount": 40
       },
       "overflow": false,
       "plotOptions": {
        "customPlotOptions": {},
        "displayType": "table",
        "pivotAggregation": null,
        "pivotColumns": null,
        "xColumns": null,
        "yColumns": null
       },
       "removedWidgets": [],
       "schema": [
        {
         "metadata": "{}",
         "name": "num_affected_rows",
         "type": "\"long\""
        },
        {
         "metadata": "{}",
         "name": "num_inserted_rows",
         "type": "\"long\""
        }
       ],
       "type": "table"
      }
     },
     "output_type": "display_data"
    }
   ],
   "source": [
    "%sql\n",
    "-- Create gold layer table with key business metrics\n",
    "CREATE OR REPLACE TABLE `supermarket_sales`.`sales_gold`.`business_kpis` AS\n",
    "SELECT \n",
    "    'Overall' as Metric_Level,\n",
    "    'Total' as Metric_Category,\n",
    "    COUNT(*) as Total_Transactions,\n",
    "    ROUND(SUM(Total), 2) as Total_Revenue,\n",
    "    ROUND(SUM(Gross_Income), 2) as Total_Gross_Income,\n",
    "    ROUND(AVG(Gross_Income), 2) as Average_Gross_Income,\n",
    "    ROUND(SUM(Gross_Income) / SUM(Total) * 100, 2) as Overall_Gross_Margin_Percent,\n",
    "    ROUND(AVG(Rating), 2) as Average_Customer_Rating\n",
    "FROM `supermarket_sales`.`sales_silver`.`cleansed_sales_data`;"
   ]
  },
  {
   "cell_type": "code",
   "execution_count": 0,
   "metadata": {
    "application/vnd.databricks.v1+cell": {
     "cellMetadata": {
      "byteLimit": 2048000,
      "implicitDf": true,
      "rowLimit": 10000
     },
     "inputWidgets": {},
     "nuid": "55999c07-7a1a-4bf6-9816-b935e982105e",
     "showTitle": false,
     "tableResultSettingsMap": {},
     "title": ""
    },
    "vscode": {
     "languageId": "sql"
    }
   },
   "outputs": [
    {
     "output_type": "display_data",
     "data": {
      "text/html": [
       "<style scoped>\n",
       "  .table-result-container {\n",
       "    max-height: 300px;\n",
       "    overflow: auto;\n",
       "  }\n",
       "  table, th, td {\n",
       "    border: 1px solid black;\n",
       "    border-collapse: collapse;\n",
       "  }\n",
       "  th, td {\n",
       "    padding: 5px;\n",
       "  }\n",
       "  th {\n",
       "    text-align: left;\n",
       "  }\n",
       "</style><div class='table-result-container'><table class='table-result'><thead style='background-color: white'><tr><th>Metric_Level</th><th>Metric_Category</th><th>Total_Transactions</th><th>Total_Revenue</th><th>Total_Gross_Income</th><th>Average_Gross_Income</th><th>Overall_Gross_Margin_Percent</th><th>Average_Customer_Rating</th></tr></thead><tbody><tr><td>Overall</td><td>Total</td><td>1000</td><td>322966.75</td><td>15379.37</td><td>15.38</td><td>4.76</td><td>6.97</td></tr></tbody></table></div>"
      ]
     },
     "metadata": {
      "application/vnd.databricks.v1+output": {
       "addedWidgets": {},
       "aggData": [],
       "aggError": "",
       "aggOverflow": false,
       "aggSchema": [],
       "aggSeriesLimitReached": false,
       "aggType": "",
       "arguments": {},
       "columnCustomDisplayInfos": {},
       "data": [
        [
         "Overall",
         "Total",
         1000,
         322966.75,
         15379.37,
         15.38,
         4.76,
         6.97
        ]
       ],
       "datasetInfos": [
        {
         "name": "_sqldf",
         "schema": {
          "fields": [
           {
            "metadata": {},
            "name": "Metric_Level",
            "nullable": true,
            "type": "string"
           },
           {
            "metadata": {},
            "name": "Metric_Category",
            "nullable": true,
            "type": "string"
           },
           {
            "metadata": {},
            "name": "Total_Transactions",
            "nullable": true,
            "type": "long"
           },
           {
            "metadata": {},
            "name": "Total_Revenue",
            "nullable": true,
            "type": "double"
           },
           {
            "metadata": {},
            "name": "Total_Gross_Income",
            "nullable": true,
            "type": "double"
           },
           {
            "metadata": {},
            "name": "Average_Gross_Income",
            "nullable": true,
            "type": "double"
           },
           {
            "metadata": {},
            "name": "Overall_Gross_Margin_Percent",
            "nullable": true,
            "type": "double"
           },
           {
            "metadata": {},
            "name": "Average_Customer_Rating",
            "nullable": true,
            "type": "double"
           }
          ],
          "type": "struct"
         },
         "tableIdentifier": null,
         "typeStr": "pyspark.sql.connect.dataframe.DataFrame"
        }
       ],
       "dbfsResultPath": null,
       "isJsonSchema": true,
       "metadata": {
        "createTempViewForImplicitDf": true,
        "dataframeName": "_sqldf",
        "executionCount": 41
       },
       "overflow": false,
       "plotOptions": {
        "customPlotOptions": {},
        "displayType": "table",
        "pivotAggregation": null,
        "pivotColumns": null,
        "xColumns": null,
        "yColumns": null
       },
       "removedWidgets": [],
       "schema": [
        {
         "metadata": "{}",
         "name": "Metric_Level",
         "type": "\"string\""
        },
        {
         "metadata": "{}",
         "name": "Metric_Category",
         "type": "\"string\""
        },
        {
         "metadata": "{}",
         "name": "Total_Transactions",
         "type": "\"long\""
        },
        {
         "metadata": "{}",
         "name": "Total_Revenue",
         "type": "\"double\""
        },
        {
         "metadata": "{}",
         "name": "Total_Gross_Income",
         "type": "\"double\""
        },
        {
         "metadata": "{}",
         "name": "Average_Gross_Income",
         "type": "\"double\""
        },
        {
         "metadata": "{}",
         "name": "Overall_Gross_Margin_Percent",
         "type": "\"double\""
        },
        {
         "metadata": "{}",
         "name": "Average_Customer_Rating",
         "type": "\"double\""
        }
       ],
       "type": "table"
      }
     },
     "output_type": "display_data"
    }
   ],
   "source": [
    "%sql\n",
    "-- Display business KPIs\n",
    "SELECT * FROM `supermarket_sales`.`sales_gold`.`business_kpis`;"
   ]
  },
  {
   "cell_type": "markdown",
   "metadata": {
    "application/vnd.databricks.v1+cell": {
     "cellMetadata": {},
     "inputWidgets": {},
     "nuid": "d9f6f2e5-a616-448e-a043-e8e59a5c24e7",
     "showTitle": false,
     "tableResultSettingsMap": {},
     "title": ""
    }
   },
   "source": [
    "## Key Business Insights\n",
    "\n",
    "Based on the analysis performed in this notebook:\n",
    "\n",
    "### 1. Data Quality\n",
    "- The dataset has been thoroughly validated for completeness and consistency\n",
    "- All null values and duplicates have been identified and handled appropriately\n",
    "- Data enrichment includes time-based categorization and calculated metrics\n",
    "\n",
    "### 2. Revenue Analysis\n",
    "- Total gross income and revenue metrics provide baseline performance indicators\n",
    "- City and product line analysis reveals geographic and category performance patterns\n",
    "- Time-based analysis shows seasonal and daily trends\n",
    "\n",
    "### 3. Recommendations\n",
    "- Focus marketing efforts on high-performing product lines and cities\n",
    "- Optimize inventory based on time-period analysis\n",
    "- Implement targeted promotions for underperforming segments\n",
    "- Monitor customer satisfaction ratings to maintain service quality\n",
    "\n",
    "### 4. Next Steps\n",
    "- Implement real-time data pipeline for continuous analysis\n",
    "- Create automated alerts for performance anomalies\n",
    "- Develop predictive models for demand forecasting\n",
    "- Build executive dashboards for ongoing monitoring"
   ]
  }
 ],
 "metadata": {
  "application/vnd.databricks.v1+notebook": {
   "computePreferences": null,
   "dashboards": [],
   "environmentMetadata": null,
   "inputWidgetPreferences": null,
   "language": "python",
   "notebookMetadata": {
    "mostRecentlyExecutedCommandWithImplicitDF": {
     "commandId": 8966684554072132,
     "dataframes": [
      "_sqldf"
     ]
    },
    "pythonIndentUnit": 4
   },
   "notebookName": "Supermarket_Sales_Analysis",
   "widgets": {}
  },
  "kernelspec": {
   "display_name": "Python 3",
   "language": "python",
   "name": "python3"
  },
  "language_info": {
   "name": "python"
  }
 },
 "nbformat": 4,
 "nbformat_minor": 0
}
