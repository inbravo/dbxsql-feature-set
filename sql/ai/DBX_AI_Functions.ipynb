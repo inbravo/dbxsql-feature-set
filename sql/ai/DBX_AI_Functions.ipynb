{
 "cells": [
  {
   "cell_type": "markdown",
   "metadata": {
    "application/vnd.databricks.v1+cell": {
     "cellMetadata": {},
     "inputWidgets": {},
     "nuid": "bf8448c2-70cc-4bf6-a08e-0691e6d67cde",
     "showTitle": false,
     "tableResultSettingsMap": {},
     "title": ""
    }
   },
   "source": [
    "Databricks SQL also provides built-in GenAI functions calling specialized LLMs with a custom prompt, providing fast answers.\n",
    "These functions are the following:\n",
    "\n",
    "    ai_analyze_sentiment\n",
    "    ai_classify\n",
    "    ai_extract\n",
    "    ai_fix_grammar\n",
    "    ai_gen\n",
    "    ai_mask\n",
    "    ai_similarity\n",
    "    ai_summarize\n",
    "    ai_translate\n"
   ]
  },
  {
   "cell_type": "code",
   "execution_count": 0,
   "metadata": {
    "application/vnd.databricks.v1+cell": {
     "cellMetadata": {
      "byteLimit": 2048000,
      "rowLimit": 10000
     },
     "inputWidgets": {},
     "nuid": "c717fce5-a76a-41b4-a663-04521614dc45",
     "showTitle": false,
     "tableResultSettingsMap": {},
     "title": ""
    }
   },
   "outputs": [
    {
     "output_type": "stream",
     "name": "stdout",
     "output_type": "stream",
     "text": [
      "Collecting dbdemos\n  Downloading dbdemos-0.6.26-py3-none-any.whl.metadata (9.4 kB)\nRequirement already satisfied: requests in /databricks/python3/lib/python3.11/site-packages (from dbdemos) (2.31.0)\nRequirement already satisfied: pandas in /databricks/python3/lib/python3.11/site-packages (from dbdemos) (1.5.3)\nRequirement already satisfied: databricks-sdk>=0.38.0 in /databricks/python3/lib/python3.11/site-packages (from dbdemos) (0.40.0)\nRequirement already satisfied: google-auth~=2.0 in /databricks/python3/lib/python3.11/site-packages (from databricks-sdk>=0.38.0->dbdemos) (2.35.0)\nRequirement already satisfied: charset-normalizer<4,>=2 in /databricks/python3/lib/python3.11/site-packages (from requests->dbdemos) (2.0.4)\nRequirement already satisfied: idna<4,>=2.5 in /databricks/python3/lib/python3.11/site-packages (from requests->dbdemos) (3.4)\nRequirement already satisfied: urllib3<3,>=1.21.1 in /databricks/python3/lib/python3.11/site-packages (from requests->dbdemos) (1.26.16)\nRequirement already satisfied: certifi>=2017.4.17 in /databricks/python3/lib/python3.11/site-packages (from requests->dbdemos) (2023.7.22)\nRequirement already satisfied: python-dateutil>=2.8.1 in /databricks/python3/lib/python3.11/site-packages (from pandas->dbdemos) (2.8.2)\nRequirement already satisfied: pytz>=2020.1 in /databricks/python3/lib/python3.11/site-packages (from pandas->dbdemos) (2022.7)\nRequirement already satisfied: numpy>=1.21.0 in /databricks/python3/lib/python3.11/site-packages (from pandas->dbdemos) (1.23.5)\nRequirement already satisfied: cachetools<6.0,>=2.0.0 in /databricks/python3/lib/python3.11/site-packages (from google-auth~=2.0->databricks-sdk>=0.38.0->dbdemos) (5.5.0)\nRequirement already satisfied: pyasn1-modules>=0.2.1 in /databricks/python3/lib/python3.11/site-packages (from google-auth~=2.0->databricks-sdk>=0.38.0->dbdemos) (0.2.8)\nRequirement already satisfied: rsa<5,>=3.1.4 in /databricks/python3/lib/python3.11/site-packages (from google-auth~=2.0->databricks-sdk>=0.38.0->dbdemos) (4.9)\nRequirement already satisfied: six>=1.5 in /usr/lib/python3/dist-packages (from python-dateutil>=2.8.1->pandas->dbdemos) (1.16.0)\nRequirement already satisfied: pyasn1<0.5.0,>=0.4.6 in /databricks/python3/lib/python3.11/site-packages (from pyasn1-modules>=0.2.1->google-auth~=2.0->databricks-sdk>=0.38.0->dbdemos) (0.4.8)\nDownloading dbdemos-0.6.26-py3-none-any.whl (30.1 MB)\n\u001B[?25l   \u001B[90m━━━━━━━━━━━━━━━━━━━━━━━━━━━━━━━━━━━━━━━━\u001B[0m \u001B[32m0.0/30.1 MB\u001B[0m \u001B[31m?\u001B[0m eta \u001B[36m-:--:--\u001B[0m\r\u001B[2K   \u001B[91m━━━━━━━━━━━━━━━━━━━━━━━━━━━━━━━━━━━━━━━\u001B[0m\u001B[91m╸\u001B[0m \u001B[32m29.9/30.1 MB\u001B[0m \u001B[31m156.1 MB/s\u001B[0m eta \u001B[36m0:00:01\u001B[0m\r\u001B[2K   \u001B[90m━━━━━━━━━━━━━━━━━━━━━━━━━━━━━━━━━━━━━━━━\u001B[0m \u001B[32m30.1/30.1 MB\u001B[0m \u001B[31m113.7 MB/s\u001B[0m eta \u001B[36m0:00:00\u001B[0m\n\u001B[?25hInstalling collected packages: dbdemos\nSuccessfully installed dbdemos-0.6.26\n\u001B[43mNote: you may need to restart the kernel using %restart_python or dbutils.library.restartPython() to use updated packages.\u001B[0m\n"
     ]
    }
   ],
   "source": [
    "%python\n",
    "%pip install dbdemos"
   ]
  },
  {
   "cell_type": "code",
   "execution_count": 0,
   "metadata": {
    "application/vnd.databricks.v1+cell": {
     "cellMetadata": {
      "byteLimit": 2048000,
      "rowLimit": 10000
     },
     "inputWidgets": {},
     "nuid": "03be2e86-3c1e-438e-b372-59a4910174ce",
     "showTitle": false,
     "tableResultSettingsMap": {},
     "title": ""
    }
   },
   "outputs": [
    {
     "output_type": "display_data",
     "data": {
      "text/html": [
       "\n",
       "<style>\n",
       ".dbdemo {\n",
       "  font-family: -apple-system,BlinkMacSystemFont,Segoe UI,Roboto,Helvetica Neue,Arial,Noto Sans,sans-serif,Apple Color Emoji,Segoe UI Emoji,Segoe UI Symbol,Noto Color Emoji,FontAwesome;\n",
       "  color: #3b3b3b;\n",
       "  padding: 0px 0px 20px 0px;\n",
       "}\n",
       ".dbdemo_box {\n",
       "  width: 400px;\n",
       "  padding: 10px;\n",
       "  box-shadow: 0 .15rem 1.15rem 0 rgba(58,59,69,.15)!important;\n",
       "  float: left;\n",
       "  min-height: 170px;\n",
       "  margin: 0px 20px 20px 20px;\n",
       "}\n",
       ".dbdemo_category {\n",
       "  clear: both;\n",
       "}\n",
       ".category {\n",
       "  margin-left: 20px;\n",
       "  margin-bottom: 5px;\n",
       "\n",
       "}\n",
       ".dbdemo_logo {\n",
       "  width: 100%;\n",
       "  height: 225px;\n",
       "}\n",
       ".code {\n",
       "  padding: 5px;\n",
       "  border: 1px solid #e4e4e4;\n",
       "  font-family: monospace;\n",
       "  background-color: #f5f5f5;\n",
       "  margin: 5px 0px 0px 0px;\n",
       "}\n",
       ".dbdemo_description {\n",
       "  height: 100px;\n",
       "}\n",
       ".menu_button {\n",
       "  font-size: 15px;\n",
       "  cursor: pointer;\n",
       "  border: 0px;\n",
       "  padding: 10px 20px 10px 20px;\n",
       "  margin-right: 10px;\n",
       "  background-color: rgb(238, 237, 233);\n",
       "  border-radius: 20px;\n",
       "}\n",
       ".menu_button:hover {\n",
       "  background-color: rgb(245, 244, 242)\n",
       "}\n",
       ".menu_button.selected {\n",
       "  background-color: rgb(158, 214, 196)\n",
       "}\n",
       ".new_tag {\n",
       "  background-color: red;\n",
       "  color: white;\n",
       "  font-size: 13px;\n",
       "  padding: 2px 7px;\n",
       "  border-radius: 3px;\n",
       "  margin-right: 5px;\n",
       "}\n",
       "</style>\n",
       "<div class=\"dbdemo\">\n",
       "     <div style=\"padding: 10px 0px 20px 20px\"><button category=\"lakehouse\" class=\"menu_button selected\" type=\"button\"><span>Lakehouse</span></button><button category=\"data-engineering\" class=\"menu_button \" type=\"button\"><span>Data-engineering</span></button><button category=\"governance\" class=\"menu_button \" type=\"button\"><span>Governance</span></button><button category=\"DBSQL\" class=\"menu_button \" type=\"button\"><span>Dbsql</span></button><button category=\"data-science\" class=\"menu_button \" type=\"button\"><span>Data-science</span></button><button category=\"AI-BI\" class=\"menu_button \" type=\"button\"><span class=\"new_tag\">NEW!</span><span>Ai-bi</span></button></div><div class=\"dbdemo_category\" style=\"min-height: 200px; display: block\" id=\"category-lakehouse\">\n",
       "            <div class=\"dbdemo_box\">\n",
       "              <img class=\"dbdemo_logo\" src=\"https://github.com/databricks-demos/dbdemos-resources/raw/main/icon/lakehouse-fsi-credit.jpg\" />\n",
       "              <div class=\"dbdemo_description\">\n",
       "                <h2>Lakehouse for Retail Banking: Credit Decisioning</h2>\n",
       "                Build your banking data platform and identify credit worthy customers\n",
       "              </div>\n",
       "              <div class=\"code\"> \n",
       "                dbdemos.install('lakehouse-fsi-credit')\n",
       "              </div>\n",
       "            </div>\n",
       "            <div class=\"dbdemo_box\">\n",
       "              <img class=\"dbdemo_logo\" src=\"https://github.com/databricks-demos/dbdemos-resources/raw/main/icon/lakehouse-fsi-fraud.jpg\" />\n",
       "              <div class=\"dbdemo_description\">\n",
       "                <h2>Retail Banking - Fraud Detection</h2>\n",
       "                Build your Banking platform and detect Fraud in real-time. End 2 End demo, with Model Serving & realtime fraud inference A/B testing.\n",
       "              </div>\n",
       "              <div class=\"code\"> \n",
       "                dbdemos.install('lakehouse-fsi-fraud')\n",
       "              </div>\n",
       "            </div>\n",
       "            <div class=\"dbdemo_box\">\n",
       "              <img class=\"dbdemo_logo\" src=\"https://github.com/databricks-demos/dbdemos-resources/raw/main/icon/lakehouse-fsi-smart-claims.jpg\" />\n",
       "              <div class=\"dbdemo_description\">\n",
       "                <h2>Data Intelligence Platform: Smart Claims Processing for Insurance</h2>\n",
       "                Build your smart claims platform on the Lakehouse\n",
       "              </div>\n",
       "              <div class=\"code\"> \n",
       "                dbdemos.install('lakehouse-fsi-smart-claims')\n",
       "              </div>\n",
       "            </div>\n",
       "            <div class=\"dbdemo_box\">\n",
       "              <img class=\"dbdemo_logo\" src=\"https://github.com/databricks-demos/dbdemos-resources/raw/main/icon/lakehouse-hls-readmission.jpg\" />\n",
       "              <div class=\"dbdemo_description\">\n",
       "                <h2>Lakehouse for HLS: Patient readmission</h2>\n",
       "                Build your data platform and personalized health care to reduce readmission risk\n",
       "              </div>\n",
       "              <div class=\"code\"> \n",
       "                dbdemos.install('lakehouse-hls-readmission')\n",
       "              </div>\n",
       "            </div>\n",
       "            <div class=\"dbdemo_box\">\n",
       "              <img class=\"dbdemo_logo\" src=\"https://github.com/databricks-demos/dbdemos-resources/raw/main/icon/lakehouse-iot-platform.jpg\" />\n",
       "              <div class=\"dbdemo_description\">\n",
       "                <h2>Data Intelligence Platform for IoT & Prescriptive Maintenance</h2>\n",
       "                Detect faulty wind turbine and generate work orders: Ingestion (DLT), BI, Predictive Maintenance (ML), Prescriptive Maintenance (GenAI), Governance (UC), Orchestration\n",
       "              </div>\n",
       "              <div class=\"code\"> \n",
       "                dbdemos.install('lakehouse-iot-platform')\n",
       "              </div>\n",
       "            </div>\n",
       "            <div class=\"dbdemo_box\">\n",
       "              <img class=\"dbdemo_logo\" src=\"https://github.com/databricks-demos/dbdemos-resources/raw/main/icon/lakehouse-retail-c360.jpg\" />\n",
       "              <div class=\"dbdemo_description\">\n",
       "                <h2>Lakehouse for C360: Reducing Customer Churn</h2>\n",
       "                Centralize customer data and reduce churn: Ingestion (DLT), BI, Predictive Maintenance (ML), Governance (UC), Orchestration.\n",
       "              </div>\n",
       "              <div class=\"code\"> \n",
       "                dbdemos.install('lakehouse-retail-c360')\n",
       "              </div>\n",
       "            </div></div><div class=\"dbdemo_category\" style=\"min-height: 200px; display: none\" id=\"category-data-engineering\">\n",
       "            <div class=\"dbdemo_box\">\n",
       "              <img class=\"dbdemo_logo\" src=\"https://github.com/databricks-demos/dbdemos-resources/raw/main/icon/auto-loader.jpg\" />\n",
       "              <div class=\"dbdemo_description\">\n",
       "                <h2>Databricks Autoloader (cloudfile)</h2>\n",
       "                Incremental ingestion on your cloud storage folder.\n",
       "              </div>\n",
       "              <div class=\"code\"> \n",
       "                dbdemos.install('auto-loader')\n",
       "              </div>\n",
       "            </div>\n",
       "            <div class=\"dbdemo_box\">\n",
       "              <img class=\"dbdemo_logo\" src=\"https://github.com/databricks-demos/dbdemos-resources/raw/main/icon/cdc-pipeline.jpg\" />\n",
       "              <div class=\"dbdemo_description\">\n",
       "                <h2>CDC Pipeline with Delta</h2>\n",
       "                Process CDC data to build an entire pipeline and materialize your operational tables in your lakehouse.\n",
       "              </div>\n",
       "              <div class=\"code\"> \n",
       "                dbdemos.install('cdc-pipeline')\n",
       "              </div>\n",
       "            </div>\n",
       "            <div class=\"dbdemo_box\">\n",
       "              <img class=\"dbdemo_logo\" src=\"https://github.com/databricks-demos/dbdemos-resources/raw/main/icon/dbt-on-databricks.jpg\" />\n",
       "              <div class=\"dbdemo_description\">\n",
       "                <h2>Orchestrate and run your dbt jobs</h2>\n",
       "                Launch your dbt pipelines in production using a SQL Warehouse. Leverage Databricks Workflow (orchestration) and add a dbt task in your transformation pipeline.\n",
       "              </div>\n",
       "              <div class=\"code\"> \n",
       "                dbdemos.install('dbt-on-databricks')\n",
       "              </div>\n",
       "            </div>\n",
       "            <div class=\"dbdemo_box\">\n",
       "              <img class=\"dbdemo_logo\" src=\"https://github.com/databricks-demos/dbdemos-resources/raw/main/icon/delta-lake.jpg\" />\n",
       "              <div class=\"dbdemo_description\">\n",
       "                <h2>Delta Lake</h2>\n",
       "                Store your table with Delta Lake & discover how Delta Lake can simplify your Data Pipelines.\n",
       "              </div>\n",
       "              <div class=\"code\"> \n",
       "                dbdemos.install('delta-lake')\n",
       "              </div>\n",
       "            </div>\n",
       "            <div class=\"dbdemo_box\">\n",
       "              <img class=\"dbdemo_logo\" src=\"https://github.com/databricks-demos/dbdemos-resources/raw/main/icon/dlt-cdc.jpg\" />\n",
       "              <div class=\"dbdemo_description\">\n",
       "                <h2>CDC pipeline with Delta Live Table.</h2>\n",
       "                Ingest Change Data Capture flow with APPLY INTO and simplify SCDT2 implementation.\n",
       "              </div>\n",
       "              <div class=\"code\"> \n",
       "                dbdemos.install('dlt-cdc')\n",
       "              </div>\n",
       "            </div>\n",
       "            <div class=\"dbdemo_box\">\n",
       "              <img class=\"dbdemo_logo\" src=\"https://github.com/databricks-demos/dbdemos-resources/raw/main/icon/dlt-loans.jpg\" />\n",
       "              <div class=\"dbdemo_description\">\n",
       "                <h2>Full Delta Live Tables Pipeline - Loan</h2>\n",
       "                Ingest loan data and implement a DLT pipeline with quarantine.\n",
       "              </div>\n",
       "              <div class=\"code\"> \n",
       "                dbdemos.install('dlt-loans')\n",
       "              </div>\n",
       "            </div>\n",
       "            <div class=\"dbdemo_box\">\n",
       "              <img class=\"dbdemo_logo\" src=\"https://github.com/databricks-demos/dbdemos-resources/raw/main/icon/dlt-unit-test.jpg\" />\n",
       "              <div class=\"dbdemo_description\">\n",
       "                <h2>Unit Testing Delta Live Table (DLT) for production-grade pipelines</h2>\n",
       "                Deploy robust Delta Live Table pipelines with unit tests leveraging expectation.\n",
       "              </div>\n",
       "              <div class=\"code\"> \n",
       "                dbdemos.install('dlt-unit-test')\n",
       "              </div>\n",
       "            </div>\n",
       "            <div class=\"dbdemo_box\">\n",
       "              <img class=\"dbdemo_logo\" src=\"https://github.com/databricks-demos/dbdemos-resources/raw/main/icon/pipeline-bike.jpg\" />\n",
       "              <div class=\"dbdemo_description\">\n",
       "                <h2>Full Declarative Pipeline - Bike</h2>\n",
       "                Ingest bike rental data and implement a Lakeflow Declarative Pipeline, with expectation and monitoring.\n",
       "              </div>\n",
       "              <div class=\"code\"> \n",
       "                dbdemos.install('pipeline-bike')\n",
       "              </div>\n",
       "            </div>\n",
       "            <div class=\"dbdemo_box\">\n",
       "              <img class=\"dbdemo_logo\" src=\"https://github.com/databricks-demos/dbdemos-resources/raw/main/icon/streaming-sessionization.jpg\" />\n",
       "              <div class=\"dbdemo_description\">\n",
       "                <h2>Spark Streaming - Advanced</h2>\n",
       "                Deep dive on Spark Streaming with Delta to build webapp user sessions from clicks, with custom aggregation state management.\n",
       "              </div>\n",
       "              <div class=\"code\"> \n",
       "                dbdemos.install('streaming-sessionization')\n",
       "              </div>\n",
       "            </div></div><div class=\"dbdemo_category\" style=\"min-height: 200px; display: none\" id=\"category-governance\">\n",
       "            <div class=\"dbdemo_box\">\n",
       "              <img class=\"dbdemo_logo\" src=\"https://github.com/databricks-demos/dbdemos-resources/raw/main/icon/delta-sharing-airlines.jpg\" />\n",
       "              <div class=\"dbdemo_description\">\n",
       "                <h2>Delta Sharing - Airlines</h2>\n",
       "                Share your data to external organization using Delta Sharing.\n",
       "              </div>\n",
       "              <div class=\"code\"> \n",
       "                dbdemos.install('delta-sharing-airlines')\n",
       "              </div>\n",
       "            </div>\n",
       "            <div class=\"dbdemo_box\">\n",
       "              <img class=\"dbdemo_logo\" src=\"https://github.com/databricks-demos/dbdemos-resources/raw/main/icon/uc-01-acl.jpg\" />\n",
       "              <div class=\"dbdemo_description\">\n",
       "                <h2>Table ACL & Row + Column Level security with UC</h2>\n",
       "                Discover how to GRANT permission on your table with Unity Catalog and implement fined grained control such as data masking at column level or filter rows based on each user.\n",
       "              </div>\n",
       "              <div class=\"code\"> \n",
       "                dbdemos.install('uc-01-acl')\n",
       "              </div>\n",
       "            </div>\n",
       "            <div class=\"dbdemo_box\">\n",
       "              <img class=\"dbdemo_logo\" src=\"https://github.com/databricks-demos/dbdemos-resources/raw/main/icon/uc-02-external-location.jpg\" />\n",
       "              <div class=\"dbdemo_description\">\n",
       "                <h2>Access data on External Location</h2>\n",
       "                Discover how you can secure files/table in external location (cloud storage like S3/ADLS/GCS) with simple GRANT command.\n",
       "              </div>\n",
       "              <div class=\"code\"> \n",
       "                dbdemos.install('uc-02-external-location')\n",
       "              </div>\n",
       "            </div>\n",
       "            <div class=\"dbdemo_box\">\n",
       "              <img class=\"dbdemo_logo\" src=\"https://github.com/databricks-demos/dbdemos-resources/raw/main/icon/uc-03-data-lineage.jpg\" />\n",
       "              <div class=\"dbdemo_description\">\n",
       "                <h2>Data Lineage with Unity Catalog</h2>\n",
       "                Discover data lineage with Unity Catalog: table to table and column to column\n",
       "              </div>\n",
       "              <div class=\"code\"> \n",
       "                dbdemos.install('uc-03-data-lineage')\n",
       "              </div>\n",
       "            </div>\n",
       "            <div class=\"dbdemo_box\">\n",
       "              <img class=\"dbdemo_logo\" src=\"https://github.com/databricks-demos/dbdemos-resources/raw/main/icon/uc-04-system-tables.jpg\" />\n",
       "              <div class=\"dbdemo_description\">\n",
       "                <h2>System Tables: Billing Forecast, Usage and Audit</h2>\n",
       "                Track and analysis usage, billing & access with UC System tables.\n",
       "              </div>\n",
       "              <div class=\"code\"> \n",
       "                dbdemos.install('uc-04-system-tables')\n",
       "              </div>\n",
       "            </div>\n",
       "            <div class=\"dbdemo_box\">\n",
       "              <img class=\"dbdemo_logo\" src=\"https://github.com/databricks-demos/dbdemos-resources/raw/main/icon/uc-05-upgrade.jpg\" />\n",
       "              <div class=\"dbdemo_description\">\n",
       "                <h2>Upgrade table to Unity Catalog</h2>\n",
       "                Discover how to upgrade your hive_metastore tables to Unity Catalog to benefit from UC capabilities: Security/ACL/Row-level/Lineage/Audit...\n",
       "              </div>\n",
       "              <div class=\"code\"> \n",
       "                dbdemos.install('uc-05-upgrade')\n",
       "              </div>\n",
       "            </div></div><div class=\"dbdemo_category\" style=\"min-height: 200px; display: none\" id=\"category-DBSQL\">\n",
       "            <div class=\"dbdemo_box\">\n",
       "              <img class=\"dbdemo_logo\" src=\"https://github.com/databricks-demos/dbdemos-resources/raw/main/icon/lakehouse-monitoring.jpg\" />\n",
       "              <div class=\"dbdemo_description\">\n",
       "                <h2>Lakehouse Monitoring for Retail Transactions</h2>\n",
       "                Monitor your data quality with Lakehouse Monitoring\n",
       "              </div>\n",
       "              <div class=\"code\"> \n",
       "                dbdemos.install('lakehouse-monitoring')\n",
       "              </div>\n",
       "            </div>\n",
       "            <div class=\"dbdemo_box\">\n",
       "              <img class=\"dbdemo_logo\" src=\"https://github.com/databricks-demos/dbdemos-resources/raw/main/icon/sql-ai-functions.jpg\" />\n",
       "              <div class=\"dbdemo_description\">\n",
       "                <h2>AI Functions: query LLM with DBSQL</h2>\n",
       "                Call Azure OpenAI's model from your Lakehouse data using AI_GENERATE_TEXT()\n",
       "              </div>\n",
       "              <div class=\"code\"> \n",
       "                dbdemos.install('sql-ai-functions')\n",
       "              </div>\n",
       "            </div>\n",
       "            <div class=\"dbdemo_box\">\n",
       "              <img class=\"dbdemo_logo\" src=\"https://github.com/databricks-demos/dbdemos-resources/raw/main/icon/sql-warehouse.jpg\" />\n",
       "              <div class=\"dbdemo_description\">\n",
       "                <h2>Data Warehousing with Identity, PK/FK, Stored Proc and loops</h2>\n",
       "                Explore the latest SQL warehouse capabilities: incremental column and Primary + Foreign Key, strored procedure, loops and more!\n",
       "              </div>\n",
       "              <div class=\"code\"> \n",
       "                dbdemos.install('sql-warehouse')\n",
       "              </div>\n",
       "            </div></div><div class=\"dbdemo_category\" style=\"min-height: 200px; display: none\" id=\"category-data-science\">\n",
       "            <div class=\"dbdemo_box\">\n",
       "              <img class=\"dbdemo_logo\" src=\"https://github.com/databricks-demos/dbdemos-resources/raw/main/icon/computer-vision-pcb.jpg\" />\n",
       "              <div class=\"dbdemo_description\">\n",
       "                <h2>Image classification - Fault detection</h2>\n",
       "                Deep Learning using Databricks Lakehouse: detect faults in PCBs with Hugging Face transformers and PyTorch Lightning.\n",
       "              </div>\n",
       "              <div class=\"code\"> \n",
       "                dbdemos.install('computer-vision-pcb')\n",
       "              </div>\n",
       "            </div>\n",
       "            <div class=\"dbdemo_box\">\n",
       "              <img class=\"dbdemo_logo\" src=\"https://github.com/databricks-demos/dbdemos-resources/raw/main/icon/feature-store.jpg\" />\n",
       "              <div class=\"dbdemo_description\">\n",
       "                <h2>Feature Store and Online Inference</h2>\n",
       "                Leverage Databricks Feature Store with streaming and online store.\n",
       "              </div>\n",
       "              <div class=\"code\"> \n",
       "                dbdemos.install('feature-store')\n",
       "              </div>\n",
       "            </div>\n",
       "            <div class=\"dbdemo_box\">\n",
       "              <img class=\"dbdemo_logo\" src=\"https://github.com/databricks-demos/dbdemos-resources/raw/main/icon/llm-fine-tuning.jpg\" />\n",
       "              <div class=\"dbdemo_description\">\n",
       "                <h2>Fine Tune your LLMs with Mosaic AI Model Training</h2>\n",
       "                Discover how to Fine Tune and deploy your own LLMs, but also how to evaluate them with MLFlow.\n",
       "              </div>\n",
       "              <div class=\"code\"> \n",
       "                dbdemos.install('llm-fine-tuning')\n",
       "              </div>\n",
       "            </div>\n",
       "            <div class=\"dbdemo_box\">\n",
       "              <img class=\"dbdemo_logo\" src=\"https://github.com/databricks-demos/dbdemos-resources/raw/main/icon/llm-rag-chatbot.jpg\" />\n",
       "              <div class=\"dbdemo_description\">\n",
       "                <h2>LLM Chatbot With Retrieval Augmented Generation (RAG) and DBRX</h2>\n",
       "                Deploy your Chatbot on Databricks AI with RAG, DBRX, Vector Search & Mosaic AI Agent Evaluation\n",
       "              </div>\n",
       "              <div class=\"code\"> \n",
       "                dbdemos.install('llm-rag-chatbot')\n",
       "              </div>\n",
       "            </div>\n",
       "            <div class=\"dbdemo_box\">\n",
       "              <img class=\"dbdemo_logo\" src=\"https://github.com/databricks-demos/dbdemos-resources/raw/main/icon/llm-tools-functions.jpg\" />\n",
       "              <div class=\"dbdemo_description\">\n",
       "                <h2>Compound AI System and Agent Tools</h2>\n",
       "                Build and deploy tools to support your AI Systems with Unity Catalog\n",
       "              </div>\n",
       "              <div class=\"code\"> \n",
       "                dbdemos.install('llm-tools-functions')\n",
       "              </div>\n",
       "            </div>\n",
       "            <div class=\"dbdemo_box\">\n",
       "              <img class=\"dbdemo_logo\" src=\"https://github.com/databricks-demos/dbdemos-resources/raw/main/icon/mlops-end2end.jpg\" />\n",
       "              <div class=\"dbdemo_description\">\n",
       "                <h2>MLOps - End 2 end pipeline</h2>\n",
       "                Automate your model deployment with MLFlow and UC, end 2 end!\n",
       "              </div>\n",
       "              <div class=\"code\"> \n",
       "                dbdemos.install('mlops-end2end')\n",
       "              </div>\n",
       "            </div>\n",
       "            <div class=\"dbdemo_box\">\n",
       "              <img class=\"dbdemo_logo\" src=\"https://github.com/databricks-demos/dbdemos-resources/raw/main/icon/pandas-on-spark.jpg\" />\n",
       "              <div class=\"dbdemo_description\">\n",
       "                <h2>Pandas API with spark backend (Koalas)</h2>\n",
       "                Let you Data Science team scale to TB of data while working with Pandas API, without having to learn & move to another framework.\n",
       "              </div>\n",
       "              <div class=\"code\"> \n",
       "                dbdemos.install('pandas-on-spark')\n",
       "              </div>\n",
       "            </div></div><div class=\"dbdemo_category\" style=\"min-height: 200px; display: none\" id=\"category-AI-BI\">\n",
       "            <div class=\"dbdemo_box\">\n",
       "              <img class=\"dbdemo_logo\" src=\"https://github.com/databricks-demos/dbdemos-resources/raw/main/icon/aibi-customer-support.jpg\" />\n",
       "              <div class=\"dbdemo_description\">\n",
       "                <h2>AI/BI: Customer Support Performance Review</h2>\n",
       "                Enhance your customer support effectiveness and analytics with AI/BI Dashboards. Then, utilize Genie to drill deeper into team performance.\n",
       "              </div>\n",
       "              <div class=\"code\"> \n",
       "                dbdemos.install('aibi-customer-support')\n",
       "              </div>\n",
       "            </div>\n",
       "            <div class=\"dbdemo_box\">\n",
       "              <img class=\"dbdemo_logo\" src=\"https://github.com/databricks-demos/dbdemos-resources/raw/main/icon/aibi-marketing-campaign.jpg\" />\n",
       "              <div class=\"dbdemo_description\">\n",
       "                <h2>AI/BI: Marketing Campaign effectiveness</h2>\n",
       "                Analyze your marketing campaign performance visually with AI/BI Dashboards. Then, utilize Genie to ask questions about your data in your natural language.\n",
       "              </div>\n",
       "              <div class=\"code\"> \n",
       "                dbdemos.install('aibi-marketing-campaign')\n",
       "              </div>\n",
       "            </div>\n",
       "            <div class=\"dbdemo_box\">\n",
       "              <img class=\"dbdemo_logo\" src=\"https://github.com/databricks-demos/dbdemos-resources/raw/main/icon/aibi-patient-genomics.jpg\" />\n",
       "              <div class=\"dbdemo_description\">\n",
       "                <h2>AI/BI: Patient Genomics Review for Precision Oncology</h2>\n",
       "                Optimize your patient genomics visibility and insights with AIBI Dashboards, and leverage Genie to ask questions about your data in natural language.\n",
       "              </div>\n",
       "              <div class=\"code\"> \n",
       "                dbdemos.install('aibi-patient-genomics')\n",
       "              </div>\n",
       "            </div>\n",
       "            <div class=\"dbdemo_box\">\n",
       "              <img class=\"dbdemo_logo\" src=\"https://github.com/databricks-demos/dbdemos-resources/raw/main/icon/aibi-portfolio-assistant.jpg\" />\n",
       "              <div class=\"dbdemo_description\">\n",
       "                <h2>AI/BI: AI-Powered Portfolio Assistant</h2>\n",
       "                Easily analyze your portfolio performance and market trends using the GenAI Assistant. Dive into your data and key financial metrics, and ask plain-language questions through Genie to make smarter, data-driven investment decisions.\n",
       "              </div>\n",
       "              <div class=\"code\"> \n",
       "                dbdemos.install('aibi-portfolio-assistant')\n",
       "              </div>\n",
       "            </div>\n",
       "            <div class=\"dbdemo_box\">\n",
       "              <img class=\"dbdemo_logo\" src=\"https://github.com/databricks-demos/dbdemos-resources/raw/main/icon/aibi-sales-pipeline-review.jpg\" />\n",
       "              <div class=\"dbdemo_description\">\n",
       "                <h2>AI/BI: Sales Pipeline Review</h2>\n",
       "                Optimize your sales pipeline visibility and insights with AI/BI Dashboards, and leverage Genie to ask questions about your data in natural language.\n",
       "              </div>\n",
       "              <div class=\"code\"> \n",
       "                dbdemos.install('aibi-sales-pipeline-review')\n",
       "              </div>\n",
       "            </div>\n",
       "            <div class=\"dbdemo_box\">\n",
       "              <img class=\"dbdemo_logo\" src=\"https://github.com/databricks-demos/dbdemos-resources/raw/main/icon/aibi-supply-chain-forecasting.jpg\" />\n",
       "              <div class=\"dbdemo_description\">\n",
       "                <h2>AI/BI: Supply Chain Forecasting</h2>\n",
       "                Optimize your supply chain performance visually with AI/BI Dashboards, and leverage Genie to ask questions about your data in natural language.\n",
       "              </div>\n",
       "              <div class=\"code\"> \n",
       "                dbdemos.install('aibi-supply-chain-forecasting')\n",
       "              </div>\n",
       "            </div></div></div><script>\n",
       "    const buttons = document.querySelectorAll('.menu_button');\n",
       "    const sections = document.querySelectorAll('.dbdemo_category');\n",
       "\n",
       "    buttons.forEach(button => {\n",
       "        button.addEventListener('click', () => {\n",
       "            const selectedCategory = button.getAttribute('category');\n",
       "\n",
       "            sections.forEach(section => {\n",
       "                if (section.id === `category-${selectedCategory}`) {\n",
       "                    section.style.display = 'block';\n",
       "                } else {\n",
       "                    section.style.display = 'none';\n",
       "                }\n",
       "            });\n",
       "\n",
       "            buttons.forEach(btn => {\n",
       "                if (btn === button) {\n",
       "                    btn.classList.add('selected');\n",
       "                } else {\n",
       "                    btn.classList.remove('selected');\n",
       "                }\n",
       "            });\n",
       "        });\n",
       "    });\n",
       "</script>"
      ]
     },
     "metadata": {},
     "output_type": "display_data"
    }
   ],
   "source": [
    "%python\n",
    "import dbdemos\n",
    "dbdemos.list_demos()"
   ]
  },
  {
   "cell_type": "code",
   "execution_count": 0,
   "metadata": {
    "application/vnd.databricks.v1+cell": {
     "cellMetadata": {
      "byteLimit": 2048000,
      "rowLimit": 10000
     },
     "inputWidgets": {},
     "nuid": "7b885d34-6d09-48c8-9aa8-4b1d0c7e8063",
     "showTitle": false,
     "tableResultSettingsMap": {},
     "title": ""
    }
   },
   "outputs": [
    {
     "output_type": "stream",
     "name": "stdout",
     "output_type": "stream",
     "text": [
      "Installing demo sql-ai-functions under /Users/amit.dixit@impetus.com/dbxsql-feature-set/sql/ai, please wait...\nHelp us improving dbdemos, share your feedback or create an issue if something isn't working: https://github.com/databricks-demos/dbdemos\n"
     ]
    },
    {
     "output_type": "display_data",
     "data": {
      "text/html": [
       "\n",
       "    <style>\n",
       "    .dbdemos_install{\n",
       "                        font-family: -apple-system,BlinkMacSystemFont,Segoe UI,Roboto,Helvetica Neue,Arial,Noto Sans,sans-serif,Apple Color Emoji,Segoe UI Emoji,Segoe UI Symbol,Noto Color Emoji,FontAwesome;\n",
       "    color: #3b3b3b;\n",
       "    box-shadow: 0 .15rem 1.15rem 0 rgba(58,59,69,.15)!important;\n",
       "    padding: 10px 20px 20px 20px;\n",
       "    margin: 10px;\n",
       "    }\n",
       "    .dbdemos_block{\n",
       "        display: block !important;\n",
       "    }\n",
       "     .update_container {\n",
       "        display: flex;\n",
       "        gap: 20px;\n",
       "        padding: 10px;\n",
       "        margin: 10px 0;\n",
       "    }\n",
       "    .update_box {\n",
       "        flex: 1;\n",
       "        background-color: #f3fff9;\n",
       "        padding: 15px;\n",
       "        border-radius: 5px;\n",
       "        box-shadow: 0 .15rem 1.15rem 0 rgba(58, 59, 69, .15);\n",
       "        overflow: hidden;\n",
       "    }\n",
       "    .update_title {\n",
       "        font-weight: bold;\n",
       "        color: #34a853;\n",
       "        margin-bottom: 10px;\n",
       "        font-size: 1.4em;\n",
       "    }\n",
       "    .code {\n",
       "        padding: 5px;\n",
       "        border: 1px solid #e4e4e4;\n",
       "        font-family: monospace;\n",
       "        background-color: #f5f5f5;\n",
       "        margin: 5px 0px 0px 0px;\n",
       "        display: inline;\n",
       "    }\n",
       "    .update_image {\n",
       "        float: right;\n",
       "        width: 200px;\n",
       "        margin: 0 0 10px 10px;\n",
       "        border-radius: 5px;\n",
       "    }\n",
       "    .subfolder {\n",
       "        padding-left: 30px;\n",
       "    }\n",
       "    .notebook {\n",
       "        margin-bottom: 3px;\n",
       "    }\n",
       "    .dbdemos_install a {\n",
       "        color: #3835a4;\n",
       "    }\n",
       "    .container_dbdemos {\n",
       "        padding-left: 20px;\n",
       "    }\n",
       "    .path_desc {\n",
       "        color: #928e9b;\n",
       "        font-style: oblique;\n",
       "    }\n",
       "    </style>\n",
       "                        <div class=\"dbdemos_install\"><h2 style=\"color: #4875c2\">Installation in progress...</h2>\n",
       "                            \n",
       "        <div class=\"update_container\">\n",
       "            <div class=\"update_box\">\n",
       "                <img src=\"https://github.com/databricks-demos/dbdemos-resources/raw/main/icon/declarative-pipelines.jpg\" class=\"update_image\">\n",
       "                <div class=\"update_title\">Discover our Declarative Pipelines demo!</div>\n",
       "                <p>Discover how Lakeflow Declarative Pipeline simplifies batch and streaming ETL with automated reliability and built-in data quality:<br><br>\n",
       "    <span class=\"code\">dbdemos.install('pipeline-bike')</span>\n",
       "    </p>\n",
       "            </div>\n",
       "            <div class=\"update_box\">\n",
       "                <img src=\"https://github.com/databricks-demos/dbdemos-resources/raw/main/icon/aibi-marketing-campaign.jpg\" class=\"update_image\">\n",
       "                <div class=\"update_title\">Try AI/BI: Dashboard & Genie demos</div>\n",
       "                <p>Discover how Databricks simplifies data analysis by allowing teams to understand their data both visually and in natural language</p>\n",
       "                <p>Find all our AI/BI demo: <span class=\"code\">dbdemos.list_demos()</span></p>\n",
       "            </div>\n",
       "        </div>\n",
       "        This demo content will be installed in the schema `main`.`dbdemos_ai_query`<br/>\n",
       "                        </div>"
      ]
     },
     "metadata": {},
     "output_type": "display_data"
    },
    {
     "output_type": "display_data",
     "data": {
      "text/html": [
       "\n",
       "    <style>\n",
       "    .dbdemos_install{\n",
       "                        font-family: -apple-system,BlinkMacSystemFont,Segoe UI,Roboto,Helvetica Neue,Arial,Noto Sans,sans-serif,Apple Color Emoji,Segoe UI Emoji,Segoe UI Symbol,Noto Color Emoji,FontAwesome;\n",
       "    color: #3b3b3b;\n",
       "    box-shadow: 0 .15rem 1.15rem 0 rgba(58,59,69,.15)!important;\n",
       "    padding: 10px 20px 20px 20px;\n",
       "    margin: 10px;\n",
       "    }\n",
       "    .dbdemos_block{\n",
       "        display: block !important;\n",
       "    }\n",
       "     .update_container {\n",
       "        display: flex;\n",
       "        gap: 20px;\n",
       "        padding: 10px;\n",
       "        margin: 10px 0;\n",
       "    }\n",
       "    .update_box {\n",
       "        flex: 1;\n",
       "        background-color: #f3fff9;\n",
       "        padding: 15px;\n",
       "        border-radius: 5px;\n",
       "        box-shadow: 0 .15rem 1.15rem 0 rgba(58, 59, 69, .15);\n",
       "        overflow: hidden;\n",
       "    }\n",
       "    .update_title {\n",
       "        font-weight: bold;\n",
       "        color: #34a853;\n",
       "        margin-bottom: 10px;\n",
       "        font-size: 1.4em;\n",
       "    }\n",
       "    .code {\n",
       "        padding: 5px;\n",
       "        border: 1px solid #e4e4e4;\n",
       "        font-family: monospace;\n",
       "        background-color: #f5f5f5;\n",
       "        margin: 5px 0px 0px 0px;\n",
       "        display: inline;\n",
       "    }\n",
       "    .update_image {\n",
       "        float: right;\n",
       "        width: 200px;\n",
       "        margin: 0 0 10px 10px;\n",
       "        border-radius: 5px;\n",
       "    }\n",
       "    .subfolder {\n",
       "        padding-left: 30px;\n",
       "    }\n",
       "    .notebook {\n",
       "        margin-bottom: 3px;\n",
       "    }\n",
       "    .dbdemos_install a {\n",
       "        color: #3835a4;\n",
       "    }\n",
       "    .container_dbdemos {\n",
       "        padding-left: 20px;\n",
       "    }\n",
       "    .path_desc {\n",
       "        color: #928e9b;\n",
       "        font-style: oblique;\n",
       "    }\n",
       "    </style>\n",
       "        <div class=\"dbdemos_install\">\n",
       "            <img style=\"float:right; width: 180px; padding: 10px\" src=\"https://github.com/databricks-demos/dbdemos-resources/raw/main/icon/sql-ai-functions.jpg\" />\n",
       "            <h1>Your demo: 'AI Functions: query LLM with DBSQL' is ready!</h1>\n",
       "            <i>Call Azure OpenAI's model from your Lakehouse data using AI_GENERATE_TEXT()</i><br/><br/>\n",
       "            Start with the first notebook <svg width=\"1em\" height=\"1em\" viewBox=\"0 0 16 16\" fill=\"none\" xmlns=\"http://www.w3.org/2000/svg\" aria-hidden=\"true\" focusable=\"false\" class=\"\"><path fill-rule=\"evenodd\" clip-rule=\"evenodd\" d=\"M3 1.75A.75.75 0 013.75 1h10.5a.75.75 0 01.75.75v12.5a.75.75 0 01-.75.75H3.75a.75.75 0 01-.75-.75V12.5H1V11h2V8.75H1v-1.5h2V5H1V3.5h2V1.75zm1.5.75v11H6v-11H4.5zm3 0v11h6v-11h-6z\" fill=\"currentColor\"></path></svg> <a href=\"https://dbc-363857c2-b5c1.cloud.databricks.com/#workspace/Users/amit.dixit@impetus.com/dbxsql-feature-set/sql/ai/sql-ai-functions/00-SQL-AI-Functions-Introduction\">sql-ai-functions/00-SQL-AI-Functions-Introduction</a>\n",
       "<h2>Notebook installed:</h2><div class=\"container_dbdemos\">\n",
       " <div style=\"float: right; width: 300px\"><img src=\"https://github.com/databricks-demos/dbdemos-resources/blob/main/icon/sql-ai-functions-dashboard-0.png?raw=true\" style=\"width: 300px\"></div><div class=\"notebook \"><svg width=\"1em\" height=\"1em\" viewBox=\"0 0 16 16\" fill=\"none\" xmlns=\"http://www.w3.org/2000/svg\" aria-hidden=\"true\" focusable=\"false\" class=\"\"><path fill-rule=\"evenodd\" clip-rule=\"evenodd\" d=\"M3 1.75A.75.75 0 013.75 1h10.5a.75.75 0 01.75.75v12.5a.75.75 0 01-.75.75H3.75a.75.75 0 01-.75-.75V12.5H1V11h2V8.75H1v-1.5h2V5H1V3.5h2V1.75zm1.5.75v11H6v-11H4.5zm3 0v11h6v-11h-6z\" fill=\"currentColor\"></path></svg> <a href=\"https://dbc-363857c2-b5c1.cloud.databricks.com/#workspace/Users/amit.dixit@impetus.com/dbxsql-feature-set/sql/ai/sql-ai-functions/00-SQL-AI-Functions-Introduction\">00-SQL-AI-Functions-Introduction</a>: <span class=\"path_desc\">Introduction to AI Functions</span></div><div class=\"notebook \"><svg width=\"1em\" height=\"1em\" viewBox=\"0 0 16 16\" fill=\"none\" xmlns=\"http://www.w3.org/2000/svg\" aria-hidden=\"true\" focusable=\"false\" class=\"\"><path fill-rule=\"evenodd\" clip-rule=\"evenodd\" d=\"M3 1.75A.75.75 0 013.75 1h10.5a.75.75 0 01.75.75v12.5a.75.75 0 01-.75.75H3.75a.75.75 0 01-.75-.75V12.5H1V11h2V8.75H1v-1.5h2V5H1V3.5h2V1.75zm1.5.75v11H6v-11H4.5zm3 0v11h6v-11h-6z\" fill=\"currentColor\"></path></svg> <a href=\"https://dbc-363857c2-b5c1.cloud.databricks.com/#workspace/Users/amit.dixit@impetus.com/dbxsql-feature-set/sql/ai/sql-ai-functions/01-Builtin-SQL-AI-Functions\">01-Builtin-SQL-AI-Functions</a>: <span class=\"path_desc\">Discover Databricks AI function</span></div><div class=\"notebook \"><svg width=\"1em\" height=\"1em\" viewBox=\"0 0 16 16\" fill=\"none\" xmlns=\"http://www.w3.org/2000/svg\" aria-hidden=\"true\" focusable=\"false\" class=\"\"><path fill-rule=\"evenodd\" clip-rule=\"evenodd\" d=\"M3 1.75A.75.75 0 013.75 1h10.5a.75.75 0 01.75.75v12.5a.75.75 0 01-.75.75H3.75a.75.75 0 01-.75-.75V12.5H1V11h2V8.75H1v-1.5h2V5H1V3.5h2V1.75zm1.5.75v11H6v-11H4.5zm3 0v11h6v-11h-6z\" fill=\"currentColor\"></path></svg> <a href=\"https://dbc-363857c2-b5c1.cloud.databricks.com/#workspace/Users/amit.dixit@impetus.com/dbxsql-feature-set/sql/ai/sql-ai-functions/02-Generate-fake-data-with-AI-functions\">02-Generate-fake-data-with-AI-functions</a>: <span class=\"path_desc\">Discover AI QUERY function</span></div><div class=\"notebook \"><svg width=\"1em\" height=\"1em\" viewBox=\"0 0 16 16\" fill=\"none\" xmlns=\"http://www.w3.org/2000/svg\" aria-hidden=\"true\" focusable=\"false\" class=\"\"><path fill-rule=\"evenodd\" clip-rule=\"evenodd\" d=\"M3 1.75A.75.75 0 013.75 1h10.5a.75.75 0 01.75.75v12.5a.75.75 0 01-.75.75H3.75a.75.75 0 01-.75-.75V12.5H1V11h2V8.75H1v-1.5h2V5H1V3.5h2V1.75zm1.5.75v11H6v-11H4.5zm3 0v11h6v-11h-6z\" fill=\"currentColor\"></path></svg> <a href=\"https://dbc-363857c2-b5c1.cloud.databricks.com/#workspace/Users/amit.dixit@impetus.com/dbxsql-feature-set/sql/ai/sql-ai-functions/03-automated-product-review-and-answer\">03-automated-product-review-and-answer</a>: <span class=\"path_desc\">Leverage AI QUERY in a complete pipeline.</span></div><div class=\"notebook \"><svg width=\"1em\" height=\"1em\" viewBox=\"0 0 16 16\" fill=\"none\" xmlns=\"http://www.w3.org/2000/svg\" aria-hidden=\"true\" focusable=\"false\" class=\"\"><path fill-rule=\"evenodd\" clip-rule=\"evenodd\" d=\"M3 1.75A.75.75 0 013.75 1h10.5a.75.75 0 01.75.75v12.5a.75.75 0 01-.75.75H3.75a.75.75 0 01-.75-.75V12.5H1V11h2V8.75H1v-1.5h2V5H1V3.5h2V1.75zm1.5.75v11H6v-11H4.5zm3 0v11h6v-11h-6z\" fill=\"currentColor\"></path></svg> <a href=\"https://dbc-363857c2-b5c1.cloud.databricks.com/#workspace/Users/amit.dixit@impetus.com/dbxsql-feature-set/sql/ai/sql-ai-functions/04-create-end-to-end-DLT-workflow\">04-create-end-to-end-DLT-workflow</a>: <span class=\"path_desc\">Create your Materialized View with SQLA I</span></div><div class=\"notebook \"><svg width=\"1em\" height=\"1em\" viewBox=\"0 0 16 16\" fill=\"none\" xmlns=\"http://www.w3.org/2000/svg\" aria-hidden=\"true\" focusable=\"false\" class=\"\"><path fill-rule=\"evenodd\" clip-rule=\"evenodd\" d=\"M3 1.75A.75.75 0 013.75 1h10.5a.75.75 0 01.75.75v12.5a.75.75 0 01-.75.75H3.75a.75.75 0 01-.75-.75V12.5H1V11h2V8.75H1v-1.5h2V5H1V3.5h2V1.75zm1.5.75v11H6v-11H4.5zm3 0v11h6v-11h-6z\" fill=\"currentColor\"></path></svg> <a href=\"https://dbc-363857c2-b5c1.cloud.databricks.com/#workspace/Users/amit.dixit@impetus.com/dbxsql-feature-set/sql/ai/sql-ai-functions/05-Extra-setup-external-model-OpenAI\">05-Extra-setup-external-model-OpenAI</a>: <span class=\"path_desc\">Setup external models</span></div></div><h2>Databricks AI/BI Dashboards</h2><div class=\"container_dbdemos\"><div><svg width=\"1em\" height=\"1em\" viewBox=\"0 0 16 16\" fill=\"none\" xmlns=\"http://www.w3.org/2000/svg\" aria-hidden=\"true\" focusable=\"false\" class=\"\"><path fill-rule=\"evenodd\" clip-rule=\"evenodd\" d=\"M1 1.75A.75.75 0 011.75 1h12.5a.75.75 0 01.75.75v12.5a.75.75 0 01-.75.75H1.75a.75.75 0 01-.75-.75V1.75zm1.5 8.75v3h4.75v-3H2.5zm0-1.5h4.75V2.5H2.5V9zm6.25-6.5v3h4.75v-3H8.75zm0 11V7h4.75v6.5H8.75z\" fill=\"currentColor\"></path></svg> <a href=\"https://dbc-363857c2-b5c1.cloud.databricks.com/sql/dashboardsv3/01f073d475cc1b38ac3209816941c38a\">[dbdemos] - AI Query - Customer review analysis</a></div></div></div>"
      ]
     },
     "metadata": {},
     "output_type": "display_data"
    }
   ],
   "source": [
    "%python\n",
    "dbdemos.install('sql-ai-functions') "
   ]
  },
  {
   "cell_type": "code",
   "execution_count": 0,
   "metadata": {
    "application/vnd.databricks.v1+cell": {
     "cellMetadata": {
      "byteLimit": 2048000,
      "rowLimit": 10000
     },
     "inputWidgets": {},
     "nuid": "76b1db81-43c4-4566-8f96-dd6d78ded3ed",
     "showTitle": false,
     "tableResultSettingsMap": {},
     "title": ""
    }
   },
   "outputs": [
    {
     "output_type": "display_data",
     "data": {
      "text/html": [
       "<style scoped>\n",
       "  .table-result-container {\n",
       "    max-height: 300px;\n",
       "    overflow: auto;\n",
       "  }\n",
       "  table, th, td {\n",
       "    border: 1px solid black;\n",
       "    border-collapse: collapse;\n",
       "  }\n",
       "  th, td {\n",
       "    padding: 5px;\n",
       "  }\n",
       "  th {\n",
       "    text-align: left;\n",
       "  }\n",
       "</style><div class='table-result-container'><table class='table-result'><thead style='background-color: white'><tr><th>ai_gen('Generate a concise, cheerful email title for a summer bike sale with 20% discount')</th></tr></thead><tbody><tr><td>Here are a few options:\n",
       "\n",
       "1. \"Pedal into Savings: 20% Off Summer Bike Sale!\"\n",
       "2. \"Summer Cycle Sale: 20% Discount Inside!\"\n",
       "3. \"Ride into Summer with 20% Off Bikes!\"\n",
       "4. \"Sunny Savings: 20% Off Bikes This Summer!\"\n",
       "5. \"Gear Up for Summer: 20% Off Bike Sale!\"\n",
       "\n",
       "Choose the one that best fits your tone and style!</td></tr></tbody></table></div>"
      ]
     },
     "metadata": {
      "application/vnd.databricks.v1+output": {
       "addedWidgets": {},
       "aggData": [],
       "aggError": "",
       "aggOverflow": false,
       "aggSchema": [],
       "aggSeriesLimitReached": false,
       "aggType": "",
       "arguments": {},
       "columnCustomDisplayInfos": {},
       "data": [
        [
         "Here are a few options:\n\n1. \"Pedal into Savings: 20% Off Summer Bike Sale!\"\n2. \"Summer Cycle Sale: 20% Discount Inside!\"\n3. \"Ride into Summer with 20% Off Bikes!\"\n4. \"Sunny Savings: 20% Off Bikes This Summer!\"\n5. \"Gear Up for Summer: 20% Off Bike Sale!\"\n\nChoose the one that best fits your tone and style!"
        ]
       ],
       "datasetInfos": [
        {
         "name": "_sqldf",
         "schema": {
          "fields": [
           {
            "metadata": {},
            "name": "ai_gen('Generate a concise, cheerful email title for a summer bike sale with 20% discount')",
            "nullable": true,
            "type": "string"
           }
          ],
          "type": "struct"
         },
         "tableIdentifier": null,
         "typeStr": "pyspark.sql.connect.dataframe.DataFrame"
        }
       ],
       "dbfsResultPath": null,
       "isJsonSchema": true,
       "metadata": {
        "createTempViewForImplicitDf": true,
        "dataframeName": "_sqldf",
        "executionCount": 1
       },
       "overflow": false,
       "plotOptions": {
        "customPlotOptions": {},
        "displayType": "table",
        "pivotAggregation": null,
        "pivotColumns": null,
        "xColumns": null,
        "yColumns": null
       },
       "removedWidgets": [],
       "schema": [
        {
         "metadata": "{}",
         "name": "ai_gen('Generate a concise, cheerful email title for a summer bike sale with 20% discount')",
         "type": "\"string\""
        }
       ],
       "type": "table"
      }
     },
     "output_type": "display_data"
    }
   ],
   "source": [
    "-- Make sure you run this notebook using a SQL Warehouse or Serverless endpoint (not a classic cluster)\n",
    "-- assert_true function returns an untyped null if no error is returned\n",
    "SELECT assert_true(current_version().dbsql_version is not null, 'YOU MUST USE A SQL WAREHOUSE OR SERVERLESS, not a classic cluster');\n",
    "\n",
    "SELECT ai_gen('Generate a concise, cheerful email title for a summer bike sale with 20% discount');"
   ]
  },
  {
   "cell_type": "code",
   "execution_count": 0,
   "metadata": {
    "application/vnd.databricks.v1+cell": {
     "cellMetadata": {
      "byteLimit": 2048000,
      "rowLimit": 10000
     },
     "inputWidgets": {},
     "nuid": "ad1357ca-a624-4619-802e-2d78c919f4fa",
     "showTitle": false,
     "tableResultSettingsMap": {},
     "title": ""
    }
   },
   "outputs": [
    {
     "output_type": "display_data",
     "data": {
      "text/html": [
       "<style scoped>\n",
       "  .table-result-container {\n",
       "    max-height: 300px;\n",
       "    overflow: auto;\n",
       "  }\n",
       "  table, th, td {\n",
       "    border: 1px solid black;\n",
       "    border-collapse: collapse;\n",
       "  }\n",
       "  th, td {\n",
       "    padding: 5px;\n",
       "  }\n",
       "  th {\n",
       "    text-align: left;\n",
       "  }\n",
       "</style><div class='table-result-container'><table class='table-result'><thead style='background-color: white'><tr><th>ai_fix_grammar('This sentence have some mistake')</th></tr></thead><tbody><tr><td>This sentence has some mistakes</td></tr></tbody></table></div>"
      ]
     },
     "metadata": {
      "application/vnd.databricks.v1+output": {
       "addedWidgets": {},
       "aggData": [],
       "aggError": "",
       "aggOverflow": false,
       "aggSchema": [],
       "aggSeriesLimitReached": false,
       "aggType": "",
       "arguments": {},
       "columnCustomDisplayInfos": {},
       "data": [
        [
         "This sentence has some mistakes"
        ]
       ],
       "datasetInfos": [
        {
         "name": "_sqldf",
         "schema": {
          "fields": [
           {
            "metadata": {},
            "name": "ai_fix_grammar('This sentence have some mistake')",
            "nullable": true,
            "type": "string"
           }
          ],
          "type": "struct"
         },
         "tableIdentifier": null,
         "typeStr": "pyspark.sql.connect.dataframe.DataFrame"
        }
       ],
       "dbfsResultPath": null,
       "isJsonSchema": true,
       "metadata": {
        "createTempViewForImplicitDf": true,
        "dataframeName": "_sqldf",
        "executionCount": 3
       },
       "overflow": false,
       "plotOptions": {
        "customPlotOptions": {},
        "displayType": "table",
        "pivotAggregation": null,
        "pivotColumns": null,
        "xColumns": null,
        "yColumns": null
       },
       "removedWidgets": [],
       "schema": [
        {
         "metadata": "{}",
         "name": "ai_fix_grammar('This sentence have some mistake')",
         "type": "\"string\""
        }
       ],
       "type": "table"
      }
     },
     "output_type": "display_data"
    }
   ],
   "source": [
    "SELECT ai_fix_grammar('This sentence have some mistake');"
   ]
  },
  {
   "cell_type": "code",
   "execution_count": 0,
   "metadata": {
    "application/vnd.databricks.v1+cell": {
     "cellMetadata": {
      "byteLimit": 2048000,
      "rowLimit": 10000
     },
     "inputWidgets": {},
     "nuid": "82ef23e8-1dd6-41ec-b446-3d4229fab60a",
     "showTitle": false,
     "tableResultSettingsMap": {},
     "title": ""
    }
   },
   "outputs": [
    {
     "output_type": "display_data",
     "data": {
      "text/html": [
       "<style scoped>\n",
       "  .table-result-container {\n",
       "    max-height: 300px;\n",
       "    overflow: auto;\n",
       "  }\n",
       "  table, th, td {\n",
       "    border: 1px solid black;\n",
       "    border-collapse: collapse;\n",
       "  }\n",
       "  th, td {\n",
       "    padding: 5px;\n",
       "  }\n",
       "  th {\n",
       "    text-align: left;\n",
       "  }\n",
       "</style><div class='table-result-container'><table class='table-result'><thead style='background-color: white'><tr><th>ai_classify(\"My password is leaked.\",ARRAY(\"urgent\",\"not urgent\"))</th></tr></thead><tbody><tr><td>urgent</td></tr></tbody></table></div>"
      ]
     },
     "metadata": {
      "application/vnd.databricks.v1+output": {
       "addedWidgets": {},
       "aggData": [],
       "aggError": "",
       "aggOverflow": false,
       "aggSchema": [],
       "aggSeriesLimitReached": false,
       "aggType": "",
       "arguments": {},
       "columnCustomDisplayInfos": {},
       "data": [
        [
         "urgent"
        ]
       ],
       "datasetInfos": [
        {
         "name": "_sqldf",
         "schema": {
          "fields": [
           {
            "metadata": {},
            "name": "ai_classify(\"My password is leaked.\",ARRAY(\"urgent\",\"not urgent\"))",
            "nullable": true,
            "type": "string"
           }
          ],
          "type": "struct"
         },
         "tableIdentifier": null,
         "typeStr": "pyspark.sql.connect.dataframe.DataFrame"
        }
       ],
       "dbfsResultPath": null,
       "isJsonSchema": true,
       "metadata": {
        "createTempViewForImplicitDf": true,
        "dataframeName": "_sqldf",
        "executionCount": 4
       },
       "overflow": false,
       "plotOptions": {
        "customPlotOptions": {},
        "displayType": "table",
        "pivotAggregation": null,
        "pivotColumns": null,
        "xColumns": null,
        "yColumns": null
       },
       "removedWidgets": [],
       "schema": [
        {
         "metadata": "{}",
         "name": "ai_classify(\"My password is leaked.\",ARRAY(\"urgent\",\"not urgent\"))",
         "type": "\"string\""
        }
       ],
       "type": "table"
      }
     },
     "output_type": "display_data"
    }
   ],
   "source": [
    "SELECT ai_classify(\"My password is leaked.\", ARRAY(\"urgent\", \"not urgent\"));"
   ]
  },
  {
   "cell_type": "code",
   "execution_count": 0,
   "metadata": {
    "application/vnd.databricks.v1+cell": {
     "cellMetadata": {
      "byteLimit": 2048000,
      "rowLimit": 10000
     },
     "inputWidgets": {},
     "nuid": "2045e5bb-12cc-4de8-8f13-2c9e6957681d",
     "showTitle": false,
     "tableResultSettingsMap": {},
     "title": ""
    }
   },
   "outputs": [
    {
     "output_type": "display_data",
     "data": {
      "text/html": [
       "<style scoped>\n",
       "  .table-result-container {\n",
       "    max-height: 300px;\n",
       "    overflow: auto;\n",
       "  }\n",
       "  table, th, td {\n",
       "    border: 1px solid black;\n",
       "    border-collapse: collapse;\n",
       "  }\n",
       "  th, td {\n",
       "    padding: 5px;\n",
       "  }\n",
       "  th {\n",
       "    text-align: left;\n",
       "  }\n",
       "</style><div class='table-result-container'><table class='table-result'><thead style='background-color: white'><tr><th>ai_translate(\"This function is so amazing!\",\"hi\")</th></tr></thead><tbody><tr><td>यह फंक्शन इतना अद्भुत है!</td></tr></tbody></table></div>"
      ]
     },
     "metadata": {
      "application/vnd.databricks.v1+output": {
       "addedWidgets": {},
       "aggData": [],
       "aggError": "",
       "aggOverflow": false,
       "aggSchema": [],
       "aggSeriesLimitReached": false,
       "aggType": "",
       "arguments": {},
       "columnCustomDisplayInfos": {},
       "data": [
        [
         "यह फंक्शन इतना अद्भुत है!"
        ]
       ],
       "datasetInfos": [
        {
         "name": "_sqldf",
         "schema": {
          "fields": [
           {
            "metadata": {},
            "name": "ai_translate(\"This function is so amazing!\",\"hi\")",
            "nullable": true,
            "type": "string"
           }
          ],
          "type": "struct"
         },
         "tableIdentifier": null,
         "typeStr": "pyspark.sql.connect.dataframe.DataFrame"
        }
       ],
       "dbfsResultPath": null,
       "isJsonSchema": true,
       "metadata": {
        "createTempViewForImplicitDf": true,
        "dataframeName": "_sqldf",
        "executionCount": 6
       },
       "overflow": false,
       "plotOptions": {
        "customPlotOptions": {},
        "displayType": "table",
        "pivotAggregation": null,
        "pivotColumns": null,
        "xColumns": null,
        "yColumns": null
       },
       "removedWidgets": [],
       "schema": [
        {
         "metadata": "{}",
         "name": "ai_translate(\"This function is so amazing!\",\"hi\")",
         "type": "\"string\""
        }
       ],
       "type": "table"
      }
     },
     "output_type": "display_data"
    }
   ],
   "source": [
    "SELECT ai_translate(\"This function is so amazing!\", \"hi\")"
   ]
  },
  {
   "cell_type": "code",
   "execution_count": 0,
   "metadata": {
    "application/vnd.databricks.v1+cell": {
     "cellMetadata": {
      "byteLimit": 2048000,
      "rowLimit": 10000
     },
     "inputWidgets": {},
     "nuid": "ad05ce69-d390-4f46-9f3f-4ff3870cd689",
     "showTitle": false,
     "tableResultSettingsMap": {},
     "title": ""
    }
   },
   "outputs": [
    {
     "output_type": "display_data",
     "data": {
      "text/html": [
       "<style scoped>\n",
       "  .table-result-container {\n",
       "    max-height: 300px;\n",
       "    overflow: auto;\n",
       "  }\n",
       "  table, th, td {\n",
       "    border: 1px solid black;\n",
       "    border-collapse: collapse;\n",
       "  }\n",
       "  th, td {\n",
       "    padding: 5px;\n",
       "  }\n",
       "  th {\n",
       "    text-align: left;\n",
       "  }\n",
       "</style><div class='table-result-container'><table class='table-result'><thead style='background-color: white'><tr><th>ai_similarity('Amit Sharma','Amit Dixit')</th><th>ai_similarity('Amit Dixit','Amit Dixit')</th></tr></thead><tbody><tr><td>0.72022814</td><td>1.0</td></tr></tbody></table></div>"
      ]
     },
     "metadata": {
      "application/vnd.databricks.v1+output": {
       "addedWidgets": {},
       "aggData": [],
       "aggError": "",
       "aggOverflow": false,
       "aggSchema": [],
       "aggSeriesLimitReached": false,
       "aggType": "",
       "arguments": {},
       "columnCustomDisplayInfos": {},
       "data": [
        [
         0.72022814,
         1.0
        ]
       ],
       "datasetInfos": [
        {
         "name": "_sqldf",
         "schema": {
          "fields": [
           {
            "metadata": {},
            "name": "ai_similarity('Amit Sharma','Amit Dixit')",
            "nullable": true,
            "type": "float"
           },
           {
            "metadata": {},
            "name": "ai_similarity('Amit Dixit','Amit Dixit')",
            "nullable": true,
            "type": "float"
           }
          ],
          "type": "struct"
         },
         "tableIdentifier": null,
         "typeStr": "pyspark.sql.connect.dataframe.DataFrame"
        }
       ],
       "dbfsResultPath": null,
       "isJsonSchema": true,
       "metadata": {
        "createTempViewForImplicitDf": true,
        "dataframeName": "_sqldf",
        "executionCount": 8
       },
       "overflow": false,
       "plotOptions": {
        "customPlotOptions": {},
        "displayType": "table",
        "pivotAggregation": null,
        "pivotColumns": null,
        "xColumns": null,
        "yColumns": null
       },
       "removedWidgets": [],
       "schema": [
        {
         "metadata": "{}",
         "name": "ai_similarity('Amit Sharma','Amit Dixit')",
         "type": "\"float\""
        },
        {
         "metadata": "{}",
         "name": "ai_similarity('Amit Dixit','Amit Dixit')",
         "type": "\"float\""
        }
       ],
       "type": "table"
      }
     },
     "output_type": "display_data"
    }
   ],
   "source": [
    "SELECT\n",
    "  ai_similarity('Amit Sharma', 'Amit Dixit'),\n",
    "  ai_similarity('Amit Dixit', 'Amit Dixit');"
   ]
  },
  {
   "cell_type": "code",
   "execution_count": 0,
   "metadata": {
    "application/vnd.databricks.v1+cell": {
     "cellMetadata": {
      "byteLimit": 2048000,
      "rowLimit": 10000
     },
     "inputWidgets": {},
     "nuid": "c6029c44-d4f7-4436-8aa5-1920c49e640e",
     "showTitle": false,
     "tableResultSettingsMap": {},
     "title": ""
    }
   },
   "outputs": [],
   "source": [
    "-- as previously, make sure you run this notebook using a SQL Warehouse or Serverless endpoint (not a classic cluster)\n",
    "-- assert_true function returns an untyped null if no error is returned\n",
    "SELECT\n",
    "  assert_true(\n",
    "    current_version().dbsql_version is not null,\n",
    "    'YOU MUST USE A SQL WAREHOUSE OR SERVERLESS, not a classic cluster'\n",
    "  );\n",
    "\n",
    "USE CATALOG main;\n",
    "CREATE SCHEMA IF NOT EXISTS dbdemos_ai_query;\n",
    "USE SCHEMA dbdemos_ai_query;"
   ]
  },
  {
   "cell_type": "code",
   "execution_count": 0,
   "metadata": {
    "application/vnd.databricks.v1+cell": {
     "cellMetadata": {
      "byteLimit": 2048000,
      "rowLimit": 10000
     },
     "inputWidgets": {},
     "nuid": "2cbd015b-270b-4776-8879-eefed7b660ab",
     "showTitle": false,
     "tableResultSettingsMap": {},
     "title": ""
    }
   },
   "outputs": [
    {
     "output_type": "display_data",
     "data": {
      "text/html": [
       "<style scoped>\n",
       "  .table-result-container {\n",
       "    max-height: 300px;\n",
       "    overflow: auto;\n",
       "  }\n",
       "  table, th, td {\n",
       "    border: 1px solid black;\n",
       "    border-collapse: collapse;\n",
       "  }\n",
       "  th, td {\n",
       "    padding: 5px;\n",
       "  }\n",
       "  th {\n",
       "    text-align: left;\n",
       "  }\n",
       "</style><div class='table-result-container'><table class='table-result'><thead style='background-color: white'><tr><th>product_review</th></tr></thead><tbody><tr><td>\"I am absolutely thrilled with this stunning red dress! The moment I put it on, I felt like a million bucks. The vibrant color is even more gorgeous in person, and the fit is perfect. The material is comfortable and flows beautifully, making me feel confident and elegant. I've received countless compliments every time I've worn it, and I couldn't be happier with my purchase. The quality is exceptional, and I can tell it will be a favorite in my wardrobe for years to come. Five stars isn't enough - I'd give it ten stars if I could!\"</td></tr></tbody></table></div>"
      ]
     },
     "metadata": {
      "application/vnd.databricks.v1+output": {
       "addedWidgets": {},
       "aggData": [],
       "aggError": "",
       "aggOverflow": false,
       "aggSchema": [],
       "aggSeriesLimitReached": false,
       "aggType": "",
       "arguments": {},
       "columnCustomDisplayInfos": {},
       "data": [
        [
         "\"I am absolutely thrilled with this stunning red dress! The moment I put it on, I felt like a million bucks. The vibrant color is even more gorgeous in person, and the fit is perfect. The material is comfortable and flows beautifully, making me feel confident and elegant. I've received countless compliments every time I've worn it, and I couldn't be happier with my purchase. The quality is exceptional, and I can tell it will be a favorite in my wardrobe for years to come. Five stars isn't enough - I'd give it ten stars if I could!\""
        ]
       ],
       "datasetInfos": [
        {
         "name": "_sqldf",
         "schema": {
          "fields": [
           {
            "metadata": {},
            "name": "product_review",
            "nullable": true,
            "type": "string"
           }
          ],
          "type": "struct"
         },
         "tableIdentifier": null,
         "typeStr": "pyspark.sql.connect.dataframe.DataFrame"
        }
       ],
       "dbfsResultPath": null,
       "isJsonSchema": true,
       "metadata": {
        "createTempViewForImplicitDf": true,
        "dataframeName": "_sqldf",
        "executionCount": 16
       },
       "overflow": false,
       "plotOptions": {
        "customPlotOptions": {},
        "displayType": "table",
        "pivotAggregation": null,
        "pivotColumns": null,
        "xColumns": null,
        "yColumns": null
       },
       "removedWidgets": [],
       "schema": [
        {
         "metadata": "{}",
         "name": "product_review",
         "type": "\"string\""
        }
       ],
       "type": "table"
      }
     },
     "output_type": "display_data"
    }
   ],
   "source": [
    "SELECT\n",
    "  AI_QUERY(\n",
    "    \"databricks-meta-llama-3-3-70b-instruct\",\n",
    "    \"Generate a short product review for a red dress. The customer is very happy with the article.\"\n",
    "  ) as product_review"
   ]
  },
  {
   "cell_type": "code",
   "execution_count": 0,
   "metadata": {
    "application/vnd.databricks.v1+cell": {
     "cellMetadata": {
      "byteLimit": 2048000,
      "rowLimit": 10000
     },
     "inputWidgets": {},
     "nuid": "937560f9-83ef-453a-b2ca-164549502c54",
     "showTitle": false,
     "tableResultSettingsMap": {},
     "title": ""
    }
   },
   "outputs": [],
   "source": [
    "CREATE OR REPLACE FUNCTION ASK_LLM_MODEL(prompt STRING, response_format STRING DEFAULT '{\"type\": \"string\"}') \n",
    "  RETURNS STRING\n",
    "  RETURN \n",
    "    AI_QUERY(\"databricks-meta-llama-3-3-70b-instruct\", \n",
    "              prompt,\n",
    "              response_format);\n",
    "\n",
    "-- ALTER FUNCTION ASK_LLM_MODEL OWNER TO `your_principal`; -- for the demo only, make sure other users can access your function"
   ]
  },
  {
   "cell_type": "code",
   "execution_count": 0,
   "metadata": {
    "application/vnd.databricks.v1+cell": {
     "cellMetadata": {
      "byteLimit": 2048000,
      "rowLimit": 10000
     },
     "inputWidgets": {},
     "nuid": "35d23d83-5328-4871-a860-1829f71bf089",
     "showTitle": false,
     "tableResultSettingsMap": {},
     "title": ""
    }
   },
   "outputs": [
    {
     "output_type": "display_data",
     "data": {
      "text/html": [
       "<style scoped>\n",
       "  .table-result-container {\n",
       "    max-height: 300px;\n",
       "    overflow: auto;\n",
       "  }\n",
       "  table, th, td {\n",
       "    border: 1px solid black;\n",
       "    border-collapse: collapse;\n",
       "  }\n",
       "  th, td {\n",
       "    padding: 5px;\n",
       "  }\n",
       "  th {\n",
       "    text-align: left;\n",
       "  }\n",
       "</style><div class='table-result-container'><table class='table-result'><thead style='background-color: white'><tr><th>ASK_LLM_MODEL(\"Generate a short product review for a red dress. The customer is very happy with the article.\")</th></tr></thead><tbody><tr><td>\"I am absolutely thrilled with this stunning red dress! The moment I put it on, I felt like a million bucks. The vibrant color is even more gorgeous in person, and the fit is perfect. The material is comfortable and flows beautifully, making me feel confident and elegant. I've received countless compliments every time I've worn it, and I couldn't be happier with my purchase. The quality is exceptional, and I can tell it will be a favorite in my wardrobe for years to come. Five stars isn't enough - I'd give it ten stars if I could!\"</td></tr></tbody></table></div>"
      ]
     },
     "metadata": {
      "application/vnd.databricks.v1+output": {
       "addedWidgets": {},
       "aggData": [],
       "aggError": "",
       "aggOverflow": false,
       "aggSchema": [],
       "aggSeriesLimitReached": false,
       "aggType": "",
       "arguments": {},
       "columnCustomDisplayInfos": {},
       "data": [
        [
         "\"I am absolutely thrilled with this stunning red dress! The moment I put it on, I felt like a million bucks. The vibrant color is even more gorgeous in person, and the fit is perfect. The material is comfortable and flows beautifully, making me feel confident and elegant. I've received countless compliments every time I've worn it, and I couldn't be happier with my purchase. The quality is exceptional, and I can tell it will be a favorite in my wardrobe for years to come. Five stars isn't enough - I'd give it ten stars if I could!\""
        ]
       ],
       "datasetInfos": [
        {
         "name": "_sqldf",
         "schema": {
          "fields": [
           {
            "metadata": {},
            "name": "ASK_LLM_MODEL(\"Generate a short product review for a red dress. The customer is very happy with the article.\")",
            "nullable": true,
            "type": "string"
           }
          ],
          "type": "struct"
         },
         "tableIdentifier": null,
         "typeStr": "pyspark.sql.connect.dataframe.DataFrame"
        }
       ],
       "dbfsResultPath": null,
       "isJsonSchema": true,
       "metadata": {
        "createTempViewForImplicitDf": true,
        "dataframeName": "_sqldf",
        "executionCount": 18
       },
       "overflow": false,
       "plotOptions": {
        "customPlotOptions": {},
        "displayType": "table",
        "pivotAggregation": null,
        "pivotColumns": null,
        "xColumns": null,
        "yColumns": null
       },
       "removedWidgets": [],
       "schema": [
        {
         "metadata": "{}",
         "name": "ASK_LLM_MODEL(\"Generate a short product review for a red dress. The customer is very happy with the article.\")",
         "type": "\"string\""
        }
       ],
       "type": "table"
      }
     },
     "output_type": "display_data"
    }
   ],
   "source": [
    "SELECT ASK_LLM_MODEL(\"Generate a short product review for a red dress. The customer is very happy with the article.\")"
   ]
  },
  {
   "cell_type": "code",
   "execution_count": 0,
   "metadata": {
    "application/vnd.databricks.v1+cell": {
     "cellMetadata": {
      "byteLimit": 2048000,
      "rowLimit": 10000
     },
     "inputWidgets": {},
     "nuid": "9d2f9d9b-5344-4b5d-83dc-e66cd1658fce",
     "showTitle": false,
     "tableResultSettingsMap": {},
     "title": ""
    }
   },
   "outputs": [
    {
     "output_type": "display_data",
     "data": {
      "text/html": [
       "<style scoped>\n",
       "  .table-result-container {\n",
       "    max-height: 300px;\n",
       "    overflow: auto;\n",
       "  }\n",
       "  table, th, td {\n",
       "    border: 1px solid black;\n",
       "    border-collapse: collapse;\n",
       "  }\n",
       "  th, td {\n",
       "    padding: 5px;\n",
       "  }\n",
       "  th {\n",
       "    text-align: left;\n",
       "  }\n",
       "</style><div class='table-result-container'><table class='table-result'><thead style='background-color: white'><tr><th>fake_reviews</th></tr></thead><tbody><tr><td>[\n",
       "  {\n",
       "    \"review_date\": \"2022-07-15\",\n",
       "    \"review_id\": 814,\n",
       "    \"customer_id\": 43,\n",
       "    \"review\": \"I recently purchased the Kellogg's Frosted Flakes cereal and I must say it's a classic, the taste is still the same as I remembered from my childhood, but the box size has decreased over the years which is a bit disappointing.\"\n",
       "  },\n",
       "  {\n",
       "    \"review_date\": \"2022-03-20\",\n",
       "    \"review_id\": 275,\n",
       "    \"customer_id\": 91,\n",
       "    \"review\": \"I've been buying the Nestle Pure Life water from this website for a while now and I have mixed feelings about it. On one hand, the water tastes great and the price is reasonable, but on the other hand, the packaging is not very eco-friendly and the delivery service has been inconsistent. The Haagen-Dazs ice cream I also purchased is amazing though, the cookies and cream flavor is my favorite. Overall, I would recommend the ice cream but not the water.\"\n",
       "  }\n",
       "]</td></tr></tbody></table></div>"
      ]
     },
     "metadata": {
      "application/vnd.databricks.v1+output": {
       "addedWidgets": {},
       "aggData": [],
       "aggError": "",
       "aggOverflow": false,
       "aggSchema": [],
       "aggSeriesLimitReached": false,
       "aggType": "",
       "arguments": {},
       "columnCustomDisplayInfos": {},
       "data": [
        [
         "[\n  {\n    \"review_date\": \"2022-07-15\",\n    \"review_id\": 814,\n    \"customer_id\": 43,\n    \"review\": \"I recently purchased the Kellogg's Frosted Flakes cereal and I must say it's a classic, the taste is still the same as I remembered from my childhood, but the box size has decreased over the years which is a bit disappointing.\"\n  },\n  {\n    \"review_date\": \"2022-03-20\",\n    \"review_id\": 275,\n    \"customer_id\": 91,\n    \"review\": \"I've been buying the Nestle Pure Life water from this website for a while now and I have mixed feelings about it. On one hand, the water tastes great and the price is reasonable, but on the other hand, the packaging is not very eco-friendly and the delivery service has been inconsistent. The Haagen-Dazs ice cream I also purchased is amazing though, the cookies and cream flavor is my favorite. Overall, I would recommend the ice cream but not the water.\"\n  }\n]"
        ]
       ],
       "datasetInfos": [
        {
         "name": "_sqldf",
         "schema": {
          "fields": [
           {
            "metadata": {},
            "name": "fake_reviews",
            "nullable": true,
            "type": "string"
           }
          ],
          "type": "struct"
         },
         "tableIdentifier": null,
         "typeStr": "pyspark.sql.connect.dataframe.DataFrame"
        }
       ],
       "dbfsResultPath": null,
       "isJsonSchema": true,
       "metadata": {
        "createTempViewForImplicitDf": true,
        "dataframeName": "_sqldf",
        "executionCount": 19
       },
       "overflow": false,
       "plotOptions": {
        "customPlotOptions": {},
        "displayType": "table",
        "pivotAggregation": null,
        "pivotColumns": null,
        "xColumns": null,
        "yColumns": null
       },
       "removedWidgets": [],
       "schema": [
        {
         "metadata": "{}",
         "name": "fake_reviews",
         "type": "\"string\""
        }
       ],
       "type": "table"
      }
     },
     "output_type": "display_data"
    }
   ],
   "source": [
    "SELECT ASK_LLM_MODEL(\n",
    "      'Generate a sample dataset of 2 rows that contains the following columns: \"review_date\" (random dates in 2022), \n",
    "      \"review_id\" (random id), \"customer_id\" (random long from 1 to 100)  and \"review\". \n",
    "      Reviews should mimic useful product reviews from popular grocery brands product left on an e-commerce marketplace website. The review must include the product name.\n",
    "\n",
    "      The reviews should vary in length (shortest: one sentence, longest: 2 paragraphs), sentiment, and complexity. A very complex review \n",
    "      would talk about multiple topics (entities) about the product with varying sentiment per topic. Provide a mix of positive, negative, \n",
    "      and neutral reviews.\n",
    "\n",
    "      Give me JSON only. No text outside JSON. No explanations or notes\n",
    "      [{\"review_date\":<date>, \"review_id\":<long>, \"customer_id\":<long>, \"review\":<string>}]', \"{'type': 'json_object'}\") as fake_reviews;"
   ]
  },
  {
   "cell_type": "code",
   "execution_count": 0,
   "metadata": {
    "application/vnd.databricks.v1+cell": {
     "cellMetadata": {
      "byteLimit": 2048000,
      "rowLimit": 10000
     },
     "inputWidgets": {},
     "nuid": "a20eb7d3-0979-49a9-a192-0942f2dba591",
     "showTitle": false,
     "tableResultSettingsMap": {},
     "title": ""
    }
   },
   "outputs": [],
   "source": [
    "CREATE OR REPLACE FUNCTION GENERATE_FAKE_REVIEWS(num_reviews INT DEFAULT 5)\n",
    "  RETURNS array<struct<review_date:date, review_id:long, customer_id:long, review:string>>\n",
    "  RETURN \n",
    "  SELECT FROM_JSON(\n",
    "      ASK_LLM_MODEL(\n",
    "        CONCAT('Generate a sample dataset of ', num_reviews, ' rows that contains the following columns: \"review_date\" (random dates in 2022), \n",
    "        \"review_id\" (random long), \"customer_id\" (random long from 1 to ', num_reviews, '), and \"review\". \n",
    "        Reviews should mimic useful product reviews from popular grocery brands product left on an e-commerce marketplace website. The review must include the product name.\n",
    "        \n",
    "        The reviews should vary in length (shortest: one sentence, longest: 2 paragraphs), sentiment, and complexity. A very complex review \n",
    "        would talk about multiple topics (entities) about the product with varying sentiment per topic. Provide a mix of positive, negative, \n",
    "        and neutral reviews.\n",
    "\n",
    "        Give me JSON only. No text outside JSON. No explanations or notes\n",
    "        [{\"review_date\":<date>, \"review_id\":<long>, \"customer_id\":<long>, \"review\":<string>}]'), \"{'type': 'json_object'}\"), \n",
    "        \"array<struct<review_date:date, review_id:long, customer_id:long, review:string>>\")\n",
    "\n",
    "-- ALTER FUNCTION GENERATE_FAKE_REVIEWS OWNER TO `your_principal`; -- for the demo only, make sure other users can access your function"
   ]
  },
  {
   "cell_type": "code",
   "execution_count": 0,
   "metadata": {
    "application/vnd.databricks.v1+cell": {
     "cellMetadata": {
      "byteLimit": 2048000,
      "rowLimit": 10000
     },
     "inputWidgets": {},
     "nuid": "6fa385d8-9432-4c3a-a8a3-5a93b0d5906c",
     "showTitle": true,
     "tableResultSettingsMap": {},
     "title": "Explode the json result as a tabl"
    }
   },
   "outputs": [
    {
     "output_type": "display_data",
     "data": {
      "text/html": [
       "<style scoped>\n",
       "  .table-result-container {\n",
       "    max-height: 300px;\n",
       "    overflow: auto;\n",
       "  }\n",
       "  table, th, td {\n",
       "    border: 1px solid black;\n",
       "    border-collapse: collapse;\n",
       "  }\n",
       "  th, td {\n",
       "    padding: 5px;\n",
       "  }\n",
       "  th {\n",
       "    text-align: left;\n",
       "  }\n",
       "</style><div class='table-result-container'><table class='table-result'><thead style='background-color: white'><tr><th>review_date</th><th>review_id</th><th>customer_id</th><th>review</th></tr></thead><tbody></tbody></table></div>"
      ]
     },
     "metadata": {
      "application/vnd.databricks.v1+output": {
       "addedWidgets": {},
       "aggData": [],
       "aggError": "",
       "aggOverflow": false,
       "aggSchema": [],
       "aggSeriesLimitReached": false,
       "aggType": "",
       "arguments": {},
       "columnCustomDisplayInfos": {},
       "data": [],
       "datasetInfos": [
        {
         "name": "_sqldf",
         "schema": {
          "fields": [
           {
            "metadata": {},
            "name": "review_date",
            "nullable": true,
            "type": "date"
           },
           {
            "metadata": {},
            "name": "review_id",
            "nullable": true,
            "type": "long"
           },
           {
            "metadata": {},
            "name": "customer_id",
            "nullable": true,
            "type": "long"
           },
           {
            "metadata": {},
            "name": "review",
            "nullable": true,
            "type": "string"
           }
          ],
          "type": "struct"
         },
         "tableIdentifier": null,
         "typeStr": "pyspark.sql.connect.dataframe.DataFrame"
        }
       ],
       "dbfsResultPath": null,
       "isJsonSchema": true,
       "metadata": {
        "createTempViewForImplicitDf": true,
        "dataframeName": "_sqldf",
        "executionCount": 21
       },
       "overflow": false,
       "plotOptions": {
        "customPlotOptions": {},
        "displayType": "table",
        "pivotAggregation": null,
        "pivotColumns": null,
        "xColumns": null,
        "yColumns": null
       },
       "removedWidgets": [],
       "schema": [
        {
         "metadata": "{}",
         "name": "review_date",
         "type": "\"date\""
        },
        {
         "metadata": "{}",
         "name": "review_id",
         "type": "\"long\""
        },
        {
         "metadata": "{}",
         "name": "customer_id",
         "type": "\"long\""
        },
        {
         "metadata": "{}",
         "name": "review",
         "type": "\"string\""
        }
       ],
       "type": "table"
      }
     },
     "output_type": "display_data"
    }
   ],
   "source": [
    "SELECT\n",
    "  review.*\n",
    "FROM\n",
    "  (\n",
    "    SELECT\n",
    "      explode(reviews) as review\n",
    "    FROM\n",
    "      (\n",
    "        SELECT\n",
    "          GENERATE_FAKE_REVIEWS(10) as reviews\n",
    "      )\n",
    "  )"
   ]
  },
  {
   "cell_type": "code",
   "execution_count": 0,
   "metadata": {
    "application/vnd.databricks.v1+cell": {
     "cellMetadata": {
      "byteLimit": 2048000,
      "rowLimit": 10000
     },
     "inputWidgets": {},
     "nuid": "8ab42826-e879-4b88-a7e4-a86a82dc3efe",
     "showTitle": true,
     "tableResultSettingsMap": {},
     "title": "Save the crafted review as a new table"
    }
   },
   "outputs": [
    {
     "output_type": "display_data",
     "data": {
      "text/html": [
       "<style scoped>\n",
       "  .table-result-container {\n",
       "    max-height: 300px;\n",
       "    overflow: auto;\n",
       "  }\n",
       "  table, th, td {\n",
       "    border: 1px solid black;\n",
       "    border-collapse: collapse;\n",
       "  }\n",
       "  th, td {\n",
       "    padding: 5px;\n",
       "  }\n",
       "  th {\n",
       "    text-align: left;\n",
       "  }\n",
       "</style><div class='table-result-container'><table class='table-result'><thead style='background-color: white'><tr><th>num_affected_rows</th><th>num_inserted_rows</th></tr></thead><tbody></tbody></table></div>"
      ]
     },
     "metadata": {
      "application/vnd.databricks.v1+output": {
       "addedWidgets": {},
       "aggData": [],
       "aggError": "",
       "aggOverflow": false,
       "aggSchema": [],
       "aggSeriesLimitReached": false,
       "aggType": "",
       "arguments": {},
       "columnCustomDisplayInfos": {},
       "data": [],
       "datasetInfos": [
        {
         "name": "_sqldf",
         "schema": {
          "fields": [
           {
            "metadata": {},
            "name": "num_affected_rows",
            "nullable": true,
            "type": "long"
           },
           {
            "metadata": {},
            "name": "num_inserted_rows",
            "nullable": true,
            "type": "long"
           }
          ],
          "type": "struct"
         },
         "tableIdentifier": null,
         "typeStr": "pyspark.sql.connect.dataframe.DataFrame"
        }
       ],
       "dbfsResultPath": null,
       "isJsonSchema": true,
       "metadata": {
        "createTempViewForImplicitDf": true,
        "dataframeName": "_sqldf",
        "executionCount": 27
       },
       "overflow": false,
       "plotOptions": {
        "customPlotOptions": {},
        "displayType": "table",
        "pivotAggregation": null,
        "pivotColumns": null,
        "xColumns": null,
        "yColumns": null
       },
       "removedWidgets": [],
       "schema": [
        {
         "metadata": "{}",
         "name": "num_affected_rows",
         "type": "\"long\""
        },
        {
         "metadata": "{}",
         "name": "num_inserted_rows",
         "type": "\"long\""
        }
       ],
       "type": "table"
      }
     },
     "output_type": "display_data"
    }
   ],
   "source": [
    "CREATE OR REPLACE TABLE fake_reviews COMMENT \"Raw Review Data\" AS\n",
    "SELECT\n",
    "  review.*\n",
    "FROM\n",
    "  (\n",
    "    SELECT\n",
    "      explode(reviews) as review\n",
    "    FROM\n",
    "      (\n",
    "        SELECT\n",
    "          generate_fake_reviews(50) as reviews\n",
    "      )\n",
    "  )"
   ]
  },
  {
   "cell_type": "code",
   "execution_count": 0,
   "metadata": {
    "application/vnd.databricks.v1+cell": {
     "cellMetadata": {
      "byteLimit": 2048000,
      "rowLimit": 10000
     },
     "inputWidgets": {},
     "nuid": "ca7e350f-cf95-4736-a673-5c668a52b783",
     "showTitle": true,
     "tableResultSettingsMap": {},
     "title": "In addition, let's generate some users using the same idea:"
    }
   },
   "outputs": [],
   "source": [
    "CREATE OR REPLACE FUNCTION GENERATE_FAKE_CUSTOMERS(num_reviews INT DEFAULT 10)\n",
    "  RETURNS array<struct<customer_id:long, firstname:string, lastname:string, order_count:int>>\n",
    "  RETURN \n",
    "  SELECT FROM_JSON(\n",
    "      ASK_LLM_MODEL(\n",
    "        CONCAT('Generate a sample dataset of ', num_reviews, ' customers containing the following columns: \n",
    "        \"customer_id\" (long from 1 to ', num_reviews, '), \"firstname\", \"lastname\" and order_count (random positive number, smaller than 200)\n",
    "\n",
    "        Give me JSON only. No text outside JSON. No explanations or notes\n",
    "        [{\"customer_id\":<long>, \"firstname\":<string>, \"lastname\":<string>, \"order_count\":<int>}]'), \"{'type': 'json_object'}\"), \n",
    "        \"array<struct<customer_id:long, firstname:string, lastname:string, order_count:int>>\")\n",
    "        \n",
    "-- ALTER FUNCTION GENERATE_FAKE_CUSTOMERS OWNER TO `your_principal`; -- for the demo only, make sure other users can access your function"
   ]
  },
  {
   "cell_type": "code",
   "execution_count": 0,
   "metadata": {
    "application/vnd.databricks.v1+cell": {
     "cellMetadata": {
      "byteLimit": 2048000,
      "rowLimit": 10000
     },
     "inputWidgets": {},
     "nuid": "837f0b11-e524-4650-bc02-ddf024bfd03b",
     "showTitle": false,
     "tableResultSettingsMap": {},
     "title": ""
    }
   },
   "outputs": [
    {
     "output_type": "display_data",
     "data": {
      "text/html": [
       "<style scoped>\n",
       "  .table-result-container {\n",
       "    max-height: 300px;\n",
       "    overflow: auto;\n",
       "  }\n",
       "  table, th, td {\n",
       "    border: 1px solid black;\n",
       "    border-collapse: collapse;\n",
       "  }\n",
       "  th, td {\n",
       "    padding: 5px;\n",
       "  }\n",
       "  th {\n",
       "    text-align: left;\n",
       "  }\n",
       "</style><div class='table-result-container'><table class='table-result'><thead style='background-color: white'><tr><th>num_affected_rows</th><th>num_inserted_rows</th></tr></thead><tbody></tbody></table></div>"
      ]
     },
     "metadata": {
      "application/vnd.databricks.v1+output": {
       "addedWidgets": {},
       "aggData": [],
       "aggError": "",
       "aggOverflow": false,
       "aggSchema": [],
       "aggSeriesLimitReached": false,
       "aggType": "",
       "arguments": {},
       "columnCustomDisplayInfos": {},
       "data": [],
       "datasetInfos": [
        {
         "name": "_sqldf",
         "schema": {
          "fields": [
           {
            "metadata": {},
            "name": "num_affected_rows",
            "nullable": true,
            "type": "long"
           },
           {
            "metadata": {},
            "name": "num_inserted_rows",
            "nullable": true,
            "type": "long"
           }
          ],
          "type": "struct"
         },
         "tableIdentifier": null,
         "typeStr": "pyspark.sql.connect.dataframe.DataFrame"
        }
       ],
       "dbfsResultPath": null,
       "isJsonSchema": true,
       "metadata": {
        "createTempViewForImplicitDf": true,
        "dataframeName": "_sqldf",
        "executionCount": 24
       },
       "overflow": false,
       "plotOptions": {
        "customPlotOptions": {},
        "displayType": "table",
        "pivotAggregation": null,
        "pivotColumns": null,
        "xColumns": null,
        "yColumns": null
       },
       "removedWidgets": [],
       "schema": [
        {
         "metadata": "{}",
         "name": "num_affected_rows",
         "type": "\"long\""
        },
        {
         "metadata": "{}",
         "name": "num_inserted_rows",
         "type": "\"long\""
        }
       ],
       "type": "table"
      }
     },
     "output_type": "display_data"
    }
   ],
   "source": [
    "CREATE OR REPLACE TABLE fake_customers\n",
    "  COMMENT \"Raw customers\"\n",
    "  AS\n",
    "  SELECT customer.* FROM (\n",
    "    SELECT explode(customers) as customer FROM (\n",
    "      SELECT GENERATE_FAKE_CUSTOMERS(50) as customers))"
   ]
  },
  {
   "cell_type": "code",
   "execution_count": 0,
   "metadata": {
    "application/vnd.databricks.v1+cell": {
     "cellMetadata": {
      "byteLimit": 2048000,
      "rowLimit": 10000
     },
     "inputWidgets": {},
     "nuid": "9d0b4144-920a-40ea-a8f7-22a8e7636aa7",
     "showTitle": false,
     "tableResultSettingsMap": {},
     "title": ""
    }
   },
   "outputs": [
    {
     "output_type": "display_data",
     "data": {
      "text/html": [
       "<style scoped>\n",
       "  .table-result-container {\n",
       "    max-height: 300px;\n",
       "    overflow: auto;\n",
       "  }\n",
       "  table, th, td {\n",
       "    border: 1px solid black;\n",
       "    border-collapse: collapse;\n",
       "  }\n",
       "  th, td {\n",
       "    padding: 5px;\n",
       "  }\n",
       "  th {\n",
       "    text-align: left;\n",
       "  }\n",
       "</style><div class='table-result-container'><table class='table-result'><thead style='background-color: white'><tr><th>review_date</th><th>review_id</th><th>customer_id</th><th>review</th></tr></thead><tbody><tr><td>2022-01-01</td><td>1234567890</td><td>1</td><td>I loved the new Kellogg's cereal, it's crunchy and delicious!</td></tr><tr><td>2022-01-05</td><td>2345678901</td><td>2</td><td>The Coca-Cola soda I received was flat, very disappointing.</td></tr><tr><td>2022-01-10</td><td>3456789012</td><td>3</td><td>The Nestle coffee is okay, but the price is a bit high for the quality.</td></tr><tr><td>2022-01-15</td><td>4567890123</td><td>4</td><td>I've been buying the Pepsi soda for years and it never fails to satisfy my thirst.</td></tr><tr><td>2022-01-20</td><td>5678901234</td><td>5</td><td>The General Mills yogurt is a great snack, but the packaging could be more eco-friendly.</td></tr><tr><td>2022-01-25</td><td>6789012345</td><td>6</td><td>I was really looking forward to trying the new Lay's chips, but they were too spicy for my taste.</td></tr><tr><td>2022-02-01</td><td>7890123456</td><td>7</td><td>The Pringles can is very convenient, but the flavor is not as good as the original.</td></tr><tr><td>2022-02-05</td><td>8901234567</td><td>8</td><td>I've tried many different types of coffee, but the Starbucks coffee is still my favorite.</td></tr><tr><td>2022-02-10</td><td>9012345678</td><td>9</td><td>The Kraft mac and cheese is a classic, but it's not as healthy as I would like.</td></tr><tr><td>2022-02-15</td><td>1023456789</td><td>10</td><td>I was surprised by how much I enjoyed the Dove chocolate, it's rich and creamy.</td></tr><tr><td>2022-02-20</td><td>1123456789</td><td>11</td><td>The Folgers coffee is a good value for the price, but it's not the best quality.</td></tr><tr><td>2022-02-25</td><td>1223456789</td><td>12</td><td>I've been using the Heinz ketchup for years and it's always consistent.</td></tr><tr><td>2022-03-01</td><td>1323456789</td><td>13</td><td>The M&M's candy is a fun treat, but it's too sweet for my taste.</td></tr><tr><td>2022-03-05</td><td>1423456789</td><td>14</td><td>I was disappointed by the quality of the Purina dog food, my dog didn't like it.</td></tr><tr><td>2022-03-10</td><td>1523456789</td><td>15</td><td>The Quaker Oats oatmeal is a healthy and delicious breakfast option.</td></tr><tr><td>2022-03-15</td><td>1623456789</td><td>16</td><td>I've tried many different types of soda, but the Dr Pepper is still my favorite.</td></tr><tr><td>2022-03-20</td><td>1723456789</td><td>17</td><td>The Kit Kat bar is a classic, but it's not as good as it used to be.</td></tr><tr><td>2022-03-25</td><td>1823456789</td><td>18</td><td>I was surprised by how much I enjoyed the Snickers bar, it's a great combination of flavors.</td></tr><tr><td>2022-04-01</td><td>1923456789</td><td>19</td><td>The Twix bar is a good snack, but it's too sweet for my taste.</td></tr><tr><td>2022-04-05</td><td>2023456789</td><td>20</td><td>I've been using the L'Oréal shampoo for years and it's always left my hair feeling clean and soft.</td></tr><tr><td>2022-04-10</td><td>2123456789</td><td>21</td><td>The Nescafe coffee is a good value for the price, but it's not the best quality.</td></tr><tr><td>2022-04-15</td><td>2223456789</td><td>22</td><td>I was disappointed by the quality of the Hershey's chocolate, it was too bitter.</td></tr><tr><td>2022-04-20</td><td>2323456789</td><td>23</td><td>The Jif peanut butter is a classic, but it's not as healthy as I would like.</td></tr><tr><td>2022-04-25</td><td>2423456789</td><td>24</td><td>I've tried many different types of coffee creamer, but the International Delight is still my favorite.</td></tr><tr><td>2022-05-01</td><td>2523456789</td><td>25</td><td>The Skittles candy is a fun treat, but it's too sweet for my taste.</td></tr><tr><td>2022-05-05</td><td>2623456789</td><td>26</td><td>I was surprised by how much I enjoyed the Reese's Pieces, they're a great combination of flavors.</td></tr><tr><td>2022-05-10</td><td>2723456789</td><td>27</td><td>The Almond Joy bar is a classic, but it's not as good as it used to be.</td></tr><tr><td>2022-05-15</td><td>2823456789</td><td>28</td><td>I've tried many different types of tea, but the Lipton tea is still my favorite.</td></tr><tr><td>2022-05-20</td><td>2923456789</td><td>29</td><td>The Mott's apple juice is a good value for the price, but it's not the best quality.</td></tr><tr><td>2022-05-25</td><td>3023456789</td><td>30</td><td>I was disappointed by the quality of the Tropicana orange juice, it was too pulpy.</td></tr><tr><td>2022-06-01</td><td>3123456789</td><td>31</td><td>The Frito-Lay chips are a good snack, but they're too salty for my taste.</td></tr><tr><td>2022-06-05</td><td>3223456789</td><td>32</td><td>I've been using the Hellmann's mayonnaise for years and it's always been a staple in my kitchen.</td></tr><tr><td>2022-06-10</td><td>3323456789</td><td>33</td><td>The Knorr soup is a good value for the price, but it's not the best quality.</td></tr><tr><td>2022-06-15</td><td>3423456789</td><td>34</td><td>I was surprised by how much I enjoyed the La Choy soy sauce, it's a great addition to any dish.</td></tr><tr><td>2022-06-20</td><td>3523456789</td><td>35</td><td>The Libby's canned goods are a good value for the price, but they're not the best quality.</td></tr><tr><td>2022-06-25</td><td>3623456789</td><td>36</td><td>I've tried many different types of coffee, but the Maxwell House coffee is still my favorite.</td></tr><tr><td>2022-07-01</td><td>3723456789</td><td>37</td><td>The Minute Maid juice is a good value for the price, but it's not the best quality.</td></tr><tr><td>2022-07-05</td><td>3823456789</td><td>38</td><td>I was disappointed by the quality of the Nestle water, it was too expensive.</td></tr><tr><td>2022-07-10</td><td>3923456789</td><td>39</td><td>The Ocean Spray juice is a good value for the price, but it's not the best quality.</td></tr><tr><td>2022-07-15</td><td>4023456789</td><td>40</td><td>I've tried many different types of soda, but the Pepsi soda is still my favorite.</td></tr><tr><td>2022-07-20</td><td>4123456789</td><td>41</td><td>The Planters peanuts are a good snack, but they're too salty for my taste.</td></tr><tr><td>2022-07-25</td><td>4223456789</td><td>42</td><td>I was surprised by how much I enjoyed the Pringles potato chips, they're a great combination of flavors.</td></tr><tr><td>2022-08-01</td><td>4323456789</td><td>43</td><td>The Quaker Oats oatmeal is a healthy and delicious breakfast option.</td></tr><tr><td>2022-08-05</td><td>4423456789</td><td>44</td><td>I've tried many different types of tea, but the Red Rose tea is still my favorite.</td></tr><tr><td>2022-08-10</td><td>4523456789</td><td>45</td><td>The Rice-A-Roni pasta is a good value for the price, but it's not the best quality.</td></tr><tr><td>2022-08-15</td><td>4623456789</td><td>46</td><td>I was disappointed by the quality of the Stouffer's frozen meals, they were too salty.</td></tr><tr><td>2022-08-20</td><td>4723456789</td><td>47</td><td>The SunChips are a good snack, but they're too crunchy for my taste.</td></tr><tr><td>2022-08-25</td><td>4823456789</td><td>48</td><td>I've tried many different types of coffee creamer, but the Sweet'N Low is still my favorite.</td></tr><tr><td>2022-09-01</td><td>4923456789</td><td>49</td><td>The Tang drink mix is a good value for the price, but it's not the best quality.</td></tr><tr><td>2022-09-05</td><td>5023456789</td><td>50</td><td>I was surprised by how much I enjoyed the Taster's Choice coffee, it's a great combination of flavors.</td></tr></tbody></table></div>"
      ]
     },
     "metadata": {
      "application/vnd.databricks.v1+output": {
       "addedWidgets": {},
       "aggData": [],
       "aggError": "",
       "aggOverflow": false,
       "aggSchema": [],
       "aggSeriesLimitReached": false,
       "aggType": "",
       "arguments": {},
       "columnCustomDisplayInfos": {},
       "data": [
        [
         "2022-01-01",
         1234567890,
         1,
         "I loved the new Kellogg's cereal, it's crunchy and delicious!"
        ],
        [
         "2022-01-05",
         2345678901,
         2,
         "The Coca-Cola soda I received was flat, very disappointing."
        ],
        [
         "2022-01-10",
         3456789012,
         3,
         "The Nestle coffee is okay, but the price is a bit high for the quality."
        ],
        [
         "2022-01-15",
         4567890123,
         4,
         "I've been buying the Pepsi soda for years and it never fails to satisfy my thirst."
        ],
        [
         "2022-01-20",
         5678901234,
         5,
         "The General Mills yogurt is a great snack, but the packaging could be more eco-friendly."
        ],
        [
         "2022-01-25",
         6789012345,
         6,
         "I was really looking forward to trying the new Lay's chips, but they were too spicy for my taste."
        ],
        [
         "2022-02-01",
         7890123456,
         7,
         "The Pringles can is very convenient, but the flavor is not as good as the original."
        ],
        [
         "2022-02-05",
         8901234567,
         8,
         "I've tried many different types of coffee, but the Starbucks coffee is still my favorite."
        ],
        [
         "2022-02-10",
         9012345678,
         9,
         "The Kraft mac and cheese is a classic, but it's not as healthy as I would like."
        ],
        [
         "2022-02-15",
         1023456789,
         10,
         "I was surprised by how much I enjoyed the Dove chocolate, it's rich and creamy."
        ],
        [
         "2022-02-20",
         1123456789,
         11,
         "The Folgers coffee is a good value for the price, but it's not the best quality."
        ],
        [
         "2022-02-25",
         1223456789,
         12,
         "I've been using the Heinz ketchup for years and it's always consistent."
        ],
        [
         "2022-03-01",
         1323456789,
         13,
         "The M&M's candy is a fun treat, but it's too sweet for my taste."
        ],
        [
         "2022-03-05",
         1423456789,
         14,
         "I was disappointed by the quality of the Purina dog food, my dog didn't like it."
        ],
        [
         "2022-03-10",
         1523456789,
         15,
         "The Quaker Oats oatmeal is a healthy and delicious breakfast option."
        ],
        [
         "2022-03-15",
         1623456789,
         16,
         "I've tried many different types of soda, but the Dr Pepper is still my favorite."
        ],
        [
         "2022-03-20",
         1723456789,
         17,
         "The Kit Kat bar is a classic, but it's not as good as it used to be."
        ],
        [
         "2022-03-25",
         1823456789,
         18,
         "I was surprised by how much I enjoyed the Snickers bar, it's a great combination of flavors."
        ],
        [
         "2022-04-01",
         1923456789,
         19,
         "The Twix bar is a good snack, but it's too sweet for my taste."
        ],
        [
         "2022-04-05",
         2023456789,
         20,
         "I've been using the L'Oréal shampoo for years and it's always left my hair feeling clean and soft."
        ],
        [
         "2022-04-10",
         2123456789,
         21,
         "The Nescafe coffee is a good value for the price, but it's not the best quality."
        ],
        [
         "2022-04-15",
         2223456789,
         22,
         "I was disappointed by the quality of the Hershey's chocolate, it was too bitter."
        ],
        [
         "2022-04-20",
         2323456789,
         23,
         "The Jif peanut butter is a classic, but it's not as healthy as I would like."
        ],
        [
         "2022-04-25",
         2423456789,
         24,
         "I've tried many different types of coffee creamer, but the International Delight is still my favorite."
        ],
        [
         "2022-05-01",
         2523456789,
         25,
         "The Skittles candy is a fun treat, but it's too sweet for my taste."
        ],
        [
         "2022-05-05",
         2623456789,
         26,
         "I was surprised by how much I enjoyed the Reese's Pieces, they're a great combination of flavors."
        ],
        [
         "2022-05-10",
         2723456789,
         27,
         "The Almond Joy bar is a classic, but it's not as good as it used to be."
        ],
        [
         "2022-05-15",
         2823456789,
         28,
         "I've tried many different types of tea, but the Lipton tea is still my favorite."
        ],
        [
         "2022-05-20",
         2923456789,
         29,
         "The Mott's apple juice is a good value for the price, but it's not the best quality."
        ],
        [
         "2022-05-25",
         3023456789,
         30,
         "I was disappointed by the quality of the Tropicana orange juice, it was too pulpy."
        ],
        [
         "2022-06-01",
         3123456789,
         31,
         "The Frito-Lay chips are a good snack, but they're too salty for my taste."
        ],
        [
         "2022-06-05",
         3223456789,
         32,
         "I've been using the Hellmann's mayonnaise for years and it's always been a staple in my kitchen."
        ],
        [
         "2022-06-10",
         3323456789,
         33,
         "The Knorr soup is a good value for the price, but it's not the best quality."
        ],
        [
         "2022-06-15",
         3423456789,
         34,
         "I was surprised by how much I enjoyed the La Choy soy sauce, it's a great addition to any dish."
        ],
        [
         "2022-06-20",
         3523456789,
         35,
         "The Libby's canned goods are a good value for the price, but they're not the best quality."
        ],
        [
         "2022-06-25",
         3623456789,
         36,
         "I've tried many different types of coffee, but the Maxwell House coffee is still my favorite."
        ],
        [
         "2022-07-01",
         3723456789,
         37,
         "The Minute Maid juice is a good value for the price, but it's not the best quality."
        ],
        [
         "2022-07-05",
         3823456789,
         38,
         "I was disappointed by the quality of the Nestle water, it was too expensive."
        ],
        [
         "2022-07-10",
         3923456789,
         39,
         "The Ocean Spray juice is a good value for the price, but it's not the best quality."
        ],
        [
         "2022-07-15",
         4023456789,
         40,
         "I've tried many different types of soda, but the Pepsi soda is still my favorite."
        ],
        [
         "2022-07-20",
         4123456789,
         41,
         "The Planters peanuts are a good snack, but they're too salty for my taste."
        ],
        [
         "2022-07-25",
         4223456789,
         42,
         "I was surprised by how much I enjoyed the Pringles potato chips, they're a great combination of flavors."
        ],
        [
         "2022-08-01",
         4323456789,
         43,
         "The Quaker Oats oatmeal is a healthy and delicious breakfast option."
        ],
        [
         "2022-08-05",
         4423456789,
         44,
         "I've tried many different types of tea, but the Red Rose tea is still my favorite."
        ],
        [
         "2022-08-10",
         4523456789,
         45,
         "The Rice-A-Roni pasta is a good value for the price, but it's not the best quality."
        ],
        [
         "2022-08-15",
         4623456789,
         46,
         "I was disappointed by the quality of the Stouffer's frozen meals, they were too salty."
        ],
        [
         "2022-08-20",
         4723456789,
         47,
         "The SunChips are a good snack, but they're too crunchy for my taste."
        ],
        [
         "2022-08-25",
         4823456789,
         48,
         "I've tried many different types of coffee creamer, but the Sweet'N Low is still my favorite."
        ],
        [
         "2022-09-01",
         4923456789,
         49,
         "The Tang drink mix is a good value for the price, but it's not the best quality."
        ],
        [
         "2022-09-05",
         5023456789,
         50,
         "I was surprised by how much I enjoyed the Taster's Choice coffee, it's a great combination of flavors."
        ]
       ],
       "datasetInfos": [
        {
         "name": "_sqldf",
         "schema": {
          "fields": [
           {
            "metadata": {},
            "name": "review_date",
            "nullable": true,
            "type": "date"
           },
           {
            "metadata": {},
            "name": "review_id",
            "nullable": true,
            "type": "long"
           },
           {
            "metadata": {},
            "name": "customer_id",
            "nullable": true,
            "type": "long"
           },
           {
            "metadata": {},
            "name": "review",
            "nullable": true,
            "type": "string"
           }
          ],
          "type": "struct"
         },
         "tableIdentifier": null,
         "typeStr": "pyspark.sql.connect.dataframe.DataFrame"
        }
       ],
       "dbfsResultPath": null,
       "isJsonSchema": true,
       "metadata": {
        "createTempViewForImplicitDf": true,
        "dataframeName": "_sqldf",
        "executionCount": 28
       },
       "overflow": false,
       "plotOptions": {
        "customPlotOptions": {},
        "displayType": "table",
        "pivotAggregation": null,
        "pivotColumns": null,
        "xColumns": null,
        "yColumns": null
       },
       "removedWidgets": [],
       "schema": [
        {
         "metadata": "{}",
         "name": "review_date",
         "type": "\"date\""
        },
        {
         "metadata": "{}",
         "name": "review_id",
         "type": "\"long\""
        },
        {
         "metadata": "{}",
         "name": "customer_id",
         "type": "\"long\""
        },
        {
         "metadata": "{}",
         "name": "review",
         "type": "\"string\""
        }
       ],
       "type": "table"
      }
     },
     "output_type": "display_data"
    }
   ],
   "source": [
    "SELECT\n",
    "  *\n",
    "FROM\n",
    "  fake_reviews"
   ]
  },
  {
   "cell_type": "code",
   "execution_count": 0,
   "metadata": {
    "application/vnd.databricks.v1+cell": {
     "cellMetadata": {
      "byteLimit": 2048000,
      "rowLimit": 10000
     },
     "inputWidgets": {},
     "nuid": "9a874f68-b378-4f97-85b1-131125a0a414",
     "showTitle": false,
     "tableResultSettingsMap": {},
     "title": ""
    }
   },
   "outputs": [
    {
     "output_type": "display_data",
     "data": {
      "text/html": [
       "<style scoped>\n",
       "  .table-result-container {\n",
       "    max-height: 300px;\n",
       "    overflow: auto;\n",
       "  }\n",
       "  table, th, td {\n",
       "    border: 1px solid black;\n",
       "    border-collapse: collapse;\n",
       "  }\n",
       "  th, td {\n",
       "    padding: 5px;\n",
       "  }\n",
       "  th {\n",
       "    text-align: left;\n",
       "  }\n",
       "</style><div class='table-result-container'><table class='table-result'><thead style='background-color: white'><tr><th>customer_id</th><th>firstname</th><th>lastname</th><th>order_count</th></tr></thead><tbody><tr><td>1</td><td>Eleanor</td><td>Wiggins</td><td>143</td></tr><tr><td>2</td><td>Lucas</td><td>Brooks</td><td>67</td></tr><tr><td>3</td><td>May</td><td>Parker</td><td>118</td></tr><tr><td>4</td><td>Oliver</td><td>Russell</td><td>191</td></tr><tr><td>5</td><td>Ava</td><td>Lee</td><td>52</td></tr><tr><td>6</td><td>Isabella</td><td>Hall</td><td>82</td></tr><tr><td>7</td><td>Mason</td><td>Walker</td><td>129</td></tr><tr><td>8</td><td>Charlotte</td><td>Young</td><td>46</td></tr><tr><td>9</td><td>Logan</td><td>Allen</td><td>165</td></tr><tr><td>10</td><td>Abigail</td><td>King</td><td>97</td></tr><tr><td>11</td><td>William</td><td>Wright</td><td>111</td></tr><tr><td>12</td><td>Emily</td><td>Scott</td><td>68</td></tr><tr><td>13</td><td>Benjamin</td><td>Davis</td><td>185</td></tr><tr><td>14</td><td>Harper</td><td>Mitchell</td><td>54</td></tr><tr><td>15</td><td>Caleb</td><td>Martin</td><td>122</td></tr><tr><td>16</td><td>Amelia</td><td>Thompson</td><td>93</td></tr><tr><td>17</td><td>Jaxon</td><td>Garcia</td><td>148</td></tr><tr><td>18</td><td>Evelyn</td><td>Martinez</td><td>63</td></tr><tr><td>19</td><td>Elijah</td><td>Robinson</td><td>176</td></tr><tr><td>20</td><td>Lily</td><td>Clark</td><td>49</td></tr><tr><td>21</td><td>James</td><td>Rodriguez</td><td>104</td></tr><tr><td>22</td><td>Madison</td><td>Lewis</td><td>81</td></tr><tr><td>23</td><td>Gabriel</td><td>Lee</td><td>196</td></tr><tr><td>24</td><td>Victoria</td><td>Harris</td><td>58</td></tr><tr><td>25</td><td>Michael</td><td>Jackson</td><td>135</td></tr><tr><td>26</td><td>Jessica</td><td>Brown</td><td>72</td></tr><tr><td>27</td><td>Daniel</td><td>Jones</td><td>189</td></tr><tr><td>28</td><td>Samantha</td><td>Miller</td><td>44</td></tr><tr><td>29</td><td>Anthony</td><td>Wilson</td><td>161</td></tr><tr><td>30</td><td>Avery</td><td>Moore</td><td>51</td></tr><tr><td>31</td><td>Christopher</td><td>Taylor</td><td>127</td></tr><tr><td>32</td><td>Riley</td><td>Anderson</td><td>95</td></tr><tr><td>33</td><td>Joshua</td><td>Thomas</td><td>168</td></tr><tr><td>34</td><td>Zoey</td><td>White</td><td>62</td></tr><tr><td>35</td><td>Andrew</td><td>Harris</td><td>193</td></tr><tr><td>36</td><td>Natalie</td><td>Martin</td><td>56</td></tr><tr><td>37</td><td>Samuel</td><td>Thompson</td><td>141</td></tr><tr><td>38</td><td>Leah</td><td>Garcia</td><td>75</td></tr><tr><td>39</td><td>Julian</td><td>Martinez</td><td>182</td></tr><tr><td>40</td><td>Hannah</td><td>Robinson</td><td>48</td></tr><tr><td>41</td><td>Ryan</td><td>Clark</td><td>114</td></tr><tr><td>42</td><td>Kayla</td><td>Rodriguez</td><td>88</td></tr><tr><td>43</td><td>Nicholas</td><td>Lewis</td><td>199</td></tr><tr><td>44</td><td>Sydney</td><td>Lee</td><td>59</td></tr><tr><td>45</td><td>Tyler</td><td>Harris</td><td>151</td></tr><tr><td>46</td><td>Mia</td><td>Jackson</td><td>69</td></tr><tr><td>47</td><td>Brandon</td><td>Brown</td><td>187</td></tr><tr><td>48</td><td>Isabelle</td><td>Jones</td><td>53</td></tr><tr><td>49</td><td>Alexander</td><td>Miller</td><td>172</td></tr><tr><td>50</td><td>Sophia</td><td>Wilson</td><td>78</td></tr></tbody></table></div>"
      ]
     },
     "metadata": {
      "application/vnd.databricks.v1+output": {
       "addedWidgets": {},
       "aggData": [],
       "aggError": "",
       "aggOverflow": false,
       "aggSchema": [],
       "aggSeriesLimitReached": false,
       "aggType": "",
       "arguments": {},
       "columnCustomDisplayInfos": {},
       "data": [
        [
         1,
         "Eleanor",
         "Wiggins",
         143
        ],
        [
         2,
         "Lucas",
         "Brooks",
         67
        ],
        [
         3,
         "May",
         "Parker",
         118
        ],
        [
         4,
         "Oliver",
         "Russell",
         191
        ],
        [
         5,
         "Ava",
         "Lee",
         52
        ],
        [
         6,
         "Isabella",
         "Hall",
         82
        ],
        [
         7,
         "Mason",
         "Walker",
         129
        ],
        [
         8,
         "Charlotte",
         "Young",
         46
        ],
        [
         9,
         "Logan",
         "Allen",
         165
        ],
        [
         10,
         "Abigail",
         "King",
         97
        ],
        [
         11,
         "William",
         "Wright",
         111
        ],
        [
         12,
         "Emily",
         "Scott",
         68
        ],
        [
         13,
         "Benjamin",
         "Davis",
         185
        ],
        [
         14,
         "Harper",
         "Mitchell",
         54
        ],
        [
         15,
         "Caleb",
         "Martin",
         122
        ],
        [
         16,
         "Amelia",
         "Thompson",
         93
        ],
        [
         17,
         "Jaxon",
         "Garcia",
         148
        ],
        [
         18,
         "Evelyn",
         "Martinez",
         63
        ],
        [
         19,
         "Elijah",
         "Robinson",
         176
        ],
        [
         20,
         "Lily",
         "Clark",
         49
        ],
        [
         21,
         "James",
         "Rodriguez",
         104
        ],
        [
         22,
         "Madison",
         "Lewis",
         81
        ],
        [
         23,
         "Gabriel",
         "Lee",
         196
        ],
        [
         24,
         "Victoria",
         "Harris",
         58
        ],
        [
         25,
         "Michael",
         "Jackson",
         135
        ],
        [
         26,
         "Jessica",
         "Brown",
         72
        ],
        [
         27,
         "Daniel",
         "Jones",
         189
        ],
        [
         28,
         "Samantha",
         "Miller",
         44
        ],
        [
         29,
         "Anthony",
         "Wilson",
         161
        ],
        [
         30,
         "Avery",
         "Moore",
         51
        ],
        [
         31,
         "Christopher",
         "Taylor",
         127
        ],
        [
         32,
         "Riley",
         "Anderson",
         95
        ],
        [
         33,
         "Joshua",
         "Thomas",
         168
        ],
        [
         34,
         "Zoey",
         "White",
         62
        ],
        [
         35,
         "Andrew",
         "Harris",
         193
        ],
        [
         36,
         "Natalie",
         "Martin",
         56
        ],
        [
         37,
         "Samuel",
         "Thompson",
         141
        ],
        [
         38,
         "Leah",
         "Garcia",
         75
        ],
        [
         39,
         "Julian",
         "Martinez",
         182
        ],
        [
         40,
         "Hannah",
         "Robinson",
         48
        ],
        [
         41,
         "Ryan",
         "Clark",
         114
        ],
        [
         42,
         "Kayla",
         "Rodriguez",
         88
        ],
        [
         43,
         "Nicholas",
         "Lewis",
         199
        ],
        [
         44,
         "Sydney",
         "Lee",
         59
        ],
        [
         45,
         "Tyler",
         "Harris",
         151
        ],
        [
         46,
         "Mia",
         "Jackson",
         69
        ],
        [
         47,
         "Brandon",
         "Brown",
         187
        ],
        [
         48,
         "Isabelle",
         "Jones",
         53
        ],
        [
         49,
         "Alexander",
         "Miller",
         172
        ],
        [
         50,
         "Sophia",
         "Wilson",
         78
        ]
       ],
       "datasetInfos": [
        {
         "name": "_sqldf",
         "schema": {
          "fields": [
           {
            "metadata": {},
            "name": "customer_id",
            "nullable": true,
            "type": "long"
           },
           {
            "metadata": {},
            "name": "firstname",
            "nullable": true,
            "type": "string"
           },
           {
            "metadata": {},
            "name": "lastname",
            "nullable": true,
            "type": "string"
           },
           {
            "metadata": {},
            "name": "order_count",
            "nullable": true,
            "type": "integer"
           }
          ],
          "type": "struct"
         },
         "tableIdentifier": null,
         "typeStr": "pyspark.sql.connect.dataframe.DataFrame"
        }
       ],
       "dbfsResultPath": null,
       "isJsonSchema": true,
       "metadata": {
        "createTempViewForImplicitDf": true,
        "dataframeName": "_sqldf",
        "executionCount": 29
       },
       "overflow": false,
       "plotOptions": {
        "customPlotOptions": {},
        "displayType": "table",
        "pivotAggregation": null,
        "pivotColumns": null,
        "xColumns": null,
        "yColumns": null
       },
       "removedWidgets": [],
       "schema": [
        {
         "metadata": "{}",
         "name": "customer_id",
         "type": "\"long\""
        },
        {
         "metadata": "{}",
         "name": "firstname",
         "type": "\"string\""
        },
        {
         "metadata": "{}",
         "name": "lastname",
         "type": "\"string\""
        },
        {
         "metadata": "{}",
         "name": "order_count",
         "type": "\"integer\""
        }
       ],
       "type": "table"
      }
     },
     "output_type": "display_data"
    }
   ],
   "source": [
    "SELECT * FROM fake_customers"
   ]
  }
 ],
 "metadata": {
  "application/vnd.databricks.v1+notebook": {
   "computePreferences": null,
   "dashboards": [],
   "environmentMetadata": {
    "base_environment": "",
    "environment_version": "2"
   },
   "inputWidgetPreferences": null,
   "language": "sql",
   "notebookMetadata": {
    "pythonIndentUnit": 4
   },
   "notebookName": "DBX_AI_Functions",
   "widgets": {}
  },
  "language_info": {
   "name": "sql"
  }
 },
 "nbformat": 4,
 "nbformat_minor": 0
}
