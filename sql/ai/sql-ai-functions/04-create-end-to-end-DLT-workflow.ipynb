{
 "cells": [
  {
   "cell_type": "markdown",
   "metadata": {
    "application/vnd.databricks.v1+cell": {
     "cellMetadata": {},
     "inputWidgets": {},
     "nuid": "4c5da26b-2ccb-42c3-bea5-d8e186f83ca4",
     "showTitle": false,
     "tableResultSettingsMap": {},
     "title": ""
    }
   },
   "source": [
    "# 4/ End to End DLT Production Pipeline for product review and classification with SQL AI QUERY\n",
    "\n",
    "\n",
    "In this demo, we will create a production ready pipeline for the product review and classification using Delta Live Table framework\n",
    "\n",
    "- `reviews_annotated_silver` table: Join review and customer data, annotate reviews\n",
    "- `review_answer_gold` table: generate response per customer review\n",
    "\n",
    "Please note, we need to use the full Unity Catalog path of the AI SQL Functions\n",
    "\n",
    "\n",
    "<img src=\"https://raw.githubusercontent.com/databricks-demos/dbdemos-resources/main/images/product/sql-ai-functions/sql-ai-query-function-flow.png\" width=\"1000\">\n",
    "\n",
    "\n",
    "<!-- Collect usage data (view). Remove it to disable collection or disable tracker during installation. View README for more details.  -->\n",
    "<img width=\"1px\" src=\"https://ppxrzfxige.execute-api.us-west-2.amazonaws.com/v1/analytics?category=DBSQL&org_id=2231844519520554&notebook=%2F04-create-end-to-end-DLT-workflow&demo_name=sql-ai-functions&event=VIEW&path=%2F_dbdemos%2FDBSQL%2Fsql-ai-functions%2F04-create-end-to-end-DLT-workflow&version=1\">"
   ]
  },
  {
   "cell_type": "markdown",
   "metadata": {
    "application/vnd.databricks.v1+cell": {
     "cellMetadata": {},
     "inputWidgets": {},
     "nuid": "377c1ec0-3dc4-4df2-a435-e798dd3cc577",
     "showTitle": false,
     "tableResultSettingsMap": {},
     "title": ""
    }
   },
   "source": [
    "# Create `reviews_annotated_silver` streaming table"
   ]
  },
  {
   "cell_type": "code",
   "execution_count": 0,
   "metadata": {
    "application/vnd.databricks.v1+cell": {
     "cellMetadata": {},
     "inputWidgets": {},
     "nuid": "ca18ad56-cff4-4cae-bb6b-9a2766cd624a",
     "showTitle": false,
     "tableResultSettingsMap": {},
     "title": ""
    }
   },
   "outputs": [],
   "source": [
    "CREATE OR REFRESH STREAMING TABLE reviews_annotated_silver(\n",
    "  CONSTRAINT valid_customer_id EXPECT (customer_id IS NOT NULL)\n",
    ") \n",
    "COMMENT \"Annotate review with Llama 3.3 70B\"\n",
    "AS SELECT\n",
    "  * EXCEPT (review_annotated), review_annotated.* FROM (\n",
    "      SELECT *, main.dbdemos_ai_query.ANNOTATE_REVIEW(review) AS review_annotated\n",
    "        FROM stream(fake_reviews))\n",
    "    INNER JOIN stream(fake_customers) using (customer_id)"
   ]
  },
  {
   "cell_type": "markdown",
   "metadata": {
    "application/vnd.databricks.v1+cell": {
     "cellMetadata": {},
     "inputWidgets": {},
     "nuid": "f28c3883-5ff2-4e19-a8b9-467527245800",
     "showTitle": false,
     "tableResultSettingsMap": {},
     "title": ""
    }
   },
   "source": [
    "# Create `review_answer_gold` materialized view"
   ]
  },
  {
   "cell_type": "code",
   "execution_count": 0,
   "metadata": {
    "application/vnd.databricks.v1+cell": {
     "cellMetadata": {},
     "inputWidgets": {},
     "nuid": "6ac06cf4-a13b-48b6-b47b-a05149ea4af8",
     "showTitle": false,
     "tableResultSettingsMap": {},
     "title": ""
    }
   },
   "outputs": [],
   "source": [
    "CREATE OR REFRESH MATERIALIZED VIEW reviews_answer_gold \n",
    "COMMENT \"Create review answer and response\"\n",
    "AS SELECT \n",
    "  *,\n",
    "  main.dbdemos_ai_query.generate_response(firstname, lastname, order_count, product_name, followup_reason) AS response_draft\n",
    "FROM live.reviews_annotated_silver where followup='Y'"
   ]
  }
 ],
 "metadata": {
  "application/vnd.databricks.v1+notebook": {
   "computePreferences": null,
   "dashboards": [],
   "environmentMetadata": {
    "environment_version": "2"
   },
   "inputWidgetPreferences": null,
   "language": "sql",
   "notebookMetadata": {
    "pythonIndentUnit": 4
   },
   "notebookName": "04-create-end-to-end-DLT-workflow",
   "widgets": {}
  },
  "language_info": {
   "name": "sql"
  }
 },
 "nbformat": 4,
 "nbformat_minor": 0
}
