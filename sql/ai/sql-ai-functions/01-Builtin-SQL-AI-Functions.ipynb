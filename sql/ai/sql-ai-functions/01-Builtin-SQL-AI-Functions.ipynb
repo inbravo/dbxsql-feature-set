{
 "cells": [
  {
   "cell_type": "markdown",
   "metadata": {
    "application/vnd.databricks.v1+cell": {
     "cellMetadata": {},
     "inputWidgets": {},
     "nuid": "7e88f7b2-a51a-4897-9643-d7faa03b1589",
     "showTitle": false,
     "tableResultSettingsMap": {},
     "title": ""
    }
   },
   "source": [
    "# Process and analyse text with Built In Databricks SQL AI functions\n",
    "\n",
    "Databricks SQL provides [built-in GenAI capabilities](https://docs.databricks.com/en/large-language-models/ai-functions.html), letting you perform adhoc operation, leveraging state of the art LLM, optimized for these tasks.\n",
    "\n",
    "These functions are the following:\n",
    "\n",
    "- `ai_analyze_sentiment`\n",
    "- `ai_classify`\n",
    "- `ai_extract`\n",
    "- `ai_fix_grammar`\n",
    "- `ai_gen`\n",
    "- `ai_mask`\n",
    "- `ai_similarity`\n",
    "- `ai_summarize`\n",
    "- `ai_translate`\n",
    "\n",
    "Using these functions is pretty straightforward. Under the hood, they call specialized LLMs with a custom prompt, providing fast answers.\n",
    "\n",
    "You can use them on any column in any SQL text.\n",
    "\n",
    "Let's give it a try.\n",
    "\n",
    "<!-- Collect usage data (view). Remove it to disable collection or disable tracker during installation. View README for more details.  -->\n",
    "<img width=\"1px\" src=\"https://ppxrzfxige.execute-api.us-west-2.amazonaws.com/v1/analytics?category=DBSQL&org_id=2231844519520554&notebook=%2F01-Builtin-SQL-AI-Functions&demo_name=sql-ai-functions&event=VIEW&path=%2F_dbdemos%2FDBSQL%2Fsql-ai-functions%2F01-Builtin-SQL-AI-Functions&version=1\">"
   ]
  },
  {
   "cell_type": "markdown",
   "metadata": {
    "application/vnd.databricks.v1+cell": {
     "cellMetadata": {},
     "inputWidgets": {},
     "nuid": "5513b252-98c7-4847-897b-09406ba26c89",
     "showTitle": false,
     "tableResultSettingsMap": {},
     "title": ""
    }
   },
   "source": [
    "## Using a SQL Warehouse to run this demo\n",
    "\n",
    "This demo runs using a SQL Warehouse! \n",
    "\n",
    "Make sure you select one using the dropdown on the top right of your notebook (don't select a classic compute/cluster)\n",
    "\n"
   ]
  },
  {
   "cell_type": "code",
   "execution_count": 0,
   "metadata": {
    "application/vnd.databricks.v1+cell": {
     "cellMetadata": {},
     "inputWidgets": {},
     "nuid": "a6360a18-395e-4f17-83cc-84a9a8330c2f",
     "showTitle": true,
     "tableResultSettingsMap": {},
     "title": "Generate dataset"
    }
   },
   "outputs": [],
   "source": [
    "-- Make sure you run this notebook using a SQL Warehouse or Serverless endpoint (not a classic cluster)\n",
    "-- assert_true function returns an untyped null if no error is returned\n",
    "SELECT assert_true(current_version().dbsql_version is not null, 'YOU MUST USE A SQL WAREHOUSE OR SERVERLESS, not a classic cluster');\n",
    "\n",
    "SELECT ai_gen('Generate a concise, cheerful email title for a summer bike sale with 20% discount');"
   ]
  },
  {
   "cell_type": "code",
   "execution_count": 0,
   "metadata": {
    "application/vnd.databricks.v1+cell": {
     "cellMetadata": {},
     "inputWidgets": {},
     "nuid": "0bac4528-e25d-4673-aef3-33325a129e53",
     "showTitle": true,
     "tableResultSettingsMap": {},
     "title": "Fix grammar"
    }
   },
   "outputs": [],
   "source": [
    "SELECT ai_fix_grammar('This sentence have some mistake');"
   ]
  },
  {
   "cell_type": "code",
   "execution_count": 0,
   "metadata": {
    "application/vnd.databricks.v1+cell": {
     "cellMetadata": {},
     "inputWidgets": {},
     "nuid": "6a1c8fdf-b976-4a6c-881a-c89b141e914b",
     "showTitle": true,
     "tableResultSettingsMap": {},
     "title": "Automatically classify text into categories"
    }
   },
   "outputs": [],
   "source": [
    "SELECT ai_classify(\"My password is leaked.\", ARRAY(\"urgent\", \"not urgent\"));"
   ]
  },
  {
   "cell_type": "code",
   "execution_count": 0,
   "metadata": {
    "application/vnd.databricks.v1+cell": {
     "cellMetadata": {},
     "inputWidgets": {},
     "nuid": "c80c2cac-1d92-4e5b-9810-7dc7323cc8c0",
     "showTitle": true,
     "tableResultSettingsMap": {},
     "title": "Translate into other language"
    }
   },
   "outputs": [],
   "source": [
    "SELECT ai_translate(\"This function is so amazing!\", \"fr\")"
   ]
  },
  {
   "cell_type": "code",
   "execution_count": 0,
   "metadata": {
    "application/vnd.databricks.v1+cell": {
     "cellMetadata": {},
     "inputWidgets": {},
     "nuid": "d0df58d5-ef8d-46c7-bf59-e3f8367ce64c",
     "showTitle": true,
     "tableResultSettingsMap": {},
     "title": "Compute similarity between sentences"
    }
   },
   "outputs": [],
   "source": [
    "SELECT ai_similarity('Databricks', 'Apache Spark'),  ai_similarity('Apache Spark', 'The Apache Spark Engine');"
   ]
  },
  {
   "cell_type": "markdown",
   "metadata": {
    "application/vnd.databricks.v1+cell": {
     "cellMetadata": {},
     "inputWidgets": {},
     "nuid": "f10d2c61-0ad1-4078-84e1-8448b44b0b32",
     "showTitle": false,
     "tableResultSettingsMap": {},
     "title": ""
    }
   },
   "source": [
    "\n",
    "## Going further: creating your own AI function with your Model Serving Endpoint or other Foundation Models\n",
    "\n",
    "We saw how Databricks simplifies your SQL operation with built in AI functions.\n",
    "\n",
    "However, you might need more  advanced capabilities:\n",
    "\n",
    "- Use your own custom LLMs behind a Model Serving Endpoint\n",
    "- Create more advanced AI Function\n",
    "- Add more control on the prompt  \n",
    "\n",
    "That's what the `AI_QUERY` function can offer.\n",
    "\n",
    "Open the next notebook: [02-Generate-fake-data-with-AI-functions]($./02-Generate-fake-data-with-AI-functions) to see how you can leverage `AI_FUNCTION` to automate product review analysis and create customized answer.\n",
    "\n",
    "Go back to [the introduction]($./00-SQL-AI-Functions-Introduction)"
   ]
  }
 ],
 "metadata": {
  "application/vnd.databricks.v1+notebook": {
   "computePreferences": null,
   "dashboards": [],
   "environmentMetadata": {
    "environment_version": "2"
   },
   "inputWidgetPreferences": null,
   "language": "sql",
   "notebookMetadata": {},
   "notebookName": "01-Builtin-SQL-AI-Functions",
   "widgets": {}
  },
  "language_info": {
   "name": "sql"
  }
 },
 "nbformat": 4,
 "nbformat_minor": 0
}
