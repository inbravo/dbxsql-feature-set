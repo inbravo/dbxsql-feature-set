{
 "cells": [
  {
   "cell_type": "markdown",
   "metadata": {
    "application/vnd.databricks.v1+cell": {
     "cellMetadata": {},
     "inputWidgets": {},
     "nuid": "7d303b85-ce80-4c66-a6bf-37ae6e496fb9",
     "showTitle": false,
     "tableResultSettingsMap": {},
     "title": ""
    }
   },
   "source": [
    "# 2/ Introduction to SQL AI Function: generating fake data with custom Model Serving Endpoint\n",
    "\n",
    "For this demo, we'll start by generating fake data using `AI_QUERY()`. \n",
    "\n",
    "The sample data will mimics customer reviews for grocery products submitted to an e-commerce website.\n",
    "\n",
    "## Working with [`AI_QUERY`](https://docs.databricks.com/aws/en/sql/language-manual/functions/ai_query) function\n",
    "\n",
    "Our function signature is the following:\n",
    "\n",
    "```\n",
    "SELECT ai_query(endpointName, request) for external models and foundation models. \n",
    "SELECT ai_query(endpointName, request, returnType) for custom model serving endpoint. \n",
    "```\n",
    "\n",
    "`AI_QUERY` will send the prompt to the remote model configured and retrive the result as SQL. \n",
    "\n",
    "In addition, we use the optional `responseFormat` argument with `AI_QUERY` to specify the response format you want the model to follow.\n",
    "\n",
    "The [Query Profile UI](https://docs.databricks.com/aws/en/sql/user/queries/query-profile) provides real-time execution status, processing times, and error visibility for `AI_QUERY`\n",
    "\n",
    "*Note: this will reproduce the behavior or the built-in `gen_ai` function, but leveraging one of the Model Serving Endpoint of your choice.*<br/>\n",
    "*If you're looking at quickly generating data, we recommend you to just go with the built-in.*\n",
    "\n",
    "*This notebook will use the foundation Llama 3.3 70B Instruct model for inference*\n",
    "\n",
    "<!-- Collect usage data (view). Remove it to disable collection or disable tracker during installation. View README for more details.  -->\n",
    "<img width=\"1px\" src=\"https://ppxrzfxige.execute-api.us-west-2.amazonaws.com/v1/analytics?category=DBSQL&org_id=2231844519520554&notebook=%2F02-Generate-fake-data-with-AI-functions&demo_name=sql-ai-functions&event=VIEW&path=%2F_dbdemos%2FDBSQL%2Fsql-ai-functions%2F02-Generate-fake-data-with-AI-functions&version=1\">"
   ]
  },
  {
   "cell_type": "markdown",
   "metadata": {
    "application/vnd.databricks.v1+cell": {
     "cellMetadata": {},
     "inputWidgets": {},
     "nuid": "a61ec7c9-5286-44aa-aea3-ae88c7f47fb9",
     "showTitle": false,
     "tableResultSettingsMap": {},
     "title": ""
    }
   },
   "source": [
    "To run this notebook, connect to <b> SQL endpoint </b>. The AI_QUERY function is available on Databricks SQL Pro and Serverless."
   ]
  },
  {
   "cell_type": "code",
   "execution_count": 0,
   "metadata": {
    "application/vnd.databricks.v1+cell": {
     "cellMetadata": {},
     "inputWidgets": {},
     "nuid": "8bd82074-39cb-4e2e-8cf8-411d00876b7f",
     "showTitle": false,
     "tableResultSettingsMap": {},
     "title": ""
    }
   },
   "outputs": [],
   "source": [
    "-- as previously, make sure you run this notebook using a SQL Warehouse or Serverless endpoint (not a classic cluster)\n",
    "-- assert_true function returns an untyped null if no error is returned\n",
    "SELECT assert_true(current_version().dbsql_version is not null, 'YOU MUST USE A SQL WAREHOUSE OR SERVERLESS, not a classic cluster');\n",
    "\n",
    "USE CATALOG main;\n",
    "CREATE SCHEMA IF NOT EXISTS dbdemos_ai_query;\n",
    "USE SCHEMA dbdemos_ai_query;"
   ]
  },
  {
   "cell_type": "code",
   "execution_count": 0,
   "metadata": {
    "application/vnd.databricks.v1+cell": {
     "cellMetadata": {},
     "inputWidgets": {},
     "nuid": "3a4eefc6-b73e-4a2a-a8eb-9456dbe48b88",
     "showTitle": false,
     "tableResultSettingsMap": {},
     "title": ""
    }
   },
   "outputs": [],
   "source": [
    "SELECT\n",
    "  AI_QUERY(\n",
    "    \"databricks-meta-llama-3-3-70b-instruct\",\n",
    "    \"Generate a short product review for a red dress. The customer is very happy with the article.\"\n",
    "  ) as product_review"
   ]
  },
  {
   "cell_type": "markdown",
   "metadata": {
    "application/vnd.databricks.v1+cell": {
     "cellMetadata": {},
     "inputWidgets": {},
     "nuid": "7fa64375-867f-4fe5-9da8-7ce1d4cada02",
     "showTitle": false,
     "tableResultSettingsMap": {},
     "title": ""
    }
   },
   "source": [
    "### Introduction to SQL Function: adding a wrapper function to simplify the call\n",
    "\n",
    "While it's easy to call this function, having to our model endpoint name as parameter can be harder to use, especially for Data Analyst who should focus on crafting proper prompt. \n",
    "\n",
    "To simplify our demo next steps, we'll create a wrapper SQL function `ASK_LLM_MODEL` with string input parameters prompt (the question to ask), response_format as string output format and wrap all the model configuration.\n",
    "\n",
    "\n",
    "<img src=\"https://raw.githubusercontent.com/databricks-demos/dbdemos-resources/main/images/product/sql-ai-functions/sql-ai-query-function-review-wrapper.png\" width=\"1200px\">"
   ]
  },
  {
   "cell_type": "code",
   "execution_count": 0,
   "metadata": {
    "application/vnd.databricks.v1+cell": {
     "cellMetadata": {},
     "inputWidgets": {},
     "nuid": "9f3c407d-5eb6-4ec4-b9e4-72a3d2c0aba6",
     "showTitle": true,
     "tableResultSettingsMap": {},
     "title": "SQL admin setup wrapper function"
    }
   },
   "outputs": [],
   "source": [
    "CREATE OR REPLACE FUNCTION ASK_LLM_MODEL(prompt STRING, response_format STRING DEFAULT '{\"type\": \"string\"}') \n",
    "  RETURNS STRING\n",
    "  RETURN \n",
    "    AI_QUERY(\"databricks-meta-llama-3-3-70b-instruct\", \n",
    "              prompt,\n",
    "              response_format);\n",
    "\n",
    "-- ALTER FUNCTION ASK_LLM_MODEL OWNER TO `your_principal`; -- for the demo only, make sure other users can access your function"
   ]
  },
  {
   "cell_type": "code",
   "execution_count": 0,
   "metadata": {
    "application/vnd.databricks.v1+cell": {
     "cellMetadata": {},
     "inputWidgets": {},
     "nuid": "99b8f4ae-4a1d-4527-9c8b-ddc1e9150028",
     "showTitle": true,
     "tableResultSettingsMap": {},
     "title": "SQL Analyst simply use the wrapper"
    }
   },
   "outputs": [],
   "source": [
    "SELECT ASK_LLM_MODEL(\"Generate a short product review for a red dress. The customer is very happy with the article.\")"
   ]
  },
  {
   "cell_type": "markdown",
   "metadata": {
    "application/vnd.databricks.v1+cell": {
     "cellMetadata": {},
     "inputWidgets": {},
     "nuid": "56fd7830-064a-4605-8173-72ba43b87210",
     "showTitle": false,
     "tableResultSettingsMap": {},
     "title": ""
    }
   },
   "source": [
    "## Generating a more complete sample dataset with prompt engineering\n",
    "\n",
    "Now that we know how to send a basic query to Open AI using SQL functions, let's ask the model a more detailed question.\n",
    "\n",
    "We'll directly ask to model to generate multiple rows and directly return as a json. Notice we set the response format as json object to guide LLM to generate a JSON.\n",
    "\n",
    "Here's a prompt example to generate JSON:\n",
    "```\n",
    "Generate a sample dataset for me of 2 rows that contains the following columns: \"review_date\" (random dates in 2022), \n",
    "\"review_id\" (random id), \"customer_id\" (random long from 1 to 100), and \"review\". Reviews should mimic useful product reviews \n",
    "left on an e-commerce marketplace website. The review must include the product name.\n",
    "\n",
    "The reviews should vary in length (shortest: one sentence, longest: 2 paragraphs), sentiment, and complexity. A very complex review \n",
    "would talk about multiple topics (entities) about the product with varying sentiment per topic. Provide a mix of positive, negative, \n",
    "and neutral reviews\n",
    "\n",
    "Return JSON ONLY. No other text outside the JSON. JSON format:\n",
    "[{\"review_date\":<date>, \"review_id\":<review_id>, \"product_name\":<product_name>, \"review\":<review>}]\n",
    "```"
   ]
  },
  {
   "cell_type": "code",
   "execution_count": 0,
   "metadata": {
    "application/vnd.databricks.v1+cell": {
     "cellMetadata": {},
     "inputWidgets": {},
     "nuid": "cae015ac-cb44-4420-ba2f-fb9e99e51982",
     "showTitle": false,
     "tableResultSettingsMap": {},
     "title": ""
    }
   },
   "outputs": [],
   "source": [
    "SELECT ASK_LLM_MODEL(\n",
    "      'Generate a sample dataset of 2 rows that contains the following columns: \"review_date\" (random dates in 2022), \n",
    "      \"review_id\" (random id), \"customer_id\" (random long from 1 to 100)  and \"review\". \n",
    "      Reviews should mimic useful product reviews from popular grocery brands product left on an e-commerce marketplace website. The review must include the product name.\n",
    "\n",
    "      The reviews should vary in length (shortest: one sentence, longest: 2 paragraphs), sentiment, and complexity. A very complex review \n",
    "      would talk about multiple topics (entities) about the product with varying sentiment per topic. Provide a mix of positive, negative, \n",
    "      and neutral reviews.\n",
    "\n",
    "      Give me JSON only. No text outside JSON. No explanations or notes\n",
    "      [{\"review_date\":<date>, \"review_id\":<long>, \"customer_id\":<long>, \"review\":<string>}]', \"{'type': 'json_object'}\") as fake_reviews;"
   ]
  },
  {
   "cell_type": "markdown",
   "metadata": {
    "application/vnd.databricks.v1+cell": {
     "cellMetadata": {},
     "inputWidgets": {},
     "nuid": "899e306d-e369-469c-8ede-74b58deaba44",
     "showTitle": false,
     "tableResultSettingsMap": {},
     "title": ""
    }
   },
   "source": [
    "## Converting the results as json \n",
    "\n",
    "Our results are looking good. All we now have to do is transform the results from text as a JSON and explode the results over N rows.\n",
    "\n",
    "Let's create a new function to do that:"
   ]
  },
  {
   "cell_type": "code",
   "execution_count": 0,
   "metadata": {
    "application/vnd.databricks.v1+cell": {
     "cellMetadata": {},
     "inputWidgets": {},
     "nuid": "01914823-c315-445e-a770-2f768d557916",
     "showTitle": false,
     "tableResultSettingsMap": {},
     "title": ""
    }
   },
   "outputs": [],
   "source": [
    "CREATE OR REPLACE FUNCTION GENERATE_FAKE_REVIEWS(num_reviews INT DEFAULT 5)\n",
    "  RETURNS array<struct<review_date:date, review_id:long, customer_id:long, review:string>>\n",
    "  RETURN \n",
    "  SELECT FROM_JSON(\n",
    "      ASK_LLM_MODEL(\n",
    "        CONCAT('Generate a sample dataset of ', num_reviews, ' rows that contains the following columns: \"review_date\" (random dates in 2022), \n",
    "        \"review_id\" (random long), \"customer_id\" (random long from 1 to ', num_reviews, '), and \"review\". \n",
    "        Reviews should mimic useful product reviews from popular grocery brands product left on an e-commerce marketplace website. The review must include the product name.\n",
    "        \n",
    "        The reviews should vary in length (shortest: one sentence, longest: 2 paragraphs), sentiment, and complexity. A very complex review \n",
    "        would talk about multiple topics (entities) about the product with varying sentiment per topic. Provide a mix of positive, negative, \n",
    "        and neutral reviews.\n",
    "\n",
    "        Give me JSON only. No text outside JSON. No explanations or notes\n",
    "        [{\"review_date\":<date>, \"review_id\":<long>, \"customer_id\":<long>, \"review\":<string>}]'), \"{'type': 'json_object'}\"), \n",
    "        \"array<struct<review_date:date, review_id:long, customer_id:long, review:string>>\")\n",
    "\n",
    "-- ALTER FUNCTION GENERATE_FAKE_REVIEWS OWNER TO `your_principal`; -- for the demo only, make sure other users can access your function"
   ]
  },
  {
   "cell_type": "code",
   "execution_count": 0,
   "metadata": {
    "application/vnd.databricks.v1+cell": {
     "cellMetadata": {},
     "inputWidgets": {},
     "nuid": "29e26f39-4e8c-4f43-80a7-6d9db78c3d80",
     "showTitle": true,
     "tableResultSettingsMap": {},
     "title": "Explode the json result as a table"
    }
   },
   "outputs": [],
   "source": [
    "SELECT\n",
    "  review.*\n",
    "FROM\n",
    "  (\n",
    "    SELECT\n",
    "      explode(reviews) as review\n",
    "    FROM\n",
    "      (\n",
    "        SELECT\n",
    "          GENERATE_FAKE_REVIEWS(10) as reviews\n",
    "      )\n",
    "  )"
   ]
  },
  {
   "cell_type": "markdown",
   "metadata": {
    "application/vnd.databricks.v1+cell": {
     "cellMetadata": {},
     "inputWidgets": {},
     "nuid": "3fb6b86e-14a6-409e-8223-9a265076b5b2",
     "showTitle": false,
     "tableResultSettingsMap": {},
     "title": ""
    }
   },
   "source": [
    "\n",
    "## Saving our dataset as a table to be used directly in our demo.\n",
    "\n",
    "*Note that if you want to create more rows, you can first create a table and add multiple rows, with extra information that you can then concatenate to your prompt like categories, expected customer satisfaction etc. Once your table is created you can then call a new custom GENERATE function taking more parameters and crafting a more advanced prompt*"
   ]
  },
  {
   "cell_type": "code",
   "execution_count": 0,
   "metadata": {
    "application/vnd.databricks.v1+cell": {
     "cellMetadata": {},
     "inputWidgets": {},
     "nuid": "4269e772-5b8b-46b1-b14e-798f4bcf8f71",
     "showTitle": true,
     "tableResultSettingsMap": {},
     "title": "Save the crafted review as a new table"
    }
   },
   "outputs": [],
   "source": [
    "CREATE OR REPLACE TABLE fake_reviews COMMENT \"Raw Review Data\" AS\n",
    "SELECT\n",
    "  review.*\n",
    "FROM\n",
    "  (\n",
    "    SELECT\n",
    "      explode(reviews) as review\n",
    "    FROM\n",
    "      (\n",
    "        SELECT\n",
    "          generate_fake_reviews(50) as reviews\n",
    "      )\n",
    "  )"
   ]
  },
  {
   "cell_type": "code",
   "execution_count": 0,
   "metadata": {
    "application/vnd.databricks.v1+cell": {
     "cellMetadata": {},
     "inputWidgets": {},
     "nuid": "31b82a1e-0f76-4a0a-8d04-8f5c0de86ccd",
     "showTitle": true,
     "tableResultSettingsMap": {},
     "title": "In addition, let's generate some users using the same idea:"
    }
   },
   "outputs": [],
   "source": [
    "CREATE OR REPLACE FUNCTION GENERATE_FAKE_CUSTOMERS(num_reviews INT DEFAULT 10)\n",
    "  RETURNS array<struct<customer_id:long, firstname:string, lastname:string, order_count:int>>\n",
    "  RETURN \n",
    "  SELECT FROM_JSON(\n",
    "      ASK_LLM_MODEL(\n",
    "        CONCAT('Generate a sample dataset of ', num_reviews, ' customers containing the following columns: \n",
    "        \"customer_id\" (long from 1 to ', num_reviews, '), \"firstname\", \"lastname\" and order_count (random positive number, smaller than 200)\n",
    "\n",
    "        Give me JSON only. No text outside JSON. No explanations or notes\n",
    "        [{\"customer_id\":<long>, \"firstname\":<string>, \"lastname\":<string>, \"order_count\":<int>}]'), \"{'type': 'json_object'}\"), \n",
    "        \"array<struct<customer_id:long, firstname:string, lastname:string, order_count:int>>\")\n",
    "        \n",
    "-- ALTER FUNCTION GENERATE_FAKE_CUSTOMERS OWNER TO `your_principal`; -- for the demo only, make sure other users can access your function"
   ]
  },
  {
   "cell_type": "code",
   "execution_count": 0,
   "metadata": {
    "application/vnd.databricks.v1+cell": {
     "cellMetadata": {},
     "inputWidgets": {},
     "nuid": "5e1c4182-6907-459c-b707-9274c465b73e",
     "showTitle": false,
     "tableResultSettingsMap": {},
     "title": ""
    }
   },
   "outputs": [],
   "source": [
    "CREATE OR REPLACE TABLE fake_customers\n",
    "  COMMENT \"Raw customers\"\n",
    "  AS\n",
    "  SELECT customer.* FROM (\n",
    "    SELECT explode(customers) as customer FROM (\n",
    "      SELECT GENERATE_FAKE_CUSTOMERS(50) as customers))"
   ]
  },
  {
   "cell_type": "code",
   "execution_count": 0,
   "metadata": {
    "application/vnd.databricks.v1+cell": {
     "cellMetadata": {},
     "inputWidgets": {},
     "nuid": "cb2b70b0-4c37-450a-b21d-d41be8245f72",
     "showTitle": false,
     "tableResultSettingsMap": {},
     "title": ""
    }
   },
   "outputs": [],
   "source": [
    "SELECT * FROM fake_reviews"
   ]
  },
  {
   "cell_type": "code",
   "execution_count": 0,
   "metadata": {
    "application/vnd.databricks.v1+cell": {
     "cellMetadata": {},
     "inputWidgets": {},
     "nuid": "e623dc39-8680-4fcb-9781-65466e172ebe",
     "showTitle": false,
     "tableResultSettingsMap": {},
     "title": ""
    }
   },
   "outputs": [],
   "source": [
    "SELECT * FROM fake_customers"
   ]
  },
  {
   "cell_type": "markdown",
   "metadata": {
    "application/vnd.databricks.v1+cell": {
     "cellMetadata": {},
     "inputWidgets": {},
     "nuid": "51006b80-1812-4035-8238-c2c58a076b82",
     "showTitle": false,
     "tableResultSettingsMap": {},
     "title": ""
    }
   },
   "source": [
    "## Next steps\n",
    "We're now ready to implement our pipeline to extract information from our reviews! Open [03-automated-product-review-and-answer]($./03-automated-product-review-and-answer) to continue.\n",
    "\n",
    "\n",
    "Go back to [the introduction]($./00-SQL-AI-Functions-Introduction)"
   ]
  }
 ],
 "metadata": {
  "application/vnd.databricks.v1+notebook": {
   "computePreferences": null,
   "dashboards": [],
   "environmentMetadata": {
    "environment_version": "2"
   },
   "inputWidgetPreferences": null,
   "language": "sql",
   "notebookMetadata": {},
   "notebookName": "02-Generate-fake-data-with-AI-functions",
   "widgets": {}
  },
  "language_info": {
   "name": "sql"
  }
 },
 "nbformat": 4,
 "nbformat_minor": 0
}
