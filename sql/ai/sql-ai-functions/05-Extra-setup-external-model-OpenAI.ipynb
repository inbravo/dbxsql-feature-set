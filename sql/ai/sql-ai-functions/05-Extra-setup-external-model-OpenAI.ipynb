{
 "cells": [
  {
   "cell_type": "markdown",
   "metadata": {
    "application/vnd.databricks.v1+cell": {
     "cellMetadata": {},
     "inputWidgets": {},
     "nuid": "f0ed7285-4079-44ab-ae9e-2242c4c62c6f",
     "showTitle": false,
     "tableResultSettingsMap": {},
     "title": ""
    }
   },
   "source": [
    "# Optional: Setup an external Model Serving Endpoint\n",
    "\n",
    "The Model Serving Endpoints used by your AI function can be of any type.\n",
    "\n",
    "You can setup an endpoint to hit an external Foundation Model, such as Azure OpenAI.\n",
    "\n",
    "This let you define your secret and connection setup once, and allow other users to access your external model, ensuring security, cost control and traceability.\n",
    "\n",
    "These can be of different flavor: Azure OpenAI, Anthropic, OpenAI...\n",
    "\n",
    "## Setting up Azure OpenAI\n",
    "\n",
    "To be able to call our AI function, we'll need a key to query the Azure OpenAI API. Here are the steps to retrieve your key:\n",
    "\n",
    "<img src=\"https://raw.githubusercontent.com/databricks-demos/dbdemos-resources/main/images/product/sql-ai-functions/sql-ai-function-setup-1.png\" width=\"1250px\">\n",
    "\n",
    "- Navigate to [Azure Portal > All Services > Cognitive Services > Azure OpenAI](https://portal.azure.com/#view/Microsoft_Azure_ProjectOxford/CognitiveServicesHub/~/OpenAI)  \n",
    "- Click into the relevant resource\n",
    "- Click on `Keys and Endpoint`\n",
    "  - Copy down your:\n",
    "    - **Key** (do **NOT** store this in plaintext, include it in your code, and/or commit it into your git repo)\n",
    "    - **Resource name** which is represented in the endpoint URL (of the form `https://<resource-name>.openai.azure.com/`)\n",
    "- Click on `Model deployments`\n",
    "  - Note down your **model deployment name**\n",
    "\n",
    "<!-- Collect usage data (view). Remove it to disable collection or disable tracker during installation. View README for more details.  -->\n",
    "<img width=\"1px\" src=\"https://ppxrzfxige.execute-api.us-west-2.amazonaws.com/v1/analytics?category=DBSQL&org_id=2231844519520554&notebook=%2F05-Extra-setup-external-model-OpenAI&demo_name=sql-ai-functions&event=VIEW&path=%2F_dbdemos%2FDBSQL%2Fsql-ai-functions%2F05-Extra-setup-external-model-OpenAI&version=1\">"
   ]
  },
  {
   "cell_type": "markdown",
   "metadata": {
    "application/vnd.databricks.v1+cell": {
     "cellMetadata": {},
     "inputWidgets": {},
     "nuid": "0f807ded-79dd-4e86-8ada-4c7d97e7392a",
     "showTitle": false,
     "tableResultSettingsMap": {},
     "title": ""
    }
   },
   "source": [
    "## Store your key using Databricks secrets\n",
    "\n",
    "We'll use [Databricks secrets](https://docs.databricks.com/security/secrets/index.html) to hold our API tokens. Use the [Databricks Secrets CLI](https://docs.databricks.com/dev-tools/cli/secrets-cli.html) or [Secrets API 2.0](https://docs.databricks.com/dev-tools/api/latest/secrets.html) to manage your secrets. The below examples use the Secrets CLI\n",
    "\n",
    "- If you don't already have a secret scope to keep your OpenAI keys in, create one now: \n",
    "  `databricks secrets create-scope --scope dbdemos`\n",
    "- You will need to give `READ` or higher access for principals (e.g. users, groups) who are allowed to connect to OpenAI. \n",
    "  - We recommend creating a group `openai-users` and adding permitted users to that group\n",
    "  - Then give that group `READ` (or higher) permission to the scope: \n",
    "    `databricks secrets put-acl --scope dbdemos --principal openai-users --permission READ`\n",
    "- Create a secret for your API access token. We recommend format `<resource-name>-key`: \n",
    "  `databricks secrets put --scope dbdemos --key azure-openai`\n",
    "\n",
    "**Caution**: Do **NOT** include your token in plain text in your Notebook, code, or git repo"
   ]
  },
  {
   "cell_type": "markdown",
   "metadata": {
    "application/vnd.databricks.v1+cell": {
     "cellMetadata": {},
     "inputWidgets": {},
     "nuid": "0b9c8e28-5cfe-487e-82ca-8d5db48d3574",
     "showTitle": false,
     "tableResultSettingsMap": {},
     "title": ""
    }
   },
   "source": [
    "### Create an external model endpoint\n",
    "To run the following code, connect this notebook to a <b> Standard interactive cluster </b>."
   ]
  },
  {
   "cell_type": "code",
   "execution_count": 0,
   "metadata": {
    "application/vnd.databricks.v1+cell": {
     "cellMetadata": {},
     "inputWidgets": {},
     "nuid": "ca3b101e-5e98-4492-801b-4aef5f1b0e19",
     "showTitle": false,
     "tableResultSettingsMap": {},
     "title": ""
    }
   },
   "outputs": [],
   "source": [
    "%pip install databricks-sdk==0.39.0 mlflow==2.9.0\n",
    "dbutils.library.restartPython()"
   ]
  },
  {
   "cell_type": "code",
   "execution_count": 0,
   "metadata": {
    "application/vnd.databricks.v1+cell": {
     "cellMetadata": {},
     "inputWidgets": {},
     "nuid": "620e16cf-333d-410e-8072-41a9c4bc5737",
     "showTitle": false,
     "tableResultSettingsMap": {},
     "title": ""
    }
   },
   "outputs": [],
   "source": [
    "from mlflow.deployments import get_deploy_client\n",
    "deploy_client = get_deploy_client(\"databricks\")\n",
    "\n",
    "try:\n",
    "    endpoint_name  = \"dbdemos-azure-openai\"\n",
    "    deploy_client.create_endpoint(\n",
    "        name=endpoint_name,\n",
    "        config={\n",
    "            \"served_entities\": [\n",
    "                {\n",
    "                    \"name\": endpoint_name,\n",
    "                    \"external_model\": {\n",
    "                        \"name\": \"gpt-35-turbo\",\n",
    "                        \"provider\": \"openai\", #can support openAI or other external models. see https://docs.databricks.com/en/generative-ai/external-models/index.html\n",
    "                        \"task\": \"llm/v1/chat\",\n",
    "                        \"openai_config\": {\n",
    "                            \"openai_api_type\": \"azure\",\n",
    "                            \"openai_api_key\": \"{{secrets/dbdemos/azure-openai}}\", #Replace with your own azure open ai key\n",
    "                            \"openai_deployment_name\": \"dbdemo-gpt35\", #your deployment name\n",
    "                            \"openai_api_base\": \"https://dbdemos-open-ai.openai.azure.com/\", #your api base\n",
    "                            \"openai_api_version\": \"2023-05-15\"\n",
    "                        }\n",
    "                    }\n",
    "                }\n",
    "            ]\n",
    "        }\n",
    "    )\n",
    "    print(f\"Endpoint {endpoint_name} created successfully\")\n",
    "except Exception as e:\n",
    "    if 'RESOURCE_ALREADY_EXISTS' in str(e):\n",
    "        print('Endpoint already exists')\n",
    "    else:\n",
    "        raise e"
   ]
  },
  {
   "cell_type": "markdown",
   "metadata": {
    "application/vnd.databricks.v1+cell": {
     "cellMetadata": {},
     "inputWidgets": {},
     "nuid": "92b356d5-1a43-4360-9988-ef6ac237bfbb",
     "showTitle": false,
     "tableResultSettingsMap": {},
     "title": ""
    }
   },
   "source": [
    "## Your external model is now ready!\n",
    "\n",
    "You can use it in your SQL AI function:\n",
    "\n",
    "`SELECT AI_QUERY('dbdemos-azure-openai', 'This will be sent to azure openai!')``\n",
    "\n",
    "Congrats! You're now ready to use any model within your SQL queries!\n",
    "\n",
    "Go back to [the introduction]($./00-SQL-AI-Functions-Introduction)"
   ]
  }
 ],
 "metadata": {
  "application/vnd.databricks.v1+notebook": {
   "computePreferences": null,
   "dashboards": [],
   "environmentMetadata": {
    "environment_version": "2"
   },
   "inputWidgetPreferences": null,
   "language": "python",
   "notebookMetadata": {
    "pythonIndentUnit": 4
   },
   "notebookName": "05-Extra-setup-external-model-OpenAI",
   "widgets": {}
  },
  "language_info": {
   "name": "python"
  }
 },
 "nbformat": 4,
 "nbformat_minor": 0
}
